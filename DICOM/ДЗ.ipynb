{
 "cells": [
  {
   "cell_type": "code",
   "execution_count": null,
   "metadata": {},
   "outputs": [],
   "source": [
    "# импорт бибилиотек\n",
    "import pydicom\n",
    "import os\n",
    "from collections import defaultdict\n",
    "from pathlib import Path\n",
    "import cv2 as cv\n",
    "from matplotlib import pyplot as plt\n",
    "import numpy as np\n",
    "from pydicom import Dataset\n",
    "from pydicom.pixel_data_handlers.util import apply_modality_lut, apply_voi_lut, apply_windowing"
   ]
  },
  {
   "cell_type": "markdown",
   "metadata": {},
   "source": [
    "# Старался использовать все методы и функци из практики для облегчения проверки."
   ]
  },
  {
   "cell_type": "code",
   "execution_count": null,
   "metadata": {},
   "outputs": [],
   "source": [
    "# задаём параметры по умолчанию \n",
    "PATH_TO_DATA = Path('./study')\n",
    "RANDOM_FILE = PATH_TO_DATA / \"IOP.25\""
   ]
  },
  {
   "cell_type": "code",
   "execution_count": null,
   "metadata": {},
   "outputs": [],
   "source": [
    "# Получаем информацию о исслдоевании\n",
    "ds = pydicom.dcmread(RANDOM_FILE)\n",
    "ds"
   ]
  },
  {
   "cell_type": "code",
   "execution_count": null,
   "metadata": {},
   "outputs": [],
   "source": [
    "# прочитаем все файлы\n",
    "files = []\n",
    "for file in os.listdir(PATH_TO_DATA):\n",
    "    try:\n",
    "        files.append(pydicom.dcmread(PATH_TO_DATA / file))\n",
    "    except:\n",
    "        pass"
   ]
  },
  {
   "cell_type": "code",
   "execution_count": null,
   "metadata": {},
   "outputs": [],
   "source": [
    "series = defaultdict(list) # Разделим полученные файлы по сериям\n",
    "for file in files:\n",
    "    series[file.SeriesInstanceUID].append(file)\n",
    "for k,i in series.items():\n",
    "    print(f\"series uid {k} with {len(i)} instances\")"
   ]
  },
  {
   "cell_type": "code",
   "execution_count": null,
   "metadata": {},
   "outputs": [],
   "source": [
    "# Будем использовать самую длинную серию\n",
    "biggest_series = sorted(series.items(), key=lambda x:len(x[1]), reverse=True)[0][1]\n",
    "plt.imshow(biggest_series[0].pixel_array, cmap=\"gray\")\n"
   ]
  },
  {
   "cell_type": "markdown",
   "metadata": {},
   "source": [
    "# Критерий 1,4,5"
   ]
  },
  {
   "cell_type": "code",
   "execution_count": null,
   "metadata": {},
   "outputs": [],
   "source": [
    "def dicom_to_raster(dataset: Dataset) -> np.ndarray:\n",
    "    img = apply_voi_lut(apply_modality_lut(dataset.pixel_array, dataset), dataset)\n",
    "    image = img.astype(np.float32)\n",
    "    image = (image - np.min(image)) / (np.max(image) - np.min(image))\n",
    "    return (image * 255).astype(\"uint8\")"
   ]
  },
  {
   "cell_type": "code",
   "execution_count": null,
   "metadata": {},
   "outputs": [],
   "source": [
    "# переведем всю серию в пнг и соберем в единый массив\n",
    "biggest_series = sorted(biggest_series, key=lambda x: x.SliceLocation)\n",
    "series_arr = [dicom_to_raster(instance) for instance in biggest_series]\n",
    "# Сохраним снимки в папку data1\n",
    "i = 0 \n",
    "for im in series_arr:\n",
    "    path = f\"data1/{i}.png\"\n",
    "    cv.imwrite(path, im)\n",
    "    i+=1 \n",
    "\n",
    "\n",
    "\n",
    "\n"
   ]
  },
  {
   "cell_type": "code",
   "execution_count": null,
   "metadata": {},
   "outputs": [],
   "source": [
    "#сохраним снимки с изменённой контрастностью в папке data2\n",
    "i = 0 \n",
    "for im in series_arr:\n",
    "    path = f\"data2/{i}.png\"\n",
    "    new_img = im.copy()\n",
    "    new_img[im<200] = 0\n",
    "    im = cv.cvtColor(new_img, cv.COLOR_GRAY2RGB)\n",
    "    cv.imwrite(path, im)\n",
    "    i+=1"
   ]
  },
  {
   "cell_type": "markdown",
   "metadata": {},
   "source": [
    "# Критерий 2"
   ]
  },
  {
   "cell_type": "code",
   "execution_count": null,
   "metadata": {},
   "outputs": [],
   "source": [
    "# Переводим массив со снимками в нампаевский массив\n",
    "from scipy import ndimage\n",
    "img3d = np.array(series_arr)\n",
    "# поворачиваем \"кубик\", сохраняем в саггитальной плоскости\n",
    "img3d = ndimage.rotate(img3d, 90, axes=(2, 0),reshape=False)\n",
    "# Сохраним снимки в папку data1\n",
    "i = 0 \n",
    "for im in img3d:\n",
    "    path = f\"data3/{i}.png\"\n",
    "    im =  cv.rotate(im, cv.ROTATE_90_COUNTERCLOCKWISE)\n",
    "    cv.imwrite(path, im)\n",
    "    i+=1 \n",
    "# Переводим массив со снимками в нампаевский массив\n",
    "from scipy import ndimage\n",
    "img3d = np.array(series_arr)\n",
    "# поворачиваем \"кубик\", сохраняем во фронтальной плоскости\n",
    "img3d = ndimage.rotate(img3d, 90,reshape=False)\n",
    "# Сохраним снимки в папку data1\n",
    "i = 0 \n",
    "for im in img3d:\n",
    "    path = f\"data4/{i}.png\"\n",
    "    im = cv.rotate(im, cv.ROTATE_180)\n",
    "    cv.imwrite(path, im)\n",
    "    i+=1 "
   ]
  },
  {
   "cell_type": "markdown",
   "metadata": {},
   "source": [
    "# Спасибо за проверку!"
   ]
  }
 ],
 "metadata": {
  "kernelspec": {
   "display_name": "Python 3",
   "language": "python",
   "name": "python3"
  },
  "language_info": {
   "codemirror_mode": {
    "name": "ipython",
    "version": 3
   },
   "file_extension": ".py",
   "mimetype": "text/x-python",
   "name": "python",
   "nbconvert_exporter": "python",
   "pygments_lexer": "ipython3",
   "version": "3.11.0"
  }
 },
 "nbformat": 4,
 "nbformat_minor": 2
}
