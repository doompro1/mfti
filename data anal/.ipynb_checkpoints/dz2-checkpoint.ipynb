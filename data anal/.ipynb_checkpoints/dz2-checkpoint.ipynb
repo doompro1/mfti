{
 "cells": [
  {
   "cell_type": "markdown",
   "id": "472664a7",
   "metadata": {},
   "source": [
    "# Импорты"
   ]
  },
  {
   "cell_type": "code",
   "execution_count": 1,
   "id": "c47ea425",
   "metadata": {},
   "outputs": [],
   "source": [
    "import numpy as np\n",
    "import pandas as pd\n",
    "from scipy import stats\n",
    "import matplotlib.pyplot as plt\n",
    "import seaborn as sns\n",
    "import glob"
   ]
  },
  {
   "cell_type": "code",
   "execution_count": 2,
   "id": "d8eeb64c",
   "metadata": {},
   "outputs": [],
   "source": [
    "df = pd.concat([pd.read_csv(i) for i in glob.glob('data2/atp_matches_[12][019][01298]*')], axis=0)"
   ]
  },
  {
   "cell_type": "markdown",
   "id": "f04edf90",
   "metadata": {},
   "source": [
    "# Задание 1 не получилось"
   ]
  },
  {
   "cell_type": "markdown",
   "id": "4d3a8d41",
   "metadata": {},
   "source": [
    "# Задание 2 "
   ]
  },
  {
   "cell_type": "markdown",
   "id": "5e774d99",
   "metadata": {},
   "source": [
    "## Вот так изменялось:"
   ]
  },
  {
   "cell_type": "code",
   "execution_count": 3,
   "id": "ddb6ed09",
   "metadata": {},
   "outputs": [
    {
     "data": {
      "text/plain": [
       "<matplotlib.legend.Legend at 0x224c3ee5820>"
      ]
     },
     "execution_count": 3,
     "metadata": {},
     "output_type": "execute_result"
    },
    {
     "data": {
      "image/png": "[encoded data removed]",
      "text/plain": [
       "<Figure size 432x288 with 1 Axes>"
      ]
     },
     "metadata": {
      "needs_background": "light"
     },
     "output_type": "display_data"
    }
   ],
   "source": [
    "df['Год'] = np.nan\n",
    "df.dropna(inplace=True,subset= ['score'])\n",
    "df.tourney_date.apply(lambda x: '%.0f' % round(x,0))\n",
    "df.loc[:, 'tourney_date'] = pd.to_datetime(df['tourney_date'], format='%Y%m%d')\n",
    "df['year']= df['tourney_date'].dt.year\n",
    "df['sets_num'] = df['score'].map(lambda x: len(x.split()))\n",
    "years = df['year'].unique()\n",
    "years.sort()\n",
    "mean_set = df.groupby(df.tourney_date.dt.year).mean().sets_num\n",
    "plt.plot(years, mean_set, label='mean')\n",
    "plt.legend()"
   ]
  },
  {
   "cell_type": "code",
   "execution_count": 4,
   "id": "9fe1851f",
   "metadata": {},
   "outputs": [
    {
     "name": "stdout",
     "output_type": "stream",
     "text": [
      "2.615407647682615\n",
      "2.6581740976645434\n"
     ]
    }
   ],
   "source": [
    "df_do = df.loc[df['year'] < 2002].copy()\n",
    "df_posle = df.loc[df['year'] >= 2002].copy()\n",
    "print(df_do['sets_num'].mean())\n",
    "print(df_posle['sets_num'].mean())"
   ]
  },
  {
   "cell_type": "code",
   "execution_count": 5,
   "id": "2e7c5b8e",
   "metadata": {},
   "outputs": [
    {
     "ename": "KeyboardInterrupt",
     "evalue": "",
     "output_type": "error",
     "traceback": [
      "\u001b[1;31m---------------------------------------------------------------------------\u001b[0m",
      "\u001b[1;31mKeyboardInterrupt\u001b[0m                         Traceback (most recent call last)",
      "\u001b[1;32m~\\AppData\\Local\\Temp/ipykernel_3760/1240494956.py\u001b[0m in \u001b[0;36m<module>\u001b[1;34m\u001b[0m\n\u001b[1;32m----> 1\u001b[1;33m \u001b[0mdf\u001b[0m\u001b[1;33m[\u001b[0m\u001b[1;34m'Год'\u001b[0m\u001b[1;33m]\u001b[0m \u001b[1;33m=\u001b[0m \u001b[0mnp\u001b[0m\u001b[1;33m.\u001b[0m\u001b[0mnan\u001b[0m\u001b[1;33m\u001b[0m\u001b[1;33m\u001b[0m\u001b[0m\n\u001b[0m\u001b[0;32m      2\u001b[0m \u001b[0mdf\u001b[0m\u001b[1;33m[\u001b[0m\u001b[1;34m'Год'\u001b[0m\u001b[1;33m]\u001b[0m \u001b[1;33m=\u001b[0m \u001b[0mdf\u001b[0m\u001b[1;33m[\u001b[0m\u001b[1;34m'Год'\u001b[0m\u001b[1;33m]\u001b[0m\u001b[1;33m.\u001b[0m\u001b[0mmask\u001b[0m\u001b[1;33m(\u001b[0m\u001b[0mdf\u001b[0m\u001b[1;33m[\u001b[0m\u001b[1;34m'year'\u001b[0m\u001b[1;33m]\u001b[0m \u001b[1;33m<\u001b[0m \u001b[1;36m2002\u001b[0m\u001b[1;33m,\u001b[0m \u001b[1;34m\"До 2002\"\u001b[0m\u001b[1;33m)\u001b[0m\u001b[1;33m.\u001b[0m\u001b[0mmask\u001b[0m\u001b[1;33m(\u001b[0m\u001b[0mdf\u001b[0m\u001b[1;33m[\u001b[0m\u001b[1;34m'year'\u001b[0m\u001b[1;33m]\u001b[0m \u001b[1;33m>=\u001b[0m \u001b[1;36m2002\u001b[0m\u001b[1;33m,\u001b[0m \u001b[1;34m\"После 2002\"\u001b[0m\u001b[1;33m)\u001b[0m\u001b[1;33m\u001b[0m\u001b[1;33m\u001b[0m\u001b[0m\n\u001b[0;32m      3\u001b[0m \u001b[0msns\u001b[0m\u001b[1;33m.\u001b[0m\u001b[0mset\u001b[0m\u001b[1;33m(\u001b[0m\u001b[0mstyle\u001b[0m\u001b[1;33m=\u001b[0m\u001b[1;34m\"darkgrid\"\u001b[0m\u001b[1;33m)\u001b[0m\u001b[1;33m\u001b[0m\u001b[1;33m\u001b[0m\u001b[0m\n\u001b[0;32m      4\u001b[0m \u001b[0msns\u001b[0m\u001b[1;33m.\u001b[0m\u001b[0mlineplot\u001b[0m\u001b[1;33m(\u001b[0m\u001b[0mdata\u001b[0m\u001b[1;33m=\u001b[0m\u001b[0mdf\u001b[0m\u001b[1;33m,\u001b[0m \u001b[0mx\u001b[0m\u001b[1;33m=\u001b[0m\u001b[1;34m'year'\u001b[0m\u001b[1;33m,\u001b[0m \u001b[0my\u001b[0m\u001b[1;33m=\u001b[0m\u001b[1;34m'sets_num'\u001b[0m\u001b[1;33m,\u001b[0m \u001b[0mhue\u001b[0m\u001b[1;33m=\u001b[0m\u001b[1;34m'Год'\u001b[0m\u001b[1;33m)\u001b[0m\u001b[1;33m\u001b[0m\u001b[1;33m\u001b[0m\u001b[0m\n\u001b[0;32m      5\u001b[0m \u001b[0mplt\u001b[0m\u001b[1;33m.\u001b[0m\u001b[0mlegend\u001b[0m\u001b[1;33m(\u001b[0m\u001b[0mbbox_to_anchor\u001b[0m\u001b[1;33m=\u001b[0m\u001b[1;33m(\u001b[0m\u001b[1;36m1.05\u001b[0m\u001b[1;33m,\u001b[0m \u001b[1;36m1\u001b[0m\u001b[1;33m)\u001b[0m\u001b[1;33m,\u001b[0m \u001b[0mloc\u001b[0m\u001b[1;33m=\u001b[0m\u001b[1;36m2\u001b[0m\u001b[1;33m,\u001b[0m \u001b[0mborderaxespad\u001b[0m\u001b[1;33m=\u001b[0m\u001b[1;36m0.\u001b[0m\u001b[1;33m)\u001b[0m\u001b[1;33m\u001b[0m\u001b[1;33m\u001b[0m\u001b[0m\n",
      "\u001b[1;32m~\\anaconda3\\lib\\site-packages\\pandas\\core\\frame.py\u001b[0m in \u001b[0;36m__setitem__\u001b[1;34m(self, key, value)\u001b[0m\n\u001b[0;32m   3610\u001b[0m         \u001b[1;32melse\u001b[0m\u001b[1;33m:\u001b[0m\u001b[1;33m\u001b[0m\u001b[1;33m\u001b[0m\u001b[0m\n\u001b[0;32m   3611\u001b[0m             \u001b[1;31m# set column\u001b[0m\u001b[1;33m\u001b[0m\u001b[1;33m\u001b[0m\u001b[0m\n\u001b[1;32m-> 3612\u001b[1;33m             \u001b[0mself\u001b[0m\u001b[1;33m.\u001b[0m\u001b[0m_set_item\u001b[0m\u001b[1;33m(\u001b[0m\u001b[0mkey\u001b[0m\u001b[1;33m,\u001b[0m \u001b[0mvalue\u001b[0m\u001b[1;33m)\u001b[0m\u001b[1;33m\u001b[0m\u001b[1;33m\u001b[0m\u001b[0m\n\u001b[0m\u001b[0;32m   3613\u001b[0m \u001b[1;33m\u001b[0m\u001b[0m\n\u001b[0;32m   3614\u001b[0m     \u001b[1;32mdef\u001b[0m \u001b[0m_setitem_slice\u001b[0m\u001b[1;33m(\u001b[0m\u001b[0mself\u001b[0m\u001b[1;33m,\u001b[0m \u001b[0mkey\u001b[0m\u001b[1;33m:\u001b[0m \u001b[0mslice\u001b[0m\u001b[1;33m,\u001b[0m \u001b[0mvalue\u001b[0m\u001b[1;33m)\u001b[0m\u001b[1;33m:\u001b[0m\u001b[1;33m\u001b[0m\u001b[1;33m\u001b[0m\u001b[0m\n",
      "\u001b[1;32m~\\anaconda3\\lib\\site-packages\\pandas\\core\\frame.py\u001b[0m in \u001b[0;36m_set_item\u001b[1;34m(self, key, value)\u001b[0m\n\u001b[0;32m   3782\u001b[0m         \u001b[0mensure\u001b[0m \u001b[0mhomogeneity\u001b[0m\u001b[1;33m.\u001b[0m\u001b[1;33m\u001b[0m\u001b[1;33m\u001b[0m\u001b[0m\n\u001b[0;32m   3783\u001b[0m         \"\"\"\n\u001b[1;32m-> 3784\u001b[1;33m         \u001b[0mvalue\u001b[0m \u001b[1;33m=\u001b[0m \u001b[0mself\u001b[0m\u001b[1;33m.\u001b[0m\u001b[0m_sanitize_column\u001b[0m\u001b[1;33m(\u001b[0m\u001b[0mvalue\u001b[0m\u001b[1;33m)\u001b[0m\u001b[1;33m\u001b[0m\u001b[1;33m\u001b[0m\u001b[0m\n\u001b[0m\u001b[0;32m   3785\u001b[0m \u001b[1;33m\u001b[0m\u001b[0m\n\u001b[0;32m   3786\u001b[0m         if (\n",
      "\u001b[1;32m~\\anaconda3\\lib\\site-packages\\pandas\\core\\frame.py\u001b[0m in \u001b[0;36m_sanitize_column\u001b[1;34m(self, value)\u001b[0m\n\u001b[0;32m   4508\u001b[0m         \u001b[1;32mif\u001b[0m \u001b[0mis_list_like\u001b[0m\u001b[1;33m(\u001b[0m\u001b[0mvalue\u001b[0m\u001b[1;33m)\u001b[0m\u001b[1;33m:\u001b[0m\u001b[1;33m\u001b[0m\u001b[1;33m\u001b[0m\u001b[0m\n\u001b[0;32m   4509\u001b[0m             \u001b[0mcom\u001b[0m\u001b[1;33m.\u001b[0m\u001b[0mrequire_length_match\u001b[0m\u001b[1;33m(\u001b[0m\u001b[0mvalue\u001b[0m\u001b[1;33m,\u001b[0m \u001b[0mself\u001b[0m\u001b[1;33m.\u001b[0m\u001b[0mindex\u001b[0m\u001b[1;33m)\u001b[0m\u001b[1;33m\u001b[0m\u001b[1;33m\u001b[0m\u001b[0m\n\u001b[1;32m-> 4510\u001b[1;33m         \u001b[1;32mreturn\u001b[0m \u001b[0msanitize_array\u001b[0m\u001b[1;33m(\u001b[0m\u001b[0mvalue\u001b[0m\u001b[1;33m,\u001b[0m \u001b[0mself\u001b[0m\u001b[1;33m.\u001b[0m\u001b[0mindex\u001b[0m\u001b[1;33m,\u001b[0m \u001b[0mcopy\u001b[0m\u001b[1;33m=\u001b[0m\u001b[1;32mTrue\u001b[0m\u001b[1;33m,\u001b[0m \u001b[0mallow_2d\u001b[0m\u001b[1;33m=\u001b[0m\u001b[1;32mTrue\u001b[0m\u001b[1;33m)\u001b[0m\u001b[1;33m\u001b[0m\u001b[1;33m\u001b[0m\u001b[0m\n\u001b[0m\u001b[0;32m   4511\u001b[0m \u001b[1;33m\u001b[0m\u001b[0m\n\u001b[0;32m   4512\u001b[0m     \u001b[1;33m@\u001b[0m\u001b[0mproperty\u001b[0m\u001b[1;33m\u001b[0m\u001b[1;33m\u001b[0m\u001b[0m\n",
      "\u001b[1;32m~\\anaconda3\\lib\\site-packages\\pandas\\core\\construction.py\u001b[0m in \u001b[0;36msanitize_array\u001b[1;34m(data, index, dtype, copy, raise_cast_failure, allow_2d)\u001b[0m\n\u001b[0;32m    512\u001b[0m         \u001b[1;32mif\u001b[0m \u001b[0mindex\u001b[0m \u001b[1;32mis\u001b[0m \u001b[1;32mNone\u001b[0m\u001b[1;33m:\u001b[0m\u001b[1;33m\u001b[0m\u001b[1;33m\u001b[0m\u001b[0m\n\u001b[0;32m    513\u001b[0m             \u001b[1;32mraise\u001b[0m \u001b[0mValueError\u001b[0m\u001b[1;33m(\u001b[0m\u001b[1;34m\"index must be specified when data is not list-like\"\u001b[0m\u001b[1;33m)\u001b[0m\u001b[1;33m\u001b[0m\u001b[1;33m\u001b[0m\u001b[0m\n\u001b[1;32m--> 514\u001b[1;33m         \u001b[0mdata\u001b[0m \u001b[1;33m=\u001b[0m \u001b[0mconstruct_1d_arraylike_from_scalar\u001b[0m\u001b[1;33m(\u001b[0m\u001b[0mdata\u001b[0m\u001b[1;33m,\u001b[0m \u001b[0mlen\u001b[0m\u001b[1;33m(\u001b[0m\u001b[0mindex\u001b[0m\u001b[1;33m)\u001b[0m\u001b[1;33m,\u001b[0m \u001b[0mdtype\u001b[0m\u001b[1;33m)\u001b[0m\u001b[1;33m\u001b[0m\u001b[1;33m\u001b[0m\u001b[0m\n\u001b[0m\u001b[0;32m    515\u001b[0m         \u001b[1;32mreturn\u001b[0m \u001b[0mdata\u001b[0m\u001b[1;33m\u001b[0m\u001b[1;33m\u001b[0m\u001b[0m\n\u001b[0;32m    516\u001b[0m \u001b[1;33m\u001b[0m\u001b[0m\n",
      "\u001b[1;32m~\\anaconda3\\lib\\site-packages\\pandas\\core\\dtypes\\cast.py\u001b[0m in \u001b[0;36mconstruct_1d_arraylike_from_scalar\u001b[1;34m(value, length, dtype)\u001b[0m\n\u001b[0;32m   1922\u001b[0m \u001b[1;33m\u001b[0m\u001b[0m\n\u001b[0;32m   1923\u001b[0m         \u001b[0msubarr\u001b[0m \u001b[1;33m=\u001b[0m \u001b[0mnp\u001b[0m\u001b[1;33m.\u001b[0m\u001b[0mempty\u001b[0m\u001b[1;33m(\u001b[0m\u001b[0mlength\u001b[0m\u001b[1;33m,\u001b[0m \u001b[0mdtype\u001b[0m\u001b[1;33m=\u001b[0m\u001b[0mdtype\u001b[0m\u001b[1;33m)\u001b[0m\u001b[1;33m\u001b[0m\u001b[1;33m\u001b[0m\u001b[0m\n\u001b[1;32m-> 1924\u001b[1;33m         \u001b[0msubarr\u001b[0m\u001b[1;33m.\u001b[0m\u001b[0mfill\u001b[0m\u001b[1;33m(\u001b[0m\u001b[0mvalue\u001b[0m\u001b[1;33m)\u001b[0m\u001b[1;33m\u001b[0m\u001b[1;33m\u001b[0m\u001b[0m\n\u001b[0m\u001b[0;32m   1925\u001b[0m \u001b[1;33m\u001b[0m\u001b[0m\n\u001b[0;32m   1926\u001b[0m     \u001b[1;32mreturn\u001b[0m \u001b[0msubarr\u001b[0m\u001b[1;33m\u001b[0m\u001b[1;33m\u001b[0m\u001b[0m\n",
      "\u001b[1;31mKeyboardInterrupt\u001b[0m: "
     ]
    }
   ],
   "source": [
    "df['Год'] = np.nan\n",
    "df['Год'] = df['Год'].mask(df['year'] < 2002, \"До 2002\").mask(df['year'] >= 2002, \"После 2002\")\n",
    "sns.set(style=\"darkgrid\")\n",
    "sns.lineplot(data=df, x='year', y='sets_num', hue='Год')\n",
    "plt.legend(bbox_to_anchor=(1.05, 1), loc=2, borderaxespad=0.)"
   ]
  },
  {
   "cell_type": "code",
   "execution_count": 7,
   "id": "fdb039ea",
   "metadata": {},
   "outputs": [
    {
     "name": "stdout",
     "output_type": "stream",
     "text": [
      "(0.9474986442902855, 0.9999999999995453)\n",
      "0.6118867624212858 0.6457917022980927\n",
      "Ttest_indResult(statistic=-10.108655219863682, pvalue=5.1527778969647905e-24)\n"
     ]
    }
   ],
   "source": [
    "def f_test(x, y):\n",
    "    x = np.array(x)\n",
    "    y = np.array(y)\n",
    "    f = np.var(x, ddof=1)/np.var(y, ddof=1)\n",
    "    dfn = x.size-1 \n",
    "    dfd = y.size-1 \n",
    "    p = 1-stats.f.cdf(f, dfn, dfd) \n",
    "    return f, p\n",
    "print(f_test(df_do['sets_num'], df_posle['sets_num']))\n",
    "print(np.var(df_do['sets_num'], ddof=1), np.var(df_posle['sets_num'], ddof=1))\n",
    "print(stats.ttest_ind(df_do['sets_num'], df_posle['sets_num']))"
   ]
  },
  {
   "cell_type": "markdown",
   "id": "a02d05ec",
   "metadata": {},
   "source": [
    "### Нулевую гипотезу отвергаем."
   ]
  },
  {
   "cell_type": "markdown",
   "id": "7d561b0c",
   "metadata": {},
   "source": [
    "# Задание 3"
   ]
  },
  {
   "cell_type": "code",
   "execution_count": 9,
   "id": "43c19d66",
   "metadata": {},
   "outputs": [
    {
     "name": "stdout",
     "output_type": "stream",
     "text": [
      "(0.9474986442902855, 0.9999999999995453)\n",
      "0.6118867624212858 0.6457917022980927\n",
      "Ttest_indResult(statistic=-10.108655219863682, pvalue=5.1527778969647905e-24)\n"
     ]
    }
   ],
   "source": [
    "df_early = df.loc[(df['year'] < 2002)&(df['best_of']==5)].copy()\n",
    "df_later = df.loc[(df['year'] >= 2002)&(df['best_of']==5)].copy()\n",
    "print(f_test(df_do['sets_num'], df_posle['sets_num']))\n",
    "print(np.var(df_do['sets_num'], ddof=1), np.var(df_posle['sets_num'], ddof=1))\n",
    "print(stats.ttest_ind(df_do['sets_num'], df_posle['sets_num']))"
   ]
  },
  {
   "cell_type": "markdown",
   "id": "99896afb",
   "metadata": {},
   "source": [
    "### Нулевую гипотезу отвергаем."
   ]
  },
  {
   "cell_type": "markdown",
   "id": "e78eefd4",
   "metadata": {},
   "source": [
    "# Задание 4"
   ]
  },
  {
   "cell_type": "code",
   "execution_count": 10,
   "id": "4ae98553",
   "metadata": {},
   "outputs": [],
   "source": [
    "# готовим данные\n",
    "df.dropna(inplace=True,subset= ['w_bpSaved', 'w_bpFaced', 'l_bpSaved', 'l_bpFaced'])\n",
    "safin_win = df[(df['winner_name'] =='Marat Safin') & ~((df['w_bpSaved'] == 0) & (df['w_bpFaced'] == 0))].copy()\n",
    "safin_lose = df[(df['loser_name'] =='Marat Safin') & ~((df['l_bpSaved'] == 0) & (df['l_bpFaced'] == 0))].copy()\n",
    "federer_win = df[(df['winner_name'] =='Roger Federer') & ~((df['w_bpSaved'] == 0) & (df['w_bpFaced'] == 0))].copy()\n",
    "federer_lose = df[(df['loser_name'] =='Roger Federer') & ~((df['l_bpSaved'] == 0) & (df['l_bpFaced'] == 0))].copy()\n",
    "sampras_win = df[(df['winner_name'] =='Pete Sampras') & ~((df['w_bpSaved'] == 0) & (df['w_bpFaced'] == 0))].copy()\n",
    "sampras_lose= df[(df['loser_name'] =='Pete Sampras') & ~((df['l_bpSaved'] == 0) & (df['l_bpFaced'] == 0))].copy()\n"
   ]
  },
  {
   "cell_type": "markdown",
   "id": "9c22bc24",
   "metadata": {},
   "source": [
    "### 1 игрок"
   ]
  },
  {
   "cell_type": "code",
   "execution_count": 13,
   "id": "6a2bdcbe",
   "metadata": {},
   "outputs": [
    {
     "data": {
      "text/plain": [
       "<AxesSubplot:>"
      ]
     },
     "execution_count": 13,
     "metadata": {},
     "output_type": "execute_result"
    },
    {
     "data": {
      "image/png": "[encoded data removed]",
      "text/plain": [
       "<Figure size 432x288 with 1 Axes>"
      ]
     },
     "metadata": {
      "needs_background": "light"
     },
     "output_type": "display_data"
    }
   ],
   "source": [
    "\n",
    "(safin_win['w_bpSaved']/safin_win['w_bpFaced']).plot.box()"
   ]
  },
  {
   "cell_type": "code",
   "execution_count": 14,
   "id": "acac44bb",
   "metadata": {},
   "outputs": [
    {
     "data": {
      "text/plain": [
       "<AxesSubplot:>"
      ]
     },
     "execution_count": 14,
     "metadata": {},
     "output_type": "execute_result"
    },
    {
     "data": {
      "image/png": "[encoded data removed]",
      "text/plain": [
       "<Figure size 432x288 with 1 Axes>"
      ]
     },
     "metadata": {
      "needs_background": "light"
     },
     "output_type": "display_data"
    }
   ],
   "source": [
    "(safin_lose['l_bpSaved']/safin_lose['l_bpFaced']).plot.box()"
   ]
  },
  {
   "cell_type": "markdown",
   "id": "368b2984",
   "metadata": {},
   "source": [
    "### по 3 игрока"
   ]
  },
  {
   "cell_type": "markdown",
   "id": "5eb351f9",
   "metadata": {},
   "source": [
    "#### Доля выигранных брейк-пойнтов по годам в выигранных матчах (Сафин)"
   ]
  },
  {
   "cell_type": "code",
   "execution_count": 15,
   "id": "ed9e746a",
   "metadata": {},
   "outputs": [
    {
     "data": {
      "text/html": [
       "<div>\n",
       "<style scoped>\n",
       "    .dataframe tbody tr th:only-of-type {\n",
       "        vertical-align: middle;\n",
       "    }\n",
       "\n",
       "    .dataframe tbody tr th {\n",
       "        vertical-align: top;\n",
       "    }\n",
       "\n",
       "    .dataframe thead th {\n",
       "        text-align: right;\n",
       "    }\n",
       "</style>\n",
       "<table border=\"1\" class=\"dataframe\">\n",
       "  <thead>\n",
       "    <tr style=\"text-align: right;\">\n",
       "      <th></th>\n",
       "      <th>0</th>\n",
       "      <th>win</th>\n",
       "    </tr>\n",
       "  </thead>\n",
       "  <tbody>\n",
       "    <tr>\n",
       "      <th>0</th>\n",
       "      <td>0.683673</td>\n",
       "      <td>1.0</td>\n",
       "    </tr>\n",
       "    <tr>\n",
       "      <th>1</th>\n",
       "      <td>0.628272</td>\n",
       "      <td>1.0</td>\n",
       "    </tr>\n",
       "    <tr>\n",
       "      <th>2</th>\n",
       "      <td>0.678571</td>\n",
       "      <td>1.0</td>\n",
       "    </tr>\n",
       "    <tr>\n",
       "      <th>3</th>\n",
       "      <td>0.688525</td>\n",
       "      <td>1.0</td>\n",
       "    </tr>\n",
       "    <tr>\n",
       "      <th>4</th>\n",
       "      <td>0.690299</td>\n",
       "      <td>1.0</td>\n",
       "    </tr>\n",
       "    <tr>\n",
       "      <th>5</th>\n",
       "      <td>0.695652</td>\n",
       "      <td>1.0</td>\n",
       "    </tr>\n",
       "    <tr>\n",
       "      <th>6</th>\n",
       "      <td>0.691244</td>\n",
       "      <td>1.0</td>\n",
       "    </tr>\n",
       "    <tr>\n",
       "      <th>7</th>\n",
       "      <td>0.680851</td>\n",
       "      <td>1.0</td>\n",
       "    </tr>\n",
       "    <tr>\n",
       "      <th>8</th>\n",
       "      <td>0.695652</td>\n",
       "      <td>1.0</td>\n",
       "    </tr>\n",
       "    <tr>\n",
       "      <th>9</th>\n",
       "      <td>0.677632</td>\n",
       "      <td>1.0</td>\n",
       "    </tr>\n",
       "    <tr>\n",
       "      <th>10</th>\n",
       "      <td>0.680328</td>\n",
       "      <td>1.0</td>\n",
       "    </tr>\n",
       "    <tr>\n",
       "      <th>11</th>\n",
       "      <td>0.652778</td>\n",
       "      <td>1.0</td>\n",
       "    </tr>\n",
       "  </tbody>\n",
       "</table>\n",
       "</div>"
      ],
      "text/plain": [
       "           0  win\n",
       "0   0.683673  1.0\n",
       "1   0.628272  1.0\n",
       "2   0.678571  1.0\n",
       "3   0.688525  1.0\n",
       "4   0.690299  1.0\n",
       "5   0.695652  1.0\n",
       "6   0.691244  1.0\n",
       "7   0.680851  1.0\n",
       "8   0.695652  1.0\n",
       "9   0.677632  1.0\n",
       "10  0.680328  1.0\n",
       "11  0.652778  1.0"
      ]
     },
     "execution_count": 15,
     "metadata": {},
     "output_type": "execute_result"
    }
   ],
   "source": [
    "safin_win = safin_win[['w_bpSaved', 'w_bpFaced', 'year']].groupby(by='year').sum().reset_index()\n",
    "\n",
    "safin_bPwin = pd.concat([(safin_win['w_bpSaved']/safin_win['w_bpFaced']).reset_index(drop=True), \n",
    "                         pd.Series(np.ones_like(safin_win['w_bpSaved']), name='win')], axis=1)\n",
    "safin_bPwin"
   ]
  },
  {
   "cell_type": "markdown",
   "id": "67d78010",
   "metadata": {},
   "source": [
    "#### Доля выигранных брейк-поинтов по годам в проигранных матчах (Сафин). Убрали 1 год, чтобы была одинаковая размерность"
   ]
  },
  {
   "cell_type": "code",
   "execution_count": null,
   "id": "d474077a",
   "metadata": {},
   "outputs": [],
   "source": [
    "safin_lose = safin_lose[['l_bpSaved', 'l_bpFaced', 'year']].groupby(by='year').sum().reset_index().iloc[1:]\n",
    "safin_bPlose = pd.concat([(safin_lose['l_bpSaved']/safin_lose['l_bpFaced']).reset_index(drop=True), \n",
    "                       pd.Series(np.zeros_like(safin_lose['l_bpSaved']), name='win')], axis=1)\n",
    "safin_bPlose"
   ]
  },
  {
   "cell_type": "code",
   "execution_count": null,
   "id": "1f19dc56",
   "metadata": {},
   "outputs": [],
   "source": [
    "safin_bPlose = safin_bPlose.rename(columns={0: 'BP_won'})"
   ]
  },
  {
   "cell_type": "code",
   "execution_count": null,
   "id": "4479c9d9",
   "metadata": {},
   "outputs": [],
   "source": [
    "BP_data_safin = pd.concat([safin_bPwin, safin_bPlose])"
   ]
  },
  {
   "cell_type": "code",
   "execution_count": null,
   "id": "dc050533",
   "metadata": {},
   "outputs": [],
   "source": [
    "BP_data_safin = BP_data_safin.reset_index(drop=True)\n",
    "BP_data_safin"
   ]
  },
  {
   "cell_type": "code",
   "execution_count": null,
   "id": "a85f2b9d",
   "metadata": {},
   "outputs": [],
   "source": [
    "sns.boxplot(data=BP_data_safin, x='win', y='BP_won')"
   ]
  },
  {
   "cell_type": "code",
   "execution_count": null,
   "id": "0edb1c80",
   "metadata": {},
   "outputs": [],
   "source": [
    "crosstab_safin = pd.concat([safin_bPwin['BP_won'].rename('win'), \n",
    "           safin_bPlose['BP_won'].rename('lose')], \n",
    "          axis=1)\n",
    "crosstab_safin"
   ]
  },
  {
   "cell_type": "code",
   "execution_count": null,
   "id": "170f71be",
   "metadata": {},
   "outputs": [],
   "source": [
    "stats.chi2_contingency(crosstab_safin)"
   ]
  },
  {
   "cell_type": "code",
   "execution_count": null,
   "id": "0a745192",
   "metadata": {},
   "outputs": [],
   "source": [
    "chisq_stats_safin = stats.chi2_contingency(crosstab_safin, correction=False)[0]"
   ]
  },
  {
   "cell_type": "code",
   "execution_count": null,
   "id": "9a058430",
   "metadata": {},
   "outputs": [],
   "source": [
    "n = np.sum(crosstab_safin)\n",
    "n = n.sum()\n",
    "minshape_safin = min(crosstab_safin.shape)-1\n",
    "cramer_safin = np.sqrt((chisq_stats_safin/n)/minshape_safin)\n",
    "cramer_safin"
   ]
  },
  {
   "cell_type": "markdown",
   "id": "83999838",
   "metadata": {},
   "source": [
    "меньше 0.05 -> cвязь между победными матчами и проигранными слабая (очень слабая)"
   ]
  },
  {
   "cell_type": "code",
   "execution_count": null,
   "id": "73675031",
   "metadata": {},
   "outputs": [],
   "source": [
    "sns.displot(safin_bPwin['BP_won'])"
   ]
  },
  {
   "cell_type": "code",
   "execution_count": null,
   "id": "bde648ce",
   "metadata": {},
   "outputs": [],
   "source": [
    "federer_win[['w_bpSaved', 'w_bpFaced', 'year']].groupby(by='year').sum().reset_index()"
   ]
  },
  {
   "cell_type": "code",
   "execution_count": null,
   "id": "fb8a1ccd",
   "metadata": {},
   "outputs": [],
   "source": [
    "(federer_win['w_bpSaved']/federer_win['w_bpFaced']).plot.box()"
   ]
  },
  {
   "cell_type": "code",
   "execution_count": null,
   "id": "ae88b6f7",
   "metadata": {},
   "outputs": [],
   "source": [
    "\n",
    "federer_lose[['l_bpSaved', 'l_bpFaced']]"
   ]
  },
  {
   "cell_type": "code",
   "execution_count": null,
   "id": "e60363b2",
   "metadata": {},
   "outputs": [],
   "source": [
    "(federer_lose['l_bpSaved']/federer_lose['l_bpFaced']).plot.box()"
   ]
  },
  {
   "cell_type": "code",
   "execution_count": null,
   "id": "dbadee92",
   "metadata": {},
   "outputs": [],
   "source": [
    "#### Доля выигранных брейк-пойнтов по годам в выигранных матчах (Федерер)"
   ]
  },
  {
   "cell_type": "code",
   "execution_count": null,
   "id": "5e478561",
   "metadata": {},
   "outputs": [],
   "source": [
    "federer_win = federer_win[['w_bpSaved', 'w_bpFaced', 'year']].groupby(by='year').sum().reset_index()\n",
    "federer_bPwin = pd.concat([(federer_win['w_bpSaved']/federer_win['w_bpFaced']).reset_index(drop=True), \n",
    "                         pd.Series(np.ones_like(federer_win['w_bpSaved']), name='win')], axis=1)\n",
    "federer_bPwin"
   ]
  },
  {
   "cell_type": "code",
   "execution_count": null,
   "id": "2c09cd9b",
   "metadata": {},
   "outputs": [],
   "source": []
  }
 ],
 "metadata": {
  "kernelspec": {
   "display_name": "Python 3 (ipykernel)",
   "language": "python",
   "name": "python3"
  },
  "language_info": {
   "codemirror_mode": {
    "name": "ipython",
    "version": 3
   },
   "file_extension": ".py",
   "mimetype": "text/x-python",
   "name": "python",
   "nbconvert_exporter": "python",
   "pygments_lexer": "ipython3",
   "version": "3.9.7"
  }
 },
 "nbformat": 4,
 "nbformat_minor": 5
}
