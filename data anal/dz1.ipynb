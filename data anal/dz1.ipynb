{
 "cells": [
  {
   "cell_type": "code",
   "execution_count": 1,
   "id": "3c1003b4",
   "metadata": {
    "ExecuteTime": {
     "end_time": "2022-12-11T15:38:42.315592Z",
     "start_time": "2022-12-11T15:38:41.361377Z"
    }
   },
   "outputs": [],
   "source": [
    "import pandas as pd\n",
    "from pandasql import sqldf\n",
    "pysqldf = lambda q: sqldf(q, globals())\n",
    "df = pd.read_excel('data.xlsx', index_col=0) "
   ]
  },
  {
   "cell_type": "markdown",
   "id": "3539da96",
   "metadata": {},
   "source": [
    "# 1 Опишите имеющиеся колонки в данных - сделайте аналог describe в pandas для колонок."
   ]
  },
  {
   "cell_type": "code",
   "execution_count": 2,
   "id": "08c19626",
   "metadata": {
    "ExecuteTime": {
     "end_time": "2022-12-11T15:38:42.410614Z",
     "start_time": "2022-12-11T15:38:42.317592Z"
    }
   },
   "outputs": [
    {
     "name": "stdout",
     "output_type": "stream",
     "text": [
      "   COUNT(Cust_Id)  AVG(Cust_Id)  MIN(Cust_Id)  MAX(Cust_Id)\n",
      "0             200         100.5             1           200\n",
      "   COUNT(Purchase)  AVG(Purchase)  MIN(Purchase)  MAX(Purchase)\n",
      "0              200          0.195              0              1\n",
      "   COUNT(Cheq_Bal)  AVG(Cheq_Bal)  MIN(Cheq_Bal)  MAX(Cheq_Bal)\n",
      "0              200      2145.0935         644.31        4437.44\n",
      "   COUNT(Sav_Bal)  AVG(Sav_Bal)  MIN(Sav_Bal)  MAX(Sav_Bal)\n",
      "0             200   22084.42895       6558.91      39132.63\n",
      "   COUNT(Debt_Bal)  AVG(Debt_Bal)  MIN(Debt_Bal)  MAX(Debt_Bal)\n",
      "0              200      8638.3696            0.0        20559.7\n",
      "   COUNT(Debt_Bal)  AVG(Debt_Bal)  MIN(Debt_Bal)  MAX(Debt_Bal)\n",
      "0              200      8638.3696            0.0        20559.7\n",
      "   COUNT(Age)  AVG(Age)  MIN(Age)  MAX(Age)\n",
      "0         200    38.535        18        60\n"
     ]
    }
   ],
   "source": [
    "q = \"\"\"SELECT    \n",
    "        COUNT(Cust_Id),\n",
    "        AVG(Cust_Id),\n",
    "        MIN(Cust_Id),\n",
    "        MAX(Cust_Id)     \n",
    "        FROM df\"\"\"\n",
    "id_ = pysqldf(q)\n",
    "q = \"\"\"SELECT    \n",
    "        COUNT(Purchase),\n",
    "        AVG(Purchase),\n",
    "        MIN(Purchase),\n",
    "        MAX(Purchase)          \n",
    "        FROM df\"\"\"\n",
    "purchase = pysqldf(q)\n",
    "q = \"\"\"SELECT    \n",
    "        COUNT(Cheq_Bal),\n",
    "        AVG(Cheq_Bal),\n",
    "        MIN(Cheq_Bal),\n",
    "        MAX(Cheq_Bal)      \n",
    "        FROM df\"\"\"\n",
    "cheq_Bal = pysqldf(q)\n",
    "q = \"\"\"SELECT    \n",
    "        COUNT(Sav_Bal),\n",
    "        AVG(Sav_Bal),\n",
    "        MIN(Sav_Bal),\n",
    "        MAX(Sav_Bal)     \n",
    "        FROM df\"\"\"\n",
    "sav_Bal = pysqldf(q)\n",
    "q = \"\"\"SELECT    \n",
    "        COUNT(Debt_Bal),\n",
    "        AVG(Debt_Bal),\n",
    "        MIN(Debt_Bal),\n",
    "        MAX(Debt_Bal)     \n",
    "        FROM df\"\"\"\n",
    "debt_Bal = pysqldf(q)\n",
    "q = \"\"\"SELECT    \n",
    "        COUNT(Debt_Bal),\n",
    "        AVG(Debt_Bal),\n",
    "        MIN(Debt_Bal),\n",
    "        MAX(Debt_Bal)      \n",
    "        FROM df\"\"\"\n",
    "joint_Acct = pysqldf(q)\n",
    "q = \"\"\"SELECT    \n",
    "        COUNT(Age),\n",
    "        AVG(Age),\n",
    "        MIN(Age),\n",
    "        MAX(Age)       \n",
    "        FROM df\"\"\"\n",
    "age = pysqldf(q)\n",
    "print(id_, purchase, cheq_Bal, sav_Bal, debt_Bal, joint_Acct, age, sep=\"\\n\")"
   ]
  },
  {
   "cell_type": "markdown",
   "id": "d392bb5e",
   "metadata": {
    "ExecuteTime": {
     "end_time": "2022-12-11T11:40:43.940066Z",
     "start_time": "2022-12-11T11:40:43.931058Z"
    }
   },
   "source": [
    "# 2. Посчитайте совокупный объем средств у клиентов в банке - сумма по всем балансам."
   ]
  },
  {
   "cell_type": "code",
   "execution_count": 3,
   "id": "88253dff",
   "metadata": {
    "ExecuteTime": {
     "end_time": "2022-12-11T15:38:42.441621Z",
     "start_time": "2022-12-11T15:38:42.412614Z"
    }
   },
   "outputs": [
    {
     "data": {
      "text/html": [
       "<div>\n",
       "<style scoped>\n",
       "    .dataframe tbody tr th:only-of-type {\n",
       "        vertical-align: middle;\n",
       "    }\n",
       "\n",
       "    .dataframe tbody tr th {\n",
       "        vertical-align: top;\n",
       "    }\n",
       "\n",
       "    .dataframe thead th {\n",
       "        text-align: right;\n",
       "    }\n",
       "</style>\n",
       "<table border=\"1\" class=\"dataframe\">\n",
       "  <thead>\n",
       "    <tr style=\"text-align: right;\">\n",
       "      <th></th>\n",
       "      <th>Cust_ID</th>\n",
       "      <th>TOTAL_bal</th>\n",
       "    </tr>\n",
       "  </thead>\n",
       "  <tbody>\n",
       "    <tr>\n",
       "      <th>0</th>\n",
       "      <td>1</td>\n",
       "      <td>41221.59</td>\n",
       "    </tr>\n",
       "    <tr>\n",
       "      <th>1</th>\n",
       "      <td>2</td>\n",
       "      <td>41413.90</td>\n",
       "    </tr>\n",
       "    <tr>\n",
       "      <th>2</th>\n",
       "      <td>3</td>\n",
       "      <td>33055.88</td>\n",
       "    </tr>\n",
       "    <tr>\n",
       "      <th>3</th>\n",
       "      <td>4</td>\n",
       "      <td>42272.94</td>\n",
       "    </tr>\n",
       "    <tr>\n",
       "      <th>4</th>\n",
       "      <td>5</td>\n",
       "      <td>27464.44</td>\n",
       "    </tr>\n",
       "  </tbody>\n",
       "</table>\n",
       "</div>"
      ],
      "text/plain": [
       "   Cust_ID  TOTAL_bal\n",
       "0        1   41221.59\n",
       "1        2   41413.90\n",
       "2        3   33055.88\n",
       "3        4   42272.94\n",
       "4        5   27464.44"
      ]
     },
     "execution_count": 3,
     "metadata": {},
     "output_type": "execute_result"
    }
   ],
   "source": [
    "q = \"\"\"SELECT \n",
    "        Cust_ID,\n",
    "        Cheq_Bal+Sav_Bal+Debt_Bal AS TOTAL_bal\n",
    "        FROM df\"\"\"\n",
    "pysqldf(q).head()\n"
   ]
  },
  {
   "cell_type": "markdown",
   "id": "38704b5a",
   "metadata": {},
   "source": [
    "# 3 Выведите только тех клиентов, которые приобрели ипотеку (колонка mortgage)."
   ]
  },
  {
   "cell_type": "code",
   "execution_count": 4,
   "id": "263b1b77",
   "metadata": {
    "ExecuteTime": {
     "end_time": "2022-12-11T15:38:42.473628Z",
     "start_time": "2022-12-11T15:38:42.443621Z"
    }
   },
   "outputs": [
    {
     "data": {
      "text/html": [
       "<div>\n",
       "<style scoped>\n",
       "    .dataframe tbody tr th:only-of-type {\n",
       "        vertical-align: middle;\n",
       "    }\n",
       "\n",
       "    .dataframe tbody tr th {\n",
       "        vertical-align: top;\n",
       "    }\n",
       "\n",
       "    .dataframe thead th {\n",
       "        text-align: right;\n",
       "    }\n",
       "</style>\n",
       "<table border=\"1\" class=\"dataframe\">\n",
       "  <thead>\n",
       "    <tr style=\"text-align: right;\">\n",
       "      <th></th>\n",
       "      <th>Cust_ID</th>\n",
       "      <th>Purchase</th>\n",
       "      <th>Cheq_Bal</th>\n",
       "      <th>Sav_Bal</th>\n",
       "      <th>Debt_Bal</th>\n",
       "      <th>Joint_Acct</th>\n",
       "      <th>Age</th>\n",
       "      <th>Date</th>\n",
       "    </tr>\n",
       "  </thead>\n",
       "  <tbody>\n",
       "    <tr>\n",
       "      <th>0</th>\n",
       "      <td>4</td>\n",
       "      <td>1</td>\n",
       "      <td>2880.28</td>\n",
       "      <td>32317.63</td>\n",
       "      <td>7075.03</td>\n",
       "      <td>0</td>\n",
       "      <td>28</td>\n",
       "      <td>2017-04-30 00:00:00.000000</td>\n",
       "    </tr>\n",
       "    <tr>\n",
       "      <th>1</th>\n",
       "      <td>6</td>\n",
       "      <td>1</td>\n",
       "      <td>1936.83</td>\n",
       "      <td>34793.91</td>\n",
       "      <td>5107.54</td>\n",
       "      <td>1</td>\n",
       "      <td>18</td>\n",
       "      <td>2017-05-30 00:00:00.000000</td>\n",
       "    </tr>\n",
       "    <tr>\n",
       "      <th>2</th>\n",
       "      <td>7</td>\n",
       "      <td>1</td>\n",
       "      <td>3120.64</td>\n",
       "      <td>26794.63</td>\n",
       "      <td>0.00</td>\n",
       "      <td>0</td>\n",
       "      <td>18</td>\n",
       "      <td>2017-08-13 00:00:00.000000</td>\n",
       "    </tr>\n",
       "    <tr>\n",
       "      <th>3</th>\n",
       "      <td>11</td>\n",
       "      <td>1</td>\n",
       "      <td>3102.62</td>\n",
       "      <td>30968.27</td>\n",
       "      <td>4061.99</td>\n",
       "      <td>1</td>\n",
       "      <td>30</td>\n",
       "      <td>2017-05-16 00:00:00.000000</td>\n",
       "    </tr>\n",
       "    <tr>\n",
       "      <th>4</th>\n",
       "      <td>13</td>\n",
       "      <td>1</td>\n",
       "      <td>3130.37</td>\n",
       "      <td>25835.62</td>\n",
       "      <td>0.00</td>\n",
       "      <td>1</td>\n",
       "      <td>18</td>\n",
       "      <td>2017-07-07 00:00:00.000000</td>\n",
       "    </tr>\n",
       "  </tbody>\n",
       "</table>\n",
       "</div>"
      ],
      "text/plain": [
       "   Cust_ID  Purchase  Cheq_Bal   Sav_Bal  Debt_Bal  Joint_Acct  Age  \\\n",
       "0        4         1   2880.28  32317.63   7075.03           0   28   \n",
       "1        6         1   1936.83  34793.91   5107.54           1   18   \n",
       "2        7         1   3120.64  26794.63      0.00           0   18   \n",
       "3       11         1   3102.62  30968.27   4061.99           1   30   \n",
       "4       13         1   3130.37  25835.62      0.00           1   18   \n",
       "\n",
       "                         Date  \n",
       "0  2017-04-30 00:00:00.000000  \n",
       "1  2017-05-30 00:00:00.000000  \n",
       "2  2017-08-13 00:00:00.000000  \n",
       "3  2017-05-16 00:00:00.000000  \n",
       "4  2017-07-07 00:00:00.000000  "
      ]
     },
     "execution_count": 4,
     "metadata": {},
     "output_type": "execute_result"
    }
   ],
   "source": [
    "q = \"\"\"SELECT * \n",
    "        FROM df\n",
    "        WHERE Purchase = 1        \n",
    "        \"\"\"\n",
    "pysqldf(q).head()"
   ]
  },
  {
   "cell_type": "markdown",
   "id": "e39ef432",
   "metadata": {},
   "source": [
    "# 4 Какой совокупный объем средств в среднем у клиентов, которые приобрели ипотеку и у клиентов, которые её не приобретали?"
   ]
  },
  {
   "cell_type": "code",
   "execution_count": 5,
   "id": "f70c6c82",
   "metadata": {
    "ExecuteTime": {
     "end_time": "2022-12-11T15:38:42.505634Z",
     "start_time": "2022-12-11T15:38:42.475628Z"
    }
   },
   "outputs": [
    {
     "data": {
      "text/html": [
       "<div>\n",
       "<style scoped>\n",
       "    .dataframe tbody tr th:only-of-type {\n",
       "        vertical-align: middle;\n",
       "    }\n",
       "\n",
       "    .dataframe tbody tr th {\n",
       "        vertical-align: top;\n",
       "    }\n",
       "\n",
       "    .dataframe thead th {\n",
       "        text-align: right;\n",
       "    }\n",
       "</style>\n",
       "<table border=\"1\" class=\"dataframe\">\n",
       "  <thead>\n",
       "    <tr style=\"text-align: right;\">\n",
       "      <th></th>\n",
       "      <th>Purchase</th>\n",
       "      <th>Non_Purchase</th>\n",
       "    </tr>\n",
       "  </thead>\n",
       "  <tbody>\n",
       "    <tr>\n",
       "      <th>0</th>\n",
       "      <td>36054.895385</td>\n",
       "      <td>32095.885031</td>\n",
       "    </tr>\n",
       "  </tbody>\n",
       "</table>\n",
       "</div>"
      ],
      "text/plain": [
       "       Purchase  Non_Purchase\n",
       "0  36054.895385  32095.885031"
      ]
     },
     "execution_count": 5,
     "metadata": {},
     "output_type": "execute_result"
    }
   ],
   "source": [
    "q = \"\"\"SELECT \n",
    "            SUM(CASE WHEN Purchase=1 THEN Cheq_Bal+Sav_Bal+Debt_Bal END) / COUNT(CASE WHEN Purchase=1 THEN 1 END) as Purchase,\n",
    "            SUM(CASE WHEN Purchase=0 THEN Cheq_Bal+Sav_Bal+Debt_Bal END) / COUNT(CASE WHEN Purchase=0 THEN 1 END) as Non_Purchase\n",
    "            FROM df\n",
    "        \"\"\"\n",
    "\n",
    "pysqldf(q).head()"
   ]
  },
  {
   "cell_type": "markdown",
   "id": "6c898d9d",
   "metadata": {},
   "source": [
    "# 5 Есть ли разница в среднем по каждому из типов баланса у клиентов, которые приобрели ипотеку и у клиентов, которые её не приобретали?"
   ]
  },
  {
   "cell_type": "code",
   "execution_count": 6,
   "id": "ecdad362",
   "metadata": {
    "ExecuteTime": {
     "end_time": "2022-12-11T15:38:42.537642Z",
     "start_time": "2022-12-11T15:38:42.508635Z"
    }
   },
   "outputs": [
    {
     "data": {
      "text/html": [
       "<div>\n",
       "<style scoped>\n",
       "    .dataframe tbody tr th:only-of-type {\n",
       "        vertical-align: middle;\n",
       "    }\n",
       "\n",
       "    .dataframe tbody tr th {\n",
       "        vertical-align: top;\n",
       "    }\n",
       "\n",
       "    .dataframe thead th {\n",
       "        text-align: right;\n",
       "    }\n",
       "</style>\n",
       "<table border=\"1\" class=\"dataframe\">\n",
       "  <thead>\n",
       "    <tr style=\"text-align: right;\">\n",
       "      <th></th>\n",
       "      <th>Cheq_Bal_diff</th>\n",
       "      <th>Sav_Bal_diff</th>\n",
       "      <th>Debt_Bal_diff</th>\n",
       "    </tr>\n",
       "  </thead>\n",
       "  <tbody>\n",
       "    <tr>\n",
       "      <th>0</th>\n",
       "      <td>761.344275</td>\n",
       "      <td>9370.354545</td>\n",
       "      <td>-6172.688466</td>\n",
       "    </tr>\n",
       "  </tbody>\n",
       "</table>\n",
       "</div>"
      ],
      "text/plain": [
       "   Cheq_Bal_diff  Sav_Bal_diff  Debt_Bal_diff\n",
       "0     761.344275   9370.354545   -6172.688466"
      ]
     },
     "execution_count": 6,
     "metadata": {},
     "output_type": "execute_result"
    }
   ],
   "source": [
    "q = \"\"\"SELECT \n",
    "            SUM(CASE WHEN Purchase=1 THEN Cheq_Bal END) / COUNT(CASE WHEN Purchase=1 THEN 1 END) -\n",
    "            SUM(CASE WHEN Purchase=0 THEN Cheq_Bal END) / COUNT(CASE WHEN Purchase=0 THEN 1 END) as Cheq_Bal_diff,\n",
    "            \n",
    "            SUM(CASE WHEN Purchase=1 THEN Sav_Bal END) / COUNT(CASE WHEN Purchase=1 THEN 1 END) -\n",
    "            SUM(CASE WHEN Purchase=0 THEN Sav_Bal END) / COUNT(CASE WHEN Purchase=0 THEN 1 END) as Sav_Bal_diff,\n",
    "            \n",
    "            SUM(CASE WHEN Purchase=1 THEN Debt_Bal END) / COUNT(CASE WHEN Purchase=1 THEN 1 END) -\n",
    "            SUM(CASE WHEN Purchase=0 THEN Debt_Bal END) / COUNT(CASE WHEN Purchase=0 THEN 1 END) as Debt_Bal_diff\n",
    "            \n",
    "            FROM df\n",
    "        \"\"\"\n",
    "\n",
    "pysqldf(q).head()"
   ]
  },
  {
   "cell_type": "markdown",
   "id": "068b1348",
   "metadata": {},
   "source": [
    "# 6 Выберите самого возрастного получателя ипотеки."
   ]
  },
  {
   "cell_type": "code",
   "execution_count": 7,
   "id": "f1ff29c5",
   "metadata": {
    "ExecuteTime": {
     "end_time": "2022-12-11T15:38:42.568649Z",
     "start_time": "2022-12-11T15:38:42.540642Z"
    }
   },
   "outputs": [
    {
     "data": {
      "text/html": [
       "<div>\n",
       "<style scoped>\n",
       "    .dataframe tbody tr th:only-of-type {\n",
       "        vertical-align: middle;\n",
       "    }\n",
       "\n",
       "    .dataframe tbody tr th {\n",
       "        vertical-align: top;\n",
       "    }\n",
       "\n",
       "    .dataframe thead th {\n",
       "        text-align: right;\n",
       "    }\n",
       "</style>\n",
       "<table border=\"1\" class=\"dataframe\">\n",
       "  <thead>\n",
       "    <tr style=\"text-align: right;\">\n",
       "      <th></th>\n",
       "      <th>Cust_ID</th>\n",
       "      <th>MAX(Age)</th>\n",
       "    </tr>\n",
       "  </thead>\n",
       "  <tbody>\n",
       "    <tr>\n",
       "      <th>0</th>\n",
       "      <td>34</td>\n",
       "      <td>60</td>\n",
       "    </tr>\n",
       "  </tbody>\n",
       "</table>\n",
       "</div>"
      ],
      "text/plain": [
       "   Cust_ID  MAX(Age)\n",
       "0       34        60"
      ]
     },
     "execution_count": 7,
     "metadata": {},
     "output_type": "execute_result"
    }
   ],
   "source": [
    "q = \"\"\"SELECT Cust_Id, \n",
    "        MAX(Age)\n",
    "        FROM df    \n",
    "        \"\"\"\n",
    "pysqldf(q).head()"
   ]
  },
  {
   "cell_type": "markdown",
   "id": "eaee33f9",
   "metadata": {},
   "source": [
    "# 7 Выберите клиента, который раньше всех получил ипотеку."
   ]
  },
  {
   "cell_type": "code",
   "execution_count": 8,
   "id": "15af894e",
   "metadata": {
    "ExecuteTime": {
     "end_time": "2022-12-11T15:38:42.600656Z",
     "start_time": "2022-12-11T15:38:42.571650Z"
    }
   },
   "outputs": [
    {
     "data": {
      "text/html": [
       "<div>\n",
       "<style scoped>\n",
       "    .dataframe tbody tr th:only-of-type {\n",
       "        vertical-align: middle;\n",
       "    }\n",
       "\n",
       "    .dataframe tbody tr th {\n",
       "        vertical-align: top;\n",
       "    }\n",
       "\n",
       "    .dataframe thead th {\n",
       "        text-align: right;\n",
       "    }\n",
       "</style>\n",
       "<table border=\"1\" class=\"dataframe\">\n",
       "  <thead>\n",
       "    <tr style=\"text-align: right;\">\n",
       "      <th></th>\n",
       "      <th>Cust_ID</th>\n",
       "      <th>MIN(Date)</th>\n",
       "    </tr>\n",
       "  </thead>\n",
       "  <tbody>\n",
       "    <tr>\n",
       "      <th>0</th>\n",
       "      <td>185</td>\n",
       "      <td>2017-04-01 00:00:00.000000</td>\n",
       "    </tr>\n",
       "  </tbody>\n",
       "</table>\n",
       "</div>"
      ],
      "text/plain": [
       "   Cust_ID                   MIN(Date)\n",
       "0      185  2017-04-01 00:00:00.000000"
      ]
     },
     "execution_count": 8,
     "metadata": {},
     "output_type": "execute_result"
    }
   ],
   "source": [
    "q = \"\"\"SELECT Cust_Id, \n",
    "        MIN(Date)\n",
    "        FROM df    \n",
    "        \"\"\"\n",
    "pysqldf(q).head()"
   ]
  },
  {
   "cell_type": "markdown",
   "id": "4019232a",
   "metadata": {},
   "source": [
    "# 8 Создайте любую базу данных в sqlite3, состоящую из 5 колонок, одна из колонок обязательно должна быть типа REAL. (Названия колонок любые, какие захотите)"
   ]
  },
  {
   "cell_type": "code",
   "execution_count": 9,
   "id": "d4356fee",
   "metadata": {
    "ExecuteTime": {
     "end_time": "2022-12-11T15:38:42.664671Z",
     "start_time": "2022-12-11T15:38:42.603657Z"
    }
   },
   "outputs": [
    {
     "data": {
      "text/plain": [
       "<sqlite3.Cursor at 0x1ef147df420>"
      ]
     },
     "execution_count": 9,
     "metadata": {},
     "output_type": "execute_result"
    }
   ],
   "source": [
    "import sqlite3\n",
    "connected_ = sqlite3.connect(\"proct3.db\")\n",
    "db = connected_.cursor()\n",
    "db.execute(\"CREATE TABLE taab(ID, name, birth, wheit, mama_wheit)\")"
   ]
  },
  {
   "cell_type": "markdown",
   "id": "098c9e8e",
   "metadata": {},
   "source": [
    "# 9 Добавьте 3 полностью заполненные строки в вашу БД."
   ]
  },
  {
   "cell_type": "code",
   "execution_count": 10,
   "id": "5b36dea5",
   "metadata": {
    "ExecuteTime": {
     "end_time": "2022-12-11T15:38:42.680674Z",
     "start_time": "2022-12-11T15:38:42.669671Z"
    }
   },
   "outputs": [
    {
     "data": {
      "text/plain": [
       "[(1, 'Vasya Pupkin', 2001, 83, 98345085349),\n",
       " (2, 'Elena Golovach', 1965, 56, 52),\n",
       " (3, 'Mathieu Bal', 1998, 103, 60)]"
      ]
     },
     "execution_count": 10,
     "metadata": {},
     "output_type": "execute_result"
    }
   ],
   "source": [
    "db.execute(\"\"\"\n",
    "    INSERT INTO taab VALUES\n",
    "        (1, 'Vasya Pupkin', 2001, 83, 98345085349),\n",
    "        (2, 'Elena Golovach', 1965, 56, 52),\n",
    "        (3, 'Mathieu Bal', 1998, 103 , 60)\n",
    "\"\"\")\n",
    "\n",
    "some = db.execute(\"\"\"SELECT * \n",
    "        FROM taab\n",
    "        \"\"\")\n",
    "some.fetchall()"
   ]
  },
  {
   "cell_type": "markdown",
   "id": "a3bfffc0",
   "metadata": {},
   "source": [
    "# 10 Удалите строку из колонки типа REAL (из пункта 8), в которой значение признака среднее (то есть не минимальное и не максимальное). Напрямую указывать значение из этой строки нельзя."
   ]
  },
  {
   "cell_type": "code",
   "execution_count": 11,
   "id": "31c5bbfd",
   "metadata": {
    "ExecuteTime": {
     "end_time": "2022-12-11T15:38:42.696679Z",
     "start_time": "2022-12-11T15:38:42.682674Z"
    }
   },
   "outputs": [
    {
     "data": {
      "text/plain": [
       "[(1, 'Vasya Pupkin', 2001, 83, 98345085349),\n",
       " (2, 'Elena Golovach', 1965, 56, 52)]"
      ]
     },
     "execution_count": 11,
     "metadata": {},
     "output_type": "execute_result"
    }
   ],
   "source": [
    "connected_.execute(\"\"\"\n",
    "            DELETE FROM taab\n",
    "            WHERE \n",
    "            mama_wheit <> (select MAX(mama_wheit) from taab)\n",
    "            AND \n",
    "            mama_wheit <> (select MIN(mama_wheit) from taab)\n",
    "            \"\"\")\n",
    "some = db.execute(\"\"\"SELECT * \n",
    "        FROM taab\n",
    "        \"\"\")\n",
    "some.fetchall()"
   ]
  },
  {
   "cell_type": "code",
   "execution_count": 12,
   "id": "8d59752a",
   "metadata": {
    "ExecuteTime": {
     "end_time": "2022-12-11T15:38:42.712681Z",
     "start_time": "2022-12-11T15:38:42.699678Z"
    }
   },
   "outputs": [],
   "source": [
    "db.execute(\"\"\"DROP TABLE taab;\"\"\")\n",
    "connected_.close()"
   ]
  },
  {
   "cell_type": "markdown",
   "id": "b0d6f05c",
   "metadata": {},
   "source": [
    "спасибо за проверку!"
   ]
  }
 ],
 "metadata": {
  "kernelspec": {
   "display_name": "Python 3 (ipykernel)",
   "language": "python",
   "name": "python3"
  },
  "language_info": {
   "codemirror_mode": {
    "name": "ipython",
    "version": 3
   },
   "file_extension": ".py",
   "mimetype": "text/x-python",
   "name": "python",
   "nbconvert_exporter": "python",
   "pygments_lexer": "ipython3",
   "version": "3.9.12"
  },
  "varInspector": {
   "cols": {
    "lenName": 16,
    "lenType": 16,
    "lenVar": 40
   },
   "kernels_config": {
    "python": {
     "delete_cmd_postfix": "",
     "delete_cmd_prefix": "del ",
     "library": "var_list.py",
     "varRefreshCmd": "print(var_dic_list())"
    },
    "r": {
     "delete_cmd_postfix": ") ",
     "delete_cmd_prefix": "rm(",
     "library": "var_list.r",
     "varRefreshCmd": "cat(var_dic_list()) "
    }
   },
   "types_to_exclude": [
    "module",
    "function",
    "builtin_function_or_method",
    "instance",
    "_Feature"
   ],
   "window_display": false
  }
 },
 "nbformat": 4,
 "nbformat_minor": 5
}
