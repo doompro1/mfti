{
 "cells": [
  {
   "cell_type": "markdown",
   "metadata": {},
   "source": [
    "# Импорты"
   ]
  },
  {
   "cell_type": "code",
   "execution_count": 48,
   "metadata": {},
   "outputs": [],
   "source": [
    "import numpy as np\n",
    "import pandas as pd\n",
    "from scipy import stats\n",
    "import matplotlib.pyplot as plt\n",
    "import seaborn as sns"
   ]
  },
  {
   "cell_type": "code",
   "execution_count": 49,
   "metadata": {},
   "outputs": [],
   "source": [
    "from statannotations.Annotator import Annotator\n",
    "from itertools import combinations"
   ]
  },
  {
   "cell_type": "code",
   "execution_count": 50,
   "metadata": {},
   "outputs": [],
   "source": [
    "community_dataset = pd.read_csv('community_dataset.csv')"
   ]
  },
  {
   "cell_type": "code",
   "execution_count": 51,
   "metadata": {},
   "outputs": [
    {
     "data": {
      "text/html": [
       "<div>\n",
       "<style scoped>\n",
       "    .dataframe tbody tr th:only-of-type {\n",
       "        vertical-align: middle;\n",
       "    }\n",
       "\n",
       "    .dataframe tbody tr th {\n",
       "        vertical-align: top;\n",
       "    }\n",
       "\n",
       "    .dataframe thead th {\n",
       "        text-align: right;\n",
       "    }\n",
       "</style>\n",
       "<table border=\"1\" class=\"dataframe\">\n",
       "  <thead>\n",
       "    <tr style=\"text-align: right;\">\n",
       "      <th></th>\n",
       "      <th>distance_to_vasculature</th>\n",
       "      <th>distance_to_largest_cell</th>\n",
       "      <th>immune_marker_1</th>\n",
       "      <th>immune_marker_2</th>\n",
       "      <th>cell_interaction</th>\n",
       "      <th>cell_type</th>\n",
       "      <th>case_id</th>\n",
       "      <th>area_of_cell</th>\n",
       "      <th>age_group</th>\n",
       "    </tr>\n",
       "  </thead>\n",
       "  <tbody>\n",
       "    <tr>\n",
       "      <th>0</th>\n",
       "      <td>988.509380</td>\n",
       "      <td>612.076506</td>\n",
       "      <td>10.803755</td>\n",
       "      <td>187.998971</td>\n",
       "      <td>community_1</td>\n",
       "      <td>Stroma cells</td>\n",
       "      <td>891</td>\n",
       "      <td>185</td>\n",
       "      <td>elder_group</td>\n",
       "    </tr>\n",
       "    <tr>\n",
       "      <th>1</th>\n",
       "      <td>787.852379</td>\n",
       "      <td>637.787202</td>\n",
       "      <td>11.749179</td>\n",
       "      <td>155.357076</td>\n",
       "      <td>community_1</td>\n",
       "      <td>Stroma cells</td>\n",
       "      <td>891</td>\n",
       "      <td>209</td>\n",
       "      <td>elder_group</td>\n",
       "    </tr>\n",
       "    <tr>\n",
       "      <th>2</th>\n",
       "      <td>960.635580</td>\n",
       "      <td>700.283468</td>\n",
       "      <td>15.124372</td>\n",
       "      <td>182.626888</td>\n",
       "      <td>community_2</td>\n",
       "      <td>Stroma cells</td>\n",
       "      <td>891</td>\n",
       "      <td>254</td>\n",
       "      <td>elder_group</td>\n",
       "    </tr>\n",
       "    <tr>\n",
       "      <th>3</th>\n",
       "      <td>702.033032</td>\n",
       "      <td>676.409695</td>\n",
       "      <td>14.221883</td>\n",
       "      <td>158.381917</td>\n",
       "      <td>community_3</td>\n",
       "      <td>Unclassified</td>\n",
       "      <td>891</td>\n",
       "      <td>156</td>\n",
       "      <td>elder_group</td>\n",
       "    </tr>\n",
       "    <tr>\n",
       "      <th>4</th>\n",
       "      <td>830.399371</td>\n",
       "      <td>863.269930</td>\n",
       "      <td>19.978977</td>\n",
       "      <td>159.071269</td>\n",
       "      <td>community_3</td>\n",
       "      <td>Unclassified</td>\n",
       "      <td>891</td>\n",
       "      <td>194</td>\n",
       "      <td>elder_group</td>\n",
       "    </tr>\n",
       "  </tbody>\n",
       "</table>\n",
       "</div>"
      ],
      "text/plain": [
       "   distance_to_vasculature  distance_to_largest_cell  immune_marker_1  \\\n",
       "0               988.509380                612.076506        10.803755   \n",
       "1               787.852379                637.787202        11.749179   \n",
       "2               960.635580                700.283468        15.124372   \n",
       "3               702.033032                676.409695        14.221883   \n",
       "4               830.399371                863.269930        19.978977   \n",
       "\n",
       "   immune_marker_2 cell_interaction     cell_type  case_id  area_of_cell  \\\n",
       "0       187.998971      community_1  Stroma cells      891           185   \n",
       "1       155.357076      community_1  Stroma cells      891           209   \n",
       "2       182.626888      community_2  Stroma cells      891           254   \n",
       "3       158.381917      community_3  Unclassified      891           156   \n",
       "4       159.071269      community_3  Unclassified      891           194   \n",
       "\n",
       "     age_group  \n",
       "0  elder_group  \n",
       "1  elder_group  \n",
       "2  elder_group  \n",
       "3  elder_group  \n",
       "4  elder_group  "
      ]
     },
     "execution_count": 51,
     "metadata": {},
     "output_type": "execute_result"
    }
   ],
   "source": [
    "community_dataset.head()"
   ]
  },
  {
   "cell_type": "markdown",
   "metadata": {},
   "source": [
    "# Задание 1"
   ]
  },
  {
   "cell_type": "markdown",
   "metadata": {},
   "source": [
    "#### Есть ли стат-значимость между типом клетки и:\n",
    "#### б) Экспрессией иммунных маркеров (immune_marker_1, immune_marker_2), добавьте hue по возрастным группам.\n",
    "#### в) Дистанцией до ближайших объектов (distance_to_vasculature, distance_to_largest_cell), добавьте hue по возрастным группам.\n",
    "#### В качестве ответов можно приводить box_plot/swarplot, где по одной оси будет тип клеток, а по другой — оцениваемая вами статистика. "
   ]
  },
  {
   "cell_type": "code",
   "execution_count": 1,
   "metadata": {},
   "outputs": [
    {
     "ename": "NameError",
     "evalue": "name 'community_dataset' is not defined",
     "output_type": "error",
     "traceback": [
      "\u001b[1;31m---------------------------------------------------------------------------\u001b[0m",
      "\u001b[1;31mNameError\u001b[0m                                 Traceback (most recent call last)",
      "\u001b[1;32m~\\AppData\\Local\\Temp/ipykernel_24348/1797204486.py\u001b[0m in \u001b[0;36m<module>\u001b[1;34m\u001b[0m\n\u001b[1;32m----> 1\u001b[1;33m \u001b[0mcommunity_dataset\u001b[0m\u001b[1;33m[\u001b[0m\u001b[1;33m[\u001b[0m\u001b[1;34m'cell_type'\u001b[0m\u001b[1;33m,\u001b[0m \u001b[1;34m'area_of_cell'\u001b[0m\u001b[1;33m]\u001b[0m\u001b[1;33m]\u001b[0m\u001b[1;33m\u001b[0m\u001b[1;33m\u001b[0m\u001b[0m\n\u001b[0m",
      "\u001b[1;31mNameError\u001b[0m: name 'community_dataset' is not defined"
     ]
    }
   ],
   "source": [
    "community_dataset[['cell_type', 'area_of_cell']]"
   ]
  },
  {
   "cell_type": "code",
   "execution_count": 53,
   "metadata": {},
   "outputs": [
    {
     "data": {
      "text/plain": [
       "array(['elder_group', 'young_group'], dtype=object)"
      ]
     },
     "execution_count": 53,
     "metadata": {},
     "output_type": "execute_result"
    }
   ],
   "source": [
    "order = community_dataset['age_group'].unique()\n",
    "order"
   ]
  },
  {
   "cell_type": "code",
   "execution_count": 54,
   "metadata": {},
   "outputs": [
    {
     "data": {
      "text/plain": [
       "[('elder_group', 'young_group')]"
      ]
     },
     "execution_count": 54,
     "metadata": {},
     "output_type": "execute_result"
    }
   ],
   "source": [
    "pairs = list(combinations(order, 2))\n",
    "pairs"
   ]
  },
  {
   "cell_type": "code",
   "execution_count": 55,
   "metadata": {},
   "outputs": [
    {
     "name": "stdout",
     "output_type": "stream",
     "text": [
      "p-value annotation legend:\n",
      "      ns: p <= 1.00e+00\n",
      "       *: 1.00e-02 < p <= 5.00e-02\n",
      "      **: 1.00e-03 < p <= 1.00e-02\n",
      "     ***: 1.00e-04 < p <= 1.00e-03\n",
      "    ****: p <= 1.00e-04\n",
      "\n",
      "elder_group vs. young_group: Mann-Whitney-Wilcoxon test two-sided, P_val:8.017e-01 U_stat=5.942e+05\n",
      "p-value annotation legend:\n",
      "      ns: p <= 1.00e+00\n",
      "       *: 1.00e-02 < p <= 5.00e-02\n",
      "      **: 1.00e-03 < p <= 1.00e-02\n",
      "     ***: 1.00e-04 < p <= 1.00e-03\n",
      "    ****: p <= 1.00e-04\n",
      "\n",
      "elder_group vs. young_group: Mann-Whitney-Wilcoxon test two-sided, P_val:3.789e-03 U_stat=4.619e+05\n",
      "p-value annotation legend:\n",
      "      ns: p <= 1.00e+00\n",
      "       *: 1.00e-02 < p <= 5.00e-02\n",
      "      **: 1.00e-03 < p <= 1.00e-02\n",
      "     ***: 1.00e-04 < p <= 1.00e-03\n",
      "    ****: p <= 1.00e-04\n",
      "\n",
      "elder_group vs. young_group: Mann-Whitney-Wilcoxon test two-sided, P_val:5.130e-04 U_stat=3.348e+06\n",
      "p-value annotation legend:\n",
      "      ns: p <= 1.00e+00\n",
      "       *: 1.00e-02 < p <= 5.00e-02\n",
      "      **: 1.00e-03 < p <= 1.00e-02\n",
      "     ***: 1.00e-04 < p <= 1.00e-03\n",
      "    ****: p <= 1.00e-04\n",
      "\n",
      "elder_group vs. young_group: Mann-Whitney-Wilcoxon test two-sided, P_val:3.074e-16 U_stat=3.510e+07\n",
      "p-value annotation legend:\n",
      "      ns: p <= 1.00e+00\n",
      "       *: 1.00e-02 < p <= 5.00e-02\n",
      "      **: 1.00e-03 < p <= 1.00e-02\n",
      "     ***: 1.00e-04 < p <= 1.00e-03\n",
      "    ****: p <= 1.00e-04\n",
      "\n",
      "elder_group vs. young_group: Mann-Whitney-Wilcoxon test two-sided, P_val:2.954e-73 U_stat=2.573e+05\n",
      "p-value annotation legend:\n",
      "      ns: p <= 1.00e+00\n",
      "       *: 1.00e-02 < p <= 5.00e-02\n",
      "      **: 1.00e-03 < p <= 1.00e-02\n",
      "     ***: 1.00e-04 < p <= 1.00e-03\n",
      "    ****: p <= 1.00e-04\n",
      "\n",
      "elder_group vs. young_group: Mann-Whitney-Wilcoxon test two-sided, P_val:1.673e-107 U_stat=2.715e+09\n",
      "p-value annotation legend:\n",
      "      ns: p <= 1.00e+00\n",
      "       *: 1.00e-02 < p <= 5.00e-02\n",
      "      **: 1.00e-03 < p <= 1.00e-02\n",
      "     ***: 1.00e-04 < p <= 1.00e-03\n",
      "    ****: p <= 1.00e-04\n",
      "\n",
      "elder_group vs. young_group: Mann-Whitney-Wilcoxon test two-sided, P_val:6.329e-13 U_stat=4.958e+08\n",
      "p-value annotation legend:\n",
      "      ns: p <= 1.00e+00\n",
      "       *: 1.00e-02 < p <= 5.00e-02\n",
      "      **: 1.00e-03 < p <= 1.00e-02\n",
      "     ***: 1.00e-04 < p <= 1.00e-03\n",
      "    ****: p <= 1.00e-04\n",
      "\n",
      "elder_group vs. young_group: Mann-Whitney-Wilcoxon test two-sided, P_val:7.190e-01 U_stat=2.479e+03\n"
     ]
    },
    {
     "data": {
      "image/png": "[encoded data removed]",
      "text/plain": [
       "<Figure size 1300x1500 with 8 Axes>"
      ]
     },
     "metadata": {},
     "output_type": "display_data"
    }
   ],
   "source": [
    "grouped = community_dataset.groupby(by='cell_type')[['area_of_cell', 'age_group']]\n",
    "\n",
    "n_groups = community_dataset['cell_type'].nunique()\n",
    "\n",
    "fig, ax = plt.subplots(nrows=4, ncols=2)\n",
    "fig.set_size_inches(13,15)\n",
    "plt.subplots_adjust(hspace=1)\n",
    "\n",
    "for index, (key, group) in enumerate(grouped):\n",
    "      sns.boxplot(x=group['age_group'], y=group['area_of_cell'], ax=ax[index//2, index%2], order=order)\n",
    "      ax[index//2, index%2].set_title(key, loc='center')\n",
    "      \n",
    "      annotator = Annotator(ax[index//2, index%2], \n",
    "                            pairs, \n",
    "                            data=group, \n",
    "                            x='age_group', \n",
    "                            y=\"area_of_cell\", \n",
    "                            order=order)\n",
    "      annotator.configure(test='Mann-Whitney', text_format='star', loc='inside')\n",
    "      annotator.apply_and_annotate()\n",
    "   "
   ]
  },
  {
   "cell_type": "markdown",
   "metadata": {},
   "source": [
    "во всех клетках кроме blood_cell и vascularize, \n",
    "\n",
    "площадь клетки (area_of_cell) у молодых и возврастных пациентов значимо отличается"
   ]
  },
  {
   "cell_type": "code",
   "execution_count": 56,
   "metadata": {},
   "outputs": [],
   "source": [
    "from statannotations.Annotator import Annotator\n",
    "from itertools import combinations"
   ]
  },
  {
   "cell_type": "code",
   "execution_count": 57,
   "metadata": {},
   "outputs": [],
   "source": [
    "order = community_dataset['age_group'].unique()"
   ]
  },
  {
   "cell_type": "markdown",
   "metadata": {},
   "source": [
    "Задача 2"
   ]
  },
  {
   "cell_type": "markdown",
   "metadata": {},
   "source": [
    "В каком клеточном микроокружении клеток какого типа статистически больше, чем в других микроокружениях? (колонка cell_interaction)."
   ]
  },
  {
   "cell_type": "code",
   "execution_count": null,
   "metadata": {},
   "outputs": [],
   "source": [
    "df_interaction = community_dataset[['cell_interaction', \n",
    "                   'case_id', \n",
    "                   'cell_type', 'area_of_cell']].groupby(by=['cell_interaction', \n",
    "                                         'case_id', \n",
    "                                         'cell_type']).count().reset_index().rename({'area_of_cell' : 'count'}, axis=1)\n",
    "                   \n",
    "df_interaction"
   ]
  },
  {
   "cell_type": "code",
   "execution_count": 63,
   "metadata": {},
   "outputs": [
    {
     "data": {
      "text/plain": [
       "array(['Blood cells', 'Bone cells', 'Immune type 1', 'Immune type 2',\n",
       "       'Largest cells', 'Stroma cells', 'Unclassified', 'Vasculature'],\n",
       "      dtype=object)"
      ]
     },
     "execution_count": 63,
     "metadata": {},
     "output_type": "execute_result"
    }
   ],
   "source": [
    "cell_types = df_interaction['cell_type'].unique()\n",
    "cell_types"
   ]
  },
  {
   "cell_type": "code",
   "execution_count": null,
   "metadata": {},
   "outputs": [],
   "source": [
    "blood_cells = df_interaction[df_interaction['cell_type'] == 'Blood cells']\n",
    "blood_cells"
   ]
  },
  {
   "cell_type": "code",
   "execution_count": 70,
   "metadata": {},
   "outputs": [
    {
     "data": {
      "text/plain": [
       "Text(0.5, 1.0, 'Blood cells')"
      ]
     },
     "execution_count": 70,
     "metadata": {},
     "output_type": "execute_result"
    },
    {
     "data": {
      "image/png": "[encoded data removed]",
      "text/plain": [
       "<Figure size 1000x700 with 1 Axes>"
      ]
     },
     "metadata": {},
     "output_type": "display_data"
    }
   ],
   "source": [
    "fig, ax = plt.subplots()\n",
    "fig.set_size_inches(10,7)\n",
    "\n",
    "sns.boxplot(x=blood_cells['cell_type'], y=blood_cells['count'], hue = blood_cells['cell_interaction']) \n",
    "ax.set_title('Blood cells', fontweight='bold')"
   ]
  },
  {
   "cell_type": "markdown",
   "metadata": {},
   "source": [
    "Сравниваем 2 и более группы\n",
    "https://docs.scipy.org/doc/scipy/reference/generated/scipy.stats.f_oneway.html"
   ]
  },
  {
   "cell_type": "code",
   "execution_count": 81,
   "metadata": {},
   "outputs": [
    {
     "data": {
      "text/plain": [
       "KruskalResult(statistic=13.595872269911977, pvalue=0.018390883472722126)"
      ]
     },
     "execution_count": 81,
     "metadata": {},
     "output_type": "execute_result"
    }
   ],
   "source": [
    "stats.kruskal(blood_cells[blood_cells['cell_interaction'] == 'community_1']['count'],\n",
    "              blood_cells[blood_cells['cell_interaction'] == 'community_2']['count'],\n",
    "              blood_cells[blood_cells['cell_interaction'] == 'community_3']['count'],\n",
    "              blood_cells[blood_cells['cell_interaction'] == 'community_4']['count'],\n",
    "              blood_cells[blood_cells['cell_interaction'] == 'community_5']['count'],\n",
    "              blood_cells[blood_cells['cell_interaction'] == 'community_6']['count']\n",
    "                )"
   ]
  },
  {
   "cell_type": "markdown",
   "metadata": {},
   "source": [
    "H0 - медианы всех групп одинаковые. p-val < 0.05, гипотезу отвергаем"
   ]
  },
  {
   "cell_type": "code",
   "execution_count": 78,
   "metadata": {},
   "outputs": [],
   "source": [
    "import scikit_posthocs as sp"
   ]
  },
  {
   "cell_type": "code",
   "execution_count": 79,
   "metadata": {},
   "outputs": [],
   "source": [
    "posthoc_dunn_test = sp.posthoc_dunn([blood_cells[blood_cells['cell_interaction'] == 'community_1']['count'],\n",
    "              blood_cells[blood_cells['cell_interaction'] == 'community_2']['count'],\n",
    "              blood_cells[blood_cells['cell_interaction'] == 'community_3']['count'],\n",
    "              blood_cells[blood_cells['cell_interaction'] == 'community_4']['count'],\n",
    "              blood_cells[blood_cells['cell_interaction'] == 'community_5']['count'],\n",
    "              blood_cells[blood_cells['cell_interaction'] == 'community_6']['count']])"
   ]
  },
  {
   "cell_type": "code",
   "execution_count": 82,
   "metadata": {},
   "outputs": [
    {
     "data": {
      "text/html": [
       "<div>\n",
       "<style scoped>\n",
       "    .dataframe tbody tr th:only-of-type {\n",
       "        vertical-align: middle;\n",
       "    }\n",
       "\n",
       "    .dataframe tbody tr th {\n",
       "        vertical-align: top;\n",
       "    }\n",
       "\n",
       "    .dataframe thead th {\n",
       "        text-align: right;\n",
       "    }\n",
       "</style>\n",
       "<table border=\"1\" class=\"dataframe\">\n",
       "  <thead>\n",
       "    <tr style=\"text-align: right;\">\n",
       "      <th></th>\n",
       "      <th>1</th>\n",
       "      <th>2</th>\n",
       "      <th>3</th>\n",
       "      <th>4</th>\n",
       "      <th>5</th>\n",
       "      <th>6</th>\n",
       "    </tr>\n",
       "  </thead>\n",
       "  <tbody>\n",
       "    <tr>\n",
       "      <th>1</th>\n",
       "      <td>True</td>\n",
       "      <td>True</td>\n",
       "      <td>False</td>\n",
       "      <td>True</td>\n",
       "      <td>True</td>\n",
       "      <td>False</td>\n",
       "    </tr>\n",
       "    <tr>\n",
       "      <th>2</th>\n",
       "      <td>True</td>\n",
       "      <td>True</td>\n",
       "      <td>False</td>\n",
       "      <td>True</td>\n",
       "      <td>True</td>\n",
       "      <td>True</td>\n",
       "    </tr>\n",
       "    <tr>\n",
       "      <th>3</th>\n",
       "      <td>False</td>\n",
       "      <td>False</td>\n",
       "      <td>True</td>\n",
       "      <td>False</td>\n",
       "      <td>False</td>\n",
       "      <td>True</td>\n",
       "    </tr>\n",
       "    <tr>\n",
       "      <th>4</th>\n",
       "      <td>True</td>\n",
       "      <td>True</td>\n",
       "      <td>False</td>\n",
       "      <td>True</td>\n",
       "      <td>True</td>\n",
       "      <td>True</td>\n",
       "    </tr>\n",
       "    <tr>\n",
       "      <th>5</th>\n",
       "      <td>True</td>\n",
       "      <td>True</td>\n",
       "      <td>False</td>\n",
       "      <td>True</td>\n",
       "      <td>True</td>\n",
       "      <td>True</td>\n",
       "    </tr>\n",
       "    <tr>\n",
       "      <th>6</th>\n",
       "      <td>False</td>\n",
       "      <td>True</td>\n",
       "      <td>True</td>\n",
       "      <td>True</td>\n",
       "      <td>True</td>\n",
       "      <td>True</td>\n",
       "    </tr>\n",
       "  </tbody>\n",
       "</table>\n",
       "</div>"
      ],
      "text/plain": [
       "       1      2      3      4      5      6\n",
       "1   True   True  False   True   True  False\n",
       "2   True   True  False   True   True   True\n",
       "3  False  False   True  False  False   True\n",
       "4   True   True  False   True   True   True\n",
       "5   True   True  False   True   True   True\n",
       "6  False   True   True   True   True   True"
      ]
     },
     "execution_count": 82,
     "metadata": {},
     "output_type": "execute_result"
    }
   ],
   "source": [
    "posthoc_dunn_test >= 0.05"
   ]
  },
  {
   "cell_type": "code",
   "execution_count": 83,
   "metadata": {},
   "outputs": [
    {
     "data": {
      "text/plain": [
       "MannwhitneyuResult(statistic=38.0, pvalue=0.2816183135715713)"
      ]
     },
     "execution_count": 83,
     "metadata": {},
     "output_type": "execute_result"
    }
   ],
   "source": [
    "stats.mannwhitneyu(x=blood_cells[blood_cells['cell_interaction'] == 'community_1']['count'],\n",
    "                   y=blood_cells[blood_cells['cell_interaction'] == 'community_4']['count'],\n",
    "                   alternative='greater')"
   ]
  },
  {
   "cell_type": "code",
   "execution_count": 84,
   "metadata": {},
   "outputs": [
    {
     "data": {
      "text/plain": [
       "MannwhitneyuResult(statistic=39.0, pvalue=0.25268065268065265)"
      ]
     },
     "execution_count": 84,
     "metadata": {},
     "output_type": "execute_result"
    }
   ],
   "source": [
    "stats.mannwhitneyu(x=blood_cells[blood_cells['cell_interaction'] == 'community_1']['count'],\n",
    "                   y=blood_cells[blood_cells['cell_interaction'] == 'community_2']['count'],\n",
    "                   alternative='greater')"
   ]
  },
  {
   "cell_type": "code",
   "execution_count": 85,
   "metadata": {},
   "outputs": [
    {
     "data": {
      "text/plain": [
       "MannwhitneyuResult(statistic=42.0, pvalue=0.1590344834252767)"
      ]
     },
     "execution_count": 85,
     "metadata": {},
     "output_type": "execute_result"
    }
   ],
   "source": [
    "stats.mannwhitneyu(x=blood_cells[blood_cells['cell_interaction'] == 'community_1']['count'],\n",
    "                   y=blood_cells[blood_cells['cell_interaction'] == 'community_5']['count'],\n",
    "                   alternative='greater')"
   ]
  },
  {
   "cell_type": "markdown",
   "metadata": {},
   "source": [
    "В community_1 больше blood_cells, чем во всех других окружениях"
   ]
  },
  {
   "cell_type": "markdown",
   "metadata": {},
   "source": [
    "Задача 3"
   ]
  },
  {
   "cell_type": "code",
   "execution_count": null,
   "metadata": {},
   "outputs": [],
   "source": [
    "count_of_cells = community_dataset[['case_id', 'area_of_cell']].groupby(by=['case_id']).count().reset_index().rename({'area_of_cell':'total'},axis=1)\n",
    "count_of_cells"
   ]
  },
  {
   "cell_type": "code",
   "execution_count": 92,
   "metadata": {},
   "outputs": [
    {
     "data": {
      "text/html": [
       "<div>\n",
       "<style scoped>\n",
       "    .dataframe tbody tr th:only-of-type {\n",
       "        vertical-align: middle;\n",
       "    }\n",
       "\n",
       "    .dataframe tbody tr th {\n",
       "        vertical-align: top;\n",
       "    }\n",
       "\n",
       "    .dataframe thead th {\n",
       "        text-align: right;\n",
       "    }\n",
       "</style>\n",
       "<table border=\"1\" class=\"dataframe\">\n",
       "  <thead>\n",
       "    <tr style=\"text-align: right;\">\n",
       "      <th></th>\n",
       "      <th>distance_to_vasculature</th>\n",
       "      <th>distance_to_largest_cell</th>\n",
       "      <th>immune_marker_1</th>\n",
       "      <th>immune_marker_2</th>\n",
       "      <th>cell_interaction</th>\n",
       "      <th>cell_type</th>\n",
       "      <th>case_id</th>\n",
       "      <th>area_of_cell</th>\n",
       "      <th>age_group</th>\n",
       "      <th>total</th>\n",
       "    </tr>\n",
       "  </thead>\n",
       "  <tbody>\n",
       "    <tr>\n",
       "      <th>0</th>\n",
       "      <td>988.509380</td>\n",
       "      <td>612.076506</td>\n",
       "      <td>10.803755</td>\n",
       "      <td>187.998971</td>\n",
       "      <td>community_1</td>\n",
       "      <td>Stroma cells</td>\n",
       "      <td>891</td>\n",
       "      <td>185</td>\n",
       "      <td>elder_group</td>\n",
       "      <td>8825</td>\n",
       "    </tr>\n",
       "    <tr>\n",
       "      <th>1</th>\n",
       "      <td>787.852379</td>\n",
       "      <td>637.787202</td>\n",
       "      <td>11.749179</td>\n",
       "      <td>155.357076</td>\n",
       "      <td>community_1</td>\n",
       "      <td>Stroma cells</td>\n",
       "      <td>891</td>\n",
       "      <td>209</td>\n",
       "      <td>elder_group</td>\n",
       "      <td>8825</td>\n",
       "    </tr>\n",
       "    <tr>\n",
       "      <th>2</th>\n",
       "      <td>960.635580</td>\n",
       "      <td>700.283468</td>\n",
       "      <td>15.124372</td>\n",
       "      <td>182.626888</td>\n",
       "      <td>community_2</td>\n",
       "      <td>Stroma cells</td>\n",
       "      <td>891</td>\n",
       "      <td>254</td>\n",
       "      <td>elder_group</td>\n",
       "      <td>8825</td>\n",
       "    </tr>\n",
       "    <tr>\n",
       "      <th>3</th>\n",
       "      <td>702.033032</td>\n",
       "      <td>676.409695</td>\n",
       "      <td>14.221883</td>\n",
       "      <td>158.381917</td>\n",
       "      <td>community_3</td>\n",
       "      <td>Unclassified</td>\n",
       "      <td>891</td>\n",
       "      <td>156</td>\n",
       "      <td>elder_group</td>\n",
       "      <td>8825</td>\n",
       "    </tr>\n",
       "    <tr>\n",
       "      <th>4</th>\n",
       "      <td>830.399371</td>\n",
       "      <td>863.269930</td>\n",
       "      <td>19.978977</td>\n",
       "      <td>159.071269</td>\n",
       "      <td>community_3</td>\n",
       "      <td>Unclassified</td>\n",
       "      <td>891</td>\n",
       "      <td>194</td>\n",
       "      <td>elder_group</td>\n",
       "      <td>8825</td>\n",
       "    </tr>\n",
       "    <tr>\n",
       "      <th>...</th>\n",
       "      <td>...</td>\n",
       "      <td>...</td>\n",
       "      <td>...</td>\n",
       "      <td>...</td>\n",
       "      <td>...</td>\n",
       "      <td>...</td>\n",
       "      <td>...</td>\n",
       "      <td>...</td>\n",
       "      <td>...</td>\n",
       "      <td>...</td>\n",
       "    </tr>\n",
       "    <tr>\n",
       "      <th>269437</th>\n",
       "      <td>928.977004</td>\n",
       "      <td>720.993469</td>\n",
       "      <td>9.667603</td>\n",
       "      <td>29.866927</td>\n",
       "      <td>community_6</td>\n",
       "      <td>Stroma cells</td>\n",
       "      <td>983</td>\n",
       "      <td>258</td>\n",
       "      <td>young_group</td>\n",
       "      <td>51116</td>\n",
       "    </tr>\n",
       "    <tr>\n",
       "      <th>269438</th>\n",
       "      <td>651.888363</td>\n",
       "      <td>1040.658354</td>\n",
       "      <td>20.298864</td>\n",
       "      <td>40.847738</td>\n",
       "      <td>community_2</td>\n",
       "      <td>Immune type 1</td>\n",
       "      <td>983</td>\n",
       "      <td>160</td>\n",
       "      <td>young_group</td>\n",
       "      <td>51116</td>\n",
       "    </tr>\n",
       "    <tr>\n",
       "      <th>269439</th>\n",
       "      <td>754.601247</td>\n",
       "      <td>688.651619</td>\n",
       "      <td>10.351852</td>\n",
       "      <td>22.967870</td>\n",
       "      <td>community_3</td>\n",
       "      <td>Unclassified</td>\n",
       "      <td>983</td>\n",
       "      <td>190</td>\n",
       "      <td>young_group</td>\n",
       "      <td>51116</td>\n",
       "    </tr>\n",
       "    <tr>\n",
       "      <th>269440</th>\n",
       "      <td>901.768538</td>\n",
       "      <td>700.092692</td>\n",
       "      <td>11.459289</td>\n",
       "      <td>57.536165</td>\n",
       "      <td>community_4</td>\n",
       "      <td>Stroma cells</td>\n",
       "      <td>983</td>\n",
       "      <td>535</td>\n",
       "      <td>young_group</td>\n",
       "      <td>51116</td>\n",
       "    </tr>\n",
       "    <tr>\n",
       "      <th>269441</th>\n",
       "      <td>1118.234561</td>\n",
       "      <td>901.529372</td>\n",
       "      <td>19.106614</td>\n",
       "      <td>60.225577</td>\n",
       "      <td>community_4</td>\n",
       "      <td>Stroma cells</td>\n",
       "      <td>983</td>\n",
       "      <td>297</td>\n",
       "      <td>young_group</td>\n",
       "      <td>51116</td>\n",
       "    </tr>\n",
       "  </tbody>\n",
       "</table>\n",
       "<p>269442 rows × 10 columns</p>\n",
       "</div>"
      ],
      "text/plain": [
       "        distance_to_vasculature  distance_to_largest_cell  immune_marker_1  \\\n",
       "0                    988.509380                612.076506        10.803755   \n",
       "1                    787.852379                637.787202        11.749179   \n",
       "2                    960.635580                700.283468        15.124372   \n",
       "3                    702.033032                676.409695        14.221883   \n",
       "4                    830.399371                863.269930        19.978977   \n",
       "...                         ...                       ...              ...   \n",
       "269437               928.977004                720.993469         9.667603   \n",
       "269438               651.888363               1040.658354        20.298864   \n",
       "269439               754.601247                688.651619        10.351852   \n",
       "269440               901.768538                700.092692        11.459289   \n",
       "269441              1118.234561                901.529372        19.106614   \n",
       "\n",
       "        immune_marker_2 cell_interaction      cell_type  case_id  \\\n",
       "0            187.998971      community_1   Stroma cells      891   \n",
       "1            155.357076      community_1   Stroma cells      891   \n",
       "2            182.626888      community_2   Stroma cells      891   \n",
       "3            158.381917      community_3   Unclassified      891   \n",
       "4            159.071269      community_3   Unclassified      891   \n",
       "...                 ...              ...            ...      ...   \n",
       "269437        29.866927      community_6   Stroma cells      983   \n",
       "269438        40.847738      community_2  Immune type 1      983   \n",
       "269439        22.967870      community_3   Unclassified      983   \n",
       "269440        57.536165      community_4   Stroma cells      983   \n",
       "269441        60.225577      community_4   Stroma cells      983   \n",
       "\n",
       "        area_of_cell    age_group  total  \n",
       "0                185  elder_group   8825  \n",
       "1                209  elder_group   8825  \n",
       "2                254  elder_group   8825  \n",
       "3                156  elder_group   8825  \n",
       "4                194  elder_group   8825  \n",
       "...              ...          ...    ...  \n",
       "269437           258  young_group  51116  \n",
       "269438           160  young_group  51116  \n",
       "269439           190  young_group  51116  \n",
       "269440           535  young_group  51116  \n",
       "269441           297  young_group  51116  \n",
       "\n",
       "[269442 rows x 10 columns]"
      ]
     },
     "execution_count": 92,
     "metadata": {},
     "output_type": "execute_result"
    }
   ],
   "source": [
    "community_dataset.join(count_of_cells.set_index('case_id'), on='case_id')"
   ]
  },
  {
   "cell_type": "code",
   "execution_count": null,
   "metadata": {},
   "outputs": [],
   "source": [
    "cells_by_interaction = community_dataset[['case_id', \n",
    "                                          'area_of_cell', \n",
    "                                          'cell_interaction']].groupby(by=['case_id', \n",
    "                                                                           'cell_interaction']).count().reset_index().rename({'area_of_cell':'total_by_interaction'},axis=1)\n",
    "cells_by_interaction"
   ]
  },
  {
   "cell_type": "code",
   "execution_count": null,
   "metadata": {},
   "outputs": [],
   "source": [
    "community_dataset.join(count_of_cells.set_index('case_id'), on='case_id')"
   ]
  }
 ],
 "metadata": {
  "kernelspec": {
   "display_name": "Python 3 (ipykernel)",
   "language": "python",
   "name": "python3"
  },
  "language_info": {
   "codemirror_mode": {
    "name": "ipython",
    "version": 3
   },
   "file_extension": ".py",
   "mimetype": "text/x-python",
   "name": "python",
   "nbconvert_exporter": "python",
   "pygments_lexer": "ipython3",
   "version": "3.9.7"
  },
  "vscode": {
   "interpreter": {
    "hash": "8be91b611dbf82fc7c2195f7ad87c066fa09caee77a40ad7d16104ae6fa91d17"
   }
  }
 },
 "nbformat": 4,
 "nbformat_minor": 2
}
