{
 "cells": [
  {
   "cell_type": "code",
   "execution_count": 1,
   "id": "daaee322",
   "metadata": {},
   "outputs": [
    {
     "name": "stdout",
     "output_type": "stream",
     "text": [
      "Requirement already satisfied: notebook in c:\\users\\vikod\\anaconda3\\lib\\site-packages (6.4.5)\n",
      "Collecting notebook\n",
      "  Downloading notebook-6.5.2-py3-none-any.whl (439 kB)\n",
      "Requirement already satisfied: jupyter-client>=5.3.4 in c:\\users\\vikod\\anaconda3\\lib\\site-packages (from notebook) (6.1.12)\n",
      "Requirement already satisfied: jupyter-core>=4.6.1 in c:\\users\\vikod\\anaconda3\\lib\\site-packages (from notebook) (4.8.1)\n",
      "Requirement already satisfied: ipykernel in c:\\users\\vikod\\anaconda3\\lib\\site-packages (from notebook) (6.4.1)\n",
      "Requirement already satisfied: jinja2 in c:\\users\\vikod\\anaconda3\\lib\\site-packages (from notebook) (2.11.3)\n",
      "Requirement already satisfied: terminado>=0.8.3 in c:\\users\\vikod\\anaconda3\\lib\\site-packages (from notebook) (0.9.4)\n",
      "Requirement already satisfied: pyzmq>=17 in c:\\users\\vikod\\anaconda3\\lib\\site-packages (from notebook) (22.2.1)\n",
      "Collecting nbclassic>=0.4.7\n",
      "  Downloading nbclassic-0.4.8-py3-none-any.whl (9.8 MB)\n",
      "Requirement already satisfied: nest-asyncio>=1.5 in c:\\users\\vikod\\anaconda3\\lib\\site-packages (from notebook) (1.5.1)\n",
      "Requirement already satisfied: nbconvert>=5 in c:\\users\\vikod\\anaconda3\\lib\\site-packages (from notebook) (6.1.0)\n",
      "Requirement already satisfied: argon2-cffi in c:\\users\\vikod\\anaconda3\\lib\\site-packages (from notebook) (20.1.0)\n",
      "Requirement already satisfied: ipython-genutils in c:\\users\\vikod\\anaconda3\\lib\\site-packages (from notebook) (0.2.0)\n",
      "Requirement already satisfied: Send2Trash>=1.8.0 in c:\\users\\vikod\\anaconda3\\lib\\site-packages (from notebook) (1.8.0)\n",
      "Requirement already satisfied: traitlets>=4.2.1 in c:\\users\\vikod\\anaconda3\\lib\\site-packages (from notebook) (5.1.0)\n",
      "Requirement already satisfied: prometheus-client in c:\\users\\vikod\\anaconda3\\lib\\site-packages (from notebook) (0.11.0)\n",
      "Requirement already satisfied: nbformat in c:\\users\\vikod\\anaconda3\\lib\\site-packages (from notebook) (5.1.3)\n",
      "Requirement already satisfied: tornado>=6.1 in c:\\users\\vikod\\anaconda3\\lib\\site-packages (from notebook) (6.1)\n",
      "Requirement already satisfied: python-dateutil>=2.1 in c:\\users\\vikod\\anaconda3\\lib\\site-packages (from jupyter-client>=5.3.4->notebook) (2.8.2)\n",
      "Requirement already satisfied: pywin32>=1.0 in c:\\users\\vikod\\anaconda3\\lib\\site-packages (from jupyter-core>=4.6.1->notebook) (228)\n",
      "Collecting jupyter-server>=1.8\n",
      "  Downloading jupyter_server-2.0.6-py3-none-any.whl (363 kB)\n",
      "Collecting notebook-shim>=0.1.0\n",
      "  Downloading notebook_shim-0.2.2-py3-none-any.whl (13 kB)\n",
      "Collecting websocket-client\n",
      "  Downloading websocket_client-1.4.2-py3-none-any.whl (55 kB)\n",
      "Collecting jupyter-server-terminals\n",
      "  Downloading jupyter_server_terminals-0.4.4-py3-none-any.whl (13 kB)\n",
      "Collecting jupyter-core>=4.6.1\n",
      "  Downloading jupyter_core-5.1.3-py3-none-any.whl (93 kB)\n",
      "Collecting jupyter-events>=0.4.0\n",
      "  Downloading jupyter_events-0.6.0-py3-none-any.whl (18 kB)\n",
      "Collecting anyio<4,>=3.1.0\n",
      "  Downloading anyio-3.6.2-py3-none-any.whl (80 kB)\n",
      "Requirement already satisfied: packaging in c:\\users\\vikod\\anaconda3\\lib\\site-packages (from jupyter-server>=1.8->nbclassic>=0.4.7->notebook) (21.0)\n",
      "Collecting traitlets>=4.2.1\n",
      "  Downloading traitlets-5.8.1-py3-none-any.whl (116 kB)\n",
      "Collecting nbformat\n",
      "  Downloading nbformat-5.7.1-py3-none-any.whl (77 kB)\n",
      "Collecting tornado>=6.1\n",
      "  Downloading tornado-6.2-cp37-abi3-win_amd64.whl (425 kB)\n",
      "Collecting nbconvert>=5\n",
      "  Downloading nbconvert-7.2.7-py3-none-any.whl (273 kB)\n",
      "Collecting pyzmq>=17\n",
      "  Downloading pyzmq-24.0.1-cp39-cp39-win_amd64.whl (999 kB)\n",
      "Requirement already satisfied: pywinpty in c:\\users\\vikod\\anaconda3\\lib\\site-packages (from jupyter-server>=1.8->nbclassic>=0.4.7->notebook) (0.5.7)\n",
      "Collecting jupyter-client>=5.3.4\n",
      "  Downloading jupyter_client-7.4.8-py3-none-any.whl (133 kB)\n",
      "Requirement already satisfied: sniffio>=1.1 in c:\\users\\vikod\\anaconda3\\lib\\site-packages (from anyio<4,>=3.1.0->jupyter-server>=1.8->nbclassic>=0.4.7->notebook) (1.2.0)\n",
      "Requirement already satisfied: idna>=2.8 in c:\\users\\vikod\\anaconda3\\lib\\site-packages (from anyio<4,>=3.1.0->jupyter-server>=1.8->nbclassic>=0.4.7->notebook) (3.2)\n",
      "Requirement already satisfied: entrypoints in c:\\users\\vikod\\anaconda3\\lib\\site-packages (from jupyter-client>=5.3.4->notebook) (0.3)\n",
      "Collecting nest-asyncio>=1.5\n",
      "  Downloading nest_asyncio-1.5.6-py3-none-any.whl (5.2 kB)\n",
      "Collecting platformdirs>=2.5\n",
      "  Downloading platformdirs-2.6.2-py3-none-any.whl (14 kB)\n",
      "Collecting jsonschema[format-nongpl]>=4.3.0\n",
      "  Downloading jsonschema-4.17.3-py3-none-any.whl (90 kB)\n",
      "Collecting python-json-logger>=2.0.4\n",
      "  Downloading python_json_logger-2.0.4-py3-none-any.whl (7.8 kB)\n",
      "Requirement already satisfied: pyyaml>=6.0 in c:\\users\\vikod\\anaconda3\\lib\\site-packages (from jupyter-events>=0.4.0->jupyter-server>=1.8->nbclassic>=0.4.7->notebook) (6.0)\n",
      "Requirement already satisfied: attrs>=17.4.0 in c:\\users\\vikod\\anaconda3\\lib\\site-packages (from jsonschema[format-nongpl]>=4.3.0->jupyter-events>=0.4.0->jupyter-server>=1.8->nbclassic>=0.4.7->notebook) (21.2.0)\n",
      "Requirement already satisfied: pyrsistent!=0.17.0,!=0.17.1,!=0.17.2,>=0.14.0 in c:\\users\\vikod\\anaconda3\\lib\\site-packages (from jsonschema[format-nongpl]>=4.3.0->jupyter-events>=0.4.0->jupyter-server>=1.8->nbclassic>=0.4.7->notebook) (0.18.0)\n",
      "Collecting fqdn\n",
      "  Downloading fqdn-1.5.1-py3-none-any.whl (9.1 kB)\n",
      "Collecting isoduration\n",
      "  Downloading isoduration-20.11.0-py3-none-any.whl (11 kB)\n",
      "Collecting rfc3986-validator>0.1.0\n",
      "  Downloading rfc3986_validator-0.1.1-py2.py3-none-any.whl (4.2 kB)\n",
      "Collecting webcolors>=1.11\n",
      "  Downloading webcolors-1.12-py3-none-any.whl (9.9 kB)\n",
      "Collecting jsonpointer>1.13\n",
      "  Downloading jsonpointer-2.3-py2.py3-none-any.whl (7.8 kB)\n",
      "Collecting uri-template\n",
      "  Downloading uri_template-1.2.0-py3-none-any.whl (10 kB)\n",
      "Collecting rfc3339-validator\n",
      "  Downloading rfc3339_validator-0.1.4-py2.py3-none-any.whl (3.5 kB)\n",
      "Requirement already satisfied: defusedxml in c:\\users\\vikod\\anaconda3\\lib\\site-packages (from nbconvert>=5->notebook) (0.7.1)\n",
      "Requirement already satisfied: pandocfilters>=1.4.1 in c:\\users\\vikod\\anaconda3\\lib\\site-packages (from nbconvert>=5->notebook) (1.4.3)\n",
      "Requirement already satisfied: bleach in c:\\users\\vikod\\anaconda3\\lib\\site-packages (from nbconvert>=5->notebook) (4.0.0)\n",
      "Collecting markupsafe>=2.0\n",
      "  Downloading MarkupSafe-2.1.1-cp39-cp39-win_amd64.whl (17 kB)\n",
      "Requirement already satisfied: jupyterlab-pygments in c:\\users\\vikod\\anaconda3\\lib\\site-packages (from nbconvert>=5->notebook) (0.1.2)\n",
      "Collecting tinycss2\n",
      "  Downloading tinycss2-1.2.1-py3-none-any.whl (21 kB)\n",
      "Requirement already satisfied: importlib-metadata>=3.6 in c:\\users\\vikod\\anaconda3\\lib\\site-packages (from nbconvert>=5->notebook) (4.8.1)\n",
      "Requirement already satisfied: beautifulsoup4 in c:\\users\\vikod\\anaconda3\\lib\\site-packages (from nbconvert>=5->notebook) (4.10.0)\n",
      "Collecting mistune<3,>=2.0.3\n",
      "  Downloading mistune-2.0.4-py2.py3-none-any.whl (24 kB)\n",
      "Requirement already satisfied: nbclient>=0.5.0 in c:\\users\\vikod\\anaconda3\\lib\\site-packages (from nbconvert>=5->notebook) (0.5.3)\n",
      "Requirement already satisfied: pygments>=2.4.1 in c:\\users\\vikod\\anaconda3\\lib\\site-packages (from nbconvert>=5->notebook) (2.10.0)\n",
      "Collecting jinja2\n",
      "  Downloading Jinja2-3.1.2-py3-none-any.whl (133 kB)\n",
      "Requirement already satisfied: zipp>=0.5 in c:\\users\\vikod\\anaconda3\\lib\\site-packages (from importlib-metadata>=3.6->nbconvert>=5->notebook) (3.6.0)\n",
      "Requirement already satisfied: async-generator in c:\\users\\vikod\\anaconda3\\lib\\site-packages (from nbclient>=0.5.0->nbconvert>=5->notebook) (1.10)\n",
      "Collecting fastjsonschema\n",
      "  Downloading fastjsonschema-2.16.2-py3-none-any.whl (22 kB)\n",
      "Requirement already satisfied: six>=1.5 in c:\\users\\vikod\\anaconda3\\lib\\site-packages (from python-dateutil>=2.1->jupyter-client>=5.3.4->notebook) (1.16.0)\n",
      "Requirement already satisfied: cffi>=1.0.0 in c:\\users\\vikod\\anaconda3\\lib\\site-packages (from argon2-cffi->notebook) (1.14.6)\n",
      "Requirement already satisfied: pycparser in c:\\users\\vikod\\anaconda3\\lib\\site-packages (from cffi>=1.0.0->argon2-cffi->notebook) (2.20)\n",
      "Requirement already satisfied: soupsieve>1.2 in c:\\users\\vikod\\anaconda3\\lib\\site-packages (from beautifulsoup4->nbconvert>=5->notebook) (2.2.1)\n",
      "Requirement already satisfied: webencodings in c:\\users\\vikod\\anaconda3\\lib\\site-packages (from bleach->nbconvert>=5->notebook) (0.5.1)\n",
      "Requirement already satisfied: debugpy<2.0,>=1.0.0 in c:\\users\\vikod\\anaconda3\\lib\\site-packages (from ipykernel->notebook) (1.4.1)\n",
      "Requirement already satisfied: matplotlib-inline<0.2.0,>=0.1.0 in c:\\users\\vikod\\anaconda3\\lib\\site-packages (from ipykernel->notebook) (0.1.2)\n",
      "Requirement already satisfied: ipython<8.0,>=7.23.1 in c:\\users\\vikod\\anaconda3\\lib\\site-packages (from ipykernel->notebook) (7.29.0)\n",
      "Requirement already satisfied: jedi>=0.16 in c:\\users\\vikod\\anaconda3\\lib\\site-packages (from ipython<8.0,>=7.23.1->ipykernel->notebook) (0.18.0)\n",
      "Requirement already satisfied: backcall in c:\\users\\vikod\\anaconda3\\lib\\site-packages (from ipython<8.0,>=7.23.1->ipykernel->notebook) (0.2.0)\n",
      "Requirement already satisfied: decorator in c:\\users\\vikod\\anaconda3\\lib\\site-packages (from ipython<8.0,>=7.23.1->ipykernel->notebook) (5.1.0)\n",
      "Requirement already satisfied: prompt-toolkit!=3.0.0,!=3.0.1,<3.1.0,>=2.0.0 in c:\\users\\vikod\\anaconda3\\lib\\site-packages (from ipython<8.0,>=7.23.1->ipykernel->notebook) (3.0.20)\n",
      "Requirement already satisfied: setuptools>=18.5 in c:\\users\\vikod\\anaconda3\\lib\\site-packages (from ipython<8.0,>=7.23.1->ipykernel->notebook) (58.0.4)\n",
      "Requirement already satisfied: colorama in c:\\users\\vikod\\anaconda3\\lib\\site-packages (from ipython<8.0,>=7.23.1->ipykernel->notebook) (0.4.4)\n",
      "Requirement already satisfied: pickleshare in c:\\users\\vikod\\anaconda3\\lib\\site-packages (from ipython<8.0,>=7.23.1->ipykernel->notebook) (0.7.5)\n",
      "Requirement already satisfied: parso<0.9.0,>=0.8.0 in c:\\users\\vikod\\anaconda3\\lib\\site-packages (from jedi>=0.16->ipython<8.0,>=7.23.1->ipykernel->notebook) (0.8.2)\n",
      "Requirement already satisfied: wcwidth in c:\\users\\vikod\\anaconda3\\lib\\site-packages (from prompt-toolkit!=3.0.0,!=3.0.1,<3.1.0,>=2.0.0->ipython<8.0,>=7.23.1->ipykernel->notebook) (0.2.5)\n",
      "Collecting arrow>=0.15.0\n",
      "  Downloading arrow-1.2.3-py3-none-any.whl (66 kB)\n",
      "Collecting pywinpty\n",
      "  Downloading pywinpty-2.0.10-cp39-none-win_amd64.whl (1.4 MB)\n",
      "Requirement already satisfied: pyparsing>=2.0.2 in c:\\users\\vikod\\anaconda3\\lib\\site-packages (from packaging->jupyter-server>=1.8->nbclassic>=0.4.7->notebook) (3.0.4)\n",
      "Installing collected packages: traitlets, platformdirs, tornado, pyzmq, nest-asyncio, jupyter-core, jsonschema, fastjsonschema, arrow, webcolors, uri-template, rfc3986-validator, rfc3339-validator, pywinpty, nbformat, markupsafe, jupyter-client, jsonpointer, isoduration, fqdn, tinycss2, python-json-logger, mistune, jinja2, websocket-client, nbconvert, jupyter-server-terminals, jupyter-events, anyio, jupyter-server, notebook-shim, nbclassic, notebook\n",
      "  Attempting uninstall: traitlets\n",
      "    Found existing installation: traitlets 5.1.0\n",
      "    Uninstalling traitlets-5.1.0:\n",
      "      Successfully uninstalled traitlets-5.1.0\n",
      "  Attempting uninstall: tornado\n",
      "    Found existing installation: tornado 6.1\n",
      "    Uninstalling tornado-6.1:\n",
      "      Successfully uninstalled tornado-6.1\n",
      "  Attempting uninstall: pyzmq\n",
      "    Found existing installation: pyzmq 22.2.1\n",
      "    Uninstalling pyzmq-22.2.1:\n",
      "      Successfully uninstalled pyzmq-22.2.1\n",
      "  Attempting uninstall: nest-asyncio\n",
      "    Found existing installation: nest-asyncio 1.5.1\n",
      "    Uninstalling nest-asyncio-1.5.1:\n",
      "      Successfully uninstalled nest-asyncio-1.5.1\n",
      "  Attempting uninstall: jupyter-core\n",
      "    Found existing installation: jupyter-core 4.8.1\n",
      "    Uninstalling jupyter-core-4.8.1:\n",
      "      Successfully uninstalled jupyter-core-4.8.1\n",
      "  Attempting uninstall: jsonschema\n",
      "    Found existing installation: jsonschema 3.2.0\n",
      "    Uninstalling jsonschema-3.2.0:\n",
      "      Successfully uninstalled jsonschema-3.2.0\n",
      "  Attempting uninstall: arrow\n",
      "    Found existing installation: arrow 0.13.1\n",
      "    Uninstalling arrow-0.13.1:\n",
      "      Successfully uninstalled arrow-0.13.1\n",
      "  Attempting uninstall: pywinpty\n",
      "    Found existing installation: pywinpty 0.5.7\n",
      "    Uninstalling pywinpty-0.5.7:\n",
      "      Successfully uninstalled pywinpty-0.5.7\n",
      "  Attempting uninstall: nbformat\n",
      "    Found existing installation: nbformat 5.1.3\n",
      "    Uninstalling nbformat-5.1.3:\n",
      "      Successfully uninstalled nbformat-5.1.3\n",
      "  Attempting uninstall: markupsafe\n",
      "    Found existing installation: MarkupSafe 1.1.1\n",
      "    Uninstalling MarkupSafe-1.1.1:\n",
      "      Successfully uninstalled MarkupSafe-1.1.1\n",
      "  Attempting uninstall: jupyter-client\n",
      "    Found existing installation: jupyter-client 6.1.12\n",
      "    Uninstalling jupyter-client-6.1.12:\n",
      "      Successfully uninstalled jupyter-client-6.1.12\n",
      "  Attempting uninstall: mistune\n",
      "    Found existing installation: mistune 0.8.4\n",
      "    Uninstalling mistune-0.8.4:\n",
      "      Successfully uninstalled mistune-0.8.4\n",
      "  Attempting uninstall: jinja2\n",
      "    Found existing installation: Jinja2 2.11.3\n",
      "    Uninstalling Jinja2-2.11.3:\n",
      "      Successfully uninstalled Jinja2-2.11.3\n",
      "  Attempting uninstall: nbconvert\n",
      "    Found existing installation: nbconvert 6.1.0\n",
      "    Uninstalling nbconvert-6.1.0:\n",
      "      Successfully uninstalled nbconvert-6.1.0\n",
      "  Attempting uninstall: anyio\n",
      "    Found existing installation: anyio 2.2.0\n",
      "    Uninstalling anyio-2.2.0:\n",
      "      Successfully uninstalled anyio-2.2.0\n",
      "  Attempting uninstall: jupyter-server\n",
      "    Found existing installation: jupyter-server 1.4.1\n",
      "    Uninstalling jupyter-server-1.4.1:\n",
      "      Successfully uninstalled jupyter-server-1.4.1\n",
      "  Attempting uninstall: nbclassic\n",
      "    Found existing installation: nbclassic 0.2.6\n",
      "    Uninstalling nbclassic-0.2.6:\n",
      "      Successfully uninstalled nbclassic-0.2.6\n",
      "  Attempting uninstall: notebook\n",
      "    Found existing installation: notebook 6.4.5\n",
      "    Uninstalling notebook-6.4.5:\n",
      "      Successfully uninstalled notebook-6.4.5\n",
      "Successfully installed anyio-3.6.2 arrow-1.2.3 fastjsonschema-2.16.2 fqdn-1.5.1 isoduration-20.11.0 jinja2-3.1.2 jsonpointer-2.3 jsonschema-4.17.3 jupyter-client-7.4.8 jupyter-core-5.1.3 jupyter-events-0.6.0 jupyter-server-2.0.6 jupyter-server-terminals-0.4.4 markupsafe-2.1.1 mistune-2.0.4 nbclassic-0.4.8 nbconvert-7.2.7 nbformat-5.7.1 nest-asyncio-1.5.6 notebook-6.5.2 notebook-shim-0.2.2 platformdirs-2.6.2 python-json-logger-2.0.4 pywinpty-2.0.10 pyzmq-24.0.1 rfc3339-validator-0.1.4 rfc3986-validator-0.1.1 tinycss2-1.2.1 tornado-6.2 traitlets-5.8.1 uri-template-1.2.0 webcolors-1.12 websocket-client-1.4.2\n",
      "Note: you may need to restart the kernel to use updated packages.\n"
     ]
    },
    {
     "name": "stderr",
     "output_type": "stream",
     "text": [
      "ERROR: pip's dependency resolver does not currently take into account all the packages that are installed. This behaviour is the source of the following dependency conflicts.\n",
      "spyder 5.1.5 requires pyqt5<5.13, which is not installed.\n",
      "spyder 5.1.5 requires pyqtwebengine<5.13, which is not installed.\n",
      "conda-repo-cli 1.0.4 requires pathlib, which is not installed.\n",
      "anaconda-project 0.10.1 requires ruamel-yaml, which is not installed.\n",
      "spyder-kernels 2.1.3 requires jupyter-client<7,>=5.3.4, but you have jupyter-client 7.4.8 which is incompatible.\n",
      "jupyterlab 3.2.1 requires jupyter-server~=1.4, but you have jupyter-server 2.0.6 which is incompatible.\n",
      "jupyterlab-server 2.8.2 requires jupyter-server~=1.4, but you have jupyter-server 2.0.6 which is incompatible.\n",
      "cookiecutter 1.7.2 requires Jinja2<3.0.0, but you have jinja2 3.1.2 which is incompatible.\n",
      "cookiecutter 1.7.2 requires MarkupSafe<2.0.0, but you have markupsafe 2.1.1 which is incompatible.\n"
     ]
    }
   ],
   "source": [
    "pip install notebook --upgrade"
   ]
  },
  {
   "cell_type": "markdown",
   "id": "28e0b0ef",
   "metadata": {},
   "source": [
    "# Импорты"
   ]
  },
  {
   "cell_type": "code",
   "execution_count": null,
   "id": "a7dbc409",
   "metadata": {},
   "outputs": [],
   "source": [
    "import numpy as np\n",
    "import pandas as pd\n",
    "from scipy import stats\n",
    "import matplotlib.pyplot as plt\n",
    "import seaborn as sns\n",
    "import glob"
   ]
  },
  {
   "cell_type": "code",
   "execution_count": null,
   "id": "6ace0530",
   "metadata": {},
   "outputs": [],
   "source": [
    "df = pd.concat([pd.read_csv(i) for i in glob.glob('data2/atp_matches_[12][019][01298]*')], axis=0)"
   ]
  },
  {
   "cell_type": "markdown",
   "id": "0ccf752e",
   "metadata": {},
   "source": [
    "# Задание 1 не получилось"
   ]
  },
  {
   "cell_type": "markdown",
   "id": "f464e6cf",
   "metadata": {},
   "source": [
    "# Задание 2 "
   ]
  },
  {
   "cell_type": "markdown",
   "id": "7795dfe5",
   "metadata": {},
   "source": [
    "## Вот так изменялось:"
   ]
  },
  {
   "cell_type": "code",
   "execution_count": null,
   "id": "db2a313c",
   "metadata": {},
   "outputs": [],
   "source": [
    "df['Год'] = np.nan\n",
    "df.dropna(inplace=True,subset= ['score'])\n",
    "df.tourney_date.apply(lambda x: '%.0f' % round(x,0))\n",
    "df.loc[:, 'tourney_date'] = pd.to_datetime(df['tourney_date'], format='%Y%m%d')\n",
    "df['year']= df['tourney_date'].dt.year\n",
    "df['sets_num'] = df['score'].map(lambda x: len(x.split()))\n",
    "years = df['year'].unique()\n",
    "years.sort()\n",
    "mean_set = df.groupby(df.tourney_date.dt.year).mean().sets_num\n",
    "plt.plot(years, mean_set, label='mean')\n",
    "plt.legend()"
   ]
  },
  {
   "cell_type": "code",
   "execution_count": null,
   "id": "648e093d",
   "metadata": {},
   "outputs": [],
   "source": [
    "df_do = df.loc[df['year'] < 2002].copy()\n",
    "df_posle = df.loc[df['year'] >= 2002].copy()\n",
    "print(df_do['sets_num'].mean())\n",
    "print(df_posle['sets_num'].mean())"
   ]
  },
  {
   "cell_type": "code",
   "execution_count": null,
   "id": "33b0885b",
   "metadata": {},
   "outputs": [],
   "source": [
    "df['Год'] = np.nan\n",
    "df['Год'] = df['Год'].mask(df['year'] < 2002, \"До 2002\").mask(df['year'] >= 2002, \"После 2002\")\n",
    "sns.set(style=\"darkgrid\")\n",
    "sns.lineplot(data=df, x='year', y='sets_num', hue='Год')\n",
    "plt.legend(bbox_to_anchor=(1.05, 1), loc=2, borderaxespad=0.)"
   ]
  },
  {
   "cell_type": "code",
   "execution_count": null,
   "id": "fa58e399",
   "metadata": {},
   "outputs": [],
   "source": [
    "def f_test(x, y):\n",
    "    x = np.array(x)\n",
    "    y = np.array(y)\n",
    "    f = np.var(x, ddof=1)/np.var(y, ddof=1)\n",
    "    dfn = x.size-1 \n",
    "    dfd = y.size-1 \n",
    "    p = 1-stats.f.cdf(f, dfn, dfd) \n",
    "    return f, p\n",
    "print(f_test(df_do['sets_num'], df_posle['sets_num']))\n",
    "print(np.var(df_do['sets_num'], ddof=1), np.var(df_posle['sets_num'], ddof=1))\n",
    "print(stats.ttest_ind(df_do['sets_num'], df_posle['sets_num']))"
   ]
  },
  {
   "cell_type": "markdown",
   "id": "316b4312",
   "metadata": {},
   "source": [
    "### Нулевую гипотезу отвергаем."
   ]
  },
  {
   "cell_type": "markdown",
   "id": "cf1823df",
   "metadata": {},
   "source": [
    "# Задание 3"
   ]
  },
  {
   "cell_type": "code",
   "execution_count": null,
   "id": "f79f0168",
   "metadata": {},
   "outputs": [],
   "source": [
    "df_early = df.loc[(df['year'] < 2002)&(df['best_of']==5)].copy()\n",
    "df_later = df.loc[(df['year'] >= 2002)&(df['best_of']==5)].copy()\n",
    "print(f_test(df_do['sets_num'], df_posle['sets_num']))\n",
    "print(np.var(df_do['sets_num'], ddof=1), np.var(df_posle['sets_num'], ddof=1))\n",
    "print(stats.ttest_ind(df_do['sets_num'], df_posle['sets_num']))"
   ]
  },
  {
   "cell_type": "markdown",
   "id": "d2fbe17c",
   "metadata": {},
   "source": [
    "### Нулевую гипотезу отвергаем."
   ]
  },
  {
   "cell_type": "markdown",
   "id": "b27e42c7",
   "metadata": {},
   "source": [
    "# Задание 4"
   ]
  },
  {
   "cell_type": "code",
   "execution_count": null,
   "id": "875d85bc",
   "metadata": {},
   "outputs": [],
   "source": [
    "# готовим данные\n",
    "df.dropna(inplace=True,subset= ['w_bpSaved', 'w_bpFaced', 'l_bpSaved', 'l_bpFaced'])\n",
    "safin_win = df[(df['winner_name'] =='Marat Safin') & ~((df['w_bpSaved'] == 0) & (df['w_bpFaced'] == 0))].copy()\n",
    "safin_lose = df[(df['loser_name'] =='Marat Safin') & ~((df['l_bpSaved'] == 0) & (df['l_bpFaced'] == 0))].copy()\n",
    "federer_win = df[(df['winner_name'] =='Roger Federer') & ~((df['w_bpSaved'] == 0) & (df['w_bpFaced'] == 0))].copy()\n",
    "federer_lose = df[(df['loser_name'] =='Roger Federer') & ~((df['l_bpSaved'] == 0) & (df['l_bpFaced'] == 0))].copy()\n",
    "sampras_win = df[(df['winner_name'] =='Pete Sampras') & ~((df['w_bpSaved'] == 0) & (df['w_bpFaced'] == 0))].copy()\n",
    "sampras_lose= df[(df['loser_name'] =='Pete Sampras') & ~((df['l_bpSaved'] == 0) & (df['l_bpFaced'] == 0))].copy()\n"
   ]
  },
  {
   "cell_type": "markdown",
   "id": "17ecbf5c",
   "metadata": {},
   "source": [
    "### 1 игрок"
   ]
  },
  {
   "cell_type": "code",
   "execution_count": null,
   "id": "177309a3",
   "metadata": {},
   "outputs": [],
   "source": [
    "\n",
    "(safin_win['w_bpSaved']/safin_win['w_bpFaced']).plot.box()"
   ]
  },
  {
   "cell_type": "code",
   "execution_count": null,
   "id": "3df90edc",
   "metadata": {},
   "outputs": [],
   "source": [
    "(safin_lose['l_bpSaved']/safin_lose['l_bpFaced']).plot.box()"
   ]
  },
  {
   "cell_type": "markdown",
   "id": "6e52b0cd",
   "metadata": {},
   "source": [
    "### по 3 игрока"
   ]
  },
  {
   "cell_type": "markdown",
   "id": "d8546d75",
   "metadata": {},
   "source": [
    "#### Доля выигранных брейк-пойнтов по годам в выигранных матчах (Сафин)"
   ]
  },
  {
   "cell_type": "code",
   "execution_count": null,
   "id": "591a5f92",
   "metadata": {},
   "outputs": [],
   "source": [
    "safin_win = safin_win[['w_bpSaved', 'w_bpFaced', 'year']].groupby(by='year').sum().reset_index()\n",
    "\n",
    "safin_bPwin = pd.concat([(safin_win['w_bpSaved']/safin_win['w_bpFaced']).reset_index(drop=True), \n",
    "                         pd.Series(np.ones_like(safin_win['w_bpSaved']), name='win')], axis=1)\n",
    "safin_bPwin"
   ]
  },
  {
   "cell_type": "markdown",
   "id": "00f322f3",
   "metadata": {},
   "source": [
    "#### Доля выигранных брейк-поинтов по годам в проигранных матчах (Сафин). Убрали 1 год, чтобы была одинаковая размерность"
   ]
  },
  {
   "cell_type": "code",
   "execution_count": null,
   "id": "ec8e477c",
   "metadata": {},
   "outputs": [],
   "source": [
    "safin_lose = safin_lose[['l_bpSaved', 'l_bpFaced', 'year']].groupby(by='year').sum().reset_index().iloc[1:]\n",
    "safin_bPlose = pd.concat([(safin_lose['l_bpSaved']/safin_lose['l_bpFaced']).reset_index(drop=True), \n",
    "                       pd.Series(np.zeros_like(safin_lose['l_bpSaved']), name='win')], axis=1)\n",
    "safin_bPlose"
   ]
  },
  {
   "cell_type": "code",
   "execution_count": null,
   "id": "2bdcb5df",
   "metadata": {},
   "outputs": [],
   "source": [
    "safin_bPlose = safin_bPlose.rename(columns={0: 'BP_won'})"
   ]
  },
  {
   "cell_type": "code",
   "execution_count": null,
   "id": "22a99ccc",
   "metadata": {},
   "outputs": [],
   "source": [
    "BP_data_safin = pd.concat([safin_bPwin, safin_bPlose])"
   ]
  },
  {
   "cell_type": "code",
   "execution_count": null,
   "id": "ba3a5e43",
   "metadata": {},
   "outputs": [],
   "source": [
    "BP_data_safin = BP_data_safin.reset_index(drop=True)\n",
    "BP_data_safin"
   ]
  },
  {
   "cell_type": "code",
   "execution_count": null,
   "id": "0aca337e",
   "metadata": {},
   "outputs": [],
   "source": [
    "sns.boxplot(data=BP_data_safin, x='win', y='BP_won')"
   ]
  },
  {
   "cell_type": "code",
   "execution_count": null,
   "id": "f8fbb1cd",
   "metadata": {},
   "outputs": [],
   "source": [
    "crosstab_safin = pd.concat([safin_bPwin['BP_won'].rename('win'), \n",
    "           safin_bPlose['BP_won'].rename('lose')], \n",
    "          axis=1)\n",
    "crosstab_safin"
   ]
  },
  {
   "cell_type": "code",
   "execution_count": null,
   "id": "a73bc877",
   "metadata": {},
   "outputs": [],
   "source": [
    "stats.chi2_contingency(crosstab_safin)"
   ]
  },
  {
   "cell_type": "code",
   "execution_count": null,
   "id": "21251645",
   "metadata": {},
   "outputs": [],
   "source": [
    "chisq_stats_safin = stats.chi2_contingency(crosstab_safin, correction=False)[0]"
   ]
  },
  {
   "cell_type": "code",
   "execution_count": null,
   "id": "e893df6d",
   "metadata": {},
   "outputs": [],
   "source": [
    "n = np.sum(crosstab_safin)\n",
    "n = n.sum()\n",
    "minshape_safin = min(crosstab_safin.shape)-1\n",
    "cramer_safin = np.sqrt((chisq_stats_safin/n)/minshape_safin)\n",
    "cramer_safin"
   ]
  },
  {
   "cell_type": "markdown",
   "id": "db50f38f",
   "metadata": {},
   "source": [
    "меньше 0.05 -> cвязь между победными матчами и проигранными слабая (очень слабая)"
   ]
  },
  {
   "cell_type": "code",
   "execution_count": null,
   "id": "95713e3b",
   "metadata": {},
   "outputs": [],
   "source": [
    "sns.displot(safin_bPwin['BP_won'])"
   ]
  },
  {
   "cell_type": "code",
   "execution_count": null,
   "id": "eed83f23",
   "metadata": {},
   "outputs": [],
   "source": [
    "federer_win[['w_bpSaved', 'w_bpFaced', 'year']].groupby(by='year').sum().reset_index()"
   ]
  },
  {
   "cell_type": "code",
   "execution_count": null,
   "id": "43019d77",
   "metadata": {},
   "outputs": [],
   "source": [
    "(federer_win['w_bpSaved']/federer_win['w_bpFaced']).plot.box()"
   ]
  },
  {
   "cell_type": "code",
   "execution_count": null,
   "id": "b360dbde",
   "metadata": {},
   "outputs": [],
   "source": [
    "\n",
    "federer_lose[['l_bpSaved', 'l_bpFaced']]"
   ]
  },
  {
   "cell_type": "code",
   "execution_count": null,
   "id": "038296c9",
   "metadata": {},
   "outputs": [],
   "source": []
  },
  {
   "cell_type": "code",
   "execution_count": null,
   "id": "4e5973ce",
   "metadata": {},
   "outputs": [],
   "source": [
    "#### Доля выигранных брейк-пойнтов по годам в выигранных матчах (Федерер)"
   ]
  },
  {
   "cell_type": "code",
   "execution_count": null,
   "id": "0e7187b4",
   "metadata": {},
   "outputs": [],
   "source": [
    "federer_win = federer_win[['w_bpSaved', 'w_bpFaced', 'year']].groupby(by='year').sum().reset_index()\n",
    "federer_bPwin = pd.concat([(federer_win['w_bpSaved']/federer_win['w_bpFaced']).reset_index(drop=True), \n",
    "                         pd.Series(np.ones_like(federer_win['w_bpSaved']), name='win')], axis=1)\n",
    "federer_bPwin"
   ]
  },
  {
   "cell_type": "code",
   "execution_count": null,
   "id": "70cffddb",
   "metadata": {},
   "outputs": [],
   "source": [
    "federer_bPwin = federer_bPwin.rename(columns={0: 'BP_won'})"
   ]
  },
  {
   "cell_type": "markdown",
   "id": "79971ba7",
   "metadata": {},
   "source": [
    "#### Доля выигранных брейк-поинтов по годам в проигранных матчах (Федерер)."
   ]
  },
  {
   "cell_type": "code",
   "execution_count": null,
   "id": "e32360f7",
   "metadata": {},
   "outputs": [],
   "source": [
    "federer_lose = federer_lose[['l_bpSaved', 'l_bpFaced', 'year']].groupby(by='year').sum().reset_index()\n",
    "federer_bPlose = pd.concat([(federer_lose['l_bpSaved']/federer_lose['l_bpFaced']).reset_index(drop=True), \n",
    "                       pd.Series(np.zeros_like(federer_lose['l_bpSaved']), name='win')], axis=1)\n",
    "federer_bPlose"
   ]
  },
  {
   "cell_type": "code",
   "execution_count": null,
   "id": "1eb8709e",
   "metadata": {},
   "outputs": [],
   "source": [
    "federer_bPlose = federer_bPlose.rename(columns={0: 'BP_won'})"
   ]
  },
  {
   "cell_type": "code",
   "execution_count": null,
   "id": "54f48e99",
   "metadata": {},
   "outputs": [],
   "source": [
    "BP_data_federer = pd.concat([federer_bPwin, federer_bPlose])"
   ]
  },
  {
   "cell_type": "code",
   "execution_count": null,
   "id": "9ee35ca1",
   "metadata": {},
   "outputs": [],
   "source": [
    "BP_data_federer = BP_data_federer.reset_index(drop=True)\n",
    "BP_data_federer"
   ]
  },
  {
   "cell_type": "code",
   "execution_count": null,
   "id": "2af66978",
   "metadata": {},
   "outputs": [],
   "source": [
    "\n",
    "sns.boxplot(data=BP_data_federer, x='win', y='BP_won')"
   ]
  },
  {
   "cell_type": "code",
   "execution_count": null,
   "id": "7fc7a9be",
   "metadata": {},
   "outputs": [],
   "source": [
    "crosstab_federer = pd.concat([federer_bPwin['BP_won'].rename('win'), \n",
    "           federer_bPlose['BP_won'].rename('lose')], \n",
    "          axis=1)\n",
    "crosstab_federer"
   ]
  },
  {
   "cell_type": "code",
   "execution_count": null,
   "id": "c0004dd2",
   "metadata": {},
   "outputs": [],
   "source": [
    "stats.chi2_contingency(crosstab_federer)"
   ]
  },
  {
   "cell_type": "code",
   "execution_count": null,
   "id": "c79833ae",
   "metadata": {},
   "outputs": [],
   "source": [
    "chisq_stats_federer = stats.chi2_contingency(crosstab_federer, correction=False)[0]"
   ]
  },
  {
   "cell_type": "code",
   "execution_count": null,
   "id": "3cb5c1f8",
   "metadata": {},
   "outputs": [],
   "source": []
  },
  {
   "cell_type": "code",
   "execution_count": null,
   "id": "391796e9",
   "metadata": {},
   "outputs": [],
   "source": []
  },
  {
   "cell_type": "code",
   "execution_count": null,
   "id": "f3d35bc0",
   "metadata": {},
   "outputs": [],
   "source": []
  },
  {
   "cell_type": "code",
   "execution_count": null,
   "id": "55002cbd",
   "metadata": {},
   "outputs": [],
   "source": []
  },
  {
   "cell_type": "code",
   "execution_count": null,
   "id": "1760cd82",
   "metadata": {},
   "outputs": [],
   "source": []
  },
  {
   "cell_type": "code",
   "execution_count": null,
   "id": "7db955ab",
   "metadata": {},
   "outputs": [],
   "source": []
  },
  {
   "cell_type": "code",
   "execution_count": null,
   "id": "15946331",
   "metadata": {},
   "outputs": [],
   "source": []
  },
  {
   "cell_type": "code",
   "execution_count": null,
   "id": "bb9e3d2e",
   "metadata": {},
   "outputs": [],
   "source": []
  },
  {
   "cell_type": "code",
   "execution_count": null,
   "id": "6a7d368e",
   "metadata": {},
   "outputs": [],
   "source": []
  },
  {
   "cell_type": "code",
   "execution_count": null,
   "id": "a5dcaff9",
   "metadata": {},
   "outputs": [],
   "source": []
  },
  {
   "cell_type": "code",
   "execution_count": null,
   "id": "bb3c8df0",
   "metadata": {},
   "outputs": [],
   "source": []
  }
 ],
 "metadata": {
  "kernelspec": {
   "display_name": "Python 3 (ipykernel)",
   "language": "python",
   "name": "python3"
  },
  "language_info": {
   "codemirror_mode": {
    "name": "ipython",
    "version": 3
   },
   "file_extension": ".py",
   "mimetype": "text/x-python",
   "name": "python",
   "nbconvert_exporter": "python",
   "pygments_lexer": "ipython3",
   "version": "3.9.7"
  }
 },
 "nbformat": 4,
 "nbformat_minor": 5
}
