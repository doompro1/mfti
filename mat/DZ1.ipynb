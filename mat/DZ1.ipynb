{
 "cells": [
  {
   "cell_type": "code",
   "execution_count": 1,
   "id": "3f2c809d",
   "metadata": {
    "ExecuteTime": {
     "end_time": "2022-11-11T22:31:22.370901Z",
     "start_time": "2022-11-11T22:31:21.160676Z"
    }
   },
   "outputs": [],
   "source": [
    "import numpy as np \n",
    "import pandas as pd \n",
    "import seaborn as sns \n",
    "import matplotlib.pyplot as plt \n",
    "%matplotlib inline"
   ]
  },
  {
   "cell_type": "code",
   "execution_count": 2,
   "id": "c64314fe",
   "metadata": {
    "ExecuteTime": {
     "end_time": "2022-11-11T22:31:22.386906Z",
     "start_time": "2022-11-11T22:31:22.371902Z"
    }
   },
   "outputs": [
    {
     "data": {
      "text/html": [
       "<div>\n",
       "<style scoped>\n",
       "    .dataframe tbody tr th:only-of-type {\n",
       "        vertical-align: middle;\n",
       "    }\n",
       "\n",
       "    .dataframe tbody tr th {\n",
       "        vertical-align: top;\n",
       "    }\n",
       "\n",
       "    .dataframe thead th {\n",
       "        text-align: right;\n",
       "    }\n",
       "</style>\n",
       "<table border=\"1\" class=\"dataframe\">\n",
       "  <thead>\n",
       "    <tr style=\"text-align: right;\">\n",
       "      <th></th>\n",
       "      <th>Well</th>\n",
       "      <th>Por</th>\n",
       "      <th>Perm</th>\n",
       "      <th>AI</th>\n",
       "      <th>Brittle</th>\n",
       "      <th>TOC</th>\n",
       "      <th>VR</th>\n",
       "      <th>Prod</th>\n",
       "    </tr>\n",
       "  </thead>\n",
       "  <tbody>\n",
       "    <tr>\n",
       "      <th>0</th>\n",
       "      <td>1</td>\n",
       "      <td>12.08</td>\n",
       "      <td>2.92</td>\n",
       "      <td>2.80</td>\n",
       "      <td>81.40</td>\n",
       "      <td>1.16</td>\n",
       "      <td>2.31</td>\n",
       "      <td>4165.196191</td>\n",
       "    </tr>\n",
       "    <tr>\n",
       "      <th>1</th>\n",
       "      <td>2</td>\n",
       "      <td>12.38</td>\n",
       "      <td>3.53</td>\n",
       "      <td>3.22</td>\n",
       "      <td>46.17</td>\n",
       "      <td>0.89</td>\n",
       "      <td>1.88</td>\n",
       "      <td>3561.146205</td>\n",
       "    </tr>\n",
       "    <tr>\n",
       "      <th>2</th>\n",
       "      <td>3</td>\n",
       "      <td>14.02</td>\n",
       "      <td>2.59</td>\n",
       "      <td>4.01</td>\n",
       "      <td>72.80</td>\n",
       "      <td>0.89</td>\n",
       "      <td>2.72</td>\n",
       "      <td>4284.348574</td>\n",
       "    </tr>\n",
       "    <tr>\n",
       "      <th>3</th>\n",
       "      <td>4</td>\n",
       "      <td>17.67</td>\n",
       "      <td>6.75</td>\n",
       "      <td>2.63</td>\n",
       "      <td>39.81</td>\n",
       "      <td>1.08</td>\n",
       "      <td>1.88</td>\n",
       "      <td>5098.680869</td>\n",
       "    </tr>\n",
       "    <tr>\n",
       "      <th>4</th>\n",
       "      <td>5</td>\n",
       "      <td>17.52</td>\n",
       "      <td>4.57</td>\n",
       "      <td>3.18</td>\n",
       "      <td>10.94</td>\n",
       "      <td>1.51</td>\n",
       "      <td>1.90</td>\n",
       "      <td>3406.132832</td>\n",
       "    </tr>\n",
       "  </tbody>\n",
       "</table>\n",
       "</div>"
      ],
      "text/plain": [
       "   Well    Por  Perm    AI  Brittle   TOC    VR         Prod\n",
       "0     1  12.08  2.92  2.80    81.40  1.16  2.31  4165.196191\n",
       "1     2  12.38  3.53  3.22    46.17  0.89  1.88  3561.146205\n",
       "2     3  14.02  2.59  4.01    72.80  0.89  2.72  4284.348574\n",
       "3     4  17.67  6.75  2.63    39.81  1.08  1.88  5098.680869\n",
       "4     5  17.52  4.57  3.18    10.94  1.51  1.90  3406.132832"
      ]
     },
     "execution_count": 2,
     "metadata": {},
     "output_type": "execute_result"
    }
   ],
   "source": [
    "#откроем данные\n",
    "data = pd.read_csv('unconv.csv')\n",
    "data.head()"
   ]
  },
  {
   "cell_type": "markdown",
   "id": "1a7ff126",
   "metadata": {},
   "source": [
    "## Задание 2.1"
   ]
  },
  {
   "cell_type": "code",
   "execution_count": 3,
   "id": "d276bbb5",
   "metadata": {
    "ExecuteTime": {
     "end_time": "2022-11-11T22:31:22.449920Z",
     "start_time": "2022-11-11T22:31:22.387906Z"
    }
   },
   "outputs": [
    {
     "data": {
      "text/html": [
       "<style type=\"text/css\">\n",
       "#T_2f8db_row0_col0, #T_2f8db_row1_col1, #T_2f8db_row2_col2, #T_2f8db_row3_col3, #T_2f8db_row4_col4, #T_2f8db_row5_col5, #T_2f8db_row6_col6, #T_2f8db_row7_col7 {\n",
       "  background-color: #b40426;\n",
       "  color: #f1f1f1;\n",
       "}\n",
       "#T_2f8db_row0_col1, #T_2f8db_row0_col5 {\n",
       "  background-color: #b3cdfb;\n",
       "  color: #000000;\n",
       "}\n",
       "#T_2f8db_row0_col2 {\n",
       "  background-color: #8fb1fe;\n",
       "  color: #000000;\n",
       "}\n",
       "#T_2f8db_row0_col3, #T_2f8db_row7_col4 {\n",
       "  background-color: #b7cff9;\n",
       "  color: #000000;\n",
       "}\n",
       "#T_2f8db_row0_col4 {\n",
       "  background-color: #5e7de7;\n",
       "  color: #f1f1f1;\n",
       "}\n",
       "#T_2f8db_row0_col6, #T_2f8db_row1_col4, #T_2f8db_row3_col1, #T_2f8db_row3_col2, #T_2f8db_row3_col5, #T_2f8db_row3_col7, #T_2f8db_row4_col0, #T_2f8db_row5_col3, #T_2f8db_row5_col4 {\n",
       "  background-color: #3b4cc0;\n",
       "  color: #f1f1f1;\n",
       "}\n",
       "#T_2f8db_row0_col7 {\n",
       "  background-color: #9ebeff;\n",
       "  color: #000000;\n",
       "}\n",
       "#T_2f8db_row1_col0 {\n",
       "  background-color: #6687ed;\n",
       "  color: #f1f1f1;\n",
       "}\n",
       "#T_2f8db_row1_col2 {\n",
       "  background-color: #ec8165;\n",
       "  color: #f1f1f1;\n",
       "}\n",
       "#T_2f8db_row1_col3 {\n",
       "  background-color: #485fd1;\n",
       "  color: #f1f1f1;\n",
       "}\n",
       "#T_2f8db_row1_col5 {\n",
       "  background-color: #ec7f63;\n",
       "  color: #f1f1f1;\n",
       "}\n",
       "#T_2f8db_row1_col6 {\n",
       "  background-color: #5f7fe8;\n",
       "  color: #f1f1f1;\n",
       "}\n",
       "#T_2f8db_row1_col7 {\n",
       "  background-color: #d65244;\n",
       "  color: #f1f1f1;\n",
       "}\n",
       "#T_2f8db_row2_col0 {\n",
       "  background-color: #688aef;\n",
       "  color: #f1f1f1;\n",
       "}\n",
       "#T_2f8db_row2_col1 {\n",
       "  background-color: #e67259;\n",
       "  color: #f1f1f1;\n",
       "}\n",
       "#T_2f8db_row2_col3 {\n",
       "  background-color: #779af7;\n",
       "  color: #f1f1f1;\n",
       "}\n",
       "#T_2f8db_row2_col4 {\n",
       "  background-color: #516ddb;\n",
       "  color: #f1f1f1;\n",
       "}\n",
       "#T_2f8db_row2_col5 {\n",
       "  background-color: #f7bca1;\n",
       "  color: #000000;\n",
       "}\n",
       "#T_2f8db_row2_col6 {\n",
       "  background-color: #4b64d5;\n",
       "  color: #f1f1f1;\n",
       "}\n",
       "#T_2f8db_row2_col7, #T_2f8db_row5_col1 {\n",
       "  background-color: #ed8366;\n",
       "  color: #f1f1f1;\n",
       "}\n",
       "#T_2f8db_row3_col0 {\n",
       "  background-color: #5d7ce6;\n",
       "  color: #f1f1f1;\n",
       "}\n",
       "#T_2f8db_row3_col4 {\n",
       "  background-color: #98b9ff;\n",
       "  color: #000000;\n",
       "}\n",
       "#T_2f8db_row3_col6 {\n",
       "  background-color: #dddcdc;\n",
       "  color: #000000;\n",
       "}\n",
       "#T_2f8db_row4_col1 {\n",
       "  background-color: #6f92f3;\n",
       "  color: #f1f1f1;\n",
       "}\n",
       "#T_2f8db_row4_col2, #T_2f8db_row7_col3 {\n",
       "  background-color: #5673e0;\n",
       "  color: #f1f1f1;\n",
       "}\n",
       "#T_2f8db_row4_col3 {\n",
       "  background-color: #cad8ef;\n",
       "  color: #000000;\n",
       "}\n",
       "#T_2f8db_row4_col5 {\n",
       "  background-color: #7ea1fa;\n",
       "  color: #f1f1f1;\n",
       "}\n",
       "#T_2f8db_row4_col6 {\n",
       "  background-color: #a6c4fe;\n",
       "  color: #000000;\n",
       "}\n",
       "#T_2f8db_row4_col7 {\n",
       "  background-color: #cfdaea;\n",
       "  color: #000000;\n",
       "}\n",
       "#T_2f8db_row5_col0 {\n",
       "  background-color: #5875e1;\n",
       "  color: #f1f1f1;\n",
       "}\n",
       "#T_2f8db_row5_col2 {\n",
       "  background-color: #edd1c2;\n",
       "  color: #000000;\n",
       "}\n",
       "#T_2f8db_row5_col6 {\n",
       "  background-color: #9fbfff;\n",
       "  color: #000000;\n",
       "}\n",
       "#T_2f8db_row5_col7 {\n",
       "  background-color: #f4987a;\n",
       "  color: #000000;\n",
       "}\n",
       "#T_2f8db_row6_col0 {\n",
       "  background-color: #4f69d9;\n",
       "  color: #f1f1f1;\n",
       "}\n",
       "#T_2f8db_row6_col1 {\n",
       "  background-color: #bed2f6;\n",
       "  color: #000000;\n",
       "}\n",
       "#T_2f8db_row6_col2 {\n",
       "  background-color: #88abfd;\n",
       "  color: #000000;\n",
       "}\n",
       "#T_2f8db_row6_col3 {\n",
       "  background-color: #f7b599;\n",
       "  color: #000000;\n",
       "}\n",
       "#T_2f8db_row6_col4 {\n",
       "  background-color: #ccd9ed;\n",
       "  color: #000000;\n",
       "}\n",
       "#T_2f8db_row6_col5 {\n",
       "  background-color: #e7d7ce;\n",
       "  color: #000000;\n",
       "}\n",
       "#T_2f8db_row6_col7 {\n",
       "  background-color: #e0dbd8;\n",
       "  color: #000000;\n",
       "}\n",
       "#T_2f8db_row7_col0 {\n",
       "  background-color: #5977e3;\n",
       "  color: #f1f1f1;\n",
       "}\n",
       "#T_2f8db_row7_col1 {\n",
       "  background-color: #d55042;\n",
       "  color: #f1f1f1;\n",
       "}\n",
       "#T_2f8db_row7_col2 {\n",
       "  background-color: #f18d6f;\n",
       "  color: #f1f1f1;\n",
       "}\n",
       "#T_2f8db_row7_col5 {\n",
       "  background-color: #f18f71;\n",
       "  color: #f1f1f1;\n",
       "}\n",
       "#T_2f8db_row7_col6 {\n",
       "  background-color: #a7c5fe;\n",
       "  color: #000000;\n",
       "}\n",
       "</style>\n",
       "<table id=\"T_2f8db\">\n",
       "  <thead>\n",
       "    <tr>\n",
       "      <th class=\"blank level0\" >&nbsp;</th>\n",
       "      <th id=\"T_2f8db_level0_col0\" class=\"col_heading level0 col0\" >Well</th>\n",
       "      <th id=\"T_2f8db_level0_col1\" class=\"col_heading level0 col1\" >Por</th>\n",
       "      <th id=\"T_2f8db_level0_col2\" class=\"col_heading level0 col2\" >Perm</th>\n",
       "      <th id=\"T_2f8db_level0_col3\" class=\"col_heading level0 col3\" >AI</th>\n",
       "      <th id=\"T_2f8db_level0_col4\" class=\"col_heading level0 col4\" >Brittle</th>\n",
       "      <th id=\"T_2f8db_level0_col5\" class=\"col_heading level0 col5\" >TOC</th>\n",
       "      <th id=\"T_2f8db_level0_col6\" class=\"col_heading level0 col6\" >VR</th>\n",
       "      <th id=\"T_2f8db_level0_col7\" class=\"col_heading level0 col7\" >Prod</th>\n",
       "    </tr>\n",
       "  </thead>\n",
       "  <tbody>\n",
       "    <tr>\n",
       "      <th id=\"T_2f8db_level0_row0\" class=\"row_heading level0 row0\" >Well</th>\n",
       "      <td id=\"T_2f8db_row0_col0\" class=\"data row0 col0\" >1.000000</td>\n",
       "      <td id=\"T_2f8db_row0_col1\" class=\"data row0 col1\" >0.068927</td>\n",
       "      <td id=\"T_2f8db_row0_col2\" class=\"data row0 col2\" >0.077928</td>\n",
       "      <td id=\"T_2f8db_row0_col3\" class=\"data row0 col3\" >0.041483</td>\n",
       "      <td id=\"T_2f8db_row0_col4\" class=\"data row0 col4\" >-0.079252</td>\n",
       "      <td id=\"T_2f8db_row0_col5\" class=\"data row0 col5\" >0.022624</td>\n",
       "      <td id=\"T_2f8db_row0_col6\" class=\"data row0 col6\" >-0.007279</td>\n",
       "      <td id=\"T_2f8db_row0_col7\" class=\"data row0 col7\" >0.026817</td>\n",
       "    </tr>\n",
       "    <tr>\n",
       "      <th id=\"T_2f8db_level0_row1\" class=\"row_heading level0 row1\" >Por</th>\n",
       "      <td id=\"T_2f8db_row1_col0\" class=\"data row1 col0\" >0.068927</td>\n",
       "      <td id=\"T_2f8db_row1_col1\" class=\"data row1 col1\" >1.000000</td>\n",
       "      <td id=\"T_2f8db_row1_col2\" class=\"data row1 col2\" >0.760546</td>\n",
       "      <td id=\"T_2f8db_row1_col3\" class=\"data row1 col3\" >-0.461549</td>\n",
       "      <td id=\"T_2f8db_row1_col4\" class=\"data row1 col4\" >-0.218570</td>\n",
       "      <td id=\"T_2f8db_row1_col5\" class=\"data row1 col5\" >0.711831</td>\n",
       "      <td id=\"T_2f8db_row1_col6\" class=\"data row1 col6\" >0.111860</td>\n",
       "      <td id=\"T_2f8db_row1_col7\" class=\"data row1 col7\" >0.861910</td>\n",
       "    </tr>\n",
       "    <tr>\n",
       "      <th id=\"T_2f8db_level0_row2\" class=\"row_heading level0 row2\" >Perm</th>\n",
       "      <td id=\"T_2f8db_row2_col0\" class=\"data row2 col0\" >0.077928</td>\n",
       "      <td id=\"T_2f8db_row2_col1\" class=\"data row2 col1\" >0.760546</td>\n",
       "      <td id=\"T_2f8db_row2_col2\" class=\"data row2 col2\" >1.000000</td>\n",
       "      <td id=\"T_2f8db_row2_col3\" class=\"data row2 col3\" >-0.239636</td>\n",
       "      <td id=\"T_2f8db_row2_col4\" class=\"data row2 col4\" >-0.124017</td>\n",
       "      <td id=\"T_2f8db_row2_col5\" class=\"data row2 col5\" >0.471746</td>\n",
       "      <td id=\"T_2f8db_row2_col6\" class=\"data row2 col6\" >0.051023</td>\n",
       "      <td id=\"T_2f8db_row2_col7\" class=\"data row2 col7\" >0.727426</td>\n",
       "    </tr>\n",
       "    <tr>\n",
       "      <th id=\"T_2f8db_level0_row3\" class=\"row_heading level0 row3\" >AI</th>\n",
       "      <td id=\"T_2f8db_row3_col0\" class=\"data row3 col0\" >0.041483</td>\n",
       "      <td id=\"T_2f8db_row3_col1\" class=\"data row3 col1\" >-0.461549</td>\n",
       "      <td id=\"T_2f8db_row3_col2\" class=\"data row3 col2\" >-0.239636</td>\n",
       "      <td id=\"T_2f8db_row3_col3\" class=\"data row3 col3\" >1.000000</td>\n",
       "      <td id=\"T_2f8db_row3_col4\" class=\"data row3 col4\" >0.127599</td>\n",
       "      <td id=\"T_2f8db_row3_col5\" class=\"data row3 col5\" >-0.531864</td>\n",
       "      <td id=\"T_2f8db_row3_col6\" class=\"data row3 col6\" >0.499143</td>\n",
       "      <td id=\"T_2f8db_row3_col7\" class=\"data row3 col7\" >-0.390835</td>\n",
       "    </tr>\n",
       "    <tr>\n",
       "      <th id=\"T_2f8db_level0_row4\" class=\"row_heading level0 row4\" >Brittle</th>\n",
       "      <td id=\"T_2f8db_row4_col0\" class=\"data row4 col0\" >-0.079252</td>\n",
       "      <td id=\"T_2f8db_row4_col1\" class=\"data row4 col1\" >-0.218570</td>\n",
       "      <td id=\"T_2f8db_row4_col2\" class=\"data row4 col2\" >-0.124017</td>\n",
       "      <td id=\"T_2f8db_row4_col3\" class=\"data row4 col3\" >0.127599</td>\n",
       "      <td id=\"T_2f8db_row4_col4\" class=\"data row4 col4\" >1.000000</td>\n",
       "      <td id=\"T_2f8db_row4_col5\" class=\"data row4 col5\" >-0.214282</td>\n",
       "      <td id=\"T_2f8db_row4_col6\" class=\"data row4 col6\" >0.317929</td>\n",
       "      <td id=\"T_2f8db_row4_col7\" class=\"data row4 col7\" >0.237155</td>\n",
       "    </tr>\n",
       "    <tr>\n",
       "      <th id=\"T_2f8db_level0_row5\" class=\"row_heading level0 row5\" >TOC</th>\n",
       "      <td id=\"T_2f8db_row5_col0\" class=\"data row5 col0\" >0.022624</td>\n",
       "      <td id=\"T_2f8db_row5_col1\" class=\"data row5 col1\" >0.711831</td>\n",
       "      <td id=\"T_2f8db_row5_col2\" class=\"data row5 col2\" >0.471746</td>\n",
       "      <td id=\"T_2f8db_row5_col3\" class=\"data row5 col3\" >-0.531864</td>\n",
       "      <td id=\"T_2f8db_row5_col4\" class=\"data row5 col4\" >-0.214282</td>\n",
       "      <td id=\"T_2f8db_row5_col5\" class=\"data row5 col5\" >1.000000</td>\n",
       "      <td id=\"T_2f8db_row5_col6\" class=\"data row5 col6\" >0.299483</td>\n",
       "      <td id=\"T_2f8db_row5_col7\" class=\"data row5 col7\" >0.654445</td>\n",
       "    </tr>\n",
       "    <tr>\n",
       "      <th id=\"T_2f8db_level0_row6\" class=\"row_heading level0 row6\" >VR</th>\n",
       "      <td id=\"T_2f8db_row6_col0\" class=\"data row6 col0\" >-0.007279</td>\n",
       "      <td id=\"T_2f8db_row6_col1\" class=\"data row6 col1\" >0.111860</td>\n",
       "      <td id=\"T_2f8db_row6_col2\" class=\"data row6 col2\" >0.051023</td>\n",
       "      <td id=\"T_2f8db_row6_col3\" class=\"data row6 col3\" >0.499143</td>\n",
       "      <td id=\"T_2f8db_row6_col4\" class=\"data row6 col4\" >0.317929</td>\n",
       "      <td id=\"T_2f8db_row6_col5\" class=\"data row6 col5\" >0.299483</td>\n",
       "      <td id=\"T_2f8db_row6_col6\" class=\"data row6 col6\" >1.000000</td>\n",
       "      <td id=\"T_2f8db_row6_col7\" class=\"data row6 col7\" >0.323182</td>\n",
       "    </tr>\n",
       "    <tr>\n",
       "      <th id=\"T_2f8db_level0_row7\" class=\"row_heading level0 row7\" >Prod</th>\n",
       "      <td id=\"T_2f8db_row7_col0\" class=\"data row7 col0\" >0.026817</td>\n",
       "      <td id=\"T_2f8db_row7_col1\" class=\"data row7 col1\" >0.861910</td>\n",
       "      <td id=\"T_2f8db_row7_col2\" class=\"data row7 col2\" >0.727426</td>\n",
       "      <td id=\"T_2f8db_row7_col3\" class=\"data row7 col3\" >-0.390835</td>\n",
       "      <td id=\"T_2f8db_row7_col4\" class=\"data row7 col4\" >0.237155</td>\n",
       "      <td id=\"T_2f8db_row7_col5\" class=\"data row7 col5\" >0.654445</td>\n",
       "      <td id=\"T_2f8db_row7_col6\" class=\"data row7 col6\" >0.323182</td>\n",
       "      <td id=\"T_2f8db_row7_col7\" class=\"data row7 col7\" >1.000000</td>\n",
       "    </tr>\n",
       "  </tbody>\n",
       "</table>\n"
      ],
      "text/plain": [
       "<pandas.io.formats.style.Styler at 0x23037aa9e80>"
      ]
     },
     "execution_count": 3,
     "metadata": {},
     "output_type": "execute_result"
    }
   ],
   "source": [
    "#Постройте корреляционную матрицу факторов, включив в неё целевой признак.\n",
    "corr = data.corr()\n",
    "corr.style.background_gradient(cmap='coolwarm')"
   ]
  },
  {
   "cell_type": "code",
   "execution_count": 4,
   "id": "0c0da888",
   "metadata": {
    "ExecuteTime": {
     "end_time": "2022-11-11T22:31:22.465923Z",
     "start_time": "2022-11-11T22:31:22.450920Z"
    }
   },
   "outputs": [
    {
     "name": "stdout",
     "output_type": "stream",
     "text": [
      "8\n"
     ]
    }
   ],
   "source": [
    "#Вычислите ранг полученной матрицы корреляций\n",
    "from numpy import linalg as LA\n",
    "print(LA.matrix_rank(corr))"
   ]
  },
  {
   "cell_type": "code",
   "execution_count": 5,
   "id": "72eb735a",
   "metadata": {
    "ExecuteTime": {
     "end_time": "2022-11-11T22:31:22.481927Z",
     "start_time": "2022-11-11T22:31:22.466924Z"
    }
   },
   "outputs": [
    {
     "name": "stdout",
     "output_type": "stream",
     "text": [
      "0.0007299388072652082\n"
     ]
    }
   ],
   "source": [
    "#Вычислите определитель матрицы корреляций\n",
    "print(LA.det(corr))"
   ]
  },
  {
   "cell_type": "markdown",
   "id": "b13b0be3",
   "metadata": {},
   "source": [
    "## Задание 2.2"
   ]
  },
  {
   "cell_type": "code",
   "execution_count": 6,
   "id": "97e6eb0a",
   "metadata": {
    "ExecuteTime": {
     "end_time": "2022-11-11T22:31:22.561949Z",
     "start_time": "2022-11-11T22:31:22.482928Z"
    }
   },
   "outputs": [],
   "source": [
    "#Создайте матрицу наблюдений. Обозначьте её за X, а вектор правильных ответов — за y .\n",
    "y = data.Prod\n",
    "X = data.copy()\n",
    "del X['Prod']\n",
    "from sklearn.model_selection import train_test_split\n",
    "X_train, X_test, y_train, y_test = train_test_split(X, y)"
   ]
  },
  {
   "cell_type": "markdown",
   "id": "bba52d3d",
   "metadata": {},
   "source": [
    "# Я не буду комментировать материалы представленные ниже, сделаю через sklean"
   ]
  },
  {
   "cell_type": "markdown",
   "id": "25af6e7c",
   "metadata": {},
   "source": [
    "![SegmentLocal](ne_nado.png \"segment\")"
   ]
  },
  {
   "cell_type": "code",
   "execution_count": 7,
   "id": "656d1066",
   "metadata": {
    "ExecuteTime": {
     "end_time": "2022-11-11T22:31:22.593956Z",
     "start_time": "2022-11-11T22:31:22.562950Z"
    }
   },
   "outputs": [
    {
     "name": "stdout",
     "output_type": "stream",
     "text": [
      "{'Well': 0.07471674094790177, 'Por': 241.47584483488583, 'Perm': 97.82149204269224, 'AI': -367.45323126483834, 'Brittle': 26.060914153242862, 'TOC': -94.22213292924393, 'VR': 801.9108879641716}\n"
     ]
    }
   ],
   "source": [
    "#Постройте модель линейной регрессии по методу наименьших квадратов. \n",
    "#Для этого используйте матричную формулу NumPy. \n",
    "#В качестве ответа укажите полученные оценки коэффициентов модели\n",
    "from sklearn.linear_model import LinearRegression\n",
    "reg = LinearRegression().fit(X_train, y_train)  \n",
    "print(dict(zip(list(X.columns), list(reg.coef_))))\n"
   ]
  },
  {
   "cell_type": "markdown",
   "id": "75f5e369",
   "metadata": {},
   "source": [
    "## Задание 2.3"
   ]
  },
  {
   "cell_type": "code",
   "execution_count": 8,
   "id": "706f0778",
   "metadata": {
    "ExecuteTime": {
     "end_time": "2022-11-11T22:31:22.609959Z",
     "start_time": "2022-11-11T22:31:22.594957Z"
    }
   },
   "outputs": [],
   "source": [
    "#Постройте прогноз выработки газа для скважины с параметрами, указанными ниже.\n",
    "#Чему равна абсолютная ошибка построенного вами прогноза для предложенной скважины ?(в миллионах кубических футов в день)."
   ]
  },
  {
   "cell_type": "markdown",
   "id": "6a6fb2bd",
   "metadata": {},
   "source": [
    "# Параметры скважены не указаны."
   ]
  },
  {
   "cell_type": "markdown",
   "id": "e6567af4",
   "metadata": {},
   "source": [
    "Метрика MAPE:"
   ]
  },
  {
   "cell_type": "markdown",
   "id": "476e4ba5",
   "metadata": {},
   "source": [
    "![](https://miro.medium.com/max/596/1*vmIM1jePXsDxPpgWEQ35Lg.png)"
   ]
  },
  {
   "cell_type": "code",
   "execution_count": 9,
   "id": "4355c558",
   "metadata": {
    "ExecuteTime": {
     "end_time": "2022-11-11T22:31:22.625963Z",
     "start_time": "2022-11-11T22:31:22.610961Z"
    }
   },
   "outputs": [
    {
     "name": "stdout",
     "output_type": "stream",
     "text": [
      "0.03976367193036135\n"
     ]
    }
   ],
   "source": [
    "#Постройте прогноз выработки газа для всех скважин из обучающего набора данных. \n",
    "#Чему равно значение метрики MAPE вашей модели? \n",
    "from sklearn.metrics import mean_absolute_percentage_error\n",
    "y_pred = reg.predict(X_test)\n",
    "print(mean_absolute_percentage_error(y_test, y_pred))\n",
    "\n",
    "\n"
   ]
  },
  {
   "cell_type": "markdown",
   "id": "a8f54f93",
   "metadata": {},
   "source": [
    "## Задание 2.5"
   ]
  },
  {
   "cell_type": "code",
   "execution_count": 10,
   "id": "dff14633",
   "metadata": {
    "ExecuteTime": {
     "end_time": "2022-11-11T22:31:22.641967Z",
     "start_time": "2022-11-11T22:31:22.628964Z"
    }
   },
   "outputs": [],
   "source": [
    "#Исключите из данных сильно коррелированные между собой факторы.\n",
    "del X['Por']\n",
    "# Он больше всего\n",
    "X_train, X_test, y_train, y_test = train_test_split(X, y)\n"
   ]
  },
  {
   "cell_type": "code",
   "execution_count": 11,
   "id": "39d1ba63",
   "metadata": {
    "ExecuteTime": {
     "end_time": "2022-11-11T22:31:22.656971Z",
     "start_time": "2022-11-11T22:31:22.642968Z"
    }
   },
   "outputs": [],
   "source": [
    "#Постройте линейную регрессию на обновлённых после удаления факторов данных по методу наименьших квадратов.\n",
    "reg = LinearRegression().fit(X_train, y_train) "
   ]
  },
  {
   "cell_type": "code",
   "execution_count": 12,
   "id": "0221bdd4",
   "metadata": {
    "ExecuteTime": {
     "end_time": "2022-11-11T22:31:22.672975Z",
     "start_time": "2022-11-11T22:31:22.657971Z"
    }
   },
   "outputs": [
    {
     "name": "stdout",
     "output_type": "stream",
     "text": [
      "0.06740879426909897\n"
     ]
    }
   ],
   "source": [
    "# Сделайте прогноз для всего обучающего набора данных и рассчитайте метрику MAPE (Mean Absolute Percentage Error).\n",
    "y_pred = reg.predict(X_test)\n",
    "print(mean_absolute_percentage_error(y_test, y_pred))"
   ]
  },
  {
   "cell_type": "markdown",
   "id": "32ed08bf",
   "metadata": {},
   "source": [
    "# ура-ура"
   ]
  },
  {
   "cell_type": "code",
   "execution_count": null,
   "id": "051e6379",
   "metadata": {
    "ExecuteTime": {
     "end_time": "2022-11-11T22:14:58.243117Z",
     "start_time": "2022-11-11T22:14:58.211111Z"
    }
   },
   "outputs": [],
   "source": []
  },
  {
   "cell_type": "markdown",
   "id": "7237eeb2",
   "metadata": {},
   "source": [
    "## Задание 3.1"
   ]
  },
  {
   "cell_type": "code",
   "execution_count": 13,
   "id": "df24f446",
   "metadata": {
    "ExecuteTime": {
     "end_time": "2022-11-11T22:31:22.688978Z",
     "start_time": "2022-11-11T22:31:22.673974Z"
    }
   },
   "outputs": [],
   "source": [
    "#Сгенерируйте полиномиальные признаки третьего порядка на факторах, которые вы выбрали для обучения моделей\n",
    "from sklearn.preprocessing import PolynomialFeatures\n",
    "from sklearn.model_selection import KFold\n",
    "poly = PolynomialFeatures(degree=3)\n",
    "X_poly = poly.fit_transform(X)\n"
   ]
  },
  {
   "cell_type": "code",
   "execution_count": 14,
   "id": "a97c954b",
   "metadata": {
    "ExecuteTime": {
     "end_time": "2022-11-11T22:31:22.720986Z",
     "start_time": "2022-11-11T22:31:22.689978Z"
    }
   },
   "outputs": [
    {
     "name": "stdout",
     "output_type": "stream",
     "text": [
      "MAPE на тренировочных фолдах: 8.49 %\n",
      "MAPE на валидационных фолдах: 31.25 %\n"
     ]
    }
   ],
   "source": [
    "#Обучите модель линейной регрессии из библиотеки sklearn (LinearRegression) на полученных полиномиальных факторах.\n",
    "#Оцените среднее значение метрики MAPE, используя кросс-валидацию на пяти фолдах.\n",
    "from sklearn.model_selection import cross_validate\n",
    "lr = LinearRegression()\n",
    "cv_results = cross_validate(lr, X_poly, y, scoring='neg_mean_absolute_percentage_error', cv=5, return_train_score=True)\n",
    "print('MAPE на тренировочных фолдах: {:.2f} %'.format(-cv_results['train_score'].mean()* 100))\n",
    "print('MAPE на валидационных фолдах: {:.2f} %'.format(-cv_results['test_score'].mean() * 100))"
   ]
  },
  {
   "cell_type": "markdown",
   "id": "0180433f",
   "metadata": {},
   "source": [
    "## Задание 3.2"
   ]
  },
  {
   "cell_type": "code",
   "execution_count": 15,
   "id": "bb4c1aa9",
   "metadata": {
    "ExecuteTime": {
     "end_time": "2022-11-11T22:31:22.736989Z",
     "start_time": "2022-11-11T22:31:22.721985Z"
    }
   },
   "outputs": [
    {
     "name": "stdout",
     "output_type": "stream",
     "text": [
      "MAPE на тренировочных фолдах: 7.16 %\n",
      "MAPE на валидационных фолдах: 8.00 %\n"
     ]
    }
   ],
   "source": [
    "# Обучите модель Lasso из библиотеки sklearn на полученных полиномиальных факторах, предварительно стандартизировав факторы с помощью StandardScaler. Коэффициент регуляризации выставите равным 5.\n",
    "from sklearn.preprocessing import StandardScaler\n",
    "from sklearn import linear_model\n",
    "scaler = StandardScaler()\n",
    "poly = PolynomialFeatures(degree=3)\n",
    "X = scaler.fit_transform(X)\n",
    "X_poly = scaler.fit_transform(X)\n",
    "clf = linear_model.Lasso(alpha=0.1)\n",
    "#Оцените среднее значение метрики MAPE, используя кросс-валидацию на пяти фолдах.\n",
    "cv_results = cross_validate(lr, X_poly, y, scoring='neg_mean_absolute_percentage_error', cv=5, return_train_score=True)\n",
    "print('MAPE на тренировочных фолдах: {:.2f} %'.format(-cv_results['train_score'].mean()* 100))\n",
    "print('MAPE на валидационных фолдах: {:.2f} %'.format(-cv_results['test_score'].mean() * 100))"
   ]
  },
  {
   "cell_type": "markdown",
   "id": "74c83404",
   "metadata": {},
   "source": [
    "## Задание 3.3"
   ]
  },
  {
   "cell_type": "code",
   "execution_count": 16,
   "id": "9e0bed7a",
   "metadata": {
    "ExecuteTime": {
     "end_time": "2022-11-11T22:31:22.752993Z",
     "start_time": "2022-11-11T22:31:22.737988Z"
    }
   },
   "outputs": [
    {
     "name": "stdout",
     "output_type": "stream",
     "text": [
      "MAPE на тренировочных фолдах: 7.62 %\n",
      "MAPE на валидационных фолдах: 8.32 %\n"
     ]
    }
   ],
   "source": [
    "#Обучите модель Ridge из библиотеки sklearn на полученных полиномиальных факторах, предварительно стандартизировав факторы с помощью StandardScaler. Коэффициент регуляризации выставите равным 1.\n",
    "from sklearn.preprocessing import StandardScaler\n",
    "from sklearn.linear_model import Ridge\n",
    "from sklearn import linear_model\n",
    "scaler = StandardScaler()\n",
    "poly = PolynomialFeatures(degree=3)\n",
    "X = scaler.fit_transform(X)\n",
    "X_poly = scaler.fit_transform(X)\n",
    "ridge = Ridge(alpha=20, solver='svd')\n",
    "#Оцените среднее значение метрики MAPE, используя кросс-валидацию на пяти фолдах.\n",
    "cv_results = cross_validate(ridge, X_poly, y, scoring='neg_mean_absolute_percentage_error', cv=5, return_train_score=True)\n",
    "print('MAPE на тренировочных фолдах: {:.2f} %'.format(-cv_results['train_score'].mean()* 100))\n",
    "print('MAPE на валидационных фолдах: {:.2f} %'.format(-cv_results['test_score'].mean() * 100))"
   ]
  },
  {
   "cell_type": "markdown",
   "id": "6af8a4e8",
   "metadata": {},
   "source": [
    "# Спасибо за проверку! "
   ]
  }
 ],
 "metadata": {
  "kernelspec": {
   "display_name": "Python 3 (ipykernel)",
   "language": "python",
   "name": "python3"
  },
  "language_info": {
   "codemirror_mode": {
    "name": "ipython",
    "version": 3
   },
   "file_extension": ".py",
   "mimetype": "text/x-python",
   "name": "python",
   "nbconvert_exporter": "python",
   "pygments_lexer": "ipython3",
   "version": "3.9.12"
  },
  "varInspector": {
   "cols": {
    "lenName": 16,
    "lenType": 16,
    "lenVar": 40
   },
   "kernels_config": {
    "python": {
     "delete_cmd_postfix": "",
     "delete_cmd_prefix": "del ",
     "library": "var_list.py",
     "varRefreshCmd": "print(var_dic_list())"
    },
    "r": {
     "delete_cmd_postfix": ") ",
     "delete_cmd_prefix": "rm(",
     "library": "var_list.r",
     "varRefreshCmd": "cat(var_dic_list()) "
    }
   },
   "types_to_exclude": [
    "module",
    "function",
    "builtin_function_or_method",
    "instance",
    "_Feature"
   ],
   "window_display": false
  }
 },
 "nbformat": 4,
 "nbformat_minor": 5
}
