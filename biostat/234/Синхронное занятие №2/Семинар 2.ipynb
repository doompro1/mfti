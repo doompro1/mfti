{
 "cells": [
  {
   "cell_type": "code",
   "execution_count": 109,
   "id": "85dd37a4",
   "metadata": {},
   "outputs": [],
   "source": [
    "# Загружаем библиотеки\n",
    "import numpy as np\n",
    "import matplotlib.pyplot as plt\n",
    "import pandas as pd\n",
    "import scipy.stats as st\n",
    "import random\n",
    "import seaborn as sns\n",
    "import math"
   ]
  },
  {
   "cell_type": "markdown",
   "id": "b73c1613",
   "metadata": {},
   "source": [
    "## <font color = green> Задание №1 </font>\n",
    "Построение 95% доверительного интервала для выборки"
   ]
  },
  {
   "cell_type": "code",
   "execution_count": 89,
   "id": "16c74cdd",
   "metadata": {},
   "outputs": [
    {
     "name": "stdout",
     "output_type": "stream",
     "text": [
      "Всего наблюдений: 200\n"
     ]
    },
    {
     "data": {
      "text/html": [
       "<div>\n",
       "<style scoped>\n",
       "    .dataframe tbody tr th:only-of-type {\n",
       "        vertical-align: middle;\n",
       "    }\n",
       "\n",
       "    .dataframe tbody tr th {\n",
       "        vertical-align: top;\n",
       "    }\n",
       "\n",
       "    .dataframe thead th {\n",
       "        text-align: right;\n",
       "    }\n",
       "</style>\n",
       "<table border=\"1\" class=\"dataframe\">\n",
       "  <thead>\n",
       "    <tr style=\"text-align: right;\">\n",
       "      <th></th>\n",
       "      <th>№</th>\n",
       "      <th>Value</th>\n",
       "    </tr>\n",
       "  </thead>\n",
       "  <tbody>\n",
       "    <tr>\n",
       "      <th>0</th>\n",
       "      <td>0</td>\n",
       "      <td>10.405433</td>\n",
       "    </tr>\n",
       "    <tr>\n",
       "      <th>1</th>\n",
       "      <td>1</td>\n",
       "      <td>6.847904</td>\n",
       "    </tr>\n",
       "    <tr>\n",
       "      <th>2</th>\n",
       "      <td>2</td>\n",
       "      <td>10.171496</td>\n",
       "    </tr>\n",
       "  </tbody>\n",
       "</table>\n",
       "</div>"
      ],
      "text/plain": [
       "   №      Value\n",
       "0  0  10.405433\n",
       "1  1   6.847904\n",
       "2  2  10.171496"
      ]
     },
     "execution_count": 89,
     "metadata": {},
     "output_type": "execute_result"
    }
   ],
   "source": [
    "# Импортируем файл с данными\n",
    "task_1 = pd.read_excel('file_1.xlsx')\n",
    "print('Всего наблюдений:', len(task_1))\n",
    "\n",
    "task_1.head(3)"
   ]
  },
  {
   "cell_type": "code",
   "execution_count": 90,
   "id": "d7082be4",
   "metadata": {},
   "outputs": [
    {
     "name": "stdout",
     "output_type": "stream",
     "text": [
      "Среднее по выборке равно:  14.4056783306397\n",
      "Стандартное отклонение равно: 5.207907315704131\n"
     ]
    }
   ],
   "source": [
    "#Найдем по выборке среднее значение и стандартное отклонение\n",
    "m = np.mean(task_1['Value'])\n",
    "s = np.std(task_1['Value'])\n",
    "print('Среднее по выборке равно: ', m)\n",
    "print('Стандартное отклонение равно:', s)"
   ]
  },
  {
   "cell_type": "code",
   "execution_count": 91,
   "id": "a2478d98",
   "metadata": {},
   "outputs": [
    {
     "name": "stdout",
     "output_type": "stream",
     "text": [
      "95% доверительный интервал среднего: (3.99, 23.96)\n"
     ]
    }
   ],
   "source": [
    "# Проверим, принадлежит ли выборка популяции с нормальным распределением со средним 15 и дисперсией 4\n",
    "# Рассчитаем 95% ДИ\n",
    "lower = np.percentile(task_1['Value'], 2.5)\n",
    "upper = np.percentile(task_1['Value'], 97.5)\n",
    "print(\"95% доверительный интервал среднего:\", (round(lower, 2), round(upper, 2)))"
   ]
  },
  {
   "cell_type": "code",
   "execution_count": 92,
   "id": "7770792e",
   "metadata": {},
   "outputs": [
    {
     "name": "stdout",
     "output_type": "stream",
     "text": [
      "95% доверительный интервал среднего (z-распределение): (4.198367557036935, 24.612989104242466)\n"
     ]
    }
   ],
   "source": [
    "#Проверим доверительный интервал с помощью библиотеки scipy\n",
    "# Рассчитаем 95% ДИ, используя t-распределение\n",
    "CI_1 = st.norm.interval(alpha=0.95, loc=m, scale=s)\n",
    "print(\"95% доверительный интервал среднего (z-распределение):\", CI_1)"
   ]
  },
  {
   "cell_type": "markdown",
   "id": "d93aac24",
   "metadata": {},
   "source": [
    "Для маленьких выборок (20-100 объектов) z-распределение дает большую ошибку, поэтому лучше использовать t-распределение"
   ]
  },
  {
   "cell_type": "code",
   "execution_count": 98,
   "id": "72a79f6d",
   "metadata": {},
   "outputs": [
    {
     "name": "stdout",
     "output_type": "stream",
     "text": [
      "Количество наблюдений в подвыборке: 20\n"
     ]
    }
   ],
   "source": [
    "#Выберем 30 объектов случайно из датафрейма:\n",
    "np.random.seed(0)\n",
    "sample_1 = task_1.sample(n = 20)\n",
    "\n",
    "print('Количество наблюдений в подвыборке:', len(sample_1))"
   ]
  },
  {
   "cell_type": "code",
   "execution_count": 101,
   "id": "ec0bcd28",
   "metadata": {},
   "outputs": [
    {
     "name": "stdout",
     "output_type": "stream",
     "text": [
      "95% доверительный интервал среднего (z-распределение): (7.3379253841529355, 22.344206793650756)\n",
      "95% доверительный интервал среднего (t-распределение): (6.828544378032468, 22.853587799771223)\n"
     ]
    }
   ],
   "source": [
    "#z-распределение\n",
    "CI_z = st.norm.interval(alpha=0.95, loc=np.mean(sample_1['Value']), scale=np.std(sample_1['Value']))\n",
    "print(\"95% доверительный интервал среднего (z-распределение):\", CI_z)\n",
    "\n",
    "#t-распределение\n",
    "CI_t = st.t.interval(alpha=0.95, df=len(sample_1['Value'])-1, loc=np.mean(sample_1['Value']), scale=np.std(sample_1['Value']))\n",
    "print(\"95% доверительный интервал среднего (t-распределение):\", CI_t)\n"
   ]
  },
  {
   "cell_type": "markdown",
   "id": "0c468e1a",
   "metadata": {},
   "source": [
    "## <font color = green> Задание №2 </font>\n",
    "Расчет p-value и тестирование гипотез"
   ]
  },
  {
   "cell_type": "code",
   "execution_count": 136,
   "id": "6f6d2b80",
   "metadata": {},
   "outputs": [
    {
     "name": "stdout",
     "output_type": "stream",
     "text": [
      "Всего наблюдений: 365\n"
     ]
    }
   ],
   "source": [
    "# Импортируем файл с данными\n",
    "task_2 = pd.read_excel('file_2.xlsx')\n",
    "print('Всего наблюдений:', len(task_2))"
   ]
  },
  {
   "cell_type": "code",
   "execution_count": 143,
   "id": "cc0f4acf",
   "metadata": {},
   "outputs": [
    {
     "data": {
      "text/html": [
       "<div>\n",
       "<style scoped>\n",
       "    .dataframe tbody tr th:only-of-type {\n",
       "        vertical-align: middle;\n",
       "    }\n",
       "\n",
       "    .dataframe tbody tr th {\n",
       "        vertical-align: top;\n",
       "    }\n",
       "\n",
       "    .dataframe thead th {\n",
       "        text-align: right;\n",
       "    }\n",
       "</style>\n",
       "<table border=\"1\" class=\"dataframe\">\n",
       "  <thead>\n",
       "    <tr style=\"text-align: right;\">\n",
       "      <th></th>\n",
       "      <th>№</th>\n",
       "      <th>Quantity</th>\n",
       "    </tr>\n",
       "  </thead>\n",
       "  <tbody>\n",
       "    <tr>\n",
       "      <th>106</th>\n",
       "      <td>107</td>\n",
       "      <td>225</td>\n",
       "    </tr>\n",
       "    <tr>\n",
       "      <th>259</th>\n",
       "      <td>260</td>\n",
       "      <td>198</td>\n",
       "    </tr>\n",
       "    <tr>\n",
       "      <th>45</th>\n",
       "      <td>46</td>\n",
       "      <td>193</td>\n",
       "    </tr>\n",
       "  </tbody>\n",
       "</table>\n",
       "</div>"
      ],
      "text/plain": [
       "       №  Quantity\n",
       "106  107       225\n",
       "259  260       198\n",
       "45    46       193"
      ]
     },
     "execution_count": 143,
     "metadata": {},
     "output_type": "execute_result"
    }
   ],
   "source": [
    "#Проверим гипотезу, что в среднем в день отправляли 200 (а не больше) сообщений в чате по 35 дням\n",
    "#Уровень значимости равен 5%\n",
    "M200 = 200\n",
    "n = 35\n",
    "a = 0.05\n",
    "\n",
    "#Выберем 35 дней\n",
    "np.random.seed(0)\n",
    "sample_2 = task_2.sample(n = 35)\n",
    "\n",
    "sample_2.head(3)"
   ]
  },
  {
   "cell_type": "code",
   "execution_count": 138,
   "id": "b2952be0",
   "metadata": {},
   "outputs": [
    {
     "data": {
      "text/plain": [
       "<AxesSubplot:ylabel='Count'>"
      ]
     },
     "execution_count": 138,
     "metadata": {},
     "output_type": "execute_result"
    },
    {
     "data": {
      "image/png": "[encoded data removed]",
      "text/plain": [
       "<Figure size 432x288 with 1 Axes>"
      ]
     },
     "metadata": {
      "needs_background": "light"
     },
     "output_type": "display_data"
    }
   ],
   "source": [
    "#Построим график\n",
    "x = np.asarray(sample_2['Quantity'])\n",
    "sns.histplot(x, bins=10)"
   ]
  },
  {
   "cell_type": "code",
   "execution_count": 139,
   "id": "01920436",
   "metadata": {},
   "outputs": [
    {
     "data": {
      "text/plain": [
       "[<matplotlib.lines.Line2D at 0x12750341100>]"
      ]
     },
     "execution_count": 139,
     "metadata": {},
     "output_type": "execute_result"
    },
    {
     "data": {
      "image/png": "[encoded data removed]",
      "text/plain": [
       "<Figure size 432x288 with 1 Axes>"
      ]
     },
     "metadata": {
      "needs_background": "light"
     },
     "output_type": "display_data"
    }
   ],
   "source": [
    "#Построим кривую нормального распределения со средним 200:\n",
    "x = np.arange (140, 280, 1)\n",
    "plt.plot(x, st.norm.pdf (x, 200, 25))"
   ]
  },
  {
   "cell_type": "code",
   "execution_count": 142,
   "id": "c2fe837e",
   "metadata": {},
   "outputs": [
    {
     "name": "stdout",
     "output_type": "stream",
     "text": [
      "P-value по итогам тестирования гипотезы равно:  0.043644844181608855\n"
     ]
    }
   ],
   "source": [
    "#Найдем среднее и стандартное отклонение\n",
    "m2 = np.mean(task_2['Quantity'])\n",
    "s2 = np.std(task_2['Quantity'])\n",
    "\n",
    "#Найдем доверительные интервалы для t-распределения\n",
    "t_2 = (m2-M200)/(s2/np.sqrt(n))\n",
    "p_value2 = 1-st.t.cdf(t_2, df=n-1)\n",
    "print('P-value по итогам тестирования гипотезы равно: ', p_value2)"
   ]
  },
  {
   "cell_type": "code",
   "execution_count": 147,
   "id": "0954a40f",
   "metadata": {},
   "outputs": [
    {
     "name": "stdout",
     "output_type": "stream",
     "text": [
      "P-value меньше выбранного увроня значимости. Следовательно, основную гипотезу отклоняем: среднее количество сообщений в день было больше 200.\n"
     ]
    }
   ],
   "source": [
    "if p_value2 < a:\n",
    "    print('P-value меньше выбранного увроня значимости. Следовательно, основную гипотезу отклоняем: среднее количество сообщений в день было больше 200.')\n",
    "else:\n",
    "    print('P-value больше выбранного увроня значимости. Следовательно, основную гипотезу не отклоняем: среднее количество сообщений в день было 200.')"
   ]
  },
  {
   "cell_type": "code",
   "execution_count": null,
   "id": "04f3eb90",
   "metadata": {},
   "outputs": [],
   "source": []
  }
 ],
 "metadata": {
  "kernelspec": {
   "display_name": "Python 3",
   "language": "python",
   "name": "python3"
  },
  "language_info": {
   "codemirror_mode": {
    "name": "ipython",
    "version": 3
   },
   "file_extension": ".py",
   "mimetype": "text/x-python",
   "name": "python",
   "nbconvert_exporter": "python",
   "pygments_lexer": "ipython3",
   "version": "3.8.8"
  }
 },
 "nbformat": 4,
 "nbformat_minor": 5
}
