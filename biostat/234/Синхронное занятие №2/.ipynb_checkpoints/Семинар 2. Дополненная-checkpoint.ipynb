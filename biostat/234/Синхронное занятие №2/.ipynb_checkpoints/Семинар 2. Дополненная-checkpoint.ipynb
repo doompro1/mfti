{
 "cells": [
  {
   "cell_type": "code",
   "execution_count": 2,
   "id": "85dd37a4",
   "metadata": {},
   "outputs": [],
   "source": [
    "# Загружаем библиотеки\n",
    "import numpy as np\n",
    "import matplotlib.pyplot as plt\n",
    "import pandas as pd\n",
    "import scipy.stats as st\n",
    "import random\n",
    "import seaborn as sns\n",
    "import math"
   ]
  },
  {
   "cell_type": "markdown",
   "id": "3fc2d75a",
   "metadata": {},
   "source": [
    "## <font color = green> Задание №1 </font>\n",
    "Построение 95% доверительного интервала для выборки\n",
    "\n",
    "Для данных из файла 'file_1' проверьте, принадлежит ли выборка популяции со средним, равным 14.\n",
    "Также случайным образом отберите подвыборку из 30 элементов и проверьте для нее."
   ]
  },
  {
   "cell_type": "code",
   "execution_count": 3,
   "id": "16c74cdd",
   "metadata": {},
   "outputs": [
    {
     "name": "stdout",
     "output_type": "stream",
     "text": [
      "Всего наблюдений: 200\n"
     ]
    },
    {
     "data": {
      "text/html": [
       "<div>\n",
       "<style scoped>\n",
       "    .dataframe tbody tr th:only-of-type {\n",
       "        vertical-align: middle;\n",
       "    }\n",
       "\n",
       "    .dataframe tbody tr th {\n",
       "        vertical-align: top;\n",
       "    }\n",
       "\n",
       "    .dataframe thead th {\n",
       "        text-align: right;\n",
       "    }\n",
       "</style>\n",
       "<table border=\"1\" class=\"dataframe\">\n",
       "  <thead>\n",
       "    <tr style=\"text-align: right;\">\n",
       "      <th></th>\n",
       "      <th>№</th>\n",
       "      <th>Value</th>\n",
       "    </tr>\n",
       "  </thead>\n",
       "  <tbody>\n",
       "    <tr>\n",
       "      <th>0</th>\n",
       "      <td>0</td>\n",
       "      <td>10.405433</td>\n",
       "    </tr>\n",
       "    <tr>\n",
       "      <th>1</th>\n",
       "      <td>1</td>\n",
       "      <td>6.847904</td>\n",
       "    </tr>\n",
       "    <tr>\n",
       "      <th>2</th>\n",
       "      <td>2</td>\n",
       "      <td>10.171496</td>\n",
       "    </tr>\n",
       "  </tbody>\n",
       "</table>\n",
       "</div>"
      ],
      "text/plain": [
       "   №      Value\n",
       "0  0  10.405433\n",
       "1  1   6.847904\n",
       "2  2  10.171496"
      ]
     },
     "execution_count": 3,
     "metadata": {},
     "output_type": "execute_result"
    }
   ],
   "source": [
    "# Импортируем файл с данными\n",
    "task_1 = pd.read_excel('file_1.xlsx')\n",
    "print('Всего наблюдений:', len(task_1))\n",
    "\n",
    "task_1.head(3)"
   ]
  },
  {
   "cell_type": "code",
   "execution_count": 4,
   "id": "d7082be4",
   "metadata": {},
   "outputs": [
    {
     "name": "stdout",
     "output_type": "stream",
     "text": [
      "Среднее по выборке равно:  14.4056783306397\n",
      "Стандартное отклонение равно: 5.207907315704131\n"
     ]
    }
   ],
   "source": [
    "#Найдем по выборке среднее значение и стандартное отклонение\n",
    "m = np.mean(task_1['Value'])\n",
    "s = np.std(task_1['Value'])\n",
    "print('Среднее по выборке равно: ', m)\n",
    "print('Стандартное отклонение равно:', s)"
   ]
  },
  {
   "cell_type": "code",
   "execution_count": 5,
   "id": "a2478d98",
   "metadata": {},
   "outputs": [
    {
     "name": "stdout",
     "output_type": "stream",
     "text": [
      "95% доверительный интервал среднего: (3.99, 23.96)\n"
     ]
    }
   ],
   "source": [
    "# Проверим, принадлежит ли выборка популяции с нормальным распределением со средним 14\n",
    "# Рассчитаем 95% ДИ\n",
    "lower = np.percentile(task_1['Value'], 2.5)\n",
    "upper = np.percentile(task_1['Value'], 97.5)\n",
    "print(\"95% доверительный интервал среднего:\", (round(lower, 2), round(upper, 2)))"
   ]
  },
  {
   "cell_type": "code",
   "execution_count": 6,
   "id": "7770792e",
   "metadata": {},
   "outputs": [
    {
     "name": "stdout",
     "output_type": "stream",
     "text": [
      "95% доверительный интервал среднего (z-распределение): (4.198367557036935, 24.612989104242466)\n"
     ]
    }
   ],
   "source": [
    "#Проверим доверительный интервал с помощью библиотеки scipy\n",
    "# Рассчитаем 95% ДИ, используя z-распределение\n",
    "CI_1 = st.norm.interval(alpha=0.95, loc=m, scale=s)\n",
    "print(\"95% доверительный интервал среднего (z-распределение):\", CI_1)"
   ]
  },
  {
   "cell_type": "markdown",
   "id": "d93aac24",
   "metadata": {},
   "source": [
    "Для маленьких выборок (20-100 объектов) z-распределение дает большую ошибку, поэтому лучше использовать t-распределение"
   ]
  },
  {
   "cell_type": "code",
   "execution_count": 7,
   "id": "72a79f6d",
   "metadata": {},
   "outputs": [
    {
     "name": "stdout",
     "output_type": "stream",
     "text": [
      "Количество наблюдений в подвыборке: 30\n"
     ]
    }
   ],
   "source": [
    "#Выберем 30 объектов случайно из датафрейма:\n",
    "np.random.seed(0)\n",
    "sample_1 = task_1.sample(n = 30)\n",
    "\n",
    "print('Количество наблюдений в подвыборке:', len(sample_1))"
   ]
  },
  {
   "cell_type": "code",
   "execution_count": 8,
   "id": "ec0bcd28",
   "metadata": {},
   "outputs": [
    {
     "name": "stdout",
     "output_type": "stream",
     "text": [
      "95% доверительный интервал среднего (z-распределение): (6.707932294542735, 23.471717942320524)\n",
      "95% доверительный интервал среднего (t-распределение): (6.3432890617398066, 23.836361175123454)\n"
     ]
    }
   ],
   "source": [
    "#z-распределение\n",
    "CI_z = st.norm.interval(alpha=0.95, loc=np.mean(sample_1['Value']), scale=np.std(sample_1['Value']))\n",
    "print(\"95% доверительный интервал среднего (z-распределение):\", CI_z)\n",
    "\n",
    "#t-распределение\n",
    "CI_t = st.t.interval(alpha=0.95, df=len(sample_1['Value'])-1, loc=np.mean(sample_1['Value']), scale=np.std(sample_1['Value']))\n",
    "print(\"95% доверительный интервал среднего (t-распределение):\", CI_t)\n"
   ]
  },
  {
   "cell_type": "markdown",
   "id": "28a3b285",
   "metadata": {},
   "source": [
    "## <font color = green> Задание №2 </font>\n",
    "Расчет p-value и тестирование гипотез\n",
    "\n",
    "В файле 'file_2' представлены данные за год со средним количеством сообщений в день, отправленных в чат.\n",
    "Существует гипотеза, что в среднем было отправлено 200 сообщений в день. Альтернативная гипотеза: больше 200 сообщений.\n",
    "Проверьте это с помощью доверительного интервала и p-value. Используйте для этого подвыборку из 50 дней.\n",
    "Возьмите уровень значимости равным 10%."
   ]
  },
  {
   "cell_type": "code",
   "execution_count": 12,
   "id": "6f6d2b80",
   "metadata": {},
   "outputs": [
    {
     "name": "stdout",
     "output_type": "stream",
     "text": [
      "Всего наблюдений: 365\n"
     ]
    }
   ],
   "source": [
    "# Импортируем файл с данными\n",
    "task_2 = pd.read_excel('file_2.xlsx')\n",
    "print('Всего наблюдений:', len(task_2))"
   ]
  },
  {
   "cell_type": "code",
   "execution_count": 14,
   "id": "cc0f4acf",
   "metadata": {},
   "outputs": [
    {
     "data": {
      "text/html": [
       "<div>\n",
       "<style scoped>\n",
       "    .dataframe tbody tr th:only-of-type {\n",
       "        vertical-align: middle;\n",
       "    }\n",
       "\n",
       "    .dataframe tbody tr th {\n",
       "        vertical-align: top;\n",
       "    }\n",
       "\n",
       "    .dataframe thead th {\n",
       "        text-align: right;\n",
       "    }\n",
       "</style>\n",
       "<table border=\"1\" class=\"dataframe\">\n",
       "  <thead>\n",
       "    <tr style=\"text-align: right;\">\n",
       "      <th></th>\n",
       "      <th>№</th>\n",
       "      <th>Quantity</th>\n",
       "    </tr>\n",
       "  </thead>\n",
       "  <tbody>\n",
       "    <tr>\n",
       "      <th>106</th>\n",
       "      <td>107</td>\n",
       "      <td>225</td>\n",
       "    </tr>\n",
       "    <tr>\n",
       "      <th>259</th>\n",
       "      <td>260</td>\n",
       "      <td>198</td>\n",
       "    </tr>\n",
       "    <tr>\n",
       "      <th>45</th>\n",
       "      <td>46</td>\n",
       "      <td>193</td>\n",
       "    </tr>\n",
       "  </tbody>\n",
       "</table>\n",
       "</div>"
      ],
      "text/plain": [
       "       №  Quantity\n",
       "106  107       225\n",
       "259  260       198\n",
       "45    46       193"
      ]
     },
     "execution_count": 14,
     "metadata": {},
     "output_type": "execute_result"
    }
   ],
   "source": [
    "#Проверим гипотезу, что в среднем в день отправляли 200 (а не больше) сообщений в чате по выборке из 50 дней\n",
    "#Уровень значимости равен 10%\n",
    "M200 = 200\n",
    "n = 50\n",
    "a = 0.1\n",
    "\n",
    "#Выберем 50 дней\n",
    "np.random.seed(0)\n",
    "sample_2 = task_2.sample(n = 50)\n",
    "\n",
    "sample_2.head(3)"
   ]
  },
  {
   "cell_type": "code",
   "execution_count": 15,
   "id": "b2952be0",
   "metadata": {},
   "outputs": [
    {
     "data": {
      "text/plain": [
       "<AxesSubplot:ylabel='Count'>"
      ]
     },
     "execution_count": 15,
     "metadata": {},
     "output_type": "execute_result"
    },
    {
     "data": {
      "image/png": "[encoded data removed]",
      "text/plain": [
       "<Figure size 432x288 with 1 Axes>"
      ]
     },
     "metadata": {
      "needs_background": "light"
     },
     "output_type": "display_data"
    }
   ],
   "source": [
    "#Построим график\n",
    "x = np.asarray(sample_2['Quantity'])\n",
    "sns.histplot(x, bins=10)"
   ]
  },
  {
   "cell_type": "code",
   "execution_count": 16,
   "id": "01920436",
   "metadata": {},
   "outputs": [
    {
     "data": {
      "text/plain": [
       "[<matplotlib.lines.Line2D at 0x2005722fd90>]"
      ]
     },
     "execution_count": 16,
     "metadata": {},
     "output_type": "execute_result"
    },
    {
     "data": {
      "image/png": "[encoded data removed]",
      "text/plain": [
       "<Figure size 432x288 with 1 Axes>"
      ]
     },
     "metadata": {
      "needs_background": "light"
     },
     "output_type": "display_data"
    }
   ],
   "source": [
    "#Построим кривую нормального распределения со средним 200:\n",
    "x = np.arange (140, 280, 1)\n",
    "plt.plot(x, st.norm.pdf (x, 200, 25))"
   ]
  },
  {
   "cell_type": "code",
   "execution_count": 17,
   "id": "c2fe837e",
   "metadata": {},
   "outputs": [
    {
     "name": "stdout",
     "output_type": "stream",
     "text": [
      "P-value по итогам тестирования гипотезы равно:  0.0823155140552927\n"
     ]
    }
   ],
   "source": [
    "#Найдем среднее и стандартное отклонение\n",
    "m2 = np.mean(sample_2['Quantity'])\n",
    "s2 = np.std(sample_2['Quantity'])\n",
    "\n",
    "#Найдем t-статистику\n",
    "t_2 = (m2-M200)/(s2/np.sqrt(n))\n",
    "\n",
    "#Найдем p-value для найденной статистики (для одностороннего интервала)\n",
    "p_value2 = 1-st.t.cdf(t_2, df=n-1)\n",
    "\n",
    "print('P-value по итогам тестирования гипотезы равно: ', p_value2)"
   ]
  },
  {
   "cell_type": "code",
   "execution_count": 65,
   "id": "0954a40f",
   "metadata": {},
   "outputs": [
    {
     "name": "stdout",
     "output_type": "stream",
     "text": [
      "P-value меньше выбранного уровня значимости. Следовательно, основную гипотезу отклоняем: среднее количество сообщений в день было больше 200.\n"
     ]
    }
   ],
   "source": [
    "if p_value2 < a:\n",
    "    print('P-value меньше выбранного уровня значимости. Следовательно, основную гипотезу отклоняем: среднее количество сообщений в день было больше 200.')\n",
    "else:\n",
    "    print('P-value больше выбранного уровня значимости. Следовательно, основную гипотезу не отклоняем: среднее количество сообщений в день было 200.')"
   ]
  },
  {
   "cell_type": "code",
   "execution_count": 20,
   "id": "464b2b25",
   "metadata": {},
   "outputs": [
    {
     "name": "stdout",
     "output_type": "stream",
     "text": [
      "Критическое значение для 90%: 1.2990687845090696\n",
      "Расчитанная t-статистика: 1.4107662081714105\n"
     ]
    }
   ],
   "source": [
    "#Сравним результаты, полученные по p-value с доверительным интервалом (односторонним) для 90%\n",
    "#Найдем критическое значение\n",
    "t_critical = st.t.ppf(0.90, n-1)\n",
    "\n",
    "print(\"Критическое значение для 90%:\", t_critical)\n",
    "print('Расчитанная t-статистика:', t_2)"
   ]
  },
  {
   "cell_type": "code",
   "execution_count": 62,
   "id": "3fe0f1ec",
   "metadata": {},
   "outputs": [
    {
     "name": "stdout",
     "output_type": "stream",
     "text": [
      "Расчитанная статитика лежит справа от критического значения. Следовательно, основную гипотезу отклоняем: среднее количество сообщений в день было больше 200.\n"
     ]
    }
   ],
   "source": [
    "if t_2 < t_critical:\n",
    "    print('Расчитанная статитика лежит слева от критического значения. Следовательно, основную гипотезу не отклоняем: среднее количество сообщений в день было 200.')\n",
    "else:\n",
    "    print('Расчитанная статитика лежит справа от критического значения. Следовательно, основную гипотезу отклоняем: среднее количество сообщений в день было больше 200.')"
   ]
  },
  {
   "cell_type": "markdown",
   "id": "c5448ee7",
   "metadata": {},
   "source": [
    "## <font color = green> Задание №3 </font>\n",
    "Гипотеза для двух выборок.\n",
    "\n",
    "Сгенерируйте 2 выборки от 21 до 43. Проверьте, равны ли средние у получившихся выборок.\n",
    "При расчете статистики и выборе теста обращайте внимание на предпосылки. Уровень значимости - 5%."
   ]
  },
  {
   "cell_type": "code",
   "execution_count": 34,
   "id": "b15a1f9c",
   "metadata": {},
   "outputs": [],
   "source": [
    "#Сгенерируем данные от 21 до 43 кг\n",
    "group1 = [21, 37, 34, 33, 41, 25, 26, 29, 35, 37, 38, 41, 34]\n",
    "group2 = [23, 43, 38, 37, 32, 24, 27, 29, 37, 35, 32]"
   ]
  },
  {
   "cell_type": "code",
   "execution_count": 35,
   "id": "c099e596",
   "metadata": {},
   "outputs": [
    {
     "name": "stdout",
     "output_type": "stream",
     "text": [
      "Среднее и стандартное отклонение первой выборки: 33.15 и 5.97\n",
      "Среднее и стандартное отклонение второй выборки: 32.45 и 5.98\n"
     ]
    }
   ],
   "source": [
    "#Найдем средние выборочные и стандартные отклонения\n",
    "\n",
    "m_g1 = np.mean(group1)\n",
    "m_g2 = np.mean(group2)\n",
    "s_g1 = np.std(group1)\n",
    "s_g2 = np.std(group2)\n",
    "\n",
    "print('Среднее и стандартное отклонение первой выборки:', round(m_g1,2), 'и', round(s_g1,2))\n",
    "print('Среднее и стандартное отклонение второй выборки:', round(m_g2,2), 'и', round(s_g2,2))"
   ]
  },
  {
   "cell_type": "code",
   "execution_count": 36,
   "id": "324da2a7",
   "metadata": {},
   "outputs": [
    {
     "data": {
      "text/plain": [
       "Ttest_indResult(statistic=0.27358633827584844, pvalue=0.7869546251019248)"
      ]
     },
     "execution_count": 36,
     "metadata": {},
     "output_type": "execute_result"
    }
   ],
   "source": [
    "st.ttest_ind (a=group1, b=group2)"
   ]
  },
  {
   "cell_type": "markdown",
   "id": "659ab531",
   "metadata": {},
   "source": [
    "## <font color = green> Дополнительные задания </font>\n",
    "\n",
    "Доверительный интервал для хи-квадрат распределения.\n",
    "Сгенерируйте данные и найдите 95% доверительный интервал."
   ]
  },
  {
   "cell_type": "code",
   "execution_count": 45,
   "id": "1a02d560",
   "metadata": {},
   "outputs": [
    {
     "name": "stdout",
     "output_type": "stream",
     "text": [
      "1000\n"
     ]
    }
   ],
   "source": [
    "#Генерация данных с хи-квадрат распределением\n",
    "np.random.seed(0)\n",
    "data_4 = np.random.chisquare(3, 1000)\n",
    "df_4 = pd.DataFrame(data_4)\n",
    "df_4.columns = ['Value']\n",
    "df_4.index.name = '№'\n",
    "\n",
    "#Записываем в файл, но можно сразу использовать df_4 (здесь +новые функции для изучения)\n",
    "df_4.to_excel(excel_writer = \"file_4.xlsx\")\n",
    "\n",
    "task_4 = pd.read_excel('file_4.xlsx')\n",
    "print(len(task_4))"
   ]
  },
  {
   "cell_type": "code",
   "execution_count": 46,
   "id": "4258227e",
   "metadata": {},
   "outputs": [
    {
     "data": {
      "text/plain": [
       "<AxesSubplot:ylabel='Count'>"
      ]
     },
     "execution_count": 46,
     "metadata": {},
     "output_type": "execute_result"
    },
    {
     "data": {
      "image/png": "[encoded data removed]",
      "text/plain": [
       "<Figure size 432x288 with 1 Axes>"
      ]
     },
     "metadata": {
      "needs_background": "light"
     },
     "output_type": "display_data"
    }
   ],
   "source": [
    "x = np.array(task_4['Value'])\n",
    "sns.histplot(x, bins=100)"
   ]
  },
  {
   "cell_type": "code",
   "execution_count": 47,
   "id": "06719125",
   "metadata": {},
   "outputs": [
    {
     "data": {
      "text/plain": [
       "[<matplotlib.lines.Line2D at 0x200577c7820>]"
      ]
     },
     "execution_count": 47,
     "metadata": {},
     "output_type": "execute_result"
    },
    {
     "data": {
      "image/png": "[encoded data removed]",
      "text/plain": [
       "<Figure size 432x288 with 1 Axes>"
      ]
     },
     "metadata": {
      "needs_background": "light"
     },
     "output_type": "display_data"
    }
   ],
   "source": [
    "#Посмотрим, как выглядит хи-квадрат распределение\n",
    "x_4 = np.arange (0, 20, 0.001)\n",
    "plt.plot (x_4, st.chi2.pdf (x_4, df= 4 ))"
   ]
  },
  {
   "cell_type": "markdown",
   "id": "cf205fe6",
   "metadata": {},
   "source": [
    "Принадлежит ли выборка популяции со средним, равным 1000?"
   ]
  },
  {
   "cell_type": "code",
   "execution_count": 49,
   "id": "54e685ce",
   "metadata": {},
   "outputs": [
    {
     "name": "stdout",
     "output_type": "stream",
     "text": [
      "95% доверительный интервал среднего (хи2-распределение): (913.3009983021134, 1088.4870677259353)\n"
     ]
    }
   ],
   "source": [
    "CI_chi2 = st.chi2.interval(alpha=0.95, df=len(task_4['Value'])-1)\n",
    "print(\"95% доверительный интервал среднего (хи2-распределение):\", CI_chi2)"
   ]
  },
  {
   "cell_type": "markdown",
   "id": "d9becb40",
   "metadata": {},
   "source": [
    "## <font color = green> Дополнительные задания </font>\n",
    "\n",
    "Сгенерируйте данные (500 элементов) с нормальным распределением, средним 55 и стандартным отклонением 15.\n",
    "Случайным образом выберите 35 элементов и при 10% уровне значимости проверьте гипотезу о том, что среднее равно 50.\n",
    "Альтернативная гипотеза: среднее больше 50."
   ]
  },
  {
   "cell_type": "code",
   "execution_count": 52,
   "id": "45deda16",
   "metadata": {},
   "outputs": [],
   "source": [
    "np.random.seed(0)\n",
    "task_5 = np.random.normal(55, 15, 500)\n",
    "df_5 = pd.DataFrame(task_5)\n",
    "df_5.columns = ['Value']\n",
    "df_5.index.name = '№'"
   ]
  },
  {
   "cell_type": "code",
   "execution_count": 55,
   "id": "4affba2e",
   "metadata": {},
   "outputs": [],
   "source": [
    "n5 = 35\n",
    "M50 = 50\n",
    "a5 = 0.1"
   ]
  },
  {
   "cell_type": "code",
   "execution_count": 56,
   "id": "be8bd55c",
   "metadata": {},
   "outputs": [
    {
     "data": {
      "text/html": [
       "<div>\n",
       "<style scoped>\n",
       "    .dataframe tbody tr th:only-of-type {\n",
       "        vertical-align: middle;\n",
       "    }\n",
       "\n",
       "    .dataframe tbody tr th {\n",
       "        vertical-align: top;\n",
       "    }\n",
       "\n",
       "    .dataframe thead th {\n",
       "        text-align: right;\n",
       "    }\n",
       "</style>\n",
       "<table border=\"1\" class=\"dataframe\">\n",
       "  <thead>\n",
       "    <tr style=\"text-align: right;\">\n",
       "      <th></th>\n",
       "      <th>Value</th>\n",
       "    </tr>\n",
       "    <tr>\n",
       "      <th>№</th>\n",
       "      <th></th>\n",
       "    </tr>\n",
       "  </thead>\n",
       "  <tbody>\n",
       "    <tr>\n",
       "      <th>90</th>\n",
       "      <td>44.789341</td>\n",
       "    </tr>\n",
       "    <tr>\n",
       "      <th>254</th>\n",
       "      <td>72.090270</td>\n",
       "    </tr>\n",
       "    <tr>\n",
       "      <th>283</th>\n",
       "      <td>46.830004</td>\n",
       "    </tr>\n",
       "  </tbody>\n",
       "</table>\n",
       "</div>"
      ],
      "text/plain": [
       "         Value\n",
       "№             \n",
       "90   44.789341\n",
       "254  72.090270\n",
       "283  46.830004"
      ]
     },
     "execution_count": 56,
     "metadata": {},
     "output_type": "execute_result"
    }
   ],
   "source": [
    "np.random.seed(0)\n",
    "sample_5 = df_5.sample(n = n5)\n",
    "sample_5.head(3)"
   ]
  },
  {
   "cell_type": "code",
   "execution_count": 57,
   "id": "105e00de",
   "metadata": {},
   "outputs": [
    {
     "data": {
      "text/plain": [
       "<AxesSubplot:ylabel='Count'>"
      ]
     },
     "execution_count": 57,
     "metadata": {},
     "output_type": "execute_result"
    },
    {
     "data": {
      "image/png": "[encoded data removed]",
      "text/plain": [
       "<Figure size 432x288 with 1 Axes>"
      ]
     },
     "metadata": {
      "needs_background": "light"
     },
     "output_type": "display_data"
    }
   ],
   "source": [
    "x_5 = np.array(sample_5['Value'])\n",
    "sns.histplot(x_5, bins = 10)"
   ]
  },
  {
   "cell_type": "code",
   "execution_count": 60,
   "id": "6069362d",
   "metadata": {},
   "outputs": [
    {
     "name": "stdout",
     "output_type": "stream",
     "text": [
      "p-value равен  0.008530476399183473\n",
      "t-статистика равна  2.5084371043690172\n"
     ]
    }
   ],
   "source": [
    "m5 = np.mean(sample_5['Value'])\n",
    "s5 = np.std(sample_5['Value'])\n",
    "\n",
    "t_5 = (m5 - M50)/(s5/np.sqrt(n5))\n",
    "p_value_5 = 1 - st.t.cdf(t_5, df = n5-1)\n",
    "t_critical_5 = st.t.ppf(0.90, n5-1)\n",
    "\n",
    "print('p-value равен ', p_value_5)\n",
    "print('t-статистика равна ', t_5)"
   ]
  },
  {
   "cell_type": "code",
   "execution_count": 63,
   "id": "2a749999",
   "metadata": {},
   "outputs": [
    {
     "name": "stdout",
     "output_type": "stream",
     "text": [
      "Расчитанная статитика лежит справа от критического значения. Следовательно, основную гипотезу отклоняем: среднее количество сообщений в день было больше 50.\n"
     ]
    }
   ],
   "source": [
    "if t_5 < t_critical_5:\n",
    "    print('Расчитанная статитика лежит слева от критического значения. Следовательно, основную гипотезу не отклоняем: среднее количество сообщений в день было 50.')\n",
    "else:\n",
    "    print('Расчитанная статитика лежит справа от критического значения. Следовательно, основную гипотезу отклоняем: среднее количество сообщений в день было больше 50.')"
   ]
  },
  {
   "cell_type": "code",
   "execution_count": 64,
   "id": "22bc62a3",
   "metadata": {},
   "outputs": [
    {
     "name": "stdout",
     "output_type": "stream",
     "text": [
      "P-value меньше выбранного уровня значимости. Следовательно, основную гипотезу отклоняем: среднее количество сообщений в день было больше 50.\n"
     ]
    }
   ],
   "source": [
    "if p_value_5 < a5:\n",
    "    print('P-value меньше выбранного уровня значимости. Следовательно, основную гипотезу отклоняем: среднее количество сообщений в день было больше 50.')\n",
    "else:\n",
    "    print('P-value больше выбранного уровня значимости. Следовательно, основную гипотезу не отклоняем: среднее количество сообщений в день было 50.')"
   ]
  }
 ],
 "metadata": {
  "kernelspec": {
   "display_name": "Python 3 (ipykernel)",
   "language": "python",
   "name": "python3"
  },
  "language_info": {
   "codemirror_mode": {
    "name": "ipython",
    "version": 3
   },
   "file_extension": ".py",
   "mimetype": "text/x-python",
   "name": "python",
   "nbconvert_exporter": "python",
   "pygments_lexer": "ipython3",
   "version": "3.8.8"
  },
  "varInspector": {
   "cols": {
    "lenName": 16,
    "lenType": 16,
    "lenVar": 40
   },
   "kernels_config": {
    "python": {
     "delete_cmd_postfix": "",
     "delete_cmd_prefix": "del ",
     "library": "var_list.py",
     "varRefreshCmd": "print(var_dic_list())"
    },
    "r": {
     "delete_cmd_postfix": ") ",
     "delete_cmd_prefix": "rm(",
     "library": "var_list.r",
     "varRefreshCmd": "cat(var_dic_list()) "
    }
   },
   "types_to_exclude": [
    "module",
    "function",
    "builtin_function_or_method",
    "instance",
    "_Feature"
   ],
   "window_display": false
  }
 },
 "nbformat": 4,
 "nbformat_minor": 5
}
