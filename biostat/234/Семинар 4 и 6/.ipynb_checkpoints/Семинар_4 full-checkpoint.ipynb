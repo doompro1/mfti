{
 "cells": [
  {
   "cell_type": "code",
   "execution_count": 1,
   "id": "59ebf8cb",
   "metadata": {},
   "outputs": [],
   "source": [
    "# Загружаем библиотеки\n",
    "import numpy as np\n",
    "import matplotlib.pyplot as plt\n",
    "import pandas as pd\n",
    "import scipy.stats as st\n",
    "import scikit_posthocs as sp\n",
    "from math import factorial as fact\n",
    "\n",
    "#conda install -c conda-forge scikit-posthocs\n",
    "import scikit_posthocs as sp\n",
    "\n",
    "#pip install cmh\n",
    "from cmh import CMH"
   ]
  },
  {
   "cell_type": "markdown",
   "id": "9ffcfbc9",
   "metadata": {},
   "source": [
    "## <font color = green> Задание №1 </font>\n",
    "\n",
    "Загрузите данные из файла 'file4_1.xlsx'. Постройте таблицу сопряженности (в строках укажите город).\n",
    "Выведите маргинальную частоту для Москвы."
   ]
  },
  {
   "cell_type": "code",
   "execution_count": 2,
   "id": "4fac00df",
   "metadata": {},
   "outputs": [
    {
     "name": "stdout",
     "output_type": "stream",
     "text": [
      "Количество наблюдений: 10000\n"
     ]
    },
    {
     "data": {
      "text/html": [
       "<div>\n",
       "<style scoped>\n",
       "    .dataframe tbody tr th:only-of-type {\n",
       "        vertical-align: middle;\n",
       "    }\n",
       "\n",
       "    .dataframe tbody tr th {\n",
       "        vertical-align: top;\n",
       "    }\n",
       "\n",
       "    .dataframe thead th {\n",
       "        text-align: right;\n",
       "    }\n",
       "</style>\n",
       "<table border=\"1\" class=\"dataframe\">\n",
       "  <thead>\n",
       "    <tr style=\"text-align: right;\">\n",
       "      <th></th>\n",
       "      <th>Fruit</th>\n",
       "      <th>City</th>\n",
       "    </tr>\n",
       "  </thead>\n",
       "  <tbody>\n",
       "    <tr>\n",
       "      <th>0</th>\n",
       "      <td>Kiwi</td>\n",
       "      <td>Saint-Petersburg</td>\n",
       "    </tr>\n",
       "    <tr>\n",
       "      <th>1</th>\n",
       "      <td>Apple</td>\n",
       "      <td>Saint-Petersburg</td>\n",
       "    </tr>\n",
       "    <tr>\n",
       "      <th>2</th>\n",
       "      <td>Orange</td>\n",
       "      <td>Moscow</td>\n",
       "    </tr>\n",
       "    <tr>\n",
       "      <th>3</th>\n",
       "      <td>Pear</td>\n",
       "      <td>Saint-Petersburg</td>\n",
       "    </tr>\n",
       "    <tr>\n",
       "      <th>4</th>\n",
       "      <td>Pear</td>\n",
       "      <td>Kazan</td>\n",
       "    </tr>\n",
       "  </tbody>\n",
       "</table>\n",
       "</div>"
      ],
      "text/plain": [
       "    Fruit              City\n",
       "0    Kiwi  Saint-Petersburg\n",
       "1   Apple  Saint-Petersburg\n",
       "2  Orange            Moscow\n",
       "3    Pear  Saint-Petersburg\n",
       "4    Pear             Kazan"
      ]
     },
     "execution_count": 2,
     "metadata": {},
     "output_type": "execute_result"
    }
   ],
   "source": [
    "#Импортируем файл с данными\n",
    "task_1 = pd.read_excel('file4_1.xlsx')\n",
    "\n",
    "print('Количество наблюдений:', len(task_1))\n",
    "task_1.head()"
   ]
  },
  {
   "cell_type": "code",
   "execution_count": 3,
   "id": "202a0861",
   "metadata": {},
   "outputs": [
    {
     "data": {
      "text/html": [
       "<div>\n",
       "<style scoped>\n",
       "    .dataframe tbody tr th:only-of-type {\n",
       "        vertical-align: middle;\n",
       "    }\n",
       "\n",
       "    .dataframe tbody tr th {\n",
       "        vertical-align: top;\n",
       "    }\n",
       "\n",
       "    .dataframe thead th {\n",
       "        text-align: right;\n",
       "    }\n",
       "</style>\n",
       "<table border=\"1\" class=\"dataframe\">\n",
       "  <thead>\n",
       "    <tr style=\"text-align: right;\">\n",
       "      <th>Fruit</th>\n",
       "      <th>Apple</th>\n",
       "      <th>Kiwi</th>\n",
       "      <th>Orange</th>\n",
       "      <th>Pear</th>\n",
       "    </tr>\n",
       "    <tr>\n",
       "      <th>City</th>\n",
       "      <th></th>\n",
       "      <th></th>\n",
       "      <th></th>\n",
       "      <th></th>\n",
       "    </tr>\n",
       "  </thead>\n",
       "  <tbody>\n",
       "    <tr>\n",
       "      <th>Kazan</th>\n",
       "      <td>829</td>\n",
       "      <td>848</td>\n",
       "      <td>875</td>\n",
       "      <td>801</td>\n",
       "    </tr>\n",
       "    <tr>\n",
       "      <th>Moscow</th>\n",
       "      <td>868</td>\n",
       "      <td>809</td>\n",
       "      <td>855</td>\n",
       "      <td>783</td>\n",
       "    </tr>\n",
       "    <tr>\n",
       "      <th>Saint-Petersburg</th>\n",
       "      <td>858</td>\n",
       "      <td>805</td>\n",
       "      <td>806</td>\n",
       "      <td>863</td>\n",
       "    </tr>\n",
       "  </tbody>\n",
       "</table>\n",
       "</div>"
      ],
      "text/plain": [
       "Fruit             Apple  Kiwi  Orange  Pear\n",
       "City                                       \n",
       "Kazan               829   848     875   801\n",
       "Moscow              868   809     855   783\n",
       "Saint-Petersburg    858   805     806   863"
      ]
     },
     "execution_count": 3,
     "metadata": {},
     "output_type": "execute_result"
    }
   ],
   "source": [
    "#Создадим таблицу сопряженности\n",
    "crosstab_1 = pd.crosstab(task_1['City'], task_1['Fruit'], rownames=['City'], colnames=['Fruit'])\n",
    "crosstab_1"
   ]
  },
  {
   "cell_type": "code",
   "execution_count": 4,
   "id": "edf76487",
   "metadata": {},
   "outputs": [
    {
     "data": {
      "text/html": [
       "<div>\n",
       "<style scoped>\n",
       "    .dataframe tbody tr th:only-of-type {\n",
       "        vertical-align: middle;\n",
       "    }\n",
       "\n",
       "    .dataframe tbody tr th {\n",
       "        vertical-align: top;\n",
       "    }\n",
       "\n",
       "    .dataframe thead th {\n",
       "        text-align: right;\n",
       "    }\n",
       "</style>\n",
       "<table border=\"1\" class=\"dataframe\">\n",
       "  <thead>\n",
       "    <tr style=\"text-align: right;\">\n",
       "      <th>Fruit</th>\n",
       "      <th>Apple</th>\n",
       "      <th>Kiwi</th>\n",
       "      <th>Orange</th>\n",
       "      <th>Pear</th>\n",
       "    </tr>\n",
       "    <tr>\n",
       "      <th>City</th>\n",
       "      <th></th>\n",
       "      <th></th>\n",
       "      <th></th>\n",
       "      <th></th>\n",
       "    </tr>\n",
       "  </thead>\n",
       "  <tbody>\n",
       "    <tr>\n",
       "      <th>Moscow</th>\n",
       "      <td>868</td>\n",
       "      <td>809</td>\n",
       "      <td>855</td>\n",
       "      <td>783</td>\n",
       "    </tr>\n",
       "  </tbody>\n",
       "</table>\n",
       "</div>"
      ],
      "text/plain": [
       "Fruit   Apple  Kiwi  Orange  Pear\n",
       "City                             \n",
       "Moscow    868   809     855   783"
      ]
     },
     "execution_count": 4,
     "metadata": {},
     "output_type": "execute_result"
    }
   ],
   "source": [
    "#Выведем строку по Москве\n",
    "crosstab_1[crosstab_1.index == 'Moscow']"
   ]
  },
  {
   "cell_type": "code",
   "execution_count": 5,
   "id": "c632edb7",
   "metadata": {},
   "outputs": [
    {
     "data": {
      "text/plain": [
       "City\n",
       "Moscow    3315\n",
       "dtype: int64"
      ]
     },
     "execution_count": 5,
     "metadata": {},
     "output_type": "execute_result"
    }
   ],
   "source": [
    "#Рассчитаем маргинальную частоту по Москве\n",
    "sum_1 = crosstab_1[crosstab_1.index == 'Moscow'].sum(axis=1)\n",
    "sum_1"
   ]
  },
  {
   "cell_type": "markdown",
   "id": "5b22284b",
   "metadata": {},
   "source": [
    "## <font color = green> Задание №2 (самостоятельное) </font>\n",
    "\n",
    "Сгенерируйте предпочтения поездки за границу в зависимости от пола и семейного положения.\n",
    "Постройте таблицу сопряженности. Выведите маргинальную частоту для варианта 'Поедет за границу'."
   ]
  },
  {
   "cell_type": "code",
   "execution_count": 6,
   "id": "dd31d77b",
   "metadata": {},
   "outputs": [
    {
     "data": {
      "text/html": [
       "<div>\n",
       "<style scoped>\n",
       "    .dataframe tbody tr th:only-of-type {\n",
       "        vertical-align: middle;\n",
       "    }\n",
       "\n",
       "    .dataframe tbody tr th {\n",
       "        vertical-align: top;\n",
       "    }\n",
       "\n",
       "    .dataframe thead th {\n",
       "        text-align: right;\n",
       "    }\n",
       "</style>\n",
       "<table border=\"1\" class=\"dataframe\">\n",
       "  <thead>\n",
       "    <tr style=\"text-align: right;\">\n",
       "      <th></th>\n",
       "      <th>Travel</th>\n",
       "      <th>Category1</th>\n",
       "      <th>Category2</th>\n",
       "    </tr>\n",
       "  </thead>\n",
       "  <tbody>\n",
       "    <tr>\n",
       "      <th>0</th>\n",
       "      <td>Поедет за границу</td>\n",
       "      <td>Женщина</td>\n",
       "      <td>не женат (не замужем)</td>\n",
       "    </tr>\n",
       "    <tr>\n",
       "      <th>1</th>\n",
       "      <td>Не поедет за границу</td>\n",
       "      <td>Женщина</td>\n",
       "      <td>женат (замужем)</td>\n",
       "    </tr>\n",
       "    <tr>\n",
       "      <th>2</th>\n",
       "      <td>Не поедет за границу</td>\n",
       "      <td>Мужчина</td>\n",
       "      <td>не женат (не замужем)</td>\n",
       "    </tr>\n",
       "    <tr>\n",
       "      <th>3</th>\n",
       "      <td>Поедет за границу</td>\n",
       "      <td>Мужчина</td>\n",
       "      <td>женат (замужем)</td>\n",
       "    </tr>\n",
       "    <tr>\n",
       "      <th>4</th>\n",
       "      <td>Не поедет за границу</td>\n",
       "      <td>Мужчина</td>\n",
       "      <td>женат (замужем)</td>\n",
       "    </tr>\n",
       "  </tbody>\n",
       "</table>\n",
       "</div>"
      ],
      "text/plain": [
       "                 Travel Category1              Category2\n",
       "0     Поедет за границу   Женщина  не женат (не замужем)\n",
       "1  Не поедет за границу   Женщина        женат (замужем)\n",
       "2  Не поедет за границу   Мужчина  не женат (не замужем)\n",
       "3     Поедет за границу   Мужчина        женат (замужем)\n",
       "4  Не поедет за границу   Мужчина        женат (замужем)"
      ]
     },
     "execution_count": 6,
     "metadata": {},
     "output_type": "execute_result"
    }
   ],
   "source": [
    "# Генерируем данные\n",
    "np.random.seed(0)\n",
    "group1 = np.random.choice(['Поедет за границу', 'Не поедет за границу'], size=500)\n",
    "group2 = np.random.choice(['Мужчина', 'Женщина'], size=500)\n",
    "group3 = np.random.choice(['женат (замужем)', 'не женат (не замужем)'], size=500)\n",
    "\n",
    "# Создаем dataframe\n",
    "task_2 = pd.DataFrame({'Travel': group1, 'Category1': group2, 'Category2': group3})\n",
    "task_2.head(5)"
   ]
  },
  {
   "cell_type": "code",
   "execution_count": 7,
   "id": "a2f38c07",
   "metadata": {},
   "outputs": [
    {
     "data": {
      "text/html": [
       "<div>\n",
       "<style scoped>\n",
       "    .dataframe tbody tr th:only-of-type {\n",
       "        vertical-align: middle;\n",
       "    }\n",
       "\n",
       "    .dataframe tbody tr th {\n",
       "        vertical-align: top;\n",
       "    }\n",
       "\n",
       "    .dataframe thead tr th {\n",
       "        text-align: left;\n",
       "    }\n",
       "\n",
       "    .dataframe thead tr:last-of-type th {\n",
       "        text-align: right;\n",
       "    }\n",
       "</style>\n",
       "<table border=\"1\" class=\"dataframe\">\n",
       "  <thead>\n",
       "    <tr>\n",
       "      <th>Пол</th>\n",
       "      <th colspan=\"2\" halign=\"left\">Женщина</th>\n",
       "      <th colspan=\"2\" halign=\"left\">Мужчина</th>\n",
       "    </tr>\n",
       "    <tr>\n",
       "      <th>Семейное положение</th>\n",
       "      <th>женат (замужем)</th>\n",
       "      <th>не женат (не замужем)</th>\n",
       "      <th>женат (замужем)</th>\n",
       "      <th>не женат (не замужем)</th>\n",
       "    </tr>\n",
       "    <tr>\n",
       "      <th>Путешествие</th>\n",
       "      <th></th>\n",
       "      <th></th>\n",
       "      <th></th>\n",
       "      <th></th>\n",
       "    </tr>\n",
       "  </thead>\n",
       "  <tbody>\n",
       "    <tr>\n",
       "      <th>Не поедет за границу</th>\n",
       "      <td>60</td>\n",
       "      <td>76</td>\n",
       "      <td>60</td>\n",
       "      <td>66</td>\n",
       "    </tr>\n",
       "    <tr>\n",
       "      <th>Поедет за границу</th>\n",
       "      <td>47</td>\n",
       "      <td>59</td>\n",
       "      <td>73</td>\n",
       "      <td>59</td>\n",
       "    </tr>\n",
       "  </tbody>\n",
       "</table>\n",
       "</div>"
      ],
      "text/plain": [
       "Пол                          Женщина                               Мужчина  \\\n",
       "Семейное положение   женат (замужем) не женат (не замужем) женат (замужем)   \n",
       "Путешествие                                                                  \n",
       "Не поедет за границу              60                    76              60   \n",
       "Поедет за границу                 47                    59              73   \n",
       "\n",
       "Пол                                         \n",
       "Семейное положение   не женат (не замужем)  \n",
       "Путешествие                                 \n",
       "Не поедет за границу                    66  \n",
       "Поедет за границу                       59  "
      ]
     },
     "execution_count": 7,
     "metadata": {},
     "output_type": "execute_result"
    }
   ],
   "source": [
    "#Создадим таблицу сопряженности\n",
    "crosstab_2 = pd.crosstab(task_2['Travel'], [task_2['Category1'], task_2['Category2']], rownames=['Путешествие'], colnames=['Пол', 'Семейное положение'])\n",
    "crosstab_2"
   ]
  },
  {
   "cell_type": "code",
   "execution_count": 8,
   "id": "143955f9",
   "metadata": {},
   "outputs": [
    {
     "data": {
      "text/html": [
       "<div>\n",
       "<style scoped>\n",
       "    .dataframe tbody tr th:only-of-type {\n",
       "        vertical-align: middle;\n",
       "    }\n",
       "\n",
       "    .dataframe tbody tr th {\n",
       "        vertical-align: top;\n",
       "    }\n",
       "\n",
       "    .dataframe thead tr th {\n",
       "        text-align: left;\n",
       "    }\n",
       "\n",
       "    .dataframe thead tr:last-of-type th {\n",
       "        text-align: right;\n",
       "    }\n",
       "</style>\n",
       "<table border=\"1\" class=\"dataframe\">\n",
       "  <thead>\n",
       "    <tr>\n",
       "      <th>Пол</th>\n",
       "      <th colspan=\"2\" halign=\"left\">Женщина</th>\n",
       "      <th colspan=\"2\" halign=\"left\">Мужчина</th>\n",
       "    </tr>\n",
       "    <tr>\n",
       "      <th>Семейное положение</th>\n",
       "      <th>женат (замужем)</th>\n",
       "      <th>не женат (не замужем)</th>\n",
       "      <th>женат (замужем)</th>\n",
       "      <th>не женат (не замужем)</th>\n",
       "    </tr>\n",
       "    <tr>\n",
       "      <th>Путешествие</th>\n",
       "      <th></th>\n",
       "      <th></th>\n",
       "      <th></th>\n",
       "      <th></th>\n",
       "    </tr>\n",
       "  </thead>\n",
       "  <tbody>\n",
       "    <tr>\n",
       "      <th>Поедет за границу</th>\n",
       "      <td>47</td>\n",
       "      <td>59</td>\n",
       "      <td>73</td>\n",
       "      <td>59</td>\n",
       "    </tr>\n",
       "  </tbody>\n",
       "</table>\n",
       "</div>"
      ],
      "text/plain": [
       "Пол                        Женщина                               Мужчина  \\\n",
       "Семейное положение женат (замужем) не женат (не замужем) женат (замужем)   \n",
       "Путешествие                                                                \n",
       "Поедет за границу               47                    59              73   \n",
       "\n",
       "Пол                                       \n",
       "Семейное положение не женат (не замужем)  \n",
       "Путешествие                               \n",
       "Поедет за границу                     59  "
      ]
     },
     "execution_count": 8,
     "metadata": {},
     "output_type": "execute_result"
    }
   ],
   "source": [
    "#Выведем строку по категории 'Поедет за границу'\n",
    "crosstab_2[crosstab_2.index == 'Поедет за границу']"
   ]
  },
  {
   "cell_type": "code",
   "execution_count": 9,
   "id": "7d95e3ee",
   "metadata": {},
   "outputs": [
    {
     "data": {
      "text/plain": [
       "Путешествие\n",
       "Поедет за границу    238\n",
       "dtype: int64"
      ]
     },
     "execution_count": 9,
     "metadata": {},
     "output_type": "execute_result"
    }
   ],
   "source": [
    "#Рассчитаем маргинальную частоту по Москве\n",
    "sum_2 = crosstab_2[crosstab_2.index == 'Поедет за границу'].sum(axis=1)\n",
    "sum_2"
   ]
  },
  {
   "cell_type": "markdown",
   "id": "a77c3ac1",
   "metadata": {},
   "source": [
    "## <font color = green> Задание №3 </font>\n",
    "\n",
    "Есть ли зависимость между городом и предпочтением фрукта в данных из задания №1?\n",
    "Подберите подходящий тест и проверьте эту гипотезу (приведите p-value и статистику)."
   ]
  },
  {
   "cell_type": "code",
   "execution_count": 10,
   "id": "bab69886",
   "metadata": {},
   "outputs": [
    {
     "data": {
      "text/html": [
       "<div>\n",
       "<style scoped>\n",
       "    .dataframe tbody tr th:only-of-type {\n",
       "        vertical-align: middle;\n",
       "    }\n",
       "\n",
       "    .dataframe tbody tr th {\n",
       "        vertical-align: top;\n",
       "    }\n",
       "\n",
       "    .dataframe thead th {\n",
       "        text-align: right;\n",
       "    }\n",
       "</style>\n",
       "<table border=\"1\" class=\"dataframe\">\n",
       "  <thead>\n",
       "    <tr style=\"text-align: right;\">\n",
       "      <th>Fruit</th>\n",
       "      <th>Apple</th>\n",
       "      <th>Kiwi</th>\n",
       "      <th>Orange</th>\n",
       "      <th>Pear</th>\n",
       "    </tr>\n",
       "    <tr>\n",
       "      <th>City</th>\n",
       "      <th></th>\n",
       "      <th></th>\n",
       "      <th></th>\n",
       "      <th></th>\n",
       "    </tr>\n",
       "  </thead>\n",
       "  <tbody>\n",
       "    <tr>\n",
       "      <th>Kazan</th>\n",
       "      <td>829</td>\n",
       "      <td>848</td>\n",
       "      <td>875</td>\n",
       "      <td>801</td>\n",
       "    </tr>\n",
       "    <tr>\n",
       "      <th>Moscow</th>\n",
       "      <td>868</td>\n",
       "      <td>809</td>\n",
       "      <td>855</td>\n",
       "      <td>783</td>\n",
       "    </tr>\n",
       "    <tr>\n",
       "      <th>Saint-Petersburg</th>\n",
       "      <td>858</td>\n",
       "      <td>805</td>\n",
       "      <td>806</td>\n",
       "      <td>863</td>\n",
       "    </tr>\n",
       "  </tbody>\n",
       "</table>\n",
       "</div>"
      ],
      "text/plain": [
       "Fruit             Apple  Kiwi  Orange  Pear\n",
       "City                                       \n",
       "Kazan               829   848     875   801\n",
       "Moscow              868   809     855   783\n",
       "Saint-Petersburg    858   805     806   863"
      ]
     },
     "execution_count": 10,
     "metadata": {},
     "output_type": "execute_result"
    }
   ],
   "source": [
    "#Выведем таблицу сопряженности\n",
    "crosstab_1"
   ]
  },
  {
   "cell_type": "code",
   "execution_count": 11,
   "id": "bd91ffef",
   "metadata": {},
   "outputs": [],
   "source": [
    "#Значений больше 50, а в ячейках нет экстремально маленьких значений (<5)\n",
    "#То можно применять критерий Пирсона (хи-квадрат)\n",
    "\n",
    "chi2_3, p_value_3, dof_3, expected_freq_3 = st.chi2_contingency(crosstab_1)"
   ]
  },
  {
   "cell_type": "code",
   "execution_count": 12,
   "id": "d501975f",
   "metadata": {},
   "outputs": [
    {
     "name": "stdout",
     "output_type": "stream",
     "text": [
      "Статистика равна: 9.418181642422711\n",
      "P-value равен: 0.15138955702360102\n",
      "Число степеней свободы: 6\n",
      "Ожидаемые частоты: [[857. 826. 850. 820.]\n",
      " [847. 816. 841. 811.]\n",
      " [851. 820. 845. 815.]]\n"
     ]
    }
   ],
   "source": [
    "print('Статистика равна:', chi2_3)\n",
    "print('P-value равен:', p_value_3)\n",
    "print('Число степеней свободы:', dof_3)\n",
    "print('Ожидаемые частоты:', np.round(expected_freq_3,0))"
   ]
  },
  {
   "cell_type": "code",
   "execution_count": 13,
   "id": "99a463d3",
   "metadata": {},
   "outputs": [
    {
     "name": "stdout",
     "output_type": "stream",
     "text": [
      "Критическое значение равно: 12.591587243743977\n"
     ]
    }
   ],
   "source": [
    "#Найдем критическое значение для 95%\n",
    "print('Критическое значение равно:', st.chi2.ppf(0.95, df=dof_3))"
   ]
  },
  {
   "cell_type": "markdown",
   "id": "0665bb9f",
   "metadata": {},
   "source": [
    "Не можем отвергнуть нулевую гипотезу об отсутствии зависимости между городом и предпочтением фрукта."
   ]
  },
  {
   "cell_type": "markdown",
   "id": "60d60cf7",
   "metadata": {},
   "source": [
    "## <font color = green> Задание №4 (самостоятельное) </font>\n",
    "\n",
    "Проверьте зависимость уровня заработной платы от наличия высшего образования."
   ]
  },
  {
   "cell_type": "code",
   "execution_count": 14,
   "id": "3a9390c5",
   "metadata": {},
   "outputs": [
    {
     "data": {
      "text/html": [
       "<div>\n",
       "<style scoped>\n",
       "    .dataframe tbody tr th:only-of-type {\n",
       "        vertical-align: middle;\n",
       "    }\n",
       "\n",
       "    .dataframe tbody tr th {\n",
       "        vertical-align: top;\n",
       "    }\n",
       "\n",
       "    .dataframe thead th {\n",
       "        text-align: right;\n",
       "    }\n",
       "</style>\n",
       "<table border=\"1\" class=\"dataframe\">\n",
       "  <thead>\n",
       "    <tr style=\"text-align: right;\">\n",
       "      <th></th>\n",
       "      <th>Wage</th>\n",
       "      <th>Education</th>\n",
       "    </tr>\n",
       "  </thead>\n",
       "  <tbody>\n",
       "    <tr>\n",
       "      <th>0</th>\n",
       "      <td>&lt; 100 000</td>\n",
       "      <td>Высшее образование отсутствует</td>\n",
       "    </tr>\n",
       "    <tr>\n",
       "      <th>1</th>\n",
       "      <td>&gt; 100 000</td>\n",
       "      <td>Высшее образование отсутствует</td>\n",
       "    </tr>\n",
       "    <tr>\n",
       "      <th>2</th>\n",
       "      <td>&gt; 100 000</td>\n",
       "      <td>Высшее образование отсутствует</td>\n",
       "    </tr>\n",
       "    <tr>\n",
       "      <th>3</th>\n",
       "      <td>&lt; 100 000</td>\n",
       "      <td>Есть высшее образование</td>\n",
       "    </tr>\n",
       "    <tr>\n",
       "      <th>4</th>\n",
       "      <td>&gt; 100 000</td>\n",
       "      <td>Высшее образование отсутствует</td>\n",
       "    </tr>\n",
       "  </tbody>\n",
       "</table>\n",
       "</div>"
      ],
      "text/plain": [
       "        Wage                       Education\n",
       "0  < 100 000  Высшее образование отсутствует\n",
       "1  > 100 000  Высшее образование отсутствует\n",
       "2  > 100 000  Высшее образование отсутствует\n",
       "3  < 100 000         Есть высшее образование\n",
       "4  > 100 000  Высшее образование отсутствует"
      ]
     },
     "execution_count": 14,
     "metadata": {},
     "output_type": "execute_result"
    }
   ],
   "source": [
    "# Генерируем данные\n",
    "np.random.seed(0)\n",
    "group11 = np.random.choice(['< 100 000', '> 100 000'], size=250)\n",
    "group21 = np.random.choice(['Есть высшее образование', 'Высшее образование отсутствует'], size=250)\n",
    "\n",
    "# Создаем dataframe\n",
    "task_4 = pd.DataFrame({'Wage': group11, 'Education': group21})\n",
    "task_4.head(5)"
   ]
  },
  {
   "cell_type": "code",
   "execution_count": 15,
   "id": "1d4f9212",
   "metadata": {},
   "outputs": [
    {
     "data": {
      "text/html": [
       "<div>\n",
       "<style scoped>\n",
       "    .dataframe tbody tr th:only-of-type {\n",
       "        vertical-align: middle;\n",
       "    }\n",
       "\n",
       "    .dataframe tbody tr th {\n",
       "        vertical-align: top;\n",
       "    }\n",
       "\n",
       "    .dataframe thead th {\n",
       "        text-align: right;\n",
       "    }\n",
       "</style>\n",
       "<table border=\"1\" class=\"dataframe\">\n",
       "  <thead>\n",
       "    <tr style=\"text-align: right;\">\n",
       "      <th>Education</th>\n",
       "      <th>Высшее образование отсутствует</th>\n",
       "      <th>Есть высшее образование</th>\n",
       "    </tr>\n",
       "    <tr>\n",
       "      <th>Wage</th>\n",
       "      <th></th>\n",
       "      <th></th>\n",
       "    </tr>\n",
       "  </thead>\n",
       "  <tbody>\n",
       "    <tr>\n",
       "      <th>&lt; 100 000</th>\n",
       "      <td>70</td>\n",
       "      <td>56</td>\n",
       "    </tr>\n",
       "    <tr>\n",
       "      <th>&gt; 100 000</th>\n",
       "      <td>68</td>\n",
       "      <td>56</td>\n",
       "    </tr>\n",
       "  </tbody>\n",
       "</table>\n",
       "</div>"
      ],
      "text/plain": [
       "Education  Высшее образование отсутствует  Есть высшее образование\n",
       "Wage                                                              \n",
       "< 100 000                              70                       56\n",
       "> 100 000                              68                       56"
      ]
     },
     "execution_count": 15,
     "metadata": {},
     "output_type": "execute_result"
    }
   ],
   "source": [
    "#Создадим таблицу сопряженности\n",
    "crosstab_4 = pd.crosstab(task_4['Wage'], task_4['Education'], rownames=['Wage'], colnames=['Education'])\n",
    "crosstab_4"
   ]
  },
  {
   "cell_type": "code",
   "execution_count": 16,
   "id": "b4020cbc",
   "metadata": {},
   "outputs": [],
   "source": [
    "#Значений больше 50, а в ячейках нет экстремально маленьких значений (<5)\n",
    "#То можно применять критерий Пирсона (хи-квадрат)\n",
    "\n",
    "chi2_4, p_value_4, dof_4, expected_freq_4 = st.chi2_contingency(crosstab_4)"
   ]
  },
  {
   "cell_type": "code",
   "execution_count": 17,
   "id": "20c5b06d",
   "metadata": {},
   "outputs": [
    {
     "name": "stdout",
     "output_type": "stream",
     "text": [
      "Статистика равна: 0.0001749594375696547\n",
      "P-value равен: 0.9894465104458382\n",
      "Число степеней свободы: 1\n",
      "Ожидаемые частоты: [[70. 56.]\n",
      " [68. 56.]]\n"
     ]
    }
   ],
   "source": [
    "print('Статистика равна:', chi2_4)\n",
    "print('P-value равен:', p_value_4)\n",
    "print('Число степеней свободы:', dof_4)\n",
    "print('Ожидаемые частоты:', np.round(expected_freq_4,0))"
   ]
  },
  {
   "cell_type": "code",
   "execution_count": 18,
   "id": "a46f33c5",
   "metadata": {},
   "outputs": [
    {
     "name": "stdout",
     "output_type": "stream",
     "text": [
      "Критическое значение равно: 3.841458820694124\n"
     ]
    }
   ],
   "source": [
    "#Найдем критическое значение для 95%\n",
    "print('Критическое значение равно:', st.chi2.ppf(0.95, df=dof_4))"
   ]
  },
  {
   "cell_type": "markdown",
   "id": "dc811c02",
   "metadata": {},
   "source": [
    "Не можем отвергнуть нулевую гипотезу об отсутствии зависимости между заработной платой и наличием высшего образования."
   ]
  },
  {
   "cell_type": "markdown",
   "id": "1c4ce8e7",
   "metadata": {},
   "source": [
    "## <font color = green> Задание №5 </font>\n",
    "\n",
    "С помощью точного критерия Фишера определите, зависит ли любовь к кофе от трудоустроенности человека.\n",
    "Также попробуйте посчитать по формуле и сравнить значение с результатом готовой функции."
   ]
  },
  {
   "cell_type": "code",
   "execution_count": 19,
   "id": "22004993",
   "metadata": {},
   "outputs": [
    {
     "name": "stdout",
     "output_type": "stream",
     "text": [
      "Количество наблюдений: 30\n"
     ]
    },
    {
     "data": {
      "text/html": [
       "<div>\n",
       "<style scoped>\n",
       "    .dataframe tbody tr th:only-of-type {\n",
       "        vertical-align: middle;\n",
       "    }\n",
       "\n",
       "    .dataframe tbody tr th {\n",
       "        vertical-align: top;\n",
       "    }\n",
       "\n",
       "    .dataframe thead th {\n",
       "        text-align: right;\n",
       "    }\n",
       "</style>\n",
       "<table border=\"1\" class=\"dataframe\">\n",
       "  <thead>\n",
       "    <tr style=\"text-align: right;\">\n",
       "      <th></th>\n",
       "      <th>Coffee</th>\n",
       "      <th>Work</th>\n",
       "    </tr>\n",
       "  </thead>\n",
       "  <tbody>\n",
       "    <tr>\n",
       "      <th>0</th>\n",
       "      <td>Любит кофе</td>\n",
       "      <td>Работает</td>\n",
       "    </tr>\n",
       "    <tr>\n",
       "      <th>1</th>\n",
       "      <td>Любит кофе</td>\n",
       "      <td>Не работает</td>\n",
       "    </tr>\n",
       "    <tr>\n",
       "      <th>2</th>\n",
       "      <td>Любит кофе</td>\n",
       "      <td>Работает</td>\n",
       "    </tr>\n",
       "    <tr>\n",
       "      <th>3</th>\n",
       "      <td>Не любит кофе</td>\n",
       "      <td>Работает</td>\n",
       "    </tr>\n",
       "    <tr>\n",
       "      <th>4</th>\n",
       "      <td>Любит кофе</td>\n",
       "      <td>Не работает</td>\n",
       "    </tr>\n",
       "  </tbody>\n",
       "</table>\n",
       "</div>"
      ],
      "text/plain": [
       "          Coffee         Work\n",
       "0     Любит кофе     Работает\n",
       "1     Любит кофе  Не работает\n",
       "2     Любит кофе     Работает\n",
       "3  Не любит кофе     Работает\n",
       "4     Любит кофе  Не работает"
      ]
     },
     "execution_count": 19,
     "metadata": {},
     "output_type": "execute_result"
    }
   ],
   "source": [
    "#Импортируем файл с данными\n",
    "task_5 = pd.read_excel('file4_2.xlsx')\n",
    "\n",
    "print('Количество наблюдений:', len(task_5))\n",
    "task_5.head()"
   ]
  },
  {
   "cell_type": "code",
   "execution_count": 20,
   "id": "980c282d",
   "metadata": {},
   "outputs": [
    {
     "data": {
      "text/html": [
       "<div>\n",
       "<style scoped>\n",
       "    .dataframe tbody tr th:only-of-type {\n",
       "        vertical-align: middle;\n",
       "    }\n",
       "\n",
       "    .dataframe tbody tr th {\n",
       "        vertical-align: top;\n",
       "    }\n",
       "\n",
       "    .dataframe thead th {\n",
       "        text-align: right;\n",
       "    }\n",
       "</style>\n",
       "<table border=\"1\" class=\"dataframe\">\n",
       "  <thead>\n",
       "    <tr style=\"text-align: right;\">\n",
       "      <th>Work</th>\n",
       "      <th>Не работает</th>\n",
       "      <th>Работает</th>\n",
       "    </tr>\n",
       "    <tr>\n",
       "      <th>Coffee</th>\n",
       "      <th></th>\n",
       "      <th></th>\n",
       "    </tr>\n",
       "  </thead>\n",
       "  <tbody>\n",
       "    <tr>\n",
       "      <th>Любит кофе</th>\n",
       "      <td>10</td>\n",
       "      <td>7</td>\n",
       "    </tr>\n",
       "    <tr>\n",
       "      <th>Не любит кофе</th>\n",
       "      <td>4</td>\n",
       "      <td>9</td>\n",
       "    </tr>\n",
       "  </tbody>\n",
       "</table>\n",
       "</div>"
      ],
      "text/plain": [
       "Work           Не работает  Работает\n",
       "Coffee                              \n",
       "Любит кофе              10         7\n",
       "Не любит кофе            4         9"
      ]
     },
     "execution_count": 20,
     "metadata": {},
     "output_type": "execute_result"
    }
   ],
   "source": [
    "#Создадим таблицу сопряженности\n",
    "crosstab_5 = pd.crosstab(task_5['Coffee'], task_5['Work'], rownames=['Coffee'], colnames=['Work'])\n",
    "crosstab_5"
   ]
  },
  {
   "cell_type": "code",
   "execution_count": 21,
   "id": "130b0f33",
   "metadata": {},
   "outputs": [
    {
     "data": {
      "text/plain": [
       "(17, 13, 14, 16)"
      ]
     },
     "execution_count": 21,
     "metadata": {},
     "output_type": "execute_result"
    }
   ],
   "source": [
    "#Посчитаем маргинальные частоты:\n",
    "s1 = crosstab_5.loc['Любит кофе'].sum()\n",
    "s2 = crosstab_5.loc['Не любит кофе'].sum()\n",
    "c1 = crosstab_5['Не работает'].sum()\n",
    "c2 = crosstab_5['Работает'].sum()\n",
    "\n",
    "s1, s2, c1, c2"
   ]
  },
  {
   "cell_type": "code",
   "execution_count": 22,
   "id": "ce579ca9",
   "metadata": {},
   "outputs": [
    {
     "data": {
      "text/plain": [
       "(10, 4, 7, 9, 30)"
      ]
     },
     "execution_count": 22,
     "metadata": {},
     "output_type": "execute_result"
    }
   ],
   "source": [
    "#Посчитаем значения в ячейках\n",
    "a11 = crosstab_5['Не работает'][0]\n",
    "a21 = crosstab_5['Не работает'][1]\n",
    "a12 = crosstab_5['Работает'][0]\n",
    "a22 = crosstab_5['Работает'][1]\n",
    "n5 = a11+a21+a12+a22\n",
    "\n",
    "a11, a21, a12, a22, n5"
   ]
  },
  {
   "cell_type": "code",
   "execution_count": 23,
   "id": "ddfb114a",
   "metadata": {},
   "outputs": [
    {
     "data": {
      "text/plain": [
       "0.09562002624418785"
      ]
     },
     "execution_count": 23,
     "metadata": {},
     "output_type": "execute_result"
    }
   ],
   "source": [
    "#Посчитаем p-value по формуле:\n",
    "p_value_5 = (fact(s1)*fact(s2)*fact(c1)*fact(c2))/(fact(a11)*fact(a21)*fact(a12)*fact(a22)*fact(n5))\n",
    "p_value_5"
   ]
  },
  {
   "cell_type": "code",
   "execution_count": 27,
   "id": "e26d0645",
   "metadata": {},
   "outputs": [
    {
     "data": {
      "text/plain": [
       "0.12349614666351026"
      ]
     },
     "execution_count": 27,
     "metadata": {},
     "output_type": "execute_result"
    }
   ],
   "source": [
    "#Воспользуемся готовой функцией точного критерия Фишера:\n",
    "fisher_5, p_value_51 = st.fisher_exact(crosstab_5, alternative = 'greater')\n",
    "p_value_51"
   ]
  },
  {
   "cell_type": "code",
   "execution_count": 25,
   "id": "e70961c8",
   "metadata": {},
   "outputs": [
    {
     "data": {
      "text/plain": [
       "0.15897840553407488"
      ]
     },
     "execution_count": 25,
     "metadata": {},
     "output_type": "execute_result"
    }
   ],
   "source": [
    "fisher_5, p_value_51 = st.fisher_exact(crosstab_5, alternative = 'two-sided')\n",
    "p_value_51"
   ]
  },
  {
   "cell_type": "markdown",
   "id": "5438e3cc",
   "metadata": {},
   "source": [
    "## <font color = green> Задание №6 </font>\n",
    "\n",
    "Проверьте гипотезу об отсутствии связи между анализируемыми качественными признаками с помощью критерия Кохрана-Мантеля-Хензеля."
   ]
  },
  {
   "cell_type": "code",
   "execution_count": 38,
   "id": "981a672b",
   "metadata": {},
   "outputs": [
    {
     "data": {
      "text/html": [
       "<div>\n",
       "<style scoped>\n",
       "    .dataframe tbody tr th:only-of-type {\n",
       "        vertical-align: middle;\n",
       "    }\n",
       "\n",
       "    .dataframe tbody tr th {\n",
       "        vertical-align: top;\n",
       "    }\n",
       "\n",
       "    .dataframe thead th {\n",
       "        text-align: right;\n",
       "    }\n",
       "</style>\n",
       "<table border=\"1\" class=\"dataframe\">\n",
       "  <thead>\n",
       "    <tr style=\"text-align: right;\">\n",
       "      <th></th>\n",
       "      <th>stratum</th>\n",
       "      <th>A</th>\n",
       "      <th>B</th>\n",
       "    </tr>\n",
       "  </thead>\n",
       "  <tbody>\n",
       "    <tr>\n",
       "      <th>0</th>\n",
       "      <td>S1</td>\n",
       "      <td>no</td>\n",
       "      <td>yes</td>\n",
       "    </tr>\n",
       "    <tr>\n",
       "      <th>1</th>\n",
       "      <td>S1</td>\n",
       "      <td>no</td>\n",
       "      <td>yes</td>\n",
       "    </tr>\n",
       "    <tr>\n",
       "      <th>2</th>\n",
       "      <td>S1</td>\n",
       "      <td>no</td>\n",
       "      <td>yes</td>\n",
       "    </tr>\n",
       "    <tr>\n",
       "      <th>3</th>\n",
       "      <td>S1</td>\n",
       "      <td>no</td>\n",
       "      <td>yes</td>\n",
       "    </tr>\n",
       "    <tr>\n",
       "      <th>4</th>\n",
       "      <td>S1</td>\n",
       "      <td>yes</td>\n",
       "      <td>yes</td>\n",
       "    </tr>\n",
       "    <tr>\n",
       "      <th>5</th>\n",
       "      <td>S1</td>\n",
       "      <td>yes</td>\n",
       "      <td>yes</td>\n",
       "    </tr>\n",
       "    <tr>\n",
       "      <th>6</th>\n",
       "      <td>S1</td>\n",
       "      <td>yes</td>\n",
       "      <td>yes</td>\n",
       "    </tr>\n",
       "    <tr>\n",
       "      <th>7</th>\n",
       "      <td>S1</td>\n",
       "      <td>yes</td>\n",
       "      <td>yes</td>\n",
       "    </tr>\n",
       "    <tr>\n",
       "      <th>8</th>\n",
       "      <td>S2</td>\n",
       "      <td>yes</td>\n",
       "      <td>yes</td>\n",
       "    </tr>\n",
       "    <tr>\n",
       "      <th>9</th>\n",
       "      <td>S2</td>\n",
       "      <td>yes</td>\n",
       "      <td>yes</td>\n",
       "    </tr>\n",
       "    <tr>\n",
       "      <th>10</th>\n",
       "      <td>S2</td>\n",
       "      <td>yes</td>\n",
       "      <td>yes</td>\n",
       "    </tr>\n",
       "    <tr>\n",
       "      <th>11</th>\n",
       "      <td>S2</td>\n",
       "      <td>no</td>\n",
       "      <td>yes</td>\n",
       "    </tr>\n",
       "    <tr>\n",
       "      <th>12</th>\n",
       "      <td>S2</td>\n",
       "      <td>no</td>\n",
       "      <td>yes</td>\n",
       "    </tr>\n",
       "    <tr>\n",
       "      <th>13</th>\n",
       "      <td>S2</td>\n",
       "      <td>no</td>\n",
       "      <td>yes</td>\n",
       "    </tr>\n",
       "    <tr>\n",
       "      <th>14</th>\n",
       "      <td>S2</td>\n",
       "      <td>no</td>\n",
       "      <td>no</td>\n",
       "    </tr>\n",
       "    <tr>\n",
       "      <th>15</th>\n",
       "      <td>S2</td>\n",
       "      <td>no</td>\n",
       "      <td>no</td>\n",
       "    </tr>\n",
       "  </tbody>\n",
       "</table>\n",
       "</div>"
      ],
      "text/plain": [
       "   stratum    A    B\n",
       "0       S1   no  yes\n",
       "1       S1   no  yes\n",
       "2       S1   no  yes\n",
       "3       S1   no  yes\n",
       "4       S1  yes  yes\n",
       "5       S1  yes  yes\n",
       "6       S1  yes  yes\n",
       "7       S1  yes  yes\n",
       "8       S2  yes  yes\n",
       "9       S2  yes  yes\n",
       "10      S2  yes  yes\n",
       "11      S2   no  yes\n",
       "12      S2   no  yes\n",
       "13      S2   no  yes\n",
       "14      S2   no   no\n",
       "15      S2   no   no"
      ]
     },
     "execution_count": 38,
     "metadata": {},
     "output_type": "execute_result"
    }
   ],
   "source": [
    "task_6 = pd.DataFrame(\n",
    "    [\n",
    "        ['S1', 'no', 'yes'],\n",
    "        ['S1', 'no', 'yes'],\n",
    "        ['S1', 'no', 'yes'],\n",
    "        ['S1', 'no', 'yes'],\n",
    "        ['S1', 'yes', 'yes'],\n",
    "        ['S1', 'yes', 'yes'],\n",
    "        ['S1', 'yes', 'yes'],\n",
    "        ['S1', 'yes', 'yes'],\n",
    "        ['S2', 'yes', 'yes'],\n",
    "        ['S2', 'yes', 'yes'],\n",
    "        ['S2', 'yes', 'yes'],\n",
    "        ['S2', 'no', 'yes'],\n",
    "        ['S2', 'no', 'yes'],\n",
    "        ['S2', 'no', 'yes'],\n",
    "        ['S2', 'no', 'no'],\n",
    "        ['S2', 'no', 'no'],\n",
    "\n",
    "    ],\n",
    "    columns=['stratum', 'A', 'B']\n",
    ")\n",
    "\n",
    "task_6"
   ]
  },
  {
   "cell_type": "code",
   "execution_count": 39,
   "id": "49d7b1b2",
   "metadata": {},
   "outputs": [
    {
     "name": "stdout",
     "output_type": "stream",
     "text": [
      "\n",
      "        Cochran-Mantel-Haenszel Chi2 test\n",
      "\n",
      "\"A\" x \"B\", stratified by \"stratum\"\n",
      "\n",
      "Cochran-Mantel-Haenszel M^2 = 1.4, dof = 1, p-value = 0.2367\n",
      "\n"
     ]
    }
   ],
   "source": [
    "result_6 = CMH(task_6, 'A', 'B', stratifier='stratum')\n",
    "print(result_6)"
   ]
  },
  {
   "cell_type": "code",
   "execution_count": 40,
   "id": "87b0f9eb",
   "metadata": {},
   "outputs": [
    {
     "name": "stdout",
     "output_type": "stream",
     "text": [
      "Число степеней свободы: 1\n",
      "P-value: 0.2367235706378572\n"
     ]
    }
   ],
   "source": [
    "print('Число степеней свободы:', result_6.dof)\n",
    "print('P-value:', result_6.p)"
   ]
  }
 ],
 "metadata": {
  "kernelspec": {
   "display_name": "Python 3 (ipykernel)",
   "language": "python",
   "name": "python3"
  },
  "language_info": {
   "codemirror_mode": {
    "name": "ipython",
    "version": 3
   },
   "file_extension": ".py",
   "mimetype": "text/x-python",
   "name": "python",
   "nbconvert_exporter": "python",
   "pygments_lexer": "ipython3",
   "version": "3.8.8"
  },
  "varInspector": {
   "cols": {
    "lenName": 16,
    "lenType": 16,
    "lenVar": 40
   },
   "kernels_config": {
    "python": {
     "delete_cmd_postfix": "",
     "delete_cmd_prefix": "del ",
     "library": "var_list.py",
     "varRefreshCmd": "print(var_dic_list())"
    },
    "r": {
     "delete_cmd_postfix": ") ",
     "delete_cmd_prefix": "rm(",
     "library": "var_list.r",
     "varRefreshCmd": "cat(var_dic_list()) "
    }
   },
   "types_to_exclude": [
    "module",
    "function",
    "builtin_function_or_method",
    "instance",
    "_Feature"
   ],
   "window_display": false
  }
 },
 "nbformat": 4,
 "nbformat_minor": 5
}
