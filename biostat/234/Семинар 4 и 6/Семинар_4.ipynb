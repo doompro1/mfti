{
 "cells": [
  {
   "cell_type": "code",
   "execution_count": 1,
   "id": "59ebf8cb",
   "metadata": {},
   "outputs": [],
   "source": [
    "# Загружаем библиотеки\n",
    "import numpy as np\n",
    "import matplotlib.pyplot as plt\n",
    "import pandas as pd\n",
    "import scipy.stats as st\n",
    "import scikit_posthocs as sp\n",
    "from math import factorial as fact\n",
    "\n",
    "#conda install -c conda-forge scikit-posthocs\n",
    "import scikit_posthocs as sp\n",
    "\n",
    "#pip install cmh\n",
    "from cmh import CMH"
   ]
  },
  {
   "cell_type": "markdown",
   "id": "9ffcfbc9",
   "metadata": {},
   "source": [
    "## <font color = green> Задание №1 </font>\n",
    "\n",
    "Загрузите данные из файла 'file4_1.xlsx'. Постройте таблицу сопряженности (в строках укажите город).\n",
    "Выведите маргинальную частоту для Москвы."
   ]
  },
  {
   "cell_type": "code",
   "execution_count": 2,
   "id": "4fac00df",
   "metadata": {},
   "outputs": [
    {
     "name": "stdout",
     "output_type": "stream",
     "text": [
      "Количество наблюдений: 10000\n"
     ]
    },
    {
     "data": {
      "text/html": [
       "<div>\n",
       "<style scoped>\n",
       "    .dataframe tbody tr th:only-of-type {\n",
       "        vertical-align: middle;\n",
       "    }\n",
       "\n",
       "    .dataframe tbody tr th {\n",
       "        vertical-align: top;\n",
       "    }\n",
       "\n",
       "    .dataframe thead th {\n",
       "        text-align: right;\n",
       "    }\n",
       "</style>\n",
       "<table border=\"1\" class=\"dataframe\">\n",
       "  <thead>\n",
       "    <tr style=\"text-align: right;\">\n",
       "      <th></th>\n",
       "      <th>Fruit</th>\n",
       "      <th>City</th>\n",
       "    </tr>\n",
       "  </thead>\n",
       "  <tbody>\n",
       "    <tr>\n",
       "      <th>0</th>\n",
       "      <td>Kiwi</td>\n",
       "      <td>Saint-Petersburg</td>\n",
       "    </tr>\n",
       "    <tr>\n",
       "      <th>1</th>\n",
       "      <td>Apple</td>\n",
       "      <td>Saint-Petersburg</td>\n",
       "    </tr>\n",
       "    <tr>\n",
       "      <th>2</th>\n",
       "      <td>Orange</td>\n",
       "      <td>Moscow</td>\n",
       "    </tr>\n",
       "    <tr>\n",
       "      <th>3</th>\n",
       "      <td>Pear</td>\n",
       "      <td>Saint-Petersburg</td>\n",
       "    </tr>\n",
       "    <tr>\n",
       "      <th>4</th>\n",
       "      <td>Pear</td>\n",
       "      <td>Kazan</td>\n",
       "    </tr>\n",
       "  </tbody>\n",
       "</table>\n",
       "</div>"
      ],
      "text/plain": [
       "    Fruit              City\n",
       "0    Kiwi  Saint-Petersburg\n",
       "1   Apple  Saint-Petersburg\n",
       "2  Orange            Moscow\n",
       "3    Pear  Saint-Petersburg\n",
       "4    Pear             Kazan"
      ]
     },
     "execution_count": 2,
     "metadata": {},
     "output_type": "execute_result"
    }
   ],
   "source": [
    "#Импортируем файл с данными\n",
    "task_1 = pd.read_excel('file4_1.xlsx')\n",
    "\n",
    "print('Количество наблюдений:', len(task_1))\n",
    "task_1.head()"
   ]
  },
  {
   "cell_type": "code",
   "execution_count": 3,
   "id": "202a0861",
   "metadata": {},
   "outputs": [
    {
     "data": {
      "text/html": [
       "<div>\n",
       "<style scoped>\n",
       "    .dataframe tbody tr th:only-of-type {\n",
       "        vertical-align: middle;\n",
       "    }\n",
       "\n",
       "    .dataframe tbody tr th {\n",
       "        vertical-align: top;\n",
       "    }\n",
       "\n",
       "    .dataframe thead th {\n",
       "        text-align: right;\n",
       "    }\n",
       "</style>\n",
       "<table border=\"1\" class=\"dataframe\">\n",
       "  <thead>\n",
       "    <tr style=\"text-align: right;\">\n",
       "      <th>Fruit</th>\n",
       "      <th>Apple</th>\n",
       "      <th>Kiwi</th>\n",
       "      <th>Orange</th>\n",
       "      <th>Pear</th>\n",
       "    </tr>\n",
       "    <tr>\n",
       "      <th>City</th>\n",
       "      <th></th>\n",
       "      <th></th>\n",
       "      <th></th>\n",
       "      <th></th>\n",
       "    </tr>\n",
       "  </thead>\n",
       "  <tbody>\n",
       "    <tr>\n",
       "      <th>Kazan</th>\n",
       "      <td>829</td>\n",
       "      <td>848</td>\n",
       "      <td>875</td>\n",
       "      <td>801</td>\n",
       "    </tr>\n",
       "    <tr>\n",
       "      <th>Moscow</th>\n",
       "      <td>868</td>\n",
       "      <td>809</td>\n",
       "      <td>855</td>\n",
       "      <td>783</td>\n",
       "    </tr>\n",
       "    <tr>\n",
       "      <th>Saint-Petersburg</th>\n",
       "      <td>858</td>\n",
       "      <td>805</td>\n",
       "      <td>806</td>\n",
       "      <td>863</td>\n",
       "    </tr>\n",
       "  </tbody>\n",
       "</table>\n",
       "</div>"
      ],
      "text/plain": [
       "Fruit             Apple  Kiwi  Orange  Pear\n",
       "City                                       \n",
       "Kazan               829   848     875   801\n",
       "Moscow              868   809     855   783\n",
       "Saint-Petersburg    858   805     806   863"
      ]
     },
     "execution_count": 3,
     "metadata": {},
     "output_type": "execute_result"
    }
   ],
   "source": [
    "#Создадим таблицу сопряженности\n",
    "crosstab_1 = pd.crosstab(task_1['City'], task_1['Fruit'], rownames=['City'], colnames=['Fruit'])\n",
    "crosstab_1"
   ]
  },
  {
   "cell_type": "code",
   "execution_count": 4,
   "id": "edf76487",
   "metadata": {},
   "outputs": [
    {
     "data": {
      "text/html": [
       "<div>\n",
       "<style scoped>\n",
       "    .dataframe tbody tr th:only-of-type {\n",
       "        vertical-align: middle;\n",
       "    }\n",
       "\n",
       "    .dataframe tbody tr th {\n",
       "        vertical-align: top;\n",
       "    }\n",
       "\n",
       "    .dataframe thead th {\n",
       "        text-align: right;\n",
       "    }\n",
       "</style>\n",
       "<table border=\"1\" class=\"dataframe\">\n",
       "  <thead>\n",
       "    <tr style=\"text-align: right;\">\n",
       "      <th>Fruit</th>\n",
       "      <th>Apple</th>\n",
       "      <th>Kiwi</th>\n",
       "      <th>Orange</th>\n",
       "      <th>Pear</th>\n",
       "    </tr>\n",
       "    <tr>\n",
       "      <th>City</th>\n",
       "      <th></th>\n",
       "      <th></th>\n",
       "      <th></th>\n",
       "      <th></th>\n",
       "    </tr>\n",
       "  </thead>\n",
       "  <tbody>\n",
       "    <tr>\n",
       "      <th>Moscow</th>\n",
       "      <td>868</td>\n",
       "      <td>809</td>\n",
       "      <td>855</td>\n",
       "      <td>783</td>\n",
       "    </tr>\n",
       "  </tbody>\n",
       "</table>\n",
       "</div>"
      ],
      "text/plain": [
       "Fruit   Apple  Kiwi  Orange  Pear\n",
       "City                             \n",
       "Moscow    868   809     855   783"
      ]
     },
     "execution_count": 4,
     "metadata": {},
     "output_type": "execute_result"
    }
   ],
   "source": [
    "#Выведем строку по Москве\n",
    "crosstab_1[crosstab_1.index == 'Moscow']"
   ]
  },
  {
   "cell_type": "code",
   "execution_count": 5,
   "id": "c632edb7",
   "metadata": {},
   "outputs": [
    {
     "data": {
      "text/plain": [
       "City\n",
       "Moscow    3315\n",
       "dtype: int64"
      ]
     },
     "execution_count": 5,
     "metadata": {},
     "output_type": "execute_result"
    }
   ],
   "source": [
    "#Рассчитаем маргинальную частоту по Москве\n",
    "sum_1 = crosstab_1[crosstab_1.index == 'Moscow'].sum(axis=1)\n",
    "sum_1"
   ]
  },
  {
   "cell_type": "markdown",
   "id": "effa5c6e",
   "metadata": {},
   "source": [
    "## <font color = green> Задание №2 </font>\n",
    "\n",
    "Есть ли зависимость между городом и предпочтением фрукта в данных из задания №1?\n",
    "Подберите подходящий тест и проверьте эту гипотезу (приведите p-value и статистику)."
   ]
  },
  {
   "cell_type": "code",
   "execution_count": 12,
   "id": "bab69886",
   "metadata": {},
   "outputs": [
    {
     "data": {
      "text/html": [
       "<div>\n",
       "<style scoped>\n",
       "    .dataframe tbody tr th:only-of-type {\n",
       "        vertical-align: middle;\n",
       "    }\n",
       "\n",
       "    .dataframe tbody tr th {\n",
       "        vertical-align: top;\n",
       "    }\n",
       "\n",
       "    .dataframe thead th {\n",
       "        text-align: right;\n",
       "    }\n",
       "</style>\n",
       "<table border=\"1\" class=\"dataframe\">\n",
       "  <thead>\n",
       "    <tr style=\"text-align: right;\">\n",
       "      <th>Fruit</th>\n",
       "      <th>Apple</th>\n",
       "      <th>Kiwi</th>\n",
       "      <th>Orange</th>\n",
       "      <th>Pear</th>\n",
       "    </tr>\n",
       "    <tr>\n",
       "      <th>City</th>\n",
       "      <th></th>\n",
       "      <th></th>\n",
       "      <th></th>\n",
       "      <th></th>\n",
       "    </tr>\n",
       "  </thead>\n",
       "  <tbody>\n",
       "    <tr>\n",
       "      <th>Kazan</th>\n",
       "      <td>829</td>\n",
       "      <td>848</td>\n",
       "      <td>875</td>\n",
       "      <td>801</td>\n",
       "    </tr>\n",
       "    <tr>\n",
       "      <th>Moscow</th>\n",
       "      <td>868</td>\n",
       "      <td>809</td>\n",
       "      <td>855</td>\n",
       "      <td>783</td>\n",
       "    </tr>\n",
       "    <tr>\n",
       "      <th>Saint-Petersburg</th>\n",
       "      <td>858</td>\n",
       "      <td>805</td>\n",
       "      <td>806</td>\n",
       "      <td>863</td>\n",
       "    </tr>\n",
       "  </tbody>\n",
       "</table>\n",
       "</div>"
      ],
      "text/plain": [
       "Fruit             Apple  Kiwi  Orange  Pear\n",
       "City                                       \n",
       "Kazan               829   848     875   801\n",
       "Moscow              868   809     855   783\n",
       "Saint-Petersburg    858   805     806   863"
      ]
     },
     "execution_count": 12,
     "metadata": {},
     "output_type": "execute_result"
    }
   ],
   "source": [
    "#Выведем таблицу сопряженности\n",
    "crosstab_1"
   ]
  },
  {
   "cell_type": "code",
   "execution_count": 13,
   "id": "bd91ffef",
   "metadata": {},
   "outputs": [],
   "source": [
    "#Значений больше 50, а в ячейках нет экстремально маленьких значений (<5)\n",
    "#То можно применять критерий Пирсона (хи-квадрат)\n",
    "\n",
    "chi2_3, p_value_3, dof_3, expected_freq_3 = st.chi2_contingency(crosstab_1)"
   ]
  },
  {
   "cell_type": "code",
   "execution_count": 14,
   "id": "d501975f",
   "metadata": {},
   "outputs": [
    {
     "name": "stdout",
     "output_type": "stream",
     "text": [
      "Статистика равна: 9.418181642422711\n",
      "P-value равен: 0.15138955702360102\n",
      "Число степеней свободы: 6\n",
      "Ожидаемые частоты: [[857. 826. 850. 820.]\n",
      " [847. 816. 841. 811.]\n",
      " [851. 820. 845. 815.]]\n"
     ]
    }
   ],
   "source": [
    "print('Статистика равна:', chi2_3)\n",
    "print('P-value равен:', p_value_3)\n",
    "print('Число степеней свободы:', dof_3)\n",
    "print('Ожидаемые частоты:', np.round(expected_freq_3,0))"
   ]
  },
  {
   "cell_type": "code",
   "execution_count": 15,
   "id": "99a463d3",
   "metadata": {},
   "outputs": [
    {
     "name": "stdout",
     "output_type": "stream",
     "text": [
      "Критическое значение равно: 12.591587243743977\n"
     ]
    }
   ],
   "source": [
    "#Найдем критическое значение для 95%\n",
    "print('Критическое значение равно:', st.chi2.ppf(0.95, df=dof_3))"
   ]
  },
  {
   "cell_type": "markdown",
   "id": "0665bb9f",
   "metadata": {},
   "source": [
    "Не можем отвергнуть нулевую гипотезу об отсутствии зависимости между городом и предпочтением фрукта."
   ]
  },
  {
   "cell_type": "markdown",
   "id": "a9f9f933",
   "metadata": {},
   "source": [
    "## <font color = green> Задание №3 </font>\n",
    "\n",
    "С помощью точного критерия Фишера определите, зависит ли любовь к кофе от трудоустроенности человека.\n",
    "P-value посчитайте с помощью формулы."
   ]
  },
  {
   "cell_type": "code",
   "execution_count": 26,
   "id": "22004993",
   "metadata": {},
   "outputs": [
    {
     "name": "stdout",
     "output_type": "stream",
     "text": [
      "Количество наблюдений: 30\n"
     ]
    },
    {
     "data": {
      "text/html": [
       "<div>\n",
       "<style scoped>\n",
       "    .dataframe tbody tr th:only-of-type {\n",
       "        vertical-align: middle;\n",
       "    }\n",
       "\n",
       "    .dataframe tbody tr th {\n",
       "        vertical-align: top;\n",
       "    }\n",
       "\n",
       "    .dataframe thead th {\n",
       "        text-align: right;\n",
       "    }\n",
       "</style>\n",
       "<table border=\"1\" class=\"dataframe\">\n",
       "  <thead>\n",
       "    <tr style=\"text-align: right;\">\n",
       "      <th></th>\n",
       "      <th>Coffee</th>\n",
       "      <th>Work</th>\n",
       "    </tr>\n",
       "  </thead>\n",
       "  <tbody>\n",
       "    <tr>\n",
       "      <th>0</th>\n",
       "      <td>Любит кофе</td>\n",
       "      <td>Работает</td>\n",
       "    </tr>\n",
       "    <tr>\n",
       "      <th>1</th>\n",
       "      <td>Любит кофе</td>\n",
       "      <td>Не работает</td>\n",
       "    </tr>\n",
       "    <tr>\n",
       "      <th>2</th>\n",
       "      <td>Любит кофе</td>\n",
       "      <td>Работает</td>\n",
       "    </tr>\n",
       "    <tr>\n",
       "      <th>3</th>\n",
       "      <td>Не любит кофе</td>\n",
       "      <td>Работает</td>\n",
       "    </tr>\n",
       "    <tr>\n",
       "      <th>4</th>\n",
       "      <td>Любит кофе</td>\n",
       "      <td>Не работает</td>\n",
       "    </tr>\n",
       "  </tbody>\n",
       "</table>\n",
       "</div>"
      ],
      "text/plain": [
       "          Coffee         Work\n",
       "0     Любит кофе     Работает\n",
       "1     Любит кофе  Не работает\n",
       "2     Любит кофе     Работает\n",
       "3  Не любит кофе     Работает\n",
       "4     Любит кофе  Не работает"
      ]
     },
     "execution_count": 26,
     "metadata": {},
     "output_type": "execute_result"
    }
   ],
   "source": [
    "#Импортируем файл с данными\n",
    "task_5 = pd.read_excel('file4_2.xlsx')\n",
    "\n",
    "print('Количество наблюдений:', len(task_5))\n",
    "task_5.head()"
   ]
  },
  {
   "cell_type": "code",
   "execution_count": 27,
   "id": "980c282d",
   "metadata": {},
   "outputs": [
    {
     "data": {
      "text/html": [
       "<div>\n",
       "<style scoped>\n",
       "    .dataframe tbody tr th:only-of-type {\n",
       "        vertical-align: middle;\n",
       "    }\n",
       "\n",
       "    .dataframe tbody tr th {\n",
       "        vertical-align: top;\n",
       "    }\n",
       "\n",
       "    .dataframe thead th {\n",
       "        text-align: right;\n",
       "    }\n",
       "</style>\n",
       "<table border=\"1\" class=\"dataframe\">\n",
       "  <thead>\n",
       "    <tr style=\"text-align: right;\">\n",
       "      <th>Work</th>\n",
       "      <th>Не работает</th>\n",
       "      <th>Работает</th>\n",
       "    </tr>\n",
       "    <tr>\n",
       "      <th>Coffee</th>\n",
       "      <th></th>\n",
       "      <th></th>\n",
       "    </tr>\n",
       "  </thead>\n",
       "  <tbody>\n",
       "    <tr>\n",
       "      <th>Любит кофе</th>\n",
       "      <td>10</td>\n",
       "      <td>7</td>\n",
       "    </tr>\n",
       "    <tr>\n",
       "      <th>Не любит кофе</th>\n",
       "      <td>4</td>\n",
       "      <td>9</td>\n",
       "    </tr>\n",
       "  </tbody>\n",
       "</table>\n",
       "</div>"
      ],
      "text/plain": [
       "Work           Не работает  Работает\n",
       "Coffee                              \n",
       "Любит кофе              10         7\n",
       "Не любит кофе            4         9"
      ]
     },
     "execution_count": 27,
     "metadata": {},
     "output_type": "execute_result"
    }
   ],
   "source": [
    "#Создадим таблицу сопряженности\n",
    "crosstab_5 = pd.crosstab(task_5['Coffee'], task_5['Work'], rownames=['Coffee'], colnames=['Work'])\n",
    "crosstab_5"
   ]
  },
  {
   "cell_type": "code",
   "execution_count": 28,
   "id": "130b0f33",
   "metadata": {},
   "outputs": [
    {
     "data": {
      "text/plain": [
       "(17, 13, 14, 16)"
      ]
     },
     "execution_count": 28,
     "metadata": {},
     "output_type": "execute_result"
    }
   ],
   "source": [
    "#Посчитаем маргинальные частоты:\n",
    "s1 = crosstab_5.loc['Любит кофе'].sum()\n",
    "s2 = crosstab_5.loc['Не любит кофе'].sum()\n",
    "c1 = crosstab_5['Не работает'].sum()\n",
    "c2 = crosstab_5['Работает'].sum()\n",
    "\n",
    "s1, s2, c1, c2"
   ]
  },
  {
   "cell_type": "code",
   "execution_count": 29,
   "id": "ce579ca9",
   "metadata": {},
   "outputs": [
    {
     "data": {
      "text/plain": [
       "(10, 4, 7, 9, 30)"
      ]
     },
     "execution_count": 29,
     "metadata": {},
     "output_type": "execute_result"
    }
   ],
   "source": [
    "#Посчитаем значения в ячейках\n",
    "a11 = crosstab_5['Не работает'][0]\n",
    "a21 = crosstab_5['Не работает'][1]\n",
    "a12 = crosstab_5['Работает'][0]\n",
    "a22 = crosstab_5['Работает'][1]\n",
    "n5 = a11+a21+a12+a22\n",
    "\n",
    "a11, a21, a12, a22, n5"
   ]
  },
  {
   "cell_type": "code",
   "execution_count": 30,
   "id": "ddfb114a",
   "metadata": {},
   "outputs": [
    {
     "data": {
      "text/plain": [
       "0.09562002624418785"
      ]
     },
     "execution_count": 30,
     "metadata": {},
     "output_type": "execute_result"
    }
   ],
   "source": [
    "#Посчитаем p-value по формуле:\n",
    "p_value_5 = (fact(s1)*fact(s2)*fact(c1)*fact(c2))/(fact(a11)*fact(a21)*fact(a12)*fact(a22)*fact(n5))\n",
    "p_value_5"
   ]
  },
  {
   "cell_type": "markdown",
   "id": "fb917c99",
   "metadata": {},
   "source": [
    "## <font color = green> Задание №4 </font>\n",
    "\n",
    "Проверьте гипотезу об отсутствии связи между анализируемыми качественными признаками с помощью критерия Кохрана-Мантеля-Хензеля."
   ]
  },
  {
   "cell_type": "code",
   "execution_count": 38,
   "id": "981a672b",
   "metadata": {},
   "outputs": [
    {
     "data": {
      "text/html": [
       "<div>\n",
       "<style scoped>\n",
       "    .dataframe tbody tr th:only-of-type {\n",
       "        vertical-align: middle;\n",
       "    }\n",
       "\n",
       "    .dataframe tbody tr th {\n",
       "        vertical-align: top;\n",
       "    }\n",
       "\n",
       "    .dataframe thead th {\n",
       "        text-align: right;\n",
       "    }\n",
       "</style>\n",
       "<table border=\"1\" class=\"dataframe\">\n",
       "  <thead>\n",
       "    <tr style=\"text-align: right;\">\n",
       "      <th></th>\n",
       "      <th>stratum</th>\n",
       "      <th>A</th>\n",
       "      <th>B</th>\n",
       "    </tr>\n",
       "  </thead>\n",
       "  <tbody>\n",
       "    <tr>\n",
       "      <th>0</th>\n",
       "      <td>S1</td>\n",
       "      <td>no</td>\n",
       "      <td>yes</td>\n",
       "    </tr>\n",
       "    <tr>\n",
       "      <th>1</th>\n",
       "      <td>S1</td>\n",
       "      <td>no</td>\n",
       "      <td>yes</td>\n",
       "    </tr>\n",
       "    <tr>\n",
       "      <th>2</th>\n",
       "      <td>S1</td>\n",
       "      <td>no</td>\n",
       "      <td>yes</td>\n",
       "    </tr>\n",
       "    <tr>\n",
       "      <th>3</th>\n",
       "      <td>S1</td>\n",
       "      <td>no</td>\n",
       "      <td>yes</td>\n",
       "    </tr>\n",
       "    <tr>\n",
       "      <th>4</th>\n",
       "      <td>S1</td>\n",
       "      <td>yes</td>\n",
       "      <td>yes</td>\n",
       "    </tr>\n",
       "    <tr>\n",
       "      <th>5</th>\n",
       "      <td>S1</td>\n",
       "      <td>yes</td>\n",
       "      <td>yes</td>\n",
       "    </tr>\n",
       "    <tr>\n",
       "      <th>6</th>\n",
       "      <td>S1</td>\n",
       "      <td>yes</td>\n",
       "      <td>yes</td>\n",
       "    </tr>\n",
       "    <tr>\n",
       "      <th>7</th>\n",
       "      <td>S1</td>\n",
       "      <td>yes</td>\n",
       "      <td>yes</td>\n",
       "    </tr>\n",
       "    <tr>\n",
       "      <th>8</th>\n",
       "      <td>S2</td>\n",
       "      <td>yes</td>\n",
       "      <td>yes</td>\n",
       "    </tr>\n",
       "    <tr>\n",
       "      <th>9</th>\n",
       "      <td>S2</td>\n",
       "      <td>yes</td>\n",
       "      <td>yes</td>\n",
       "    </tr>\n",
       "    <tr>\n",
       "      <th>10</th>\n",
       "      <td>S2</td>\n",
       "      <td>yes</td>\n",
       "      <td>yes</td>\n",
       "    </tr>\n",
       "    <tr>\n",
       "      <th>11</th>\n",
       "      <td>S2</td>\n",
       "      <td>no</td>\n",
       "      <td>yes</td>\n",
       "    </tr>\n",
       "    <tr>\n",
       "      <th>12</th>\n",
       "      <td>S2</td>\n",
       "      <td>no</td>\n",
       "      <td>yes</td>\n",
       "    </tr>\n",
       "    <tr>\n",
       "      <th>13</th>\n",
       "      <td>S2</td>\n",
       "      <td>no</td>\n",
       "      <td>yes</td>\n",
       "    </tr>\n",
       "    <tr>\n",
       "      <th>14</th>\n",
       "      <td>S2</td>\n",
       "      <td>no</td>\n",
       "      <td>no</td>\n",
       "    </tr>\n",
       "    <tr>\n",
       "      <th>15</th>\n",
       "      <td>S2</td>\n",
       "      <td>no</td>\n",
       "      <td>no</td>\n",
       "    </tr>\n",
       "  </tbody>\n",
       "</table>\n",
       "</div>"
      ],
      "text/plain": [
       "   stratum    A    B\n",
       "0       S1   no  yes\n",
       "1       S1   no  yes\n",
       "2       S1   no  yes\n",
       "3       S1   no  yes\n",
       "4       S1  yes  yes\n",
       "5       S1  yes  yes\n",
       "6       S1  yes  yes\n",
       "7       S1  yes  yes\n",
       "8       S2  yes  yes\n",
       "9       S2  yes  yes\n",
       "10      S2  yes  yes\n",
       "11      S2   no  yes\n",
       "12      S2   no  yes\n",
       "13      S2   no  yes\n",
       "14      S2   no   no\n",
       "15      S2   no   no"
      ]
     },
     "execution_count": 38,
     "metadata": {},
     "output_type": "execute_result"
    }
   ],
   "source": [
    "task_6 = pd.DataFrame(\n",
    "    [\n",
    "        ['S1', 'no', 'yes'],\n",
    "        ['S1', 'no', 'yes'],\n",
    "        ['S1', 'no', 'yes'],\n",
    "        ['S1', 'no', 'yes'],\n",
    "        ['S1', 'yes', 'yes'],\n",
    "        ['S1', 'yes', 'yes'],\n",
    "        ['S1', 'yes', 'yes'],\n",
    "        ['S1', 'yes', 'yes'],\n",
    "        ['S2', 'yes', 'yes'],\n",
    "        ['S2', 'yes', 'yes'],\n",
    "        ['S2', 'yes', 'yes'],\n",
    "        ['S2', 'no', 'yes'],\n",
    "        ['S2', 'no', 'yes'],\n",
    "        ['S2', 'no', 'yes'],\n",
    "        ['S2', 'no', 'no'],\n",
    "        ['S2', 'no', 'no'],\n",
    "\n",
    "    ],\n",
    "    columns=['stratum', 'A', 'B']\n",
    ")\n",
    "\n",
    "task_6"
   ]
  },
  {
   "cell_type": "code",
   "execution_count": 39,
   "id": "49d7b1b2",
   "metadata": {},
   "outputs": [
    {
     "name": "stdout",
     "output_type": "stream",
     "text": [
      "\n",
      "        Cochran-Mantel-Haenszel Chi2 test\n",
      "\n",
      "\"A\" x \"B\", stratified by \"stratum\"\n",
      "\n",
      "Cochran-Mantel-Haenszel M^2 = 1.4, dof = 1, p-value = 0.2367\n",
      "\n"
     ]
    }
   ],
   "source": [
    "result_6 = CMH(task_6, 'A', 'B', stratifier='stratum')\n",
    "print(result_6)"
   ]
  },
  {
   "cell_type": "code",
   "execution_count": 40,
   "id": "87b0f9eb",
   "metadata": {},
   "outputs": [
    {
     "name": "stdout",
     "output_type": "stream",
     "text": [
      "Число степеней свободы: 1\n",
      "P-value: 0.2367235706378572\n"
     ]
    }
   ],
   "source": [
    "print('Число степеней свободы:', result_6.dof)\n",
    "print('P-value:', result_6.p)"
   ]
  }
 ],
 "metadata": {
  "kernelspec": {
   "display_name": "Python 3",
   "language": "python",
   "name": "python3"
  },
  "language_info": {
   "codemirror_mode": {
    "name": "ipython",
    "version": 3
   },
   "file_extension": ".py",
   "mimetype": "text/x-python",
   "name": "python",
   "nbconvert_exporter": "python",
   "pygments_lexer": "ipython3",
   "version": "3.8.8"
  }
 },
 "nbformat": 4,
 "nbformat_minor": 5
}
