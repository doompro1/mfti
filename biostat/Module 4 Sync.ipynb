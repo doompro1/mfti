{
 "cells": [
  {
   "cell_type": "markdown",
   "id": "3209b33d",
   "metadata": {},
   "source": [
    "# <span style=\"color:maroon\"> Модуль 4 </span>\n",
    "*Семинар 22-23 марта 2023*\n",
    "\n",
    "## <span style=\"color:darkred\"> Темы: Расчет выборки исследования (Часть 1)  </span>\n",
    "+ Расчет выборки для одной непрерывной конечной точки \n",
    "+ Расчет выборки для одной категориальной конечной точки\n",
    "+ Расчет выборки для конечной точки “время до наступления события”\n",
    "\n",
    "### <span style=\"color:indianred\"> Общие замечания </span>\n",
    "\n",
    "Начнем с того, что обычно основная задача любого клинического исследования -- показать эффективность и безопасность препарата или терапии. Таким образом, важно определить количество участников, достаточное для обобщения выводов. \n",
    "\n",
    "Обычно гипотеза исследования формулируется относительно первичной конечной точки исследования (в общем случае -- это не обязательно именно так). \n",
    "\n",
    "#### <span style=\"color:brown\"> Задачи исследования </span>\n",
    "\n",
    "Показать: \n",
    "+ эквивалентную (безопасность/эффективность), *equivalence*\n",
    "+ не меньшую (безопасность/эффективность), *noninferiority*\n",
    "+ превосходящую (безопасность/эффективность), *superiority*\n",
    "\n",
    "1. Эквивалентность\n",
    "$$H_{0}: \\mu_{T} = \\mu_{R}$$\n",
    "$$H_{1}: \\mu_{T} \\ne \\mu_{R}$$\n",
    "\n",
    "$$H_{0}: |\\mu_{T} - \\mu_{R}| \\geq \\delta$$\n",
    "$$H_{1}: |\\mu_{T} - \\mu_{R}| < \\delta$$\n",
    "\n",
    "2. Не меньшая (эффективность)\n",
    "$$H_{0}: \\mu_{R} - \\mu_{T} \\geq \\delta$$\n",
    "$$H_{1}: \\mu_{R} - \\mu_{T} < \\delta$$\n",
    "$\\delta$ - клинически значимое различие.\n",
    "\n",
    "3. Превосходящая (эффективность)\n",
    "$$H_{0}: \\mu_{T} - \\mu_{R} \\leq \\delta$$\n",
    "$$H_{1}: \\mu_{T} - \\mu_{R} > \\delta$$\n",
    "\n",
    "\n",
    ">Допустим, что у нас есть данные (количественные) для двух групп, $x_{1}, x_{2}, ..., x_{n_{1}}$ и $y_{1}, y_{2}, ..., y_{n_{2}}$.\n",
    ">Мы хотим проверить гипотезу:\n",
    "$$H_{0}: \\mu_{T} = \\mu_{R}$$\n",
    "$$H_{1}: \\mu_{T} \\ne \\mu_{R}$$\n",
    ">Будем считать (для простоты), что нам известны дисперсии $\\sigma_{1}^{2}$ и $\\sigma_{2}^{2}$, а также будем считать, что $n_{1} = n_{2} = n$. Z-статистика (при нулевой гипотезе распределена как $N(0, 1)$:\n",
    "$$Z = {\\bar{x} - \\bar{y} \\over \\sqrt{{\\sigma_{1}^{2} \\over n} + {\\sigma_{2}^{2} \\over n}}}$$\n",
    "Мы отвергаем нулевую гипотезу в случае, если \n",
    "$$|Z| > z_{\\alpha/2}$$\n",
    "В случае альтернативной гипотезы $\\mu_{1} = \\mu_{2} + \\delta$, Z распределено как $N(\\mu^{*}, 1)$, при этом\n",
    "$$\\mu^{*} = {\\delta \\over \\sqrt{{\\sigma_{1}^{2} \\over n} + {\\sigma_{2}^{2} \\over n}}} > 0$$\n",
    "Мощность определяется как:\n",
    "$$P \\{|N(\\mu^{*}, 1)| > z_{\\alpha/2}\\} ≈ P \\{N(\\mu^{*}, 1) > z_{\\alpha/2}\\} = P \\{N(0, 1) > z_{\\alpha/2} - \\mu^{*}\\}$$\n",
    "Напомним, что мощность, это:\n",
    "$$Мощность = 1 - \\beta = P \\{ отвергнуть\\;H_0,\\;если\\;H_0\\;не\\;верна\\}$$\n",
    "А ошибка второго рода $\\beta$:\n",
    "$$\\beta = P\\{ не\\;отвергнуть\\;H_0,\\;если\\;H_0\\;не\\;верна\\}$$\n",
    "Тогда условие для мощности:\n",
    "$$z_{\\alpha/2} -\\mu^{*} = -z_{\\beta} $$\n",
    "Откуда получаем, что \n",
    "$$n = {(\\sigma_{1}^{2} + \\sigma_{2}^{2})(z_{\\alpha/2}+z_{\\beta})^{2} \\over \\delta^{2}}$$\n"
   ]
  },
  {
   "cell_type": "code",
   "execution_count": 1,
   "id": "b5c5fd16",
   "metadata": {},
   "outputs": [
    {
     "name": "stdout",
     "output_type": "stream",
     "text": [
      "Размер выборки, чтобы показать статистически значимое различие при мощности 90%: 106\n"
     ]
    }
   ],
   "source": [
    "# Проведем расчеты с использованием этой формулы\n",
    "\n",
    "from scipy import stats\n",
    "import math\n",
    "\n",
    "\n",
    "sigma_1 = 1\n",
    "sigma_2 = 2\n",
    "alpha_ = 0.05 # 5% уровень значимости\n",
    "beta_ = 0.1 # 90% мощность\n",
    "delta_ = 1 # клинически значимое различие\n",
    "z_alpha = stats.norm.ppf(1-(alpha_/2))\n",
    "z_beta = stats.norm.ppf(1-beta_)\n",
    "n = ((sigma_1**2 + sigma_2**2)*(z_alpha + z_beta)**2)/(delta_**2)\n",
    "print(\"Размер выборки, чтобы показать статистически значимое различие при мощности 90%:\",math.ceil(n)*2)"
   ]
  },
  {
   "cell_type": "markdown",
   "id": "2b4e431b",
   "metadata": {},
   "source": [
    "### <span style=\"color:indianred\"> Расчет выборки для одной непрерывной конечной точки  </span>\n",
    "\n",
    "#### Пример\n",
    "\n",
    "Проведем расчет размера выборки для доказательства не меньшей эффективности на основании значений показателя гликированного гемоглобина – HbA1c, после полугода лечения. Пусть рассчитанное количество пациентов должно обеспечить выявление различия в 0,4 % по уровню HbA1c между группами лечения.\n",
    "Пусть также известно, что стандартное отклонение показателя HbA1c для расчета планируемого количества пациентов варьирует от 0,8 до 1,3 %. Значение ошибки первого рода равно 2,5 % (α = 0.025), ошибки второго рода – 20% (β = 0.2), мощность критерия – 80%.\n",
    "Также дизайн таков, что размеры групп лечения совпадают и равны; истинное различие средних значений показателя HbA1c между значениями групп тестируемого препарата и препарата сравнения равно 0. Стандартное отклонение групп тестируемого препарата и препарата сравнения равны, и обобщенное стандартное отклонение принято равным: σ= 1,2; Граница не меньшей эффективности равна 0,43: δ = 0,43.\n",
    "Расчет размера выборки произведем по формуле:\n",
    "\n",
    "$$n2 = (1+{1 \\over k})(\\sigma {{z_{\\alpha} + z_{\\beta}} \\over {\\mu_{1} - \\mu_{2} - \\delta}})^2$$\n",
    "\n",
    "где, $μ_1$ и $μ_2$ – средние в основной и контрольной группе соответственно; $k=n_1/n_2$ – отношение количества субъектов в группах (в данном случае, 1); $\\sigma$ – стандартное отклонение; $\\alpha$ – ошибка I рода; β – ошибка II рода; $\\delta$ – граница не меньшей эффективности.\n",
    "Таким образом, для получения достоверных результатов необходимо 238 законченных случаев (по 119 пациентов в каждой группе), с учетом 20% выбывания на скрининге и 10 % выбывания после рандомизации необходимо рандомизировать 264 пациента (132 пациента в каждой группе) и скринировать не более 330 пациентов. \n"
   ]
  },
  {
   "cell_type": "code",
   "execution_count": 36,
   "id": "fcdd6dde",
   "metadata": {},
   "outputs": [
    {
     "name": "stdout",
     "output_type": "stream",
     "text": [
      "Количество участников, которые должны закончить исследование в одной из групп: 123\n"
     ]
    }
   ],
   "source": [
    "from scipy.stats import norm\n",
    "import math\n",
    "import numpy as np\n",
    "import pandas as pd\n",
    "\n",
    "alpha = 0.025\n",
    "beta=0.2\n",
    "dropout_rate = 0.15\n",
    "\n",
    "# calculate z percentiles\n",
    "z_alpha = abs(norm.ppf(alpha))\n",
    "z_beta = abs(norm.ppf(1-beta))\n",
    "\n",
    "sigma = 1.2\n",
    "delta=0.43\n",
    "eps = 0\n",
    "k = 1\n",
    "\n",
    "n2 = math.ceil((1+(1/k))*((z_alpha + z_beta)**2)*(sigma**2)/((eps-delta)**2)) \n",
    "print(\"Количество участников, которые должны закончить исследование в одной из групп:\", n2*k)"
   ]
  },
  {
   "cell_type": "code",
   "execution_count": 38,
   "id": "ce66efad",
   "metadata": {},
   "outputs": [
    {
     "name": "stdout",
     "output_type": "stream",
     "text": [
      "Количество участников в исследовании: 290\n"
     ]
    }
   ],
   "source": [
    "N=n2+n2*k\n",
    "\n",
    "# учтем дропаутов\n",
    "N_tot = math.ceil(N/(1-dropout_rate))\n",
    "print(\"Количество участников в исследовании:\", N_tot)"
   ]
  },
  {
   "cell_type": "markdown",
   "id": "86c9f62c",
   "metadata": {},
   "source": [
    "### <span style=\"color:indianred\"> Расчет выборки для одной категориальной конечной точки </span>\n",
    "\n",
    "#### Пример \n",
    "[Efficacy, Safety and Tolerability Study of Chloroprocaine 3% Gel Eye Drops in Healthy Volunteers](https://clinicaltrials.gov/ct2/show/NCT04753710?rslt=With&type=Intr&hlth=Y&phase=012&u_prot=Yes&u_sap=Yes&draw=2&rank=1)\n",
    "A Phase II/III, Randomized, Double-Masked, Vehicle-Controlled, Efficacy, Safety\n",
    "and Tolerability Study of Chloroprocaine 3% Gel Eye Drops in Healthy Volunteers\n",
    "\n",
    "**Primary objective**: To assess efficacy of Chloroprocaine 3% ophthalmic gel in\n",
    "healthy volunteers\n",
    "\n",
    "**Sample Size, Part II**:\n",
    "60 healthy female or male subjects will be included in Part II: 40 subjects will be treated with\n",
    "chloroprocaine and 20 subjects will be treated with placebo. We chose the 2:1 allocation rate (with\n",
    "the experimental treatment having more patients than the vehicle arm) since the experimental\n",
    "treatment is a new product and we wanted to be able to estimate its success rate with more precision.\n",
    "Sample size per group was calculated for comparing two independent proportions (experimental and\n",
    "placebo success rate) with a two-sided alpha=0.05 and a power of 0.95. This is based on the\n",
    "assumption, that the experimental success rate is 80% and the vehicle success rate is 30%, taking\n",
    "a dropout rate of 20% into account. [Page 32](https://clinicaltrials.gov/ProvidedDocs/10/NCT04753710/Prot_SAP_000.pdf)"
   ]
  },
  {
   "cell_type": "code",
   "execution_count": 53,
   "id": "5e6c719c",
   "metadata": {},
   "outputs": [
    {
     "name": "stdout",
     "output_type": "stream",
     "text": [
      "Количество участников в группе плацебо: 20\n",
      "Количество участников в группе терапии: 40\n"
     ]
    }
   ],
   "source": [
    "from scipy.stats import norm\n",
    "import math\n",
    "import numpy as np\n",
    "import pandas as pd\n",
    "\n",
    "alpha = 0.05\n",
    "beta=0.05\n",
    "dropout_rate = 0.2\n",
    "\n",
    "# calculate z percentiles\n",
    "z_alpha = abs(norm.ppf(alpha / 2))\n",
    "z_beta = abs(norm.ppf(1-beta))\n",
    "\n",
    "p1 = 0.8 # the experimental success rate is 80%\n",
    "p2 = 0.3 # the vehicle success rate is 30%\n",
    "k = 2\n",
    "\n",
    "n2 = math.ceil(math.ceil(((z_alpha + z_beta)**2 / (p1-p2)**2) * ((p1*(1-p1)/k)+(p2*(1-p2))))/(1-dropout_rate))\n",
    "\n",
    "print(\"Количество участников в группе плацебо:\", n2)\n",
    "print(\"Количество участников в группе терапии:\", n2*k)"
   ]
  },
  {
   "cell_type": "markdown",
   "id": "bc4ea095",
   "metadata": {},
   "source": [
    "### <span style=\"color:indianred\"> Расчет выборки для конечной точки “время до наступления события” </span>\n",
    "\n",
    "#### Пример \n",
    "Пусть планируется исследование среди пациентов с болезнью Ходжкина (БХД) и с неходжкинской лимфомой (НХЛ). Пациентам будет сделана либо аллогенная (алло) трансплантация от HLA-совместимого родственного донора, либо аутологичная (ауто) трансплантация, при которой их собственный костный мозг был очищен и возвращен им после высокой дозы химиотерапии. Основная цель состоит в том, чтобы сравнить пациентов с алло- или аутотрансплантатами с точки зрения времени до лейкемии. Планируется, что исследование продлится три ($T = 3$) года с периодом набора в один год ($T_0 = 1$). Предполагается однородная запись алло- и ауто- пациентов (λ = 0). Также предполагается, что показатели отношения риска для алло- и аутотрансплантатов равны 1 (λ1 = 1) и 2 (λ2 = 2) соответственно. \n",
    "\n",
    "$$\\sigma_{i}^2= \\lambda_{i}^{2} {(1 + {{e^{-\\lambda_{i}T} - e^{-\\lambda_{i}(T-T_0)}} \\over \\lambda_{i}T_0})}^{-1}$$"
   ]
  },
  {
   "cell_type": "code",
   "execution_count": 52,
   "id": "172d5abc",
   "metadata": {},
   "outputs": [],
   "source": []
  },
  {
   "cell_type": "code",
   "execution_count": 57,
   "id": "18292cd3",
   "metadata": {},
   "outputs": [
    {
     "name": "stdout",
     "output_type": "stream",
     "text": [
      "Количество участников в группе 1: 41\n",
      "Количество участников в группе 2: 41\n"
     ]
    }
   ],
   "source": [
    "lambda1=1\n",
    "lambda2=2\n",
    "T=3\n",
    "T0=1\n",
    "sigma_1_sq = (lambda1**2)*((1 + ((math.e**(-lambda1*T) - math.e**(-lambda1*(T-T0)))/(lambda1*T0)))**(-1))\n",
    "sigma_2_sq = (lambda2**2)*((1 + ((math.e**(-lambda2*T) - math.e**(-lambda2*(T-T0)))/(lambda2*T0)))**(-1))\n",
    "\n",
    "alpha = 0.05\n",
    "beta=0.2\n",
    "k=1\n",
    "\n",
    "# calculate z percentiles\n",
    "z_alpha = abs(norm.ppf(alpha / 2))\n",
    "z_beta = abs(norm.ppf(1-beta))\n",
    "\n",
    "n=math.ceil(((z_alpha + z_beta)**2)*((sigma_1_sq/k) + sigma_2_sq)/((lambda2-lambda1)**2))\n",
    "print(\"Количество участников в группе 1:\", n)\n",
    "print(\"Количество участников в группе 2:\", n*k)"
   ]
  }
 ],
 "metadata": {
  "kernelspec": {
   "display_name": "Python 3 (ipykernel)",
   "language": "python",
   "name": "python3"
  },
  "language_info": {
   "codemirror_mode": {
    "name": "ipython",
    "version": 3
   },
   "file_extension": ".py",
   "mimetype": "text/x-python",
   "name": "python",
   "nbconvert_exporter": "python",
   "pygments_lexer": "ipython3",
   "version": "3.9.12"
  },
  "varInspector": {
   "cols": {
    "lenName": 16,
    "lenType": 16,
    "lenVar": 40
   },
   "kernels_config": {
    "python": {
     "delete_cmd_postfix": "",
     "delete_cmd_prefix": "del ",
     "library": "var_list.py",
     "varRefreshCmd": "print(var_dic_list())"
    },
    "r": {
     "delete_cmd_postfix": ") ",
     "delete_cmd_prefix": "rm(",
     "library": "var_list.r",
     "varRefreshCmd": "cat(var_dic_list()) "
    }
   },
   "types_to_exclude": [
    "module",
    "function",
    "builtin_function_or_method",
    "instance",
    "_Feature"
   ],
   "window_display": false
  }
 },
 "nbformat": 4,
 "nbformat_minor": 5
}
