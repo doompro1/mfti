{
 "cells": [
  {
   "cell_type": "markdown",
   "id": "dc885bfa",
   "metadata": {
    "id": "dc885bfa"
   },
   "source": [
    "#  <font color = #025C02> Домашнее задание №1 </font>\n",
    "<font color=#062C4A>Всего будет **5 заданий** по этой теме </font>"
   ]
  },
  {
   "cell_type": "code",
   "execution_count": 54,
   "id": "aa56c1aa",
   "metadata": {
    "ExecuteTime": {
     "end_time": "2023-03-11T22:15:07.227642Z",
     "start_time": "2023-03-11T22:15:07.216127Z"
    }
   },
   "outputs": [
    {
     "data": {
      "text/html": [
       "<div>\n",
       "<style scoped>\n",
       "    .dataframe tbody tr th:only-of-type {\n",
       "        vertical-align: middle;\n",
       "    }\n",
       "\n",
       "    .dataframe tbody tr th {\n",
       "        vertical-align: top;\n",
       "    }\n",
       "\n",
       "    .dataframe thead th {\n",
       "        text-align: right;\n",
       "    }\n",
       "</style>\n",
       "<table border=\"1\" class=\"dataframe\">\n",
       "  <thead>\n",
       "    <tr style=\"text-align: right;\">\n",
       "      <th></th>\n",
       "      <th>Value</th>\n",
       "    </tr>\n",
       "  </thead>\n",
       "  <tbody>\n",
       "    <tr>\n",
       "      <th>0</th>\n",
       "      <td>Purple Audi</td>\n",
       "    </tr>\n",
       "    <tr>\n",
       "      <th>1</th>\n",
       "      <td>Red Mercedes</td>\n",
       "    </tr>\n",
       "    <tr>\n",
       "      <th>2</th>\n",
       "      <td>Red Mercedes</td>\n",
       "    </tr>\n",
       "    <tr>\n",
       "      <th>3</th>\n",
       "      <td>Red Mercedes</td>\n",
       "    </tr>\n",
       "    <tr>\n",
       "      <th>4</th>\n",
       "      <td>Red Mercedes</td>\n",
       "    </tr>\n",
       "  </tbody>\n",
       "</table>\n",
       "</div>"
      ],
      "text/plain": [
       "          Value\n",
       "0   Purple Audi\n",
       "1  Red Mercedes\n",
       "2  Red Mercedes\n",
       "3  Red Mercedes\n",
       "4  Red Mercedes"
      ]
     },
     "execution_count": 54,
     "metadata": {},
     "output_type": "execute_result"
    }
   ],
   "source": [
    "import pandas as pd\n",
    "import numpy as np\n",
    "df22 = pd.read_csv('asset-v1_SkillFactory+MIPTADA+SEPT22+type@asset+block@Task_2_2.csv')\n",
    "df21 = pd.read_csv('asset-v1_SkillFactory+MIPTADA+SEPT22+type@asset+block@Task_2_1.csv')\n",
    "df1 = pd.read_csv('asset-v1_SkillFactory+MIPTADA+SEPT22+type@asset+block@Task_1.csv')\n",
    "df22.head()"
   ]
  },
  {
   "cell_type": "markdown",
   "id": "6b8835d1",
   "metadata": {
    "id": "6b8835d1"
   },
   "source": [
    "---\n",
    "## <font color =#5D0578 >Задание №1</font>\n",
    "\n",
    "**Рассчитайте следующие статистики для данных Task 1.csv:**\n",
    "\n",
    "(округлите до 2х знаков после запятой)\n",
    "\n",
    "- Среднее\n",
    "- Стандартное отклонение\n",
    "- Дисперсию\n",
    "- Квартили (1-й, 2-й, 3-й, 4-й)\n",
    "- Моду\n",
    "- 2-й перцентиль\n",
    "- Интерквартильный размах\n",
    "\n",
    "Примените те формулы, которые наиболее хорошо подходят для конкретного случая\n",
    "\n",
    "---"
   ]
  },
  {
   "cell_type": "markdown",
   "id": "cfc70549",
   "metadata": {},
   "source": [
    "# Среднее"
   ]
  },
  {
   "cell_type": "code",
   "execution_count": 32,
   "id": "337f0547",
   "metadata": {
    "ExecuteTime": {
     "end_time": "2023-03-11T21:44:20.041947Z",
     "start_time": "2023-03-11T21:44:20.027902Z"
    }
   },
   "outputs": [
    {
     "name": "stdout",
     "output_type": "stream",
     "text": [
      "177.34190571428618\n"
     ]
    }
   ],
   "source": [
    "print(df1['Values'].mean())"
   ]
  },
  {
   "cell_type": "markdown",
   "id": "73cf55d7",
   "metadata": {},
   "source": [
    "# Стандартное отклонение"
   ]
  },
  {
   "cell_type": "code",
   "execution_count": 33,
   "id": "69974527",
   "metadata": {
    "ExecuteTime": {
     "end_time": "2023-03-11T21:44:20.592535Z",
     "start_time": "2023-03-11T21:44:20.580365Z"
    }
   },
   "outputs": [
    {
     "name": "stdout",
     "output_type": "stream",
     "text": [
      "115.26406757526937\n"
     ]
    }
   ],
   "source": [
    "print(df1['Values'].std())"
   ]
  },
  {
   "cell_type": "markdown",
   "id": "7b349dfc",
   "metadata": {},
   "source": [
    "# Дисперсию"
   ]
  },
  {
   "cell_type": "code",
   "execution_count": 40,
   "id": "fcfd3ee5",
   "metadata": {
    "ExecuteTime": {
     "end_time": "2023-03-11T21:47:26.041797Z",
     "start_time": "2023-03-11T21:47:26.025718Z"
    }
   },
   "outputs": [
    {
     "name": "stdout",
     "output_type": "stream",
     "text": [
      "13285.805273996251\n"
     ]
    }
   ],
   "source": [
    "from statistics import variance\n",
    "print(variance(df1['Values']))"
   ]
  },
  {
   "cell_type": "code",
   "execution_count": 41,
   "id": "2f5d5fed",
   "metadata": {
    "ExecuteTime": {
     "end_time": "2023-03-11T21:48:07.531347Z",
     "start_time": "2023-03-11T21:48:07.510623Z"
    }
   },
   "outputs": [
    {
     "name": "stdout",
     "output_type": "stream",
     "text": [
      "13278.213385268253\n"
     ]
    }
   ],
   "source": [
    "#пояснений нет, но если речь о популяции\n",
    "from statistics import pvariance\n",
    "print(pvariance(df1['Values']))"
   ]
  },
  {
   "cell_type": "markdown",
   "id": "da34e9b7",
   "metadata": {},
   "source": [
    "# Квартили (1-й, 2-й, 3-й, ????4-й????)"
   ]
  },
  {
   "cell_type": "code",
   "execution_count": 26,
   "id": "29d064cd",
   "metadata": {
    "ExecuteTime": {
     "end_time": "2023-03-11T21:42:58.753640Z",
     "start_time": "2023-03-11T21:42:58.737614Z"
    }
   },
   "outputs": [
    {
     "name": "stdout",
     "output_type": "stream",
     "text": [
      "0.25     99.22875\n",
      "0.50    151.07250\n",
      "0.75    220.36875\n",
      "1.00    928.66500\n",
      "Name: Values, dtype: float64\n",
      "[99.13125, 151.0725, 220.5075]\n"
     ]
    }
   ],
   "source": [
    "import statistics\n",
    "print(df1['Values'].quantile([0.25,0.5,0.75,1]))\n",
    "print(statistics.quantiles(df1['Values'], n=4, method='exclusive'))\n"
   ]
  },
  {
   "cell_type": "markdown",
   "id": "66294467",
   "metadata": {},
   "source": [
    "# Мода"
   ]
  },
  {
   "cell_type": "code",
   "execution_count": 27,
   "id": "188060f1",
   "metadata": {
    "ExecuteTime": {
     "end_time": "2023-03-11T21:42:59.666102Z",
     "start_time": "2023-03-11T21:42:59.660563Z"
    }
   },
   "outputs": [
    {
     "name": "stdout",
     "output_type": "stream",
     "text": [
      "81.375\n"
     ]
    }
   ],
   "source": [
    "moda = df1['Values'].mode()\n",
    "print(moda[0])"
   ]
  },
  {
   "cell_type": "markdown",
   "id": "3966482f",
   "metadata": {},
   "source": [
    "# 2-й перцентиль"
   ]
  },
  {
   "cell_type": "code",
   "execution_count": 28,
   "id": "43bf2521",
   "metadata": {
    "ExecuteTime": {
     "end_time": "2023-03-11T21:43:00.435489Z",
     "start_time": "2023-03-11T21:43:00.421835Z"
    }
   },
   "outputs": [
    {
     "name": "stdout",
     "output_type": "stream",
     "text": [
      "38.9367\n"
     ]
    }
   ],
   "source": [
    "print(np.percentile(df1['Values'].to_list(), 2))"
   ]
  },
  {
   "cell_type": "markdown",
   "id": "fde3a49b",
   "metadata": {},
   "source": [
    "# Интерквартильный размах"
   ]
  },
  {
   "cell_type": "code",
   "execution_count": 50,
   "id": "a0049ecf",
   "metadata": {
    "ExecuteTime": {
     "end_time": "2023-03-11T22:05:46.371060Z",
     "start_time": "2023-03-11T22:05:46.362461Z"
    }
   },
   "outputs": [
    {
     "name": "stdout",
     "output_type": "stream",
     "text": [
      "-121.14000000000001\n"
     ]
    }
   ],
   "source": [
    "q3, q1 = np.percentile(df1['Values'], [75 ,25])\n",
    "print(q1 - q3)"
   ]
  },
  {
   "cell_type": "markdown",
   "id": "bc716f5c",
   "metadata": {
    "id": "bc716f5c"
   },
   "source": [
    "---\n",
    "## <font color =#5D0578 >Задание №2.1</font>\n",
    "\n",
    "**Рассчитайте следующие статистики для данных Task 2_1.csv:**\n",
    "\n",
    "(округлите до 2х знаков после запятой)\n",
    "\n",
    "- Среднее\n",
    "- Стандартное отклонение\n",
    "- Дисперсию\n",
    "- Квартили (1-й, 3-й)\n",
    "\n",
    "Примените те формулы, которые наиболее хорошо подходят для конкретного случая\n",
    "\n",
    "---"
   ]
  },
  {
   "cell_type": "code",
   "execution_count": 75,
   "id": "8f07c88e",
   "metadata": {
    "ExecuteTime": {
     "end_time": "2023-03-11T22:47:03.871407Z",
     "start_time": "2023-03-11T22:47:02.430538Z"
    }
   },
   "outputs": [
    {
     "name": "stderr",
     "output_type": "stream",
     "text": [
      "Fitting 5 distributions: 100%|███████████████████████████████████████████████████████████| 5/5 [00:00<00:00,  9.61it/s]\n"
     ]
    },
    {
     "data": {
      "text/html": [
       "<div>\n",
       "<style scoped>\n",
       "    .dataframe tbody tr th:only-of-type {\n",
       "        vertical-align: middle;\n",
       "    }\n",
       "\n",
       "    .dataframe tbody tr th {\n",
       "        vertical-align: top;\n",
       "    }\n",
       "\n",
       "    .dataframe thead th {\n",
       "        text-align: right;\n",
       "    }\n",
       "</style>\n",
       "<table border=\"1\" class=\"dataframe\">\n",
       "  <thead>\n",
       "    <tr style=\"text-align: right;\">\n",
       "      <th></th>\n",
       "      <th>sumsquare_error</th>\n",
       "      <th>aic</th>\n",
       "      <th>bic</th>\n",
       "      <th>kl_div</th>\n",
       "      <th>ks_statistic</th>\n",
       "      <th>ks_pvalue</th>\n",
       "    </tr>\n",
       "  </thead>\n",
       "  <tbody>\n",
       "    <tr>\n",
       "      <th>burr</th>\n",
       "      <td>0.000007</td>\n",
       "      <td>1668.968367</td>\n",
       "      <td>-33727.576895</td>\n",
       "      <td>inf</td>\n",
       "      <td>0.015722</td>\n",
       "      <td>7.737710e-01</td>\n",
       "    </tr>\n",
       "    <tr>\n",
       "      <th>gamma</th>\n",
       "      <td>0.000011</td>\n",
       "      <td>1800.340569</td>\n",
       "      <td>-33081.638410</td>\n",
       "      <td>inf</td>\n",
       "      <td>0.042103</td>\n",
       "      <td>3.922989e-03</td>\n",
       "    </tr>\n",
       "    <tr>\n",
       "      <th>beta</th>\n",
       "      <td>0.000011</td>\n",
       "      <td>1797.199549</td>\n",
       "      <td>-33038.721196</td>\n",
       "      <td>inf</td>\n",
       "      <td>0.042610</td>\n",
       "      <td>3.373581e-03</td>\n",
       "    </tr>\n",
       "    <tr>\n",
       "      <th>norm</th>\n",
       "      <td>0.000064</td>\n",
       "      <td>2303.499886</td>\n",
       "      <td>-29956.369283</td>\n",
       "      <td>inf</td>\n",
       "      <td>0.121939</td>\n",
       "      <td>3.904500e-23</td>\n",
       "    </tr>\n",
       "    <tr>\n",
       "      <th>lognorm</th>\n",
       "      <td>0.000646</td>\n",
       "      <td>1776.923228</td>\n",
       "      <td>-25899.548231</td>\n",
       "      <td>inf</td>\n",
       "      <td>0.690821</td>\n",
       "      <td>0.000000e+00</td>\n",
       "    </tr>\n",
       "  </tbody>\n",
       "</table>\n",
       "</div>"
      ],
      "text/plain": [
       "         sumsquare_error          aic           bic  kl_div  ks_statistic  \\\n",
       "burr            0.000007  1668.968367 -33727.576895     inf      0.015722   \n",
       "gamma           0.000011  1800.340569 -33081.638410     inf      0.042103   \n",
       "beta            0.000011  1797.199549 -33038.721196     inf      0.042610   \n",
       "norm            0.000064  2303.499886 -29956.369283     inf      0.121939   \n",
       "lognorm         0.000646  1776.923228 -25899.548231     inf      0.690821   \n",
       "\n",
       "            ks_pvalue  \n",
       "burr     7.737710e-01  \n",
       "gamma    3.922989e-03  \n",
       "beta     3.373581e-03  \n",
       "norm     3.904500e-23  \n",
       "lognorm  0.000000e+00  "
      ]
     },
     "execution_count": 75,
     "metadata": {},
     "output_type": "execute_result"
    },
    {
     "data": {
      "image/png": "[encoded data removed]",
      "text/plain": [
       "<Figure size 640x480 with 1 Axes>"
      ]
     },
     "metadata": {},
     "output_type": "display_data"
    }
   ],
   "source": [
    "import numpy as np\n",
    "import pandas as pd\n",
    "import seaborn as sns\n",
    "from fitter import Fitter, get_common_distributions, get_distributions\n",
    "f = Fitter(df1['Values'],\n",
    "           distributions=['gamma',\n",
    "                          'lognorm',\n",
    "                          \"beta\",\n",
    "                          \"burr\",\n",
    "                          \"norm\"])\n",
    "f.fit()\n",
    "f.summary()"
   ]
  },
  {
   "cell_type": "markdown",
   "id": "e817e560",
   "metadata": {
    "ExecuteTime": {
     "end_time": "2023-03-11T21:43:56.199934Z",
     "start_time": "2023-03-11T21:43:56.188193Z"
    }
   },
   "source": [
    "# Среднее"
   ]
  },
  {
   "cell_type": "code",
   "execution_count": 38,
   "id": "58e77112",
   "metadata": {
    "ExecuteTime": {
     "end_time": "2023-03-11T21:45:08.391615Z",
     "start_time": "2023-03-11T21:45:08.376237Z"
    }
   },
   "outputs": [
    {
     "name": "stdout",
     "output_type": "stream",
     "text": [
      "877.6768\n"
     ]
    }
   ],
   "source": [
    "print(df21['Values'].mean())"
   ]
  },
  {
   "cell_type": "markdown",
   "id": "db80cd4f",
   "metadata": {
    "ExecuteTime": {
     "end_time": "2023-03-11T21:43:56.922425Z",
     "start_time": "2023-03-11T21:43:56.910514Z"
    }
   },
   "source": [
    "# Стандартное отклонение"
   ]
  },
  {
   "cell_type": "code",
   "execution_count": 39,
   "id": "2cc86255",
   "metadata": {
    "ExecuteTime": {
     "end_time": "2023-03-11T21:45:20.060984Z",
     "start_time": "2023-03-11T21:45:20.044376Z"
    }
   },
   "outputs": [
    {
     "name": "stdout",
     "output_type": "stream",
     "text": [
      "660.8732245584399\n"
     ]
    }
   ],
   "source": [
    "print(df21['Values'].std())"
   ]
  },
  {
   "cell_type": "markdown",
   "id": "c3b7f982",
   "metadata": {},
   "source": [
    "# Дисперсию"
   ]
  },
  {
   "cell_type": "code",
   "execution_count": 51,
   "id": "d0eefb62",
   "metadata": {
    "ExecuteTime": {
     "end_time": "2023-03-11T22:13:10.775618Z",
     "start_time": "2023-03-11T22:13:10.770020Z"
    }
   },
   "outputs": [
    {
     "name": "stdout",
     "output_type": "stream",
     "text": [
      "436753.4189382703\n"
     ]
    }
   ],
   "source": [
    "from statistics import variance\n",
    "print(variance(df21['Values']))"
   ]
  },
  {
   "cell_type": "markdown",
   "id": "bc845fc5",
   "metadata": {},
   "source": [
    "# Квартили (1-й, 3-й)"
   ]
  },
  {
   "cell_type": "code",
   "execution_count": 52,
   "id": "48cb3867",
   "metadata": {
    "ExecuteTime": {
     "end_time": "2023-03-11T22:13:58.842348Z",
     "start_time": "2023-03-11T22:13:58.829327Z"
    }
   },
   "outputs": [
    {
     "name": "stdout",
     "output_type": "stream",
     "text": [
      "0.25     99.22875\n",
      "0.75    220.36875\n",
      "Name: Values, dtype: float64\n"
     ]
    }
   ],
   "source": [
    "print(df1['Values'].quantile([0.25,0.75]))"
   ]
  },
  {
   "cell_type": "markdown",
   "id": "be63a34e",
   "metadata": {
    "id": "be63a34e"
   },
   "source": [
    "---\n",
    "## <font color =#5D0578 >Задание №2.2</font>\n",
    "\n",
    "**Рассчитайте следующие статистики для данных Task 2_2.csv:**\n",
    "\n",
    "(округлите до 2х знаков после запятой)\n",
    "\n",
    "- Абсолютную частоту встречаемости каждого признака\n",
    "- Относительную частоту встречаемости каждого признака\n",
    "- Какой из признаков самый редко встречающийся?\n",
    "\n",
    "---"
   ]
  },
  {
   "cell_type": "markdown",
   "id": "b8d4186e",
   "metadata": {},
   "source": [
    "# Абсолютную частоту встречаемости каждого признака"
   ]
  },
  {
   "cell_type": "code",
   "execution_count": 57,
   "id": "a8073a5e",
   "metadata": {
    "ExecuteTime": {
     "end_time": "2023-03-11T22:17:07.411430Z",
     "start_time": "2023-03-11T22:17:07.391892Z"
    }
   },
   "outputs": [
    {
     "data": {
      "text/plain": [
       "Value        \n",
       "Purple Audi      30\n",
       "Red Mercedes     27\n",
       "Blue BMW         23\n",
       "Jellow Toyota    22\n",
       "dtype: int64"
      ]
     },
     "execution_count": 57,
     "metadata": {},
     "output_type": "execute_result"
    }
   ],
   "source": [
    "df22.value_counts()"
   ]
  },
  {
   "cell_type": "markdown",
   "id": "0e4457e6",
   "metadata": {},
   "source": [
    "# Относительную частоту встречаемости каждого признака"
   ]
  },
  {
   "cell_type": "code",
   "execution_count": 58,
   "id": "1bfaa77f",
   "metadata": {
    "ExecuteTime": {
     "end_time": "2023-03-11T22:17:08.508380Z",
     "start_time": "2023-03-11T22:17:08.502570Z"
    }
   },
   "outputs": [
    {
     "data": {
      "text/plain": [
       "Value        \n",
       "Purple Audi      0.294118\n",
       "Red Mercedes     0.264706\n",
       "Blue BMW         0.225490\n",
       "Jellow Toyota    0.215686\n",
       "dtype: float64"
      ]
     },
     "execution_count": 58,
     "metadata": {},
     "output_type": "execute_result"
    }
   ],
   "source": [
    "df22.value_counts(normalize=True)"
   ]
  },
  {
   "cell_type": "markdown",
   "id": "17811b87",
   "metadata": {},
   "source": [
    "# Реже всего \"Jellow Toyota\""
   ]
  },
  {
   "cell_type": "markdown",
   "id": "16559995",
   "metadata": {
    "id": "16559995"
   },
   "source": [
    "---\n",
    "## <font color =#5D0578 >Задание №3</font>\n",
    "\n",
    "**Постройте доверительный 90% доверительный интервал для данных Task 2_1.csv:**\n",
    "\n",
    "*Примечание: данные имеют распределение, отличное от нормального*"
   ]
  },
  {
   "cell_type": "markdown",
   "id": "9f06e0de",
   "metadata": {
    "ExecuteTime": {
     "end_time": "2023-03-11T22:34:38.490499Z",
     "start_time": "2023-03-11T22:34:38.478657Z"
    }
   },
   "source": [
    "# Мм.... распределение Burr (Type XII)...."
   ]
  },
  {
   "cell_type": "code",
   "execution_count": 77,
   "id": "6a63d0e5",
   "metadata": {
    "ExecuteTime": {
     "end_time": "2023-03-11T23:04:18.310663Z",
     "start_time": "2023-03-11T23:04:18.292626Z"
    }
   },
   "outputs": [
    {
     "name": "stderr",
     "output_type": "stream",
     "text": [
      "C:\\Users\\Doom\\AppData\\Local\\Temp\\ipykernel_27744\\3807885291.py:4: DeprecationWarning: Use of keyword argument `alpha` for method `interval` is deprecated. Use first positional argument or keyword argument `confidence` instead.\n",
      "  st.t.interval(alpha=0.90, df=len(data)-1, loc=np.mean(data), scale=st.sem(data))\n"
     ]
    },
    {
     "data": {
      "text/plain": [
       "(750.5649300131288, 1004.7886699868714)"
      ]
     },
     "execution_count": 77,
     "metadata": {},
     "output_type": "execute_result"
    }
   ],
   "source": [
    "import numpy as np\n",
    "import scipy.stats as st\n",
    "data = df21['Values'].to_list()\n",
    "st.t.interval(alpha=0.90, df=len(data)-1, loc=np.mean(data), scale=st.sem(data)) "
   ]
  },
  {
   "cell_type": "markdown",
   "id": "f7a4803b",
   "metadata": {
    "id": "f7a4803b"
   },
   "source": [
    "---\n",
    "## <font color =#5D0578 >Задание №4</font>\n",
    "\n",
    "**В задаче № 3 Вы построили 90% доверительный интервал.**\n",
    "\n",
    "**Скажите, принадлежит ли эта выборка генеральной совокупности со средним = 783.21?**\n",
    "\n",
    "Почему?\n",
    "Ответьте развёрнуто"
   ]
  },
  {
   "cell_type": "markdown",
   "id": "2d24abd2",
   "metadata": {},
   "source": [
    "# Да принадлежит, так как среднее в доверительном интервале"
   ]
  },
  {
   "cell_type": "markdown",
   "id": "ca08c15e",
   "metadata": {
    "id": "ca08c15e"
   },
   "source": [
    "---\n",
    "## <font color =#5D0578 >Задание №5</font>\n",
    "\n",
    "**Рассчитайте площадь под кривой на отрезке от -40 до +35 следующей функции:**\n",
    "\n",
    "$$ f(x) = \\frac{1}{\\sigma \\sqrt{2\\pi}} e^{-\\frac{(x-\\mu)^2}{2\\sigma^2}} * \\frac{(x-\\mu)^2}{2\\sigma^2}$$\n",
    "\n",
    "В нашем случае среднее = 32, а стандартное отклонение = 7.5\n",
    "\n",
    "Ответ округлите до 3 знаков после запятой\n",
    "\n",
    "<font color = indigo>Примечание:</font> \n",
    "\n",
    "C интегрированием отлично справляется библиотека scipy\n"
   ]
  },
  {
   "cell_type": "code",
   "execution_count": 78,
   "id": "893b359c",
   "metadata": {
    "ExecuteTime": {
     "end_time": "2023-03-11T23:04:22.358746Z",
     "start_time": "2023-03-11T23:04:22.349530Z"
    }
   },
   "outputs": [
    {
     "name": "stdout",
     "output_type": "stream",
     "text": [
      "0.254\n"
     ]
    }
   ],
   "source": [
    "import math\n",
    "from scipy import integrate\n",
    "x = 0\n",
    "def target_function_f(x):\n",
    "    y = (1 / (7.5*((2 * math.pi)** (0.5))))*math.exp(-1*((x-32)**2)/(2*(7.5**2)))*(((x-32)**2)/(2*(7.5)**2))\n",
    "    return y\n",
    "result = integrate.quad(target_function_f, -40, +35)\n",
    "print(round(result[0], 3))"
   ]
  },
  {
   "cell_type": "markdown",
   "id": "13540129",
   "metadata": {},
   "source": [
    "# Спасибо за проверку!"
   ]
  }
 ],
 "metadata": {
  "colab": {
   "provenance": []
  },
  "kernelspec": {
   "display_name": "Python 3 (ipykernel)",
   "language": "python",
   "name": "python3"
  },
  "language_info": {
   "codemirror_mode": {
    "name": "ipython",
    "version": 3
   },
   "file_extension": ".py",
   "mimetype": "text/x-python",
   "name": "python",
   "nbconvert_exporter": "python",
   "pygments_lexer": "ipython3",
   "version": "3.9.12"
  },
  "varInspector": {
   "cols": {
    "lenName": 16,
    "lenType": 16,
    "lenVar": 40
   },
   "kernels_config": {
    "python": {
     "delete_cmd_postfix": "",
     "delete_cmd_prefix": "del ",
     "library": "var_list.py",
     "varRefreshCmd": "print(var_dic_list())"
    },
    "r": {
     "delete_cmd_postfix": ") ",
     "delete_cmd_prefix": "rm(",
     "library": "var_list.r",
     "varRefreshCmd": "cat(var_dic_list()) "
    }
   },
   "types_to_exclude": [
    "module",
    "function",
    "builtin_function_or_method",
    "instance",
    "_Feature"
   ],
   "window_display": false
  }
 },
 "nbformat": 4,
 "nbformat_minor": 5
}
