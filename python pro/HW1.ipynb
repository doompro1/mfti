{
 "cells": [
  {
   "cell_type": "code",
   "execution_count": null,
   "metadata": {
    "ExecuteTime": {
     "end_time": "2022-10-01T14:29:04.286755Z",
     "start_time": "2022-10-01T14:29:04.115832Z"
    },
    "colab": {
     "base_uri": "https://localhost:8080/"
    },
    "id": "_aYjJdIiCXqZ",
    "outputId": "f3a8c90e-01e6-4c43-dcb1-57de3c9f990b"
   },
   "outputs": [],
   "source": [
    "!python3 -V"
   ]
  },
  {
   "cell_type": "markdown",
   "metadata": {
    "ExecuteTime": {
     "end_time": "2022-10-01T18:44:17.116791Z",
     "start_time": "2022-10-01T18:44:17.107789Z"
    }
   },
   "source": [
    "# Пояснения писать не стал, так как задания изёвые\n",
    "## будут задания сложнее - буду документировать \n",
    "## формально код соответствует pep8"
   ]
  },
  {
   "cell_type": "markdown",
   "metadata": {
    "id": "7a_LLXLjCeMS"
   },
   "source": [
    "****\n",
    "**Задание 1.**\n",
    "\n",
    "Студент магистратуры обычно спит ночью XX часов и устраивает себе днем тихий час на YY минут. Определите, сколько всего студент спит в сутки (если вообще спит). Программа должна принимать значения XX и YY из стандартного потока ввода (функция input), результат надо выводить в стандартный поток вывода (функция print).\n",
    "\n",
    "\n",
    "```\n",
    "Sample Input 1:\n",
    "7\n",
    "30\n",
    "Sample Output 1:\n",
    "450\n",
    "\n",
    "Sample Input 2:\n",
    "0\n",
    "42\n",
    "Sample Output 2:\n",
    "42\n",
    "```\n"
   ]
  },
  {
   "cell_type": "code",
   "execution_count": 4,
   "metadata": {
    "ExecuteTime": {
     "end_time": "2022-10-01T18:43:38.515796Z",
     "start_time": "2022-10-01T18:43:32.541792Z"
    },
    "id": "gWyFoGkrDGhi"
   },
   "outputs": [
    {
     "name": "stdout",
     "output_type": "stream",
     "text": [
      "Сколько часов студент спит ночь? 7\n",
      "Сколько минут студент спит днём? 30\n"
     ]
    },
    {
     "data": {
      "text/plain": [
       "450"
      ]
     },
     "execution_count": 4,
     "metadata": {},
     "output_type": "execute_result"
    }
   ],
   "source": [
    "# Решение задания 1\n",
    "# YOUR CODE HERE\n",
    "def son(_, __):\n",
    "    sum_son = _ * 60 + __\n",
    "    return sum_son\n",
    "\n",
    "\n",
    "_ = int(eval(input(\"Сколько часов студент спит ночь? \")))\n",
    "__ = int(eval(input(\"Сколько минут студент спит днём? \")))\n",
    "son(_, __)"
   ]
  },
  {
   "cell_type": "markdown",
   "metadata": {
    "id": "v_npn-j3C8jg"
   },
   "source": [
    "****\n",
    "**Задание 2**\n",
    "\n",
    "Студент МФТИ каждый день ложится спать ровно в полночь и недавно узнал, что оптимальное время для его сна составляет XX минут. Он хочет поставить себе будильник так, чтобы он прозвенел ровно через XX минут после полуночи, однако для этого необходимо указать время сигнала в формате часы, минуты. Помогите студенту определить, на какое время завести будильник.\n",
    "Часы и минуты в выводе программы должны располагаться на разных строках\n",
    "\n",
    "```\n",
    "Sample Input 1:\n",
    "480\n",
    "Sample Output 1:\n",
    "8\n",
    "0\n",
    "\n",
    "Sample Input 2:\n",
    "512\n",
    "Sample Output 2:\n",
    "8\n",
    "32\n",
    "```\n"
   ]
  },
  {
   "cell_type": "code",
   "execution_count": 50,
   "metadata": {
    "ExecuteTime": {
     "end_time": "2022-10-01T18:29:21.117791Z",
     "start_time": "2022-10-01T18:29:15.901792Z"
    },
    "code_folding": [],
    "id": "6jRyzamrCall"
   },
   "outputs": [
    {
     "name": "stdout",
     "output_type": "stream",
     "text": [
      "Чтобы получить время постановки бульника введите через сколько минут после полуночи он должен позвонить? 480\n",
      "8\n",
      "0\n"
     ]
    }
   ],
   "source": [
    "# Решение задания 2\n",
    "# YOUR CODE HERE\n",
    "# YOUR CODE HERE\n",
    "def bud(_):\n",
    "    h, m = _ // 60, _ % 60\n",
    "    return print(f\"{h}\\n{m}\")\n",
    "\n",
    "\n",
    "_ = int(\n",
    "    input(\n",
    "        \"Чтобы получить время постановки бульника введите через сколько минут после полуночи он должен позвонить? \"\n",
    "    ))\n",
    "bud(_)"
   ]
  },
  {
   "cell_type": "markdown",
   "metadata": {
    "id": "Vxj4YJbkDMu7"
   },
   "source": [
    "****\n",
    "**Задание 3**\n",
    "\n",
    "Студент программы “Анализ данных в медицине” узнал, что ему для сна надо XX минут. В отличие от студента МФТИ, наш студент ложится спать после полуночи в HH часов и MM минут. Помогите определить, на какое время ему поставить будильник, чтобы он прозвенел ровно через XX минут после того, как он ляжет спать.\n",
    "На стандартный ввод, каждое в своей строке, подаются значения XX, HH и MM. Гарантируется, что студент программы “Fнализ данных в медицине” должен проснуться в тот же день, что и заснуть. Программа должна выводить время, на которое нужно поставить будильник: в первой строке часы, во второй — минуты.\n",
    "\n",
    "```\n",
    "Sample Input 1:\n",
    "480\n",
    "1\n",
    "2\n",
    "Sample Output 1:\n",
    "9\n",
    "2\n",
    "Sample Input 2:\n",
    "475\n",
    "1\n",
    "55\n",
    "Sample Output 2:\n",
    "9\n",
    "50\n",
    "\n",
    "```"
   ]
  },
  {
   "cell_type": "code",
   "execution_count": 54,
   "metadata": {
    "ExecuteTime": {
     "end_time": "2022-10-01T18:31:50.146791Z",
     "start_time": "2022-10-01T18:31:36.312789Z"
    },
    "id": "gjcewJX3DesJ"
   },
   "outputs": [
    {
     "name": "stdout",
     "output_type": "stream",
     "text": [
      "Через сколько минут студент хочет проснуться? 475\n",
      "Во сколько часов студент ложится? 1\n",
      "Во сколько минут студент ложится? 55\n",
      "9\n",
      "50\n"
     ]
    }
   ],
   "source": [
    "# Решение задания 3\n",
    "# YOUR CODE HERE\n",
    "from datetime import datetime, date, timedelta, time\n",
    "\n",
    "\n",
    "def bud2(_, __, ___):\n",
    "    t_0 = time(_, __)\n",
    "    t_1 = datetime.combine(date.today(), t_0) + timedelta(minutes=___)\n",
    "    return print(f'{t_1.hour}\\n{t_1.minute}')\n",
    "\n",
    "\n",
    "___ = int(input(\"Через сколько минут студент хочет проснуться? \"))\n",
    "_ = int(input(\"Во сколько часов студент ложится? \"))\n",
    "__ = int(input(\"Во сколько минут студент ложится? \"))\n",
    "bud2(_, __, ___)"
   ]
  },
  {
   "cell_type": "markdown",
   "metadata": {
    "id": "7g7d57UYDgj5"
   },
   "source": [
    "****\n",
    "**Задание 4**\n",
    "\n",
    "Напишите программу, на вход которой подается список чисел одной строкой. Программа должна для каждого элемента этого списка вывести сумму двух его соседей. Для элементов списка, являющихся крайними, одним из соседей считается элемент, находящийся на противоположном конце этого списка. Например, если на вход подаётся список \"1 3 5 6 10\", то на выход ожидается список \"13 6 9 15 7\" (без кавычек).\n",
    "\n",
    "Если на вход пришло только одно число, надо вывести его же.\n",
    "Вывод должен содержать одну строку с числами нового списка, разделенными пробелом.\n",
    "\n",
    "\n",
    "```\n",
    "Sample Input 1:\n",
    "1 3 5 6 10\n",
    "Sample Output 1:\n",
    "13 6 9 15 7\n",
    "Sample Input 2:\n",
    "10\n",
    "Sample Output 2:\n",
    "10\n",
    "```\n"
   ]
  },
  {
   "cell_type": "code",
   "execution_count": 1,
   "metadata": {
    "ExecuteTime": {
     "end_time": "2022-10-01T18:33:54.906790Z",
     "start_time": "2022-10-01T18:33:47.698787Z"
    },
    "id": "lZuiLojnDpDI"
   },
   "outputs": [
    {
     "name": "stdout",
     "output_type": "stream",
     "text": [
      "Дайте список 1 3 5 6 10\n",
      "13 6 9 15 7\n"
     ]
    }
   ],
   "source": [
    "# Решение задания 4\n",
    "# YOUR CODE HERE\n",
    "_ = (input(\"Дайте список \")).split(' ')\n",
    "_ = [int(x) for x in _]\n",
    "\n",
    "\n",
    "def prog(_):\n",
    "    if len(_) > 1:\n",
    "        new__ = []\n",
    "        len_list = len(_)\n",
    "        for i in range((len_list)):\n",
    "            new___ = _[(i - 1)]\n",
    "            if i != (len_list - 1):\n",
    "                new___ += _[(i + 1)]\n",
    "            else:\n",
    "                new___ = _[0] + _[(i - 1)]\n",
    "            new__.append(new___)\n",
    "        new__ = [str(int) for int in new__]\n",
    "        str_ = \" \".join(new__)\n",
    "        return print(str_)\n",
    "    else:\n",
    "        return print(_[0])\n",
    "\n",
    "\n",
    "prog(_)"
   ]
  },
  {
   "cell_type": "markdown",
   "metadata": {
    "id": "C9DdzDwdDvlG"
   },
   "source": [
    "****\n",
    "**Задание 5**\n",
    "\n",
    "Напишите программу, которая принимает на вход список чисел в одной строке и выводит на экран в одну строку значения, которые встречаются в нём более одного раза.\n",
    "\n",
    "Для решения задачи может пригодиться метод sort списка (а может и не пригодиться).\n",
    "\n",
    "Выводимые числа не должны повторяться, порядок их вывода может быть произвольным. Разделитель чисел - пробел\n"
   ]
  },
  {
   "cell_type": "code",
   "execution_count": 2,
   "metadata": {
    "ExecuteTime": {
     "end_time": "2022-10-01T18:34:21.441793Z",
     "start_time": "2022-10-01T18:34:06.821788Z"
    },
    "id": "7DJQuzktD8xZ"
   },
   "outputs": [
    {
     "name": "stdout",
     "output_type": "stream",
     "text": [
      "Дайте список 1 3 5 6 10 3 5 6 \n",
      "5 3 6\n"
     ]
    }
   ],
   "source": [
    "# Решение задания 5\n",
    "# YOUR CODE HERE\n",
    "_ = (eval(input(\"Дайте список \"))).split(' ')\n",
    "# да медленно, зато в 1ну строчку\n",
    "\n",
    "\n",
    "def prog(_):\n",
    "    new__ = set([__ for __ in _ if _.count(__) > 1])\n",
    "    return new__\n",
    "\n",
    "\n",
    "print((\" \".join(prog(_))))"
   ]
  },
  {
   "cell_type": "markdown",
   "metadata": {
    "id": "g1S48qv6EHjC"
   },
   "source": [
    "****\n",
    "**Задание 6**\n",
    "\n",
    "GC-состав является важной характеристикой геномных последовательностей и определяется как процентное соотношение суммы всех гуанинов и цитозинов к общему числу нуклеиновых оснований в геномной последовательности.\n",
    "\n",
    "Напишите программу, которая вычисляет процентное содержание символов G (гуанин) и C (цитозин) в введенной строке (программа не должна зависеть от регистра вводимых символов).\n",
    "Например, в строке \"acggtgttat\" процентное содержание символов G и C равно 4*0.1 * 100 = 40.0, где 4 - это количество символов G и C, а 10 - это длина строки.\n",
    "\n",
    "```\n",
    "Sample Input:\n",
    "acggtgttat\n",
    "Sample Output:\n",
    "40.0\n",
    "```\n"
   ]
  },
  {
   "cell_type": "code",
   "execution_count": 3,
   "metadata": {
    "ExecuteTime": {
     "end_time": "2022-10-01T18:34:36.363794Z",
     "start_time": "2022-10-01T18:34:31.080789Z"
    },
    "id": "UmyyLKDlEMAb"
   },
   "outputs": [
    {
     "name": "stdout",
     "output_type": "stream",
     "text": [
      "Дайте последовательность acggtgttat\n",
      "Содержание гуанина и цитозина в последовательности 40.0%\n"
     ]
    }
   ],
   "source": [
    "# Решение задания 6\n",
    "# YOUR CODE HERE\n",
    "from collections import Counter\n",
    "\n",
    "_ = (eval(input(\"Дайте последовательность \"))).lower()\n",
    "\n",
    "\n",
    "def prog(_):\n",
    "    new__ = [__ for __ in _]\n",
    "    count_ = Counter(new__)\n",
    "    sod = 0\n",
    "    if \"g\" in list(count_.keys()):\n",
    "        sod += count_['g']\n",
    "    if \"c\" in list(count_.keys()):\n",
    "        sod += count_['c']\n",
    "    res = round((sod / len(new__) * 100), 4)\n",
    "    return res\n",
    "\n",
    "\n",
    "print(f'Содержание гуанина и цитозина в последовательности {prog(_)}%')"
   ]
  },
  {
   "cell_type": "markdown",
   "metadata": {
    "id": "Hm7d16upETUx"
   },
   "source": [
    "****\n",
    "**Задание 7**\n",
    "\n",
    "Узнав, что ДНК не является случайной строкой, только что поступившие в МФТИ студенты группы аналитиков данных предложили использовать алгоритм сжатия, который сжимает повторяющиеся символы в строке.\n",
    "Кодирование осуществляется следующим образом:\n",
    "s = 'aaaabbсaa' преобразуется в 'a4b2с1a2', то есть группы одинаковых символов исходной строки заменяются на этот символ и количество его повторений в этой позиции строки.\n",
    "\n",
    "Напишите программу, которая считывает строку, кодирует её предложенным алгоритмом и выводит закодированную последовательность на стандартный вывод. Кодирование должно учитывать регистр символов.\n",
    "\n",
    "\n",
    "```\n",
    "Sample Input 1:\n",
    "aaaabbcaa\n",
    "Sample Output 1:\n",
    "a4b2c1a2\n",
    "Sample Input 2:\n",
    "abc\n",
    "Sample Output 2:\n",
    "a1b1c1\n",
    "Sample Input 3:\n",
    "AaAaBBBbbbCCc\n",
    "Sample Output 3:\n",
    "A1a1A1a1B3b3C2c1\n",
    "```\n"
   ]
  },
  {
   "cell_type": "code",
   "execution_count": 38,
   "metadata": {
    "ExecuteTime": {
     "end_time": "2022-10-01T18:16:16.431790Z",
     "start_time": "2022-10-01T18:16:09.233050Z"
    },
    "id": "Gu7FS9kAEe2Q"
   },
   "outputs": [
    {
     "name": "stdout",
     "output_type": "stream",
     "text": [
      "Дайте последовательность aaaabbcaa\n",
      "a4b2c1a2\n"
     ]
    }
   ],
   "source": [
    "# Решение задания 7\n",
    "# YOUR CODE HERE\n",
    "_ = (eval(input(\"Дайте последовательность \")))\n",
    "\n",
    "\n",
    "def prog(_):\n",
    "    e = None\n",
    "    n = 0\n",
    "    res = ''\n",
    "    for __ in _:\n",
    "        if e != __:\n",
    "            res += f\"{e}{n}\"\n",
    "            e = __\n",
    "            n = 1\n",
    "        else:\n",
    "            n += 1\n",
    "    res += f\"{e}{n}\"\n",
    "    return res[5:]\n",
    "\n",
    "\n",
    "print((prog(_)))"
   ]
  },
  {
   "cell_type": "markdown",
   "metadata": {
    "id": "Ky16NUTNEpr-"
   },
   "source": [
    "****\n",
    "**Задание 8**\n",
    "\n",
    "Напишите программу, которая считывает с консоли числа (по одному в строке) до тех пор, пока сумма введённых чисел не будет равна 0 и сразу после этого выводит сумму квадратов всех считанных чисел.\n",
    "Гарантируется, что в какой-то момент сумма введённых чисел окажется равной 0, после этого считывание продолжать не нужно.\n",
    "В примере мы считываем числа 1, -3, 5, -6, -10, 13; в этот момент замечаем, что сумма этих чисел равна нулю и выводим сумму их квадратов, не обращая внимания на то, что остались ещё не прочитанные значения.\n",
    "\n",
    "\n",
    "```\n",
    "Sample Input:\n",
    "1\n",
    "-3\n",
    "5\n",
    "-6\n",
    "-10\n",
    "13\n",
    "4\n",
    "-8\n",
    "Sample Output:\n",
    "340\n",
    "```"
   ]
  },
  {
   "cell_type": "code",
   "execution_count": 37,
   "metadata": {
    "ExecuteTime": {
     "end_time": "2022-10-01T18:16:01.445721Z",
     "start_time": "2022-10-01T18:15:34.470244Z"
    },
    "id": "gSs8AHixFMwU"
   },
   "outputs": [
    {
     "name": "stdout",
     "output_type": "stream",
     "text": [
      "Дайте последовательность 1\n",
      "Дайте последовательность 2\n",
      "Дайте последовательность 3\n",
      "Дайте последовательность 5\n",
      "Дайте последовательность 1\n",
      "Дайте последовательность -1\n",
      "Дайте последовательность -2\n",
      "Дайте последовательность -3\n",
      "Дайте последовательность -5\n",
      "Дайте последовательность -1\n",
      "80\n"
     ]
    }
   ],
   "source": [
    "# Решение задания 8\n",
    "# YOUR CODE HERE\n",
    "def sq_sum():\n",
    "    _ = None\n",
    "    list_ = []\n",
    "    while _ != 0:\n",
    "        __ = int((eval(input(\"Дайте последовательность \"))))\n",
    "        if _ != None:\n",
    "            _ += __\n",
    "        else:\n",
    "            _ = 0\n",
    "            _ += __\n",
    "        list_.append(__)\n",
    "    res = 0\n",
    "    for _ in list_:\n",
    "        res += _**2\n",
    "    return res\n",
    "\n",
    "\n",
    "print((sq_sum()))"
   ]
  },
  {
   "cell_type": "markdown",
   "metadata": {
    "id": "bPeSnwt4F73y"
   },
   "source": [
    "****\n",
    "**Задание 9**\n",
    "\n",
    "Самое время использовать математику. Вы поднимаетесь по лестнице. Количество ступенек в ней = n.\n",
    "\n",
    "На каждом этапе вы можете переступить либо одну, либо две ступеньки. Как много уникальных способов добраться до верха существует?\n",
    "\n",
    "*1<=n<=45*\n",
    "\n",
    "\n",
    "\n",
    "```\n",
    "Input: n = 2\n",
    "Output: 2\n",
    "Explanation: There are two ways to climb to the top.\n",
    "1. 1 step + 1 step\n",
    "2. 2 steps\n",
    "\n",
    "Input: n = 3\n",
    "Output: 3\n",
    "Explanation: There are three ways to climb to the top.\n",
    "1. 1 step + 1 step + 1 step\n",
    "2. 1 step + 2 steps\n",
    "3. 2 steps + 1 step\n",
    "```\n",
    "\n"
   ]
  },
  {
   "cell_type": "markdown",
   "metadata": {},
   "source": [
    "# Хоть бы постеснялись такой аутпут делать......."
   ]
  },
  {
   "cell_type": "code",
   "execution_count": 36,
   "metadata": {
    "ExecuteTime": {
     "end_time": "2022-10-01T18:15:30.388796Z",
     "start_time": "2022-10-01T18:15:30.378795Z"
    }
   },
   "outputs": [],
   "source": [
    "#pip install num2words"
   ]
  },
  {
   "cell_type": "code",
   "execution_count": 5,
   "metadata": {
    "ExecuteTime": {
     "end_time": "2022-10-01T18:35:13.323789Z",
     "start_time": "2022-10-01T18:35:11.631781Z"
    },
    "id": "HNhjOQZ7GdI5"
   },
   "outputs": [
    {
     "name": "stdout",
     "output_type": "stream",
     "text": [
      "n = 3\n",
      " 3 \n",
      "Explanation: There are three ways to climb to the top.\n",
      "1. 1 step + 1 step + 1 step\n",
      "2. 1 step + 2 steps\n",
      "3. 2 steps + 1 step\n"
     ]
    }
   ],
   "source": [
    "# Решение задания 9\n",
    "# YOUR CODE HERE\n",
    "import itertools\n",
    "from num2words import num2words\n",
    "\n",
    "\n",
    "def ways(_):\n",
    "    list_ways = []\n",
    "    way = [1] * _\n",
    "    list_ways.append(way)\n",
    "    iters = _ // 2\n",
    "    for __ in range(iters):\n",
    "        try:\n",
    "            way = ''.join(''.join(str(x) for x in way))\n",
    "            way = way.replace(\"11\", \"2\", 1)\n",
    "            way = [int(x) for x in way]\n",
    "            iter_ways = list(set(list(itertools.permutations(way))))\n",
    "            list_ways = list_ways + iter_ways\n",
    "        except:\n",
    "            pass\n",
    "    list_ways = [list(x) for x in list_ways]\n",
    "    len_ = int(len(list_ways))\n",
    "    word_num = num2words(len_, lang='en')\n",
    "    if len_ > 1:\n",
    "        w = 'ways'\n",
    "    else:\n",
    "        w = 'way'\n",
    "    list_ways.sort()\n",
    "    list_ways = list(list_ways\n",
    "                     for list_ways, ______ in itertools.groupby(list_ways))\n",
    "    return list_ways, len_, word_num, w\n",
    "\n",
    "\n",
    "n = int((eval(input(\"n = \"))))\n",
    "list_ways, len_, word_num, w = ways(n)\n",
    "print(f' {len_} \\nExplanation: There are {word_num} {w} to climb to the top.')\n",
    "i = 1\n",
    "for way in list_ways:\n",
    "    way = ''.join(''.join(str(x) for x in way))\n",
    "    way = way.replace(\"1\", \" + 1 step\")\n",
    "    way = way.replace(\"2\", \" + 2 steps\")\n",
    "    print(f'{i}. {way[3:]}')\n",
    "    i += 1"
   ]
  },
  {
   "cell_type": "markdown",
   "metadata": {
    "id": "T8A0EHJTG03s"
   },
   "source": [
    "****\n",
    "**Задание 10**\n",
    "\n",
    "Напишите функцию, чтобы найти самый длинный префикс в листе, составленном из строк.\n",
    "\n",
    "Если общего префикса нет - верните пустую строку.\n",
    "\n",
    "\n",
    "\n",
    "```\n",
    "Input 1: strs = [\"flower\",\"flow\",\"flight\"]\n",
    "Output 1: \"fl\"\n",
    "\n",
    "Input 2: strs = [\"dog\",\"racecar\",\"car\"]\n",
    "Output 2: \"\"\n",
    "Explanation: There is no common prefix among the input strings.\n",
    "```\n"
   ]
  },
  {
   "cell_type": "code",
   "execution_count": 6,
   "metadata": {
    "ExecuteTime": {
     "end_time": "2022-10-01T18:35:20.902794Z",
     "start_time": "2022-10-01T18:35:20.894793Z"
    },
    "id": "T-TeO2QoHIMR"
   },
   "outputs": [
    {
     "name": "stdout",
     "output_type": "stream",
     "text": [
      "'fl'\n"
     ]
    }
   ],
   "source": [
    "# Решение задания 10\n",
    "# YOUR CODE HERE\n",
    "list_ = [\"flower\", \"flow\", \"flight\"]\n",
    "\n",
    "\n",
    "def long_pref(list_):\n",
    "    if len(list_) > 1:\n",
    "        pref = ['']\n",
    "        __ = len((min(list_, key=len))) - 1\n",
    "        for i in range(__):\n",
    "            i += 1\n",
    "            p = list_[0][0:i]\n",
    "            l = 0\n",
    "            for str_ in list_:\n",
    "                if str_[0:i] == p:\n",
    "                    l += 1\n",
    "            if l == len(list_):\n",
    "                pref.append(p)\n",
    "        if len(pref) > 1:\n",
    "            exp = None\n",
    "            return pref[-1], exp\n",
    "        else:\n",
    "            exp = 'Explanation: There is no common prefix among the input strings.'\n",
    "            return pref[-1], exp\n",
    "    else:\n",
    "        return list_[0], None\n",
    "\n",
    "\n",
    "p, e = long_pref(list_)\n",
    "print(f\"'{p}'\")\n",
    "if e != None:\n",
    "    print(e)"
   ]
  },
  {
   "cell_type": "markdown",
   "metadata": {},
   "source": [
    "# Спасибо за проверку!"
   ]
  }
 ],
 "metadata": {
  "colab": {
   "collapsed_sections": [],
   "provenance": []
  },
  "kernelspec": {
   "display_name": "Python 3 (ipykernel)",
   "language": "python",
   "name": "python3"
  },
  "language_info": {
   "codemirror_mode": {
    "name": "ipython",
    "version": 3
   },
   "file_extension": ".py",
   "mimetype": "text/x-python",
   "name": "python",
   "nbconvert_exporter": "python",
   "pygments_lexer": "ipython3",
   "version": "3.9.12"
  },
  "varInspector": {
   "cols": {
    "lenName": 16,
    "lenType": 16,
    "lenVar": 40
   },
   "kernels_config": {
    "python": {
     "delete_cmd_postfix": "",
     "delete_cmd_prefix": "del ",
     "library": "var_list.py",
     "varRefreshCmd": "print(var_dic_list())"
    },
    "r": {
     "delete_cmd_postfix": ") ",
     "delete_cmd_prefix": "rm(",
     "library": "var_list.r",
     "varRefreshCmd": "cat(var_dic_list()) "
    }
   },
   "types_to_exclude": [
    "module",
    "function",
    "builtin_function_or_method",
    "instance",
    "_Feature"
   ],
   "window_display": false
  }
 },
 "nbformat": 4,
 "nbformat_minor": 1
}
