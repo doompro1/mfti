{
 "cells": [
  {
   "cell_type": "markdown",
   "id": "40e0ed0d-50b8-4e8d-9609-b73dab4172e5",
   "metadata": {},
   "source": [
    "# Разогрев"
   ]
  },
  {
   "cell_type": "markdown",
   "id": "74094422-038c-48f2-ae6e-96897c473b4c",
   "metadata": {},
   "source": [
    "## Задание 1"
   ]
  },
  {
   "cell_type": "markdown",
   "id": "4d598c4c-9fa7-4cce-a972-352008b78691",
   "metadata": {},
   "source": [
    "Иногда, когда нужно создавать много однотипных лямбда функций, еще удобнее будет создать функцию, которая будет их генерировать.\n",
    "\n",
    "Реализуйте функцию ``mod_checker(x, mod=0)``, которая будет **возвращать лямбда функцию** от одного аргумента ``y``, которая будет возвращать ``True``, если остаток от деления ``y`` на ``x`` равен ``mod``, и ``False`` иначе.\n",
    "\n",
    "Если в ``return`` вашей функции написано выражение, отличное от лямбда функции - задание считается проваленным\n",
    "\n",
    "**Sample:**\n",
    "\n",
    "```python\n",
    "mod_3 = mod_checker(3)\n",
    "\n",
    "print(mod_3(3)) # True\n",
    "print(mod_3(4)) # False\n",
    "\n",
    "mod_3_1 = mod_checker(3, 1)\n",
    "print(mod_3_1(4)) # True\n",
    "```"
   ]
  },
  {
   "cell_type": "code",
   "execution_count": 1,
   "id": "113b22cc-5ce8-42b5-a733-89a7411c780f",
   "metadata": {
    "ExecuteTime": {
     "end_time": "2022-10-17T00:22:47.037797Z",
     "start_time": "2022-10-17T00:22:47.024793Z"
    }
   },
   "outputs": [
    {
     "name": "stdout",
     "output_type": "stream",
     "text": [
      "True\n",
      "False\n",
      "True\n"
     ]
    }
   ],
   "source": [
    "def mod_checker(x: int, mod=0):\n",
    "    \"На вход функции подаётся 2 числовых значения, а возвращает она лямбда функцию от одного аргумента y, которая будет возвращать True, если остаток от деления y на x равен mod, и False иначе.\"\n",
    "    return lambda y: y % x == mod\n",
    "\n",
    "\n",
    "mod_3 = mod_checker(3)\n",
    "print(mod_3(3))  # True\n",
    "print(mod_3(4))  # False\n",
    "mod_3_1 = mod_checker(3, 1)\n",
    "print(mod_3_1(4))  # True"
   ]
  },
  {
   "cell_type": "markdown",
   "id": "d46cfa4e-1517-4444-a31b-b39f96beca3e",
   "metadata": {},
   "source": [
    "# Numpy"
   ]
  },
  {
   "cell_type": "code",
   "execution_count": 2,
   "id": "bec93b3e-f079-4e70-914f-6b19862fc68b",
   "metadata": {
    "ExecuteTime": {
     "end_time": "2022-10-17T00:22:47.148820Z",
     "start_time": "2022-10-17T00:22:47.039796Z"
    }
   },
   "outputs": [],
   "source": [
    "import numpy as np"
   ]
  },
  {
   "cell_type": "markdown",
   "id": "e065e248-1900-4a4a-8c52-590ef71980b2",
   "metadata": {},
   "source": [
    "## Задание 2\n",
    "Напишите функцию, которая принимает один аргумент - ``n``. Функция должна создать нампаевскую матрицу размером ``(n, n)`` и залить ее шахматным узором. Порядок узора не имеет значения, важен общий паттерн.\n",
    "\n",
    "**Sample:**\n",
    "```python\n",
    "chess_maze(8)\n",
    "\n",
    "[[0 1 0 1 0 1 0 1]\n",
    " [1 0 1 0 1 0 1 0]\n",
    " [0 1 0 1 0 1 0 1]\n",
    " [1 0 1 0 1 0 1 0]\n",
    " [0 1 0 1 0 1 0 1]\n",
    " [1 0 1 0 1 0 1 0]\n",
    " [0 1 0 1 0 1 0 1]\n",
    " [1 0 1 0 1 0 1 0]]\n",
    "```\n",
    "\n"
   ]
  },
  {
   "cell_type": "code",
   "execution_count": 3,
   "id": "12de4c2f-9de4-4a57-8e68-27f8125ca7e9",
   "metadata": {
    "ExecuteTime": {
     "end_time": "2022-10-17T00:22:47.164825Z",
     "start_time": "2022-10-17T00:22:47.150822Z"
    }
   },
   "outputs": [
    {
     "name": "stdout",
     "output_type": "stream",
     "text": [
      "[[1 0 1 0 1 0 1 0]\n",
      " [0 1 0 1 0 1 0 1]\n",
      " [1 0 1 0 1 0 1 0]\n",
      " [0 1 0 1 0 1 0 1]\n",
      " [1 0 1 0 1 0 1 0]\n",
      " [0 1 0 1 0 1 0 1]\n",
      " [1 0 1 0 1 0 1 0]\n",
      " [0 1 0 1 0 1 0 1]]\n"
     ]
    }
   ],
   "source": [
    "import numpy as np\n",
    "\n",
    "\n",
    "def chess_maze(n: int):\n",
    "    \"Функция принимает один аргумент - n, возвращает нампаевскую матрицу размером (n, n) и залитую ее шахматным узором\"\n",
    "    m = np.ones((n, n), dtype='int8')\n",
    "    for __ in range(len(m)):\n",
    "        if __ != 0 and __ % 2 != 0:\n",
    "            m[__][0] = 0\n",
    "        for ___ in range(1, len(m[__])):\n",
    "            if m[__][___ - 1] == 0:\n",
    "                m[__][___] = 1\n",
    "            else:\n",
    "                m[__][___] = 0\n",
    "    return m\n",
    "\n",
    "\n",
    "print(chess_maze(8))"
   ]
  },
  {
   "cell_type": "markdown",
   "id": "ff71edfc-ecba-48b9-ab5e-db17021e7b30",
   "metadata": {},
   "source": [
    "## Задание 3\n",
    "Напишите функцию, которая принимает 2 аргумента ``arr`` и ``exclude_values``. ``arr`` - это одномерный нампаевский массив, в котором необходимо поменять знак всем числам (инвертировать), которые есть в массиве ``exclude_values``. Действия необходимо делать прямо в исходном массиве, не создавая копий.\n",
    "\n",
    "**Sample:**\n",
    "```python\n",
    "#Исходный вектор \n",
    "arr = np.arange(10+1)\n",
    "exclude_values = np.arange(4, 8)\n",
    " \n",
    "my_func(arr, exclude_values)\n",
    "array([ 0  1  2  3 -4 -5 -6 -7  8  9 10])\n",
    "```"
   ]
  },
  {
   "cell_type": "markdown",
   "id": "63c806ec",
   "metadata": {},
   "source": [
    "# По сути одна строчка)"
   ]
  },
  {
   "cell_type": "code",
   "execution_count": 4,
   "id": "28e738e2-a873-4e3d-bdd0-222506090674",
   "metadata": {
    "ExecuteTime": {
     "end_time": "2022-10-17T00:22:47.180828Z",
     "start_time": "2022-10-17T00:22:47.165825Z"
    }
   },
   "outputs": [
    {
     "name": "stdout",
     "output_type": "stream",
     "text": [
      "[0, 1, 2, 3, -4, -5, -6, -7, 8, 9, 10]\n"
     ]
    }
   ],
   "source": [
    "def my_func(arr: np.array, exclude_values: np.array):\n",
    "    \"Функция принимает 2 аргумента arr и exclude_values. arr - это одномерный нампаевский массив, в котором необходимо поменять знак всем числам (инвертировать), которые есть в массиве exclude_values\"\n",
    "    arr = [_ if _ not in exclude_values else -_ for _ in arr]\n",
    "    return arr\n",
    "\n",
    "\n",
    "# Исходный вектор\n",
    "arr = np.arange(10 + 1)\n",
    "exclude_values = np.arange(4, 8)\n",
    "\n",
    "print(my_func(arr, exclude_values))"
   ]
  },
  {
   "cell_type": "markdown",
   "id": "50fd92a7-30b5-42a1-aed4-a222132496cd",
   "metadata": {},
   "source": [
    "## Задание 4\n",
    "Напишите функцию, которая принимает одномерный положительный нампаевский массив и минимум 4 раза выводит на экран (функция ``print``) этот же массив, в котором у элементов оставлена только целая часть. Все >= 4 раза функция должна использовать разные методы для извлечения целой части.\n",
    "\n",
    "**Sample:**\n",
    "```python\n",
    "#Исходный вектор \n",
    "arr = np.random.uniform(low=10, high=100,size=20)\n",
    "#Исходный вектор arr:\n",
    "arr\n",
    "[99.54707368 49.26237526 80.50565073 10.10998238 16.39378916 60.64633657\n",
    " 25.49637622 31.06574268 94.48636127 73.41204506 75.70638137 70.43830146\n",
    " 72.28607422 40.59319738 57.85802554 35.39428061 55.25707514 48.00020145\n",
    " 38.39449991 26.19085017]\n",
    " \n",
    "my_func(arr)\n",
    "\n",
    "[99. 49. 80. 10. 16. 60. 25. 31. 94. 73. 75. 70. 72. 40. 57. 35. 55. 48.\n",
    " 38. 26.]\n",
    "[99. 49. 80. 10. 16. 60. 25. 31. 94. 73. 75. 70. 72. 40. 57. 35. 55. 48.\n",
    " 38. 26.]\n",
    "[99. 49. 80. 10. 16. 60. 25. 31. 94. 73. 75. 70. 72. 40. 57. 35. 55. 48.\n",
    " 38. 26.]\n",
    "[99 49 80 10 16 60 25 31 94 73 75 70 72 40 57 35 55 48 38 26]\n",
    "[99. 49. 80. 10. 16. 60. 25. 31. 94. 73. 75. 70. 72. 40. 57. 35. 55. 48.\n",
    " 38. 26.]\n",
    "```\n",
    "\n",
    "В примере 5 выводов print из функции, просто чтобы были :)"
   ]
  },
  {
   "cell_type": "markdown",
   "id": "0ba5324f",
   "metadata": {},
   "source": [
    "# Ссори, тут нет циклов и STR"
   ]
  },
  {
   "cell_type": "code",
   "execution_count": 5,
   "id": "d988e6d5-1e23-411c-a2d0-f5b9f5960b47",
   "metadata": {
    "ExecuteTime": {
     "end_time": "2022-10-17T00:22:47.196832Z",
     "start_time": "2022-10-17T00:22:47.181828Z"
    }
   },
   "outputs": [
    {
     "name": "stdout",
     "output_type": "stream",
     "text": [
      "[14. 96. 36. 25. 92. 60. 42. 96. 88. 61. 79. 58. 95. 39. 95. 69. 85. 67.\n",
      " 93. 83.]\n",
      "[14. 96. 36. 25. 92. 60. 42. 96. 88. 61. 79. 58. 95. 39. 95. 69. 85. 67.\n",
      " 93. 83.]\n",
      "[14. 96. 36. 25. 92. 60. 42. 96. 88. 61. 79. 58. 95. 39. 95. 69. 85. 67.\n",
      " 93. 83.]\n",
      "[14. 96. 36. 25. 92. 60. 42. 96. 88. 61. 79. 58. 95. 39. 95. 69. 85. 67.\n",
      " 93. 83.]\n"
     ]
    }
   ],
   "source": [
    "def r(arr: np.array):\n",
    "    \"\"\"Функция, которая принимает одномерный положительный нампаевский массив и минимум 4 раза \n",
    "    выводит на экран \n",
    "    (функция print) этот же массив, в котором у элементов оставлена только целая часть.\n",
    "    Все >= 4 раза функция использует разные методы для извлечения целой части.\"\"\"\n",
    "\n",
    "    arr1 = np.round(arr)\n",
    "    print(arr1)\n",
    "    arr2 = np.ndarray.round(arr)\n",
    "    print(arr2)\n",
    "    arr3 = np.around(arr)\n",
    "    print(arr3)\n",
    "    arr4 = np.array([round(_) for _ in arr], dtype='float64')\n",
    "    print(arr4)\n",
    "\n",
    "\n",
    "arr = np.random.uniform(low=10, high=100, size=20)\n",
    "r(arr)"
   ]
  },
  {
   "cell_type": "markdown",
   "id": "a0f1f155",
   "metadata": {},
   "source": [
    "![SegmentLocal](ne.jpg \"segment\")"
   ]
  },
  {
   "cell_type": "markdown",
   "id": "e19786ad-aede-4f06-96b8-fb6f60e7bcf7",
   "metadata": {},
   "source": [
    "## Задание 5\n",
    "Напишите функцию, которая принимает два числа - ``N`` и ``p``. ``N`` - это размер стороны квадратной матрицы np.zeros, ``p`` - это количество индексов в матрице (p не превышает N*N), которые нужно заменить на случайные числа. Индексы и числа нужно выбирать случайно. Функция должна возвращать квадратную матрицу со стороной ``N``, в которой ровно ``p`` чисел заменены на случайные.\n",
    "\n",
    "```python\n",
    "my_func(N=6, p=4)\n",
    "\n",
    "[[56.   0.   0.   0.   0.   0.]\n",
    " [  0.   0.   0.   0.   0.   0.]\n",
    " [99.   0.   0.   0.   0.   0.]\n",
    " [  0.   0.   0. 83.   0.   0.]\n",
    " [  0.   0.   0.   0.   0.   0.]\n",
    " [  0.   0.   0.   0.   1.   0.]]\n",
    "```"
   ]
  },
  {
   "cell_type": "code",
   "execution_count": 6,
   "id": "94644276",
   "metadata": {
    "ExecuteTime": {
     "end_time": "2022-10-17T00:22:47.212836Z",
     "start_time": "2022-10-17T00:22:47.197832Z"
    }
   },
   "outputs": [
    {
     "data": {
      "text/plain": [
       "array([[0.        , 5.8966927 , 0.        , 0.        , 5.37497948],\n",
       "       [0.        , 0.        , 0.        , 0.        , 0.        ],\n",
       "       [0.        , 0.        , 0.        , 0.        , 0.        ],\n",
       "       [0.        , 0.        , 6.77715328, 0.        , 0.        ],\n",
       "       [0.        , 8.6166149 , 0.        , 0.        , 0.        ]])"
      ]
     },
     "execution_count": 6,
     "metadata": {},
     "output_type": "execute_result"
    }
   ],
   "source": [
    "import random\n",
    "def my_func(N: int, p: int):\n",
    "    \"\"\"Функция, которая принимает два числа - N и p. N - это размер стороны квадратной матрицы np.zeros, p - это количество индексов в матрице (p не превышает N*N), которые нужно заменить на случайные числа. Индексы и числа нужно выбирать случайно.\n",
    "    Функция возвращает квадратную матрицу со стороной N, в которой ровно p чисел заменены на случайные.\"\"\"\n",
    "    arr = np.zeros((N,N))\n",
    "    idx = np.random.choice(arr.size, p, replace=False)\n",
    "    # можно было и совсем случайные, но итак сойдёт\n",
    "    arr.flat[idx] += np.random.uniform(low=1, high=10, size=p)\n",
    "    return arr\n",
    "my_func(N=5, p=4)"
   ]
  },
  {
   "cell_type": "markdown",
   "id": "ea6147b4-ea16-48e8-86f9-20bc90849b68",
   "metadata": {},
   "source": [
    "# Pandas"
   ]
  },
  {
   "cell_type": "code",
   "execution_count": 7,
   "id": "036794bd-1340-4341-93f2-4c7eda7e011c",
   "metadata": {
    "ExecuteTime": {
     "end_time": "2022-10-17T00:22:47.451889Z",
     "start_time": "2022-10-17T00:22:47.213836Z"
    }
   },
   "outputs": [],
   "source": [
    "import pandas as pd"
   ]
  },
  {
   "cell_type": "markdown",
   "id": "feed93bf-9c0e-443e-9812-f3d88f526be4",
   "metadata": {},
   "source": [
    "# Задание 6\n",
    "\n",
    "Любым удобным для вас способом создайте ``dataframe`` c именем ``my_data``, в котором две колонки c именами (``type`` - строки, ``value`` - числа с плавающей точкой) и четыре наблюдения в каждой колонке:\n",
    "\n",
    "```\n",
    "type value\n",
    "B    18.\n",
    "\n",
    "B    20.\n",
    "\n",
    "C    10.\n",
    "\n",
    "C    -10.\n",
    "```\n",
    "\n",
    "Какой размер созданного вами датафрейма? (Подумайте, что лучше использовать - информацию из метода df.info() или информацию из метода df.memory_usage()?)\n",
    "1) Измените тип данных колонки type на category. Как изменился размер датафрейма?\n",
    "2) Измените тип данных колонки value на менее жадный. Как изменился размер датафрейма?"
   ]
  },
  {
   "cell_type": "code",
   "execution_count": 8,
   "id": "55453b06-c034-4ad4-9350-c9bfdeb5acef",
   "metadata": {
    "ExecuteTime": {
     "end_time": "2022-10-17T00:22:47.467893Z",
     "start_time": "2022-10-17T00:22:47.452890Z"
    }
   },
   "outputs": [
    {
     "data": {
      "text/html": [
       "<div>\n",
       "<style scoped>\n",
       "    .dataframe tbody tr th:only-of-type {\n",
       "        vertical-align: middle;\n",
       "    }\n",
       "\n",
       "    .dataframe tbody tr th {\n",
       "        vertical-align: top;\n",
       "    }\n",
       "\n",
       "    .dataframe thead th {\n",
       "        text-align: right;\n",
       "    }\n",
       "</style>\n",
       "<table border=\"1\" class=\"dataframe\">\n",
       "  <thead>\n",
       "    <tr style=\"text-align: right;\">\n",
       "      <th></th>\n",
       "      <th>type</th>\n",
       "      <th>value</th>\n",
       "    </tr>\n",
       "  </thead>\n",
       "  <tbody>\n",
       "    <tr>\n",
       "      <th>0</th>\n",
       "      <td>a</td>\n",
       "      <td>4.0</td>\n",
       "    </tr>\n",
       "    <tr>\n",
       "      <th>1</th>\n",
       "      <td>b</td>\n",
       "      <td>5.0</td>\n",
       "    </tr>\n",
       "    <tr>\n",
       "      <th>2</th>\n",
       "      <td>v</td>\n",
       "      <td>6.0</td>\n",
       "    </tr>\n",
       "    <tr>\n",
       "      <th>3</th>\n",
       "      <td>v</td>\n",
       "      <td>7.0</td>\n",
       "    </tr>\n",
       "  </tbody>\n",
       "</table>\n",
       "</div>"
      ],
      "text/plain": [
       "  type  value\n",
       "0    a    4.0\n",
       "1    b    5.0\n",
       "2    v    6.0\n",
       "3    v    7.0"
      ]
     },
     "execution_count": 8,
     "metadata": {},
     "output_type": "execute_result"
    }
   ],
   "source": [
    "d = {'type': ['a', 'b', 'v', 'v'], 'value': [4., 5., 6.,7.]}\n",
    "df = pd.DataFrame(data=d)\n",
    "df"
   ]
  },
  {
   "cell_type": "markdown",
   "id": "844a424f",
   "metadata": {},
   "source": [
    "# лучше использовать расширение для юпитера variable inspector"
   ]
  },
  {
   "attachments": {
    "image.png": {
     "image/png": "[encoded data removed]"
    }
   },
   "cell_type": "markdown",
   "id": "d5fa54c7",
   "metadata": {},
   "source": [
    "![image.png](attachment:image.png)"
   ]
  },
  {
   "cell_type": "code",
   "execution_count": 9,
   "id": "b10c2b95",
   "metadata": {
    "ExecuteTime": {
     "end_time": "2022-10-17T00:22:47.483897Z",
     "start_time": "2022-10-17T00:22:47.468893Z"
    }
   },
   "outputs": [],
   "source": [
    "df['value']= df['value'].astype(int)"
   ]
  },
  {
   "attachments": {
    "image.png": {
     "image/png": "[encoded data removed]"
    }
   },
   "cell_type": "markdown",
   "id": "4776d55b",
   "metadata": {},
   "source": [
    "![image.png](attachment:image.png)"
   ]
  },
  {
   "cell_type": "markdown",
   "id": "3843672e",
   "metadata": {},
   "source": [
    "# Уменьшилось"
   ]
  },
  {
   "cell_type": "markdown",
   "id": "b5c49f07-2954-43af-89e4-2df23e216af8",
   "metadata": {},
   "source": [
    "# Задание 7\n",
    "Любым удобным для вас способом создайте ``dataframe`` c именем ``my_data``, в котором две колонки c именами (``type`` - строки, ``value`` - числа с плавающей точкой) и десять тысяч (10 000) наблюдений в каждой колонке. В колонке ``type`` должно быть 10 уникальных значений.\n",
    "\n",
    "```python\n",
    "my_data.shape\n",
    "____________\n",
    "(10000, 2)\n",
    "```\n",
    "\n",
    "Какой размер созданного вами датафрейма? (Подумайте, что лучше использовать - информацию из метода df.info() или информацию из метода df.memory_usage()?)\n",
    "1) Измените тип данных колонки type на category. Как изменился размер датафрейма?\n",
    "2) Измените тип данных колонки value на менее жадный. Как изменился размер датафрейма?\n",
    "\n",
    "Во сколько раз уменьшился размер исходного датафрейма после выполнения этих двух операций?"
   ]
  },
  {
   "cell_type": "code",
   "execution_count": 10,
   "id": "7ce31b7d-7367-4c4a-b7ca-e7b837fda604",
   "metadata": {
    "ExecuteTime": {
     "end_time": "2022-10-17T00:22:47.499900Z",
     "start_time": "2022-10-17T00:22:47.486897Z"
    }
   },
   "outputs": [],
   "source": [
    "list1 = [1.] * 10000\n",
    "list2 = ['a','2','3','4','5','6','7','8','9','0'] * 1000\n",
    "d = {'type': list2, 'value': list1}\n",
    "df = pd.DataFrame(data=d)"
   ]
  },
  {
   "cell_type": "code",
   "execution_count": 11,
   "id": "58b25828",
   "metadata": {
    "ExecuteTime": {
     "end_time": "2022-10-17T00:22:47.514904Z",
     "start_time": "2022-10-17T00:22:47.500901Z"
    }
   },
   "outputs": [],
   "source": [
    "df['type'] = df.type.astype('category')\n",
    "df['value']= df['value'].astype(int)"
   ]
  },
  {
   "cell_type": "markdown",
   "id": "37a4eb2f",
   "metadata": {},
   "source": [
    "# было 160128, стало 50508 = где-то в 3"
   ]
  },
  {
   "cell_type": "markdown",
   "id": "d1614009-c31c-494c-9b7e-010b3fca3adc",
   "metadata": {},
   "source": [
    "#### Для решения дальнейших задач мы будем использовать следующий датасет, загрузите его с помощью команды:"
   ]
  },
  {
   "cell_type": "code",
   "execution_count": 12,
   "id": "9de2ceb8-28bf-4f4f-a67c-5c3cf17d09e9",
   "metadata": {
    "ExecuteTime": {
     "end_time": "2022-10-17T00:22:47.722951Z",
     "start_time": "2022-10-17T00:22:47.515903Z"
    }
   },
   "outputs": [],
   "source": [
    "df = pd.read_csv('https://stepik.org/media/attachments/course/4852/my_stat.csv')"
   ]
  },
  {
   "cell_type": "code",
   "execution_count": 13,
   "id": "bcf8eca6-4c68-43a9-a250-7b2b0aba6a92",
   "metadata": {
    "ExecuteTime": {
     "end_time": "2022-10-17T00:22:47.738954Z",
     "start_time": "2022-10-17T00:22:47.723951Z"
    }
   },
   "outputs": [
    {
     "data": {
      "text/html": [
       "<div>\n",
       "<style scoped>\n",
       "    .dataframe tbody tr th:only-of-type {\n",
       "        vertical-align: middle;\n",
       "    }\n",
       "\n",
       "    .dataframe tbody tr th {\n",
       "        vertical-align: top;\n",
       "    }\n",
       "\n",
       "    .dataframe thead th {\n",
       "        text-align: right;\n",
       "    }\n",
       "</style>\n",
       "<table border=\"1\" class=\"dataframe\">\n",
       "  <thead>\n",
       "    <tr style=\"text-align: right;\">\n",
       "      <th></th>\n",
       "      <th>V1</th>\n",
       "      <th>V2</th>\n",
       "      <th>V3</th>\n",
       "      <th>V4</th>\n",
       "    </tr>\n",
       "  </thead>\n",
       "  <tbody>\n",
       "    <tr>\n",
       "      <th>0</th>\n",
       "      <td>2</td>\n",
       "      <td>13.0</td>\n",
       "      <td>B</td>\n",
       "      <td>1.0</td>\n",
       "    </tr>\n",
       "    <tr>\n",
       "      <th>1</th>\n",
       "      <td>-1</td>\n",
       "      <td>7.0</td>\n",
       "      <td>B</td>\n",
       "      <td>1.0</td>\n",
       "    </tr>\n",
       "    <tr>\n",
       "      <th>2</th>\n",
       "      <td>0</td>\n",
       "      <td>11.0</td>\n",
       "      <td>A</td>\n",
       "      <td>0.0</td>\n",
       "    </tr>\n",
       "    <tr>\n",
       "      <th>3</th>\n",
       "      <td>2</td>\n",
       "      <td>11.0</td>\n",
       "      <td>A</td>\n",
       "      <td>2.0</td>\n",
       "    </tr>\n",
       "    <tr>\n",
       "      <th>4</th>\n",
       "      <td>0</td>\n",
       "      <td>10.0</td>\n",
       "      <td>B</td>\n",
       "      <td>-1.0</td>\n",
       "    </tr>\n",
       "    <tr>\n",
       "      <th>...</th>\n",
       "      <td>...</td>\n",
       "      <td>...</td>\n",
       "      <td>...</td>\n",
       "      <td>...</td>\n",
       "    </tr>\n",
       "    <tr>\n",
       "      <th>495</th>\n",
       "      <td>1</td>\n",
       "      <td>8.0</td>\n",
       "      <td>A</td>\n",
       "      <td>-1.0</td>\n",
       "    </tr>\n",
       "    <tr>\n",
       "      <th>496</th>\n",
       "      <td>3</td>\n",
       "      <td>8.0</td>\n",
       "      <td>A</td>\n",
       "      <td>1.0</td>\n",
       "    </tr>\n",
       "    <tr>\n",
       "      <th>497</th>\n",
       "      <td>-1</td>\n",
       "      <td>11.0</td>\n",
       "      <td>B</td>\n",
       "      <td>2.0</td>\n",
       "    </tr>\n",
       "    <tr>\n",
       "      <th>498</th>\n",
       "      <td>1</td>\n",
       "      <td>11.0</td>\n",
       "      <td>A</td>\n",
       "      <td>2.0</td>\n",
       "    </tr>\n",
       "    <tr>\n",
       "      <th>499</th>\n",
       "      <td>0</td>\n",
       "      <td>8.0</td>\n",
       "      <td>B</td>\n",
       "      <td>1.0</td>\n",
       "    </tr>\n",
       "  </tbody>\n",
       "</table>\n",
       "<p>500 rows × 4 columns</p>\n",
       "</div>"
      ],
      "text/plain": [
       "     V1    V2 V3   V4\n",
       "0     2  13.0  B  1.0\n",
       "1    -1   7.0  B  1.0\n",
       "2     0  11.0  A  0.0\n",
       "3     2  11.0  A  2.0\n",
       "4     0  10.0  B -1.0\n",
       "..   ..   ... ..  ...\n",
       "495   1   8.0  A -1.0\n",
       "496   3   8.0  A  1.0\n",
       "497  -1  11.0  B  2.0\n",
       "498   1  11.0  A  2.0\n",
       "499   0   8.0  B  1.0\n",
       "\n",
       "[500 rows x 4 columns]"
      ]
     },
     "execution_count": 13,
     "metadata": {},
     "output_type": "execute_result"
    }
   ],
   "source": [
    "df"
   ]
  },
  {
   "cell_type": "markdown",
   "id": "02e37431-e600-4bf5-bfcf-5641bfcaccd8",
   "metadata": {},
   "source": [
    "Примечание: все операции с исходным датафреймом должны быть ``inplace``. То есть исходный датафрейм в переменной ``df`` **должен** измениться"
   ]
  },
  {
   "cell_type": "markdown",
   "id": "25499d55-3c26-4f2e-b642-e05f94341d69",
   "metadata": {},
   "source": [
    "# Задание 8\n",
    "\n",
    "В переменную с именем subset_1 сохраните только первые 19 строк и только 1 и 3 колонку.\n",
    "\n",
    "В переменную с именем subset_2 сохраните все строки кроме 2, 3 и 18 и только 2 и 4 колонку."
   ]
  },
  {
   "cell_type": "markdown",
   "id": "7efe84e0",
   "metadata": {},
   "source": [
    "# тут без функций, единственное отличие от функций выше, что тип данных для проверки - pandas.core.frame.DataFrame"
   ]
  },
  {
   "cell_type": "code",
   "execution_count": 14,
   "id": "0e4b85c0-946b-4d65-a2f4-9940f5149cc7",
   "metadata": {
    "ExecuteTime": {
     "end_time": "2022-10-17T00:22:47.754957Z",
     "start_time": "2022-10-17T00:22:47.740955Z"
    }
   },
   "outputs": [
    {
     "data": {
      "text/html": [
       "<div>\n",
       "<style scoped>\n",
       "    .dataframe tbody tr th:only-of-type {\n",
       "        vertical-align: middle;\n",
       "    }\n",
       "\n",
       "    .dataframe tbody tr th {\n",
       "        vertical-align: top;\n",
       "    }\n",
       "\n",
       "    .dataframe thead th {\n",
       "        text-align: right;\n",
       "    }\n",
       "</style>\n",
       "<table border=\"1\" class=\"dataframe\">\n",
       "  <thead>\n",
       "    <tr style=\"text-align: right;\">\n",
       "      <th></th>\n",
       "      <th>V1</th>\n",
       "      <th>V3</th>\n",
       "    </tr>\n",
       "  </thead>\n",
       "  <tbody>\n",
       "    <tr>\n",
       "      <th>0</th>\n",
       "      <td>2</td>\n",
       "      <td>B</td>\n",
       "    </tr>\n",
       "    <tr>\n",
       "      <th>1</th>\n",
       "      <td>-1</td>\n",
       "      <td>B</td>\n",
       "    </tr>\n",
       "    <tr>\n",
       "      <th>2</th>\n",
       "      <td>0</td>\n",
       "      <td>A</td>\n",
       "    </tr>\n",
       "    <tr>\n",
       "      <th>3</th>\n",
       "      <td>2</td>\n",
       "      <td>A</td>\n",
       "    </tr>\n",
       "    <tr>\n",
       "      <th>4</th>\n",
       "      <td>0</td>\n",
       "      <td>B</td>\n",
       "    </tr>\n",
       "    <tr>\n",
       "      <th>5</th>\n",
       "      <td>2</td>\n",
       "      <td>A</td>\n",
       "    </tr>\n",
       "    <tr>\n",
       "      <th>6</th>\n",
       "      <td>0</td>\n",
       "      <td>A</td>\n",
       "    </tr>\n",
       "    <tr>\n",
       "      <th>7</th>\n",
       "      <td>1</td>\n",
       "      <td>A</td>\n",
       "    </tr>\n",
       "    <tr>\n",
       "      <th>8</th>\n",
       "      <td>0</td>\n",
       "      <td>B</td>\n",
       "    </tr>\n",
       "    <tr>\n",
       "      <th>9</th>\n",
       "      <td>-1</td>\n",
       "      <td>A</td>\n",
       "    </tr>\n",
       "  </tbody>\n",
       "</table>\n",
       "</div>"
      ],
      "text/plain": [
       "   V1 V3\n",
       "0   2  B\n",
       "1  -1  B\n",
       "2   0  A\n",
       "3   2  A\n",
       "4   0  B\n",
       "5   2  A\n",
       "6   0  A\n",
       "7   1  A\n",
       "8   0  B\n",
       "9  -1  A"
      ]
     },
     "execution_count": 14,
     "metadata": {},
     "output_type": "execute_result"
    }
   ],
   "source": [
    "subset_1 = df.iloc[:19, [0,2]]\n",
    "subset_2 = df.drop(df.iloc[[1,2,17]].index).iloc[:,[1,3]]\n",
    "subset_1.head(10)"
   ]
  },
  {
   "cell_type": "code",
   "execution_count": 15,
   "id": "b240a385",
   "metadata": {
    "ExecuteTime": {
     "end_time": "2022-10-17T00:22:47.770963Z",
     "start_time": "2022-10-17T00:22:47.756958Z"
    }
   },
   "outputs": [
    {
     "data": {
      "text/html": [
       "<div>\n",
       "<style scoped>\n",
       "    .dataframe tbody tr th:only-of-type {\n",
       "        vertical-align: middle;\n",
       "    }\n",
       "\n",
       "    .dataframe tbody tr th {\n",
       "        vertical-align: top;\n",
       "    }\n",
       "\n",
       "    .dataframe thead th {\n",
       "        text-align: right;\n",
       "    }\n",
       "</style>\n",
       "<table border=\"1\" class=\"dataframe\">\n",
       "  <thead>\n",
       "    <tr style=\"text-align: right;\">\n",
       "      <th></th>\n",
       "      <th>V2</th>\n",
       "      <th>V4</th>\n",
       "    </tr>\n",
       "  </thead>\n",
       "  <tbody>\n",
       "    <tr>\n",
       "      <th>0</th>\n",
       "      <td>13.0</td>\n",
       "      <td>1.0</td>\n",
       "    </tr>\n",
       "    <tr>\n",
       "      <th>3</th>\n",
       "      <td>11.0</td>\n",
       "      <td>2.0</td>\n",
       "    </tr>\n",
       "    <tr>\n",
       "      <th>4</th>\n",
       "      <td>10.0</td>\n",
       "      <td>-1.0</td>\n",
       "    </tr>\n",
       "    <tr>\n",
       "      <th>5</th>\n",
       "      <td>11.0</td>\n",
       "      <td>0.0</td>\n",
       "    </tr>\n",
       "    <tr>\n",
       "      <th>6</th>\n",
       "      <td>9.0</td>\n",
       "      <td>2.0</td>\n",
       "    </tr>\n",
       "    <tr>\n",
       "      <th>7</th>\n",
       "      <td>9.0</td>\n",
       "      <td>1.0</td>\n",
       "    </tr>\n",
       "    <tr>\n",
       "      <th>8</th>\n",
       "      <td>9.0</td>\n",
       "      <td>2.0</td>\n",
       "    </tr>\n",
       "    <tr>\n",
       "      <th>9</th>\n",
       "      <td>10.0</td>\n",
       "      <td>0.0</td>\n",
       "    </tr>\n",
       "    <tr>\n",
       "      <th>10</th>\n",
       "      <td>10.0</td>\n",
       "      <td>1.0</td>\n",
       "    </tr>\n",
       "    <tr>\n",
       "      <th>11</th>\n",
       "      <td>10.0</td>\n",
       "      <td>1.0</td>\n",
       "    </tr>\n",
       "  </tbody>\n",
       "</table>\n",
       "</div>"
      ],
      "text/plain": [
       "      V2   V4\n",
       "0   13.0  1.0\n",
       "3   11.0  2.0\n",
       "4   10.0 -1.0\n",
       "5   11.0  0.0\n",
       "6    9.0  2.0\n",
       "7    9.0  1.0\n",
       "8    9.0  2.0\n",
       "9   10.0  0.0\n",
       "10  10.0  1.0\n",
       "11  10.0  1.0"
      ]
     },
     "execution_count": 15,
     "metadata": {},
     "output_type": "execute_result"
    }
   ],
   "source": [
    "subset_2.head(10)"
   ]
  },
  {
   "cell_type": "markdown",
   "id": "57db07ab-f016-4340-880b-cd640e789407",
   "metadata": {},
   "source": [
    "# Задание 9\n",
    "\n",
    "В переменную subset_3 сохраните только те наблюдения, у которых значения переменной V1 строго больше 0, и значение переменной V3  равняется 'A'.\n",
    "\n",
    "В переменную  subset_4  сохраните только те наблюдения, у которых значения переменной V2  не равняются 10, или значения переменной V4 больше или равно 1."
   ]
  },
  {
   "cell_type": "code",
   "execution_count": 16,
   "id": "a9a7558d-14f9-4a64-9b1f-9a77ab52304c",
   "metadata": {
    "ExecuteTime": {
     "end_time": "2022-10-17T00:22:47.786964Z",
     "start_time": "2022-10-17T00:22:47.772962Z"
    }
   },
   "outputs": [
    {
     "data": {
      "text/html": [
       "<div>\n",
       "<style scoped>\n",
       "    .dataframe tbody tr th:only-of-type {\n",
       "        vertical-align: middle;\n",
       "    }\n",
       "\n",
       "    .dataframe tbody tr th {\n",
       "        vertical-align: top;\n",
       "    }\n",
       "\n",
       "    .dataframe thead th {\n",
       "        text-align: right;\n",
       "    }\n",
       "</style>\n",
       "<table border=\"1\" class=\"dataframe\">\n",
       "  <thead>\n",
       "    <tr style=\"text-align: right;\">\n",
       "      <th></th>\n",
       "      <th>V1</th>\n",
       "      <th>V2</th>\n",
       "      <th>V3</th>\n",
       "      <th>V4</th>\n",
       "    </tr>\n",
       "  </thead>\n",
       "  <tbody>\n",
       "    <tr>\n",
       "      <th>3</th>\n",
       "      <td>2</td>\n",
       "      <td>11.0</td>\n",
       "      <td>A</td>\n",
       "      <td>2.0</td>\n",
       "    </tr>\n",
       "    <tr>\n",
       "      <th>5</th>\n",
       "      <td>2</td>\n",
       "      <td>11.0</td>\n",
       "      <td>A</td>\n",
       "      <td>0.0</td>\n",
       "    </tr>\n",
       "    <tr>\n",
       "      <th>7</th>\n",
       "      <td>1</td>\n",
       "      <td>9.0</td>\n",
       "      <td>A</td>\n",
       "      <td>1.0</td>\n",
       "    </tr>\n",
       "    <tr>\n",
       "      <th>10</th>\n",
       "      <td>1</td>\n",
       "      <td>10.0</td>\n",
       "      <td>A</td>\n",
       "      <td>1.0</td>\n",
       "    </tr>\n",
       "    <tr>\n",
       "      <th>13</th>\n",
       "      <td>1</td>\n",
       "      <td>12.0</td>\n",
       "      <td>A</td>\n",
       "      <td>3.0</td>\n",
       "    </tr>\n",
       "    <tr>\n",
       "      <th>21</th>\n",
       "      <td>3</td>\n",
       "      <td>10.0</td>\n",
       "      <td>A</td>\n",
       "      <td>2.0</td>\n",
       "    </tr>\n",
       "    <tr>\n",
       "      <th>25</th>\n",
       "      <td>2</td>\n",
       "      <td>10.0</td>\n",
       "      <td>A</td>\n",
       "      <td>3.0</td>\n",
       "    </tr>\n",
       "    <tr>\n",
       "      <th>26</th>\n",
       "      <td>2</td>\n",
       "      <td>12.0</td>\n",
       "      <td>A</td>\n",
       "      <td>1.0</td>\n",
       "    </tr>\n",
       "    <tr>\n",
       "      <th>27</th>\n",
       "      <td>2</td>\n",
       "      <td>9.0</td>\n",
       "      <td>A</td>\n",
       "      <td>1.0</td>\n",
       "    </tr>\n",
       "    <tr>\n",
       "      <th>36</th>\n",
       "      <td>2</td>\n",
       "      <td>8.0</td>\n",
       "      <td>A</td>\n",
       "      <td>1.0</td>\n",
       "    </tr>\n",
       "  </tbody>\n",
       "</table>\n",
       "</div>"
      ],
      "text/plain": [
       "    V1    V2 V3   V4\n",
       "3    2  11.0  A  2.0\n",
       "5    2  11.0  A  0.0\n",
       "7    1   9.0  A  1.0\n",
       "10   1  10.0  A  1.0\n",
       "13   1  12.0  A  3.0\n",
       "21   3  10.0  A  2.0\n",
       "25   2  10.0  A  3.0\n",
       "26   2  12.0  A  1.0\n",
       "27   2   9.0  A  1.0\n",
       "36   2   8.0  A  1.0"
      ]
     },
     "execution_count": 16,
     "metadata": {},
     "output_type": "execute_result"
    }
   ],
   "source": [
    "subset_3 = df[(df['V1'] > 0) & (df['V3'] == 'A')]\n",
    "subset_4 = df[((df['V2'] != 10) | (df['V4'] >= 1))]\n",
    "subset_3.head(10)"
   ]
  },
  {
   "cell_type": "code",
   "execution_count": 17,
   "id": "f3d8414d",
   "metadata": {
    "ExecuteTime": {
     "end_time": "2022-10-17T00:22:47.802968Z",
     "start_time": "2022-10-17T00:22:47.788966Z"
    }
   },
   "outputs": [
    {
     "data": {
      "text/html": [
       "<div>\n",
       "<style scoped>\n",
       "    .dataframe tbody tr th:only-of-type {\n",
       "        vertical-align: middle;\n",
       "    }\n",
       "\n",
       "    .dataframe tbody tr th {\n",
       "        vertical-align: top;\n",
       "    }\n",
       "\n",
       "    .dataframe thead th {\n",
       "        text-align: right;\n",
       "    }\n",
       "</style>\n",
       "<table border=\"1\" class=\"dataframe\">\n",
       "  <thead>\n",
       "    <tr style=\"text-align: right;\">\n",
       "      <th></th>\n",
       "      <th>V1</th>\n",
       "      <th>V2</th>\n",
       "      <th>V3</th>\n",
       "      <th>V4</th>\n",
       "    </tr>\n",
       "  </thead>\n",
       "  <tbody>\n",
       "    <tr>\n",
       "      <th>0</th>\n",
       "      <td>2</td>\n",
       "      <td>13.0</td>\n",
       "      <td>B</td>\n",
       "      <td>1.0</td>\n",
       "    </tr>\n",
       "    <tr>\n",
       "      <th>1</th>\n",
       "      <td>-1</td>\n",
       "      <td>7.0</td>\n",
       "      <td>B</td>\n",
       "      <td>1.0</td>\n",
       "    </tr>\n",
       "    <tr>\n",
       "      <th>2</th>\n",
       "      <td>0</td>\n",
       "      <td>11.0</td>\n",
       "      <td>A</td>\n",
       "      <td>0.0</td>\n",
       "    </tr>\n",
       "    <tr>\n",
       "      <th>3</th>\n",
       "      <td>2</td>\n",
       "      <td>11.0</td>\n",
       "      <td>A</td>\n",
       "      <td>2.0</td>\n",
       "    </tr>\n",
       "    <tr>\n",
       "      <th>5</th>\n",
       "      <td>2</td>\n",
       "      <td>11.0</td>\n",
       "      <td>A</td>\n",
       "      <td>0.0</td>\n",
       "    </tr>\n",
       "    <tr>\n",
       "      <th>6</th>\n",
       "      <td>0</td>\n",
       "      <td>9.0</td>\n",
       "      <td>A</td>\n",
       "      <td>2.0</td>\n",
       "    </tr>\n",
       "    <tr>\n",
       "      <th>7</th>\n",
       "      <td>1</td>\n",
       "      <td>9.0</td>\n",
       "      <td>A</td>\n",
       "      <td>1.0</td>\n",
       "    </tr>\n",
       "    <tr>\n",
       "      <th>8</th>\n",
       "      <td>0</td>\n",
       "      <td>9.0</td>\n",
       "      <td>B</td>\n",
       "      <td>2.0</td>\n",
       "    </tr>\n",
       "    <tr>\n",
       "      <th>10</th>\n",
       "      <td>1</td>\n",
       "      <td>10.0</td>\n",
       "      <td>A</td>\n",
       "      <td>1.0</td>\n",
       "    </tr>\n",
       "    <tr>\n",
       "      <th>11</th>\n",
       "      <td>-2</td>\n",
       "      <td>10.0</td>\n",
       "      <td>A</td>\n",
       "      <td>1.0</td>\n",
       "    </tr>\n",
       "  </tbody>\n",
       "</table>\n",
       "</div>"
      ],
      "text/plain": [
       "    V1    V2 V3   V4\n",
       "0    2  13.0  B  1.0\n",
       "1   -1   7.0  B  1.0\n",
       "2    0  11.0  A  0.0\n",
       "3    2  11.0  A  2.0\n",
       "5    2  11.0  A  0.0\n",
       "6    0   9.0  A  2.0\n",
       "7    1   9.0  A  1.0\n",
       "8    0   9.0  B  2.0\n",
       "10   1  10.0  A  1.0\n",
       "11  -2  10.0  A  1.0"
      ]
     },
     "execution_count": 17,
     "metadata": {},
     "output_type": "execute_result"
    }
   ],
   "source": [
    "subset_4.head(10)"
   ]
  },
  {
   "cell_type": "markdown",
   "id": "002c85bb-122e-47c0-8016-64afd80ce988",
   "metadata": {},
   "source": [
    "# Задание 10\n",
    "Добавьте следующие колонки в df:\n",
    "\n",
    "1) V5 = V1 + V4\n",
    "2) V6 = **натуральный** логарифм переменной V2"
   ]
  },
  {
   "cell_type": "code",
   "execution_count": 18,
   "id": "d99e49b2-3213-4a6b-9eb8-97118175d9b1",
   "metadata": {
    "ExecuteTime": {
     "end_time": "2022-10-17T00:22:47.818973Z",
     "start_time": "2022-10-17T00:22:47.804969Z"
    }
   },
   "outputs": [
    {
     "data": {
      "text/html": [
       "<div>\n",
       "<style scoped>\n",
       "    .dataframe tbody tr th:only-of-type {\n",
       "        vertical-align: middle;\n",
       "    }\n",
       "\n",
       "    .dataframe tbody tr th {\n",
       "        vertical-align: top;\n",
       "    }\n",
       "\n",
       "    .dataframe thead th {\n",
       "        text-align: right;\n",
       "    }\n",
       "</style>\n",
       "<table border=\"1\" class=\"dataframe\">\n",
       "  <thead>\n",
       "    <tr style=\"text-align: right;\">\n",
       "      <th></th>\n",
       "      <th>V1</th>\n",
       "      <th>V2</th>\n",
       "      <th>V3</th>\n",
       "      <th>V4</th>\n",
       "      <th>V5</th>\n",
       "      <th>V6</th>\n",
       "    </tr>\n",
       "  </thead>\n",
       "  <tbody>\n",
       "    <tr>\n",
       "      <th>0</th>\n",
       "      <td>2</td>\n",
       "      <td>13.0</td>\n",
       "      <td>B</td>\n",
       "      <td>1.0</td>\n",
       "      <td>3.0</td>\n",
       "      <td>2.564949</td>\n",
       "    </tr>\n",
       "    <tr>\n",
       "      <th>1</th>\n",
       "      <td>-1</td>\n",
       "      <td>7.0</td>\n",
       "      <td>B</td>\n",
       "      <td>1.0</td>\n",
       "      <td>0.0</td>\n",
       "      <td>1.945910</td>\n",
       "    </tr>\n",
       "    <tr>\n",
       "      <th>2</th>\n",
       "      <td>0</td>\n",
       "      <td>11.0</td>\n",
       "      <td>A</td>\n",
       "      <td>0.0</td>\n",
       "      <td>0.0</td>\n",
       "      <td>2.397895</td>\n",
       "    </tr>\n",
       "    <tr>\n",
       "      <th>3</th>\n",
       "      <td>2</td>\n",
       "      <td>11.0</td>\n",
       "      <td>A</td>\n",
       "      <td>2.0</td>\n",
       "      <td>4.0</td>\n",
       "      <td>2.397895</td>\n",
       "    </tr>\n",
       "    <tr>\n",
       "      <th>4</th>\n",
       "      <td>0</td>\n",
       "      <td>10.0</td>\n",
       "      <td>B</td>\n",
       "      <td>-1.0</td>\n",
       "      <td>-1.0</td>\n",
       "      <td>2.302585</td>\n",
       "    </tr>\n",
       "    <tr>\n",
       "      <th>5</th>\n",
       "      <td>2</td>\n",
       "      <td>11.0</td>\n",
       "      <td>A</td>\n",
       "      <td>0.0</td>\n",
       "      <td>2.0</td>\n",
       "      <td>2.397895</td>\n",
       "    </tr>\n",
       "    <tr>\n",
       "      <th>6</th>\n",
       "      <td>0</td>\n",
       "      <td>9.0</td>\n",
       "      <td>A</td>\n",
       "      <td>2.0</td>\n",
       "      <td>2.0</td>\n",
       "      <td>2.197225</td>\n",
       "    </tr>\n",
       "    <tr>\n",
       "      <th>7</th>\n",
       "      <td>1</td>\n",
       "      <td>9.0</td>\n",
       "      <td>A</td>\n",
       "      <td>1.0</td>\n",
       "      <td>2.0</td>\n",
       "      <td>2.197225</td>\n",
       "    </tr>\n",
       "    <tr>\n",
       "      <th>8</th>\n",
       "      <td>0</td>\n",
       "      <td>9.0</td>\n",
       "      <td>B</td>\n",
       "      <td>2.0</td>\n",
       "      <td>2.0</td>\n",
       "      <td>2.197225</td>\n",
       "    </tr>\n",
       "    <tr>\n",
       "      <th>9</th>\n",
       "      <td>-1</td>\n",
       "      <td>10.0</td>\n",
       "      <td>A</td>\n",
       "      <td>0.0</td>\n",
       "      <td>-1.0</td>\n",
       "      <td>2.302585</td>\n",
       "    </tr>\n",
       "  </tbody>\n",
       "</table>\n",
       "</div>"
      ],
      "text/plain": [
       "   V1    V2 V3   V4   V5        V6\n",
       "0   2  13.0  B  1.0  3.0  2.564949\n",
       "1  -1   7.0  B  1.0  0.0  1.945910\n",
       "2   0  11.0  A  0.0  0.0  2.397895\n",
       "3   2  11.0  A  2.0  4.0  2.397895\n",
       "4   0  10.0  B -1.0 -1.0  2.302585\n",
       "5   2  11.0  A  0.0  2.0  2.397895\n",
       "6   0   9.0  A  2.0  2.0  2.197225\n",
       "7   1   9.0  A  1.0  2.0  2.197225\n",
       "8   0   9.0  B  2.0  2.0  2.197225\n",
       "9  -1  10.0  A  0.0 -1.0  2.302585"
      ]
     },
     "execution_count": 18,
     "metadata": {},
     "output_type": "execute_result"
    }
   ],
   "source": [
    "import math\n",
    "df['V5'] = df['V1'] + df['V4']\n",
    "df['V6'] = np.log(df['V2'])\n",
    "df.head(10)"
   ]
  },
  {
   "cell_type": "markdown",
   "id": "68231357-e61c-4cd8-aa11-81cde18b856c",
   "metadata": {},
   "source": [
    "# Задание 11\n",
    "\n",
    "Переименуйте колонки в df.\n",
    "\n",
    "1) V1 -> session_value\n",
    "\n",
    "2) V2 -> group\n",
    "\n",
    "3) V3 -> time\n",
    "\n",
    "4) V4 -> n_users"
   ]
  },
  {
   "cell_type": "code",
   "execution_count": 19,
   "id": "d92e15a0-8cf7-4f99-bb84-3b45b36d6c8d",
   "metadata": {
    "ExecuteTime": {
     "end_time": "2022-10-17T00:22:47.834976Z",
     "start_time": "2022-10-17T00:22:47.819972Z"
    }
   },
   "outputs": [
    {
     "data": {
      "text/html": [
       "<div>\n",
       "<style scoped>\n",
       "    .dataframe tbody tr th:only-of-type {\n",
       "        vertical-align: middle;\n",
       "    }\n",
       "\n",
       "    .dataframe tbody tr th {\n",
       "        vertical-align: top;\n",
       "    }\n",
       "\n",
       "    .dataframe thead th {\n",
       "        text-align: right;\n",
       "    }\n",
       "</style>\n",
       "<table border=\"1\" class=\"dataframe\">\n",
       "  <thead>\n",
       "    <tr style=\"text-align: right;\">\n",
       "      <th></th>\n",
       "      <th>session_value</th>\n",
       "      <th>group</th>\n",
       "      <th>time</th>\n",
       "      <th>n_users</th>\n",
       "      <th>V5</th>\n",
       "      <th>V6</th>\n",
       "    </tr>\n",
       "  </thead>\n",
       "  <tbody>\n",
       "    <tr>\n",
       "      <th>0</th>\n",
       "      <td>2</td>\n",
       "      <td>13.0</td>\n",
       "      <td>B</td>\n",
       "      <td>1.0</td>\n",
       "      <td>3.0</td>\n",
       "      <td>2.564949</td>\n",
       "    </tr>\n",
       "    <tr>\n",
       "      <th>1</th>\n",
       "      <td>-1</td>\n",
       "      <td>7.0</td>\n",
       "      <td>B</td>\n",
       "      <td>1.0</td>\n",
       "      <td>0.0</td>\n",
       "      <td>1.945910</td>\n",
       "    </tr>\n",
       "    <tr>\n",
       "      <th>2</th>\n",
       "      <td>0</td>\n",
       "      <td>11.0</td>\n",
       "      <td>A</td>\n",
       "      <td>0.0</td>\n",
       "      <td>0.0</td>\n",
       "      <td>2.397895</td>\n",
       "    </tr>\n",
       "    <tr>\n",
       "      <th>3</th>\n",
       "      <td>2</td>\n",
       "      <td>11.0</td>\n",
       "      <td>A</td>\n",
       "      <td>2.0</td>\n",
       "      <td>4.0</td>\n",
       "      <td>2.397895</td>\n",
       "    </tr>\n",
       "    <tr>\n",
       "      <th>4</th>\n",
       "      <td>0</td>\n",
       "      <td>10.0</td>\n",
       "      <td>B</td>\n",
       "      <td>-1.0</td>\n",
       "      <td>-1.0</td>\n",
       "      <td>2.302585</td>\n",
       "    </tr>\n",
       "    <tr>\n",
       "      <th>5</th>\n",
       "      <td>2</td>\n",
       "      <td>11.0</td>\n",
       "      <td>A</td>\n",
       "      <td>0.0</td>\n",
       "      <td>2.0</td>\n",
       "      <td>2.397895</td>\n",
       "    </tr>\n",
       "    <tr>\n",
       "      <th>6</th>\n",
       "      <td>0</td>\n",
       "      <td>9.0</td>\n",
       "      <td>A</td>\n",
       "      <td>2.0</td>\n",
       "      <td>2.0</td>\n",
       "      <td>2.197225</td>\n",
       "    </tr>\n",
       "    <tr>\n",
       "      <th>7</th>\n",
       "      <td>1</td>\n",
       "      <td>9.0</td>\n",
       "      <td>A</td>\n",
       "      <td>1.0</td>\n",
       "      <td>2.0</td>\n",
       "      <td>2.197225</td>\n",
       "    </tr>\n",
       "    <tr>\n",
       "      <th>8</th>\n",
       "      <td>0</td>\n",
       "      <td>9.0</td>\n",
       "      <td>B</td>\n",
       "      <td>2.0</td>\n",
       "      <td>2.0</td>\n",
       "      <td>2.197225</td>\n",
       "    </tr>\n",
       "    <tr>\n",
       "      <th>9</th>\n",
       "      <td>-1</td>\n",
       "      <td>10.0</td>\n",
       "      <td>A</td>\n",
       "      <td>0.0</td>\n",
       "      <td>-1.0</td>\n",
       "      <td>2.302585</td>\n",
       "    </tr>\n",
       "  </tbody>\n",
       "</table>\n",
       "</div>"
      ],
      "text/plain": [
       "   session_value  group time  n_users   V5        V6\n",
       "0              2   13.0    B      1.0  3.0  2.564949\n",
       "1             -1    7.0    B      1.0  0.0  1.945910\n",
       "2              0   11.0    A      0.0  0.0  2.397895\n",
       "3              2   11.0    A      2.0  4.0  2.397895\n",
       "4              0   10.0    B     -1.0 -1.0  2.302585\n",
       "5              2   11.0    A      0.0  2.0  2.397895\n",
       "6              0    9.0    A      2.0  2.0  2.197225\n",
       "7              1    9.0    A      1.0  2.0  2.197225\n",
       "8              0    9.0    B      2.0  2.0  2.197225\n",
       "9             -1   10.0    A      0.0 -1.0  2.302585"
      ]
     },
     "execution_count": 19,
     "metadata": {},
     "output_type": "execute_result"
    }
   ],
   "source": [
    "df = df.rename(columns={\"V1\": \"session_value\", \"V2\": \"group\",\"V3\": \"time\", \"V4\": \"n_users\"})\n",
    "df.head(10)"
   ]
  },
  {
   "cell_type": "markdown",
   "id": "855d8eb1-d7b2-4908-a404-cfeac1dcf3c0",
   "metadata": {},
   "source": [
    "# Задание 12\n",
    "В датафрейме ``my_stat`` в колонке ``session_value`` замените все пропущенные значения на нули.\n",
    "\n",
    "В колонке ``n_users`` замените все отрицательные значения на медианное значение переменной ``n_users`` (без учета отрицательных значений, разумеется)."
   ]
  },
  {
   "cell_type": "code",
   "execution_count": 20,
   "id": "aa82b450-9804-44f0-8c37-7d1247850132",
   "metadata": {
    "ExecuteTime": {
     "end_time": "2022-10-17T00:22:48.058026Z",
     "start_time": "2022-10-17T00:22:47.836976Z"
    }
   },
   "outputs": [
    {
     "data": {
      "text/html": [
       "<div>\n",
       "<style scoped>\n",
       "    .dataframe tbody tr th:only-of-type {\n",
       "        vertical-align: middle;\n",
       "    }\n",
       "\n",
       "    .dataframe tbody tr th {\n",
       "        vertical-align: top;\n",
       "    }\n",
       "\n",
       "    .dataframe thead th {\n",
       "        text-align: right;\n",
       "    }\n",
       "</style>\n",
       "<table border=\"1\" class=\"dataframe\">\n",
       "  <thead>\n",
       "    <tr style=\"text-align: right;\">\n",
       "      <th></th>\n",
       "      <th>session_value</th>\n",
       "      <th>time</th>\n",
       "      <th>group</th>\n",
       "      <th>n_users</th>\n",
       "    </tr>\n",
       "  </thead>\n",
       "  <tbody>\n",
       "    <tr>\n",
       "      <th>0</th>\n",
       "      <td>0.0</td>\n",
       "      <td>12</td>\n",
       "      <td>B</td>\n",
       "      <td>9</td>\n",
       "    </tr>\n",
       "    <tr>\n",
       "      <th>1</th>\n",
       "      <td>NaN</td>\n",
       "      <td>11</td>\n",
       "      <td>A</td>\n",
       "      <td>-1</td>\n",
       "    </tr>\n",
       "    <tr>\n",
       "      <th>2</th>\n",
       "      <td>1.0</td>\n",
       "      <td>8</td>\n",
       "      <td>A</td>\n",
       "      <td>1</td>\n",
       "    </tr>\n",
       "    <tr>\n",
       "      <th>3</th>\n",
       "      <td>2.0</td>\n",
       "      <td>9</td>\n",
       "      <td>B</td>\n",
       "      <td>3</td>\n",
       "    </tr>\n",
       "    <tr>\n",
       "      <th>4</th>\n",
       "      <td>2.0</td>\n",
       "      <td>10</td>\n",
       "      <td>B</td>\n",
       "      <td>9</td>\n",
       "    </tr>\n",
       "  </tbody>\n",
       "</table>\n",
       "</div>"
      ],
      "text/plain": [
       "   session_value  time group  n_users\n",
       "0            0.0    12     B        9\n",
       "1            NaN    11     A       -1\n",
       "2            1.0     8     A        1\n",
       "3            2.0     9     B        3\n",
       "4            2.0    10     B        9"
      ]
     },
     "execution_count": 20,
     "metadata": {},
     "output_type": "execute_result"
    }
   ],
   "source": [
    "my_stat = pd.read_csv('https://stepik.org/media/attachments/course/4852/my_stat_1.csv')\n",
    "my_stat.head(5)"
   ]
  },
  {
   "cell_type": "code",
   "execution_count": 21,
   "id": "0ce858ba-5a46-4355-8e02-4051d1c7bf92",
   "metadata": {
    "ExecuteTime": {
     "end_time": "2022-10-17T00:22:48.489123Z",
     "start_time": "2022-10-17T00:22:48.060027Z"
    }
   },
   "outputs": [
    {
     "name": "stderr",
     "output_type": "stream",
     "text": [
      "C:\\Users\\Doom\\AppData\\Local\\Temp\\ipykernel_32208\\1237206253.py:2: FutureWarning: Dropping of nuisance columns in DataFrame reductions (with 'numeric_only=None') is deprecated; in a future version this will raise TypeError.  Select only valid columns before calling the reduction.\n",
      "  median = my_stat[(my_stat['n_users'] > 0)].median()[2]\n"
     ]
    },
    {
     "data": {
      "text/html": [
       "<div>\n",
       "<style scoped>\n",
       "    .dataframe tbody tr th:only-of-type {\n",
       "        vertical-align: middle;\n",
       "    }\n",
       "\n",
       "    .dataframe tbody tr th {\n",
       "        vertical-align: top;\n",
       "    }\n",
       "\n",
       "    .dataframe thead th {\n",
       "        text-align: right;\n",
       "    }\n",
       "</style>\n",
       "<table border=\"1\" class=\"dataframe\">\n",
       "  <thead>\n",
       "    <tr style=\"text-align: right;\">\n",
       "      <th></th>\n",
       "      <th>session_value</th>\n",
       "      <th>time</th>\n",
       "      <th>group</th>\n",
       "      <th>n_users</th>\n",
       "    </tr>\n",
       "  </thead>\n",
       "  <tbody>\n",
       "    <tr>\n",
       "      <th>0</th>\n",
       "      <td>0.0</td>\n",
       "      <td>12</td>\n",
       "      <td>B</td>\n",
       "      <td>9</td>\n",
       "    </tr>\n",
       "    <tr>\n",
       "      <th>1</th>\n",
       "      <td>0.0</td>\n",
       "      <td>11</td>\n",
       "      <td>A</td>\n",
       "      <td>5</td>\n",
       "    </tr>\n",
       "    <tr>\n",
       "      <th>2</th>\n",
       "      <td>1.0</td>\n",
       "      <td>8</td>\n",
       "      <td>A</td>\n",
       "      <td>1</td>\n",
       "    </tr>\n",
       "    <tr>\n",
       "      <th>3</th>\n",
       "      <td>2.0</td>\n",
       "      <td>9</td>\n",
       "      <td>B</td>\n",
       "      <td>3</td>\n",
       "    </tr>\n",
       "    <tr>\n",
       "      <th>4</th>\n",
       "      <td>2.0</td>\n",
       "      <td>10</td>\n",
       "      <td>B</td>\n",
       "      <td>9</td>\n",
       "    </tr>\n",
       "  </tbody>\n",
       "</table>\n",
       "</div>"
      ],
      "text/plain": [
       "   session_value  time group  n_users\n",
       "0            0.0    12     B        9\n",
       "1            0.0    11     A        5\n",
       "2            1.0     8     A        1\n",
       "3            2.0     9     B        3\n",
       "4            2.0    10     B        9"
      ]
     },
     "execution_count": 21,
     "metadata": {},
     "output_type": "execute_result"
    }
   ],
   "source": [
    "my_stat['session_value'] = my_stat['session_value'].fillna(0)\n",
    "median = my_stat[(my_stat['n_users'] > 0)].median()[2]\n",
    "my_stat['n_users'].where(~(my_stat.n_users < 0), other=5.0, inplace=True)\n",
    "my_stat.head(5)"
   ]
  },
  {
   "cell_type": "markdown",
   "id": "00204cc5",
   "metadata": {
    "ExecuteTime": {
     "end_time": "2022-10-17T00:18:55.910220Z",
     "start_time": "2022-10-17T00:18:55.900218Z"
    }
   },
   "source": [
    "# Спасибо за проверку!"
   ]
  }
 ],
 "metadata": {
  "kernelspec": {
   "display_name": "Python 3 (ipykernel)",
   "language": "python",
   "name": "python3"
  },
  "language_info": {
   "codemirror_mode": {
    "name": "ipython",
    "version": 3
   },
   "file_extension": ".py",
   "mimetype": "text/x-python",
   "name": "python",
   "nbconvert_exporter": "python",
   "pygments_lexer": "ipython3",
   "version": "3.9.12"
  },
  "varInspector": {
   "cols": {
    "lenName": 16,
    "lenType": 16,
    "lenVar": 40
   },
   "kernels_config": {
    "python": {
     "delete_cmd_postfix": "",
     "delete_cmd_prefix": "del ",
     "library": "var_list.py",
     "varRefreshCmd": "print(var_dic_list())"
    },
    "r": {
     "delete_cmd_postfix": ") ",
     "delete_cmd_prefix": "rm(",
     "library": "var_list.r",
     "varRefreshCmd": "cat(var_dic_list()) "
    }
   },
   "position": {
    "height": "227.85px",
    "left": "675.467px",
    "right": "20px",
    "top": "117px",
    "width": "312px"
   },
   "types_to_exclude": [
    "module",
    "function",
    "builtin_function_or_method",
    "instance",
    "_Feature"
   ],
   "window_display": false
  }
 },
 "nbformat": 4,
 "nbformat_minor": 5
}
