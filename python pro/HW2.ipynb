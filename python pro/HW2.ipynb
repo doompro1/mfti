{
 "cells": [
  {
   "cell_type": "markdown",
   "metadata": {
    "id": "2GJcyIoN4arc"
   },
   "source": [
    "# Reversed integer"
   ]
  },
  {
   "cell_type": "markdown",
   "metadata": {
    "id": "nDpM0sXf4dv5"
   },
   "source": [
    "Вам дано число целого типа ``a``. Вам необходимо написать функцию, которая принимает это число на вход, а на выход выдает целое число, цифры в котором записаны в обратном порядке.\n",
    "\n",
    "\n",
    "**Sample Input 1:**\n",
    "\n",
    "``\n",
    "a = 123\n",
    "``\n",
    "\n",
    "**Sample Output 1:**\n",
    "\n",
    "``321``\n",
    "\n",
    "**Sample Input 2:**\n",
    "\n",
    "``\n",
    "a = 120\n",
    "``\n",
    "\n",
    "**Sample Output 2:**\n",
    "\n",
    "``21``\n",
    "\n",
    "**Sample Input 3:**\n",
    "\n",
    "``\n",
    "-123\n",
    "``\n",
    "\n",
    "**Sample Output 3:**\n",
    "\n",
    "``321``"
   ]
  },
  {
   "cell_type": "code",
   "execution_count": 1,
   "metadata": {
    "ExecuteTime": {
     "end_time": "2022-10-09T15:45:48.576124Z",
     "start_time": "2022-10-09T15:45:43.037557Z"
    },
    "id": "zy1TNSPU6ARi"
   },
   "outputs": [
    {
     "name": "stdout",
     "output_type": "stream",
     "text": [
      "Введите число -1234567890\n",
      "987654321\n"
     ]
    }
   ],
   "source": [
    "def reverse_number(n: int):\n",
    "    'Функция принимает число, в возвращает зеркальное число, в котором цифры записаны в обратном порядке'\n",
    "    try:\n",
    "        n = int(str(abs(n))[-1::-1])\n",
    "    except ValueError:\n",
    "        print(\"Введите целочисленное число а не вот это вот!\")\n",
    "    return n\n",
    "\n",
    "\n",
    "n = int(input('Введите число '))\n",
    "print(reverse_number(n))"
   ]
  },
  {
   "cell_type": "markdown",
   "metadata": {
    "id": "GT_lUMYz5YfQ"
   },
   "source": [
    "# Выколотый квадрат\n"
   ]
  },
  {
   "cell_type": "markdown",
   "metadata": {
    "id": "fHOx6Dnu5cEQ"
   },
   "source": [
    "Напишите функцию, которая принимает единственное число ``n: int``. Это число определяет длину стороны квадрата. Функция должна нарисовать квадрат из звездочек, при этом звездочки должны быть только на ребрах квадрата, центр должен быть выколот.\n",
    "\n",
    "**Sample Input 1:**\n",
    "\n",
    "``\n",
    "n = 5\n",
    "``\n",
    "\n",
    "**Sample Output 1:**\n",
    "```\n",
    "* * * * *\n",
    "*       *\n",
    "*       *\n",
    "*       *\n",
    "* * * * *\n",
    "\n",
    "```"
   ]
  },
  {
   "cell_type": "code",
   "execution_count": 2,
   "metadata": {
    "ExecuteTime": {
     "end_time": "2022-10-09T15:45:55.633731Z",
     "start_time": "2022-10-09T15:45:51.835092Z"
    },
    "id": "JUMn7OVK5_r0"
   },
   "outputs": [
    {
     "name": "stdout",
     "output_type": "stream",
     "text": [
      "Введите число 10\n",
      "**********\n",
      "*        *\n",
      "*        *\n",
      "*        *\n",
      "*        *\n",
      "*        *\n",
      "*        *\n",
      "*        *\n",
      "*        *\n",
      "**********\n"
     ]
    }
   ],
   "source": [
    "def make_square(n: int):\n",
    "    'Функция принимает число, а возвращает выколотый квадрат, длина стороны которого равна этому числу.'\n",
    "    try:\n",
    "        n = int(n)\n",
    "        if n > 2:\n",
    "            w = ('*' * n)\n",
    "            space = ' ' * (n - 2)\n",
    "            h = f'*{space}*\\n' * (n - 2)\n",
    "            str_ = w + '\\n' + h + w\n",
    "            return str_\n",
    "        else:\n",
    "            print(\"Число должно быть больше 2\")\n",
    "    except ValueError:\n",
    "        print(\"Введите целочисленное число а не вот это вот!\")\n",
    "    return n\n",
    "\n",
    "\n",
    "n = input('Введите число ')\n",
    "print(make_square(n))"
   ]
  },
  {
   "cell_type": "markdown",
   "metadata": {
    "id": "8oZaq3fE6f79"
   },
   "source": [
    "## Пермутации"
   ]
  },
  {
   "cell_type": "markdown",
   "metadata": {
    "id": "ylJnUpIk6jrX"
   },
   "source": [
    "Вам дан массив с целыми числами ``nums``. Напишите функцию, которая принимает на вход данный массив и возвращает все возможные пермутации с данными числами. Возвращать массивы можно в любом порядке.\n",
    "\n",
    "**Sample Input 1:**\n",
    "\n",
    "``\n",
    "nums = [1,2,3]\n",
    "``\n",
    "\n",
    "**Sample Output 1:**\n",
    "\n",
    "``[[1,2,3],[1,3,2],[2,1,3],[2,3,1],[3,1,2],[3,2,1]]``\n",
    "\n",
    "**Sample Input 2:**\n",
    "\n",
    "``\n",
    "nums = [0,1]\n",
    "``\n",
    "\n",
    "**Sample Output 2:**\n",
    "\n",
    "``[[0,1],[1,0]]``\n",
    "\n",
    "**Sample Input 3:**\n",
    "\n",
    "``\n",
    "nums = [1]\n",
    "``\n",
    "\n",
    "**Sample Output 3:**\n",
    "\n",
    "``[[1]]``"
   ]
  },
  {
   "cell_type": "markdown",
   "metadata": {},
   "source": [
    "## Вариант для удобной проверки"
   ]
  },
  {
   "cell_type": "code",
   "execution_count": 4,
   "metadata": {
    "ExecuteTime": {
     "end_time": "2022-10-09T15:46:10.332877Z",
     "start_time": "2022-10-09T15:46:04.780409Z"
    }
   },
   "outputs": [
    {
     "name": "stdout",
     "output_type": "stream",
     "text": [
      "Вставьте массив [1,2,3]\n",
      "[1, 2, 3]\n",
      "[1, 3, 2]\n",
      "[2, 1, 3]\n",
      "[2, 3, 1]\n",
      "[3, 1, 2]\n",
      "[3, 2, 1]\n"
     ]
    }
   ],
   "source": [
    "import itertools\n",
    "import ast\n",
    "def permutations(list_:list):\n",
    "    'Функция принимает массив, и возвращает все возможные пермутации с элементами массива'\n",
    "    try:\n",
    "        res = itertools.permutations(list_, r=None)\n",
    "    except ValueError:\n",
    "        print(\"Дайте на вход массив а не вот это вот!\")\n",
    "    except TypeError:\n",
    "        print(\"Дайте на вход массив а не вот это вот!\")\n",
    "    return res\n",
    "    \n",
    "list_ = ast.literal_eval(input('Вставьте массив '))\n",
    "for _ in permutations(list_):\n",
    "    print(list(_))"
   ]
  },
  {
   "cell_type": "markdown",
   "metadata": {},
   "source": [
    "## Вариант где подаётся напрямую в функцию массив"
   ]
  },
  {
   "cell_type": "code",
   "execution_count": 5,
   "metadata": {
    "ExecuteTime": {
     "end_time": "2022-10-09T15:46:12.737796Z",
     "start_time": "2022-10-09T15:46:12.722778Z"
    },
    "id": "AzhJABzn7GYR"
   },
   "outputs": [
    {
     "name": "stdout",
     "output_type": "stream",
     "text": [
      "[1, 2, 3]\n",
      "[1, 3, 2]\n",
      "[2, 1, 3]\n",
      "[2, 3, 1]\n",
      "[3, 1, 2]\n",
      "[3, 2, 1]\n"
     ]
    }
   ],
   "source": [
    "import itertools\n",
    "import ast\n",
    "\n",
    "\n",
    "def permutations(list_: list):\n",
    "    'Функция принимает массив, и возвращает массив из всех возможных пермутаций с элементами массива'\n",
    "    try:\n",
    "        res = itertools.permutations(list_, r=None)\n",
    "    except ValueError:\n",
    "        print(\"Дайте на вход массив а не вот это вот!\")\n",
    "    except TypeError:\n",
    "        print(\"Дайте на вход массив а не вот это вот!\")\n",
    "    return res\n",
    "\n",
    "\n",
    "nums = [1, 2, 3]\n",
    "for _ in permutations(nums):\n",
    "    print(list(_))"
   ]
  },
  {
   "cell_type": "markdown",
   "metadata": {
    "id": "MDEu6tZQYATy"
   },
   "source": [
    "### Почти двойной факториал\n",
    "Дано натуральное $N \\leqslant 100$.  Выведите произведение всех чётных натуральных чисел, не превосходящих $N$."
   ]
  },
  {
   "cell_type": "code",
   "execution_count": 6,
   "metadata": {
    "ExecuteTime": {
     "end_time": "2022-10-09T15:46:21.033460Z",
     "start_time": "2022-10-09T15:46:14.852270Z"
    },
    "id": "fjCKZc4Q6aId"
   },
   "outputs": [
    {
     "name": "stdout",
     "output_type": "stream",
     "text": [
      "Введите число 10\n",
      "384\n"
     ]
    }
   ],
   "source": [
    "import math\n",
    "# Для любителей\n",
    "#import functools\n",
    "\n",
    "def almost_double_factorial_(n: int):\n",
    "    'Функция принимает число, произведение всех чётных натуральных чисел, не превосходящих  𝑁 .'\n",
    "    try:\n",
    "        if n > 1 and n < 101:\n",
    "            res = math.prod(list(range(2, n, 2)))\n",
    "            #res = (functools.reduce(lambda a, b: a * b, list(range(2, n, 2))))\n",
    "            return res\n",
    "        elif n == 1:\n",
    "            return 0\n",
    "\n",
    "        else:\n",
    "            print('Ваше сило не входит в диапазон от 0 до 100')\n",
    "    except ValueError:\n",
    "        print(\"Введите целочисленное число а не вот это вот!\")\n",
    "\n",
    "\n",
    "# обращаю внимание,ч то в самой функции есть проверка на тип.\n",
    "# Поле инпут тут для удобства и если вы хотите ввести не число, то задавайте это прямо в коде.\n",
    "# Само задание так сформулировано.\n",
    "\n",
    "n = int(input('Введите число '))\n",
    "\n",
    "N = almost_double_factorial_(n)\n",
    "print(N)"
   ]
  },
  {
   "cell_type": "markdown",
   "metadata": {
    "id": "A57_204nYAT3"
   },
   "source": [
    "### Хитрая сортировка\n",
    "\n",
    "Пусть у нас есть следующий список, в котором элементы -- tuple из строк:\n",
    "\n",
    "``items = [('one', 'two'), ('three', 'four'), ('five', 'six'), ('string', 'a')]``\n",
    "\n",
    "Мы хотим отсортировать этот список по последней букве второго элемента каждого ``tuple``, т.е. получить такой список:\n",
    "\n",
    "``sorted_items = [('string', 'a'), ('one', 'two'), ('three', 'four'), ('five', 'six')]``.\n",
    "Что нужно вставить вместо \"###\" в следующем выражении, чтобы получить сортировку?\n",
    "\n",
    "``sorted_items = sorted(items, key=lambda x: ###)``"
   ]
  },
  {
   "cell_type": "code",
   "execution_count": 7,
   "metadata": {
    "ExecuteTime": {
     "end_time": "2022-10-09T15:46:25.304370Z",
     "start_time": "2022-10-09T15:46:25.290873Z"
    },
    "id": "SnIk7m_8YAT4"
   },
   "outputs": [
    {
     "name": "stdout",
     "output_type": "stream",
     "text": [
      "[('string', 'a'), ('one', 'two'), ('three', 'four'), ('five', 'six')]\n"
     ]
    }
   ],
   "source": [
    "items = [('one', 'two'), ('three', 'four'), ('five', 'six'), ('string', 'a')]\n",
    "# Проверка типа не нужна. Хотя в теории можно было бы отлавливать элементы,\n",
    "# ктороые не являются кортежами. См. прошлое упражнение.\n",
    "\n",
    "\n",
    "def sort_fun(_):\n",
    "    'Функция для сортировки по последней букве второго аргумента'\n",
    "    return _[1][-1]\n",
    "\n",
    "\n",
    "items.sort(key=sort_fun)\n",
    "print(items)"
   ]
  },
  {
   "cell_type": "markdown",
   "metadata": {
    "id": "f_ggknIxYAT7"
   },
   "source": [
    "### Еще строки\n",
    "\n",
    "Вашей программе на вход подаются три строки ``s, a, b``, состоящие из строчных латинских букв.\n",
    "За одну операцию вы можете заменить все вхождения строки ``a`` в строку ``s`` на строку ``b``.\n",
    "\n",
    "Например, ``s = \"abab\", a = \"ab\", b = \"ba\"``, тогда после выполнения одной операции строка ``s`` перейдет в строку ``\"baba\"``, после выполнения двух и операций – в строку ``\"bbaa\"``, и дальнейшие операции не будут изменять строку ``s``.\n",
    "\n",
    "Необходимо узнать, после какого минимального количества операций в строке ``s`` не останется вхождений строки ``a``. Если операций потребуется более 1000, выведите ``Impossible``.\n",
    "\n",
    "Выведите одно число – минимальное число операций, после применения которых в строке ``s`` не останется вхождений строки ``a``, или ``Impossible``, если операций потребуется более 1000.\n",
    "\n",
    "**Sample Input 1:**\n",
    "\n",
    "``\n",
    "ababa\n",
    "a\n",
    "b\n",
    "``\n",
    "\n",
    "**Sample Output 1:**\n",
    "\n",
    "``1``\n",
    "\n",
    "**Sample Input 2:**\n",
    "\n",
    "``ababa\n",
    "b\n",
    "a``\n",
    "\n",
    "**Sample Output 2:**\n",
    "\n",
    "``1``\n",
    "\n",
    "**Sample Input 3:**\n",
    "\n",
    "``ababa\n",
    "c\n",
    "c``\n",
    "\n",
    "**Sample Output 3:**\n",
    "\n",
    "``0``\n",
    "\n",
    "**Sample Input 4:**\n",
    "\n",
    "``ababac\n",
    "c\n",
    "c``\n",
    "\n",
    "**Sample Output 4:**\n",
    "\n",
    "``Impossible``\n"
   ]
  },
  {
   "cell_type": "code",
   "execution_count": 8,
   "metadata": {
    "ExecuteTime": {
     "end_time": "2022-10-09T15:46:43.305081Z",
     "start_time": "2022-10-09T15:46:27.508948Z"
    },
    "id": "JcLMmkF6YAT8"
   },
   "outputs": [
    {
     "name": "stdout",
     "output_type": "stream",
     "text": [
      "Введите строку s ledy gaga \n",
      "Введите строку a ga\n",
      "Введите строку b ag\n",
      "3\n"
     ]
    }
   ],
   "source": [
    "def my_func(s: str, a: str, b: str):\n",
    "    \"\"\"вход подаются три строки s, a, b, состоящие из строчных латинских букв.\n",
    "    За одну операцию функция заменяет все вхождения строки a в строку s на строку b.\n",
    "    Возвращает необходимое число операций, чтобы заменить все а на b, если это невозможно или требуется более 1000 операций, то возращает 'Impossible'.\"\"\"\n",
    "    n = 0\n",
    "    r = None\n",
    "    res = s\n",
    "    while r == None:\n",
    "        if n < 1000:\n",
    "            s1 = s\n",
    "            s = s.replace(a, b, 1)\n",
    "            if s != s1:\n",
    "                n += 1\n",
    "            else:\n",
    "                r = True\n",
    "        else:\n",
    "            n = 'Impossible'\n",
    "            r = True\n",
    "    if s == res:\n",
    "        n = 'Impossible'\n",
    "    del r\n",
    "    del s\n",
    "    del s1\n",
    "    del res\n",
    "    return n\n",
    "\n",
    "\n",
    "s = input('Введите строку s ')\n",
    "a = input('Введите строку a ')\n",
    "b = input('Введите строку b ')\n",
    "print(my_func(s, a, b))"
   ]
  },
  {
   "cell_type": "markdown",
   "metadata": {
    "id": "3QOrzr1_YAT_"
   },
   "source": [
    "### Создание массивов\n",
    "Дан массив $A[0,\\ldots,N-1]$. Напишите функцию, принимающую один обязательный аргумент A и один опциональный аргумент ``erase``, по умолчанию равный 1. Возвратите массив $B[0,\\ldots, N-1]$, где $B_i = A_0 + \\ldots + A_{i}$ --- массив частичных сумм массива $A$, предварительно удалив из массива $B$ все элементы, равные erase. Постарайтесь сделать это за линейное время без использования Numpy."
   ]
  },
  {
   "cell_type": "markdown",
   "metadata": {},
   "source": [
    "# Максимально непонятно сформулировали задание.\n",
    "# В след. раз постарайтесь лучше.\n",
    "# Но я всё равно сделал"
   ]
  },
  {
   "cell_type": "code",
   "execution_count": 9,
   "metadata": {
    "ExecuteTime": {
     "end_time": "2022-10-09T15:46:57.384953Z",
     "start_time": "2022-10-09T15:46:57.378893Z"
    },
    "code_folding": [],
    "id": "GSeVXF-xYAUA"
   },
   "outputs": [
    {
     "name": "stdout",
     "output_type": "stream",
     "text": [
      "[5, 6, 10, 15]\n"
     ]
    }
   ],
   "source": [
    "def cumsum_and_erase(A: list, erase=10):\n",
    "    \"\"\"Это функция, принимающую один обязательный аргумент A и один опциональный аргумент erase, по умолчанию равный 1.\n",
    "    возвращает массив  𝐵[0,…,𝑁−1] , где  𝐵𝑖=𝐴0+…+𝐴𝑖  --- массив частичных сумм массива  𝐴 ,\n",
    "    предварительно удалив из массива  𝐵  все элементы, равные erase.\"\"\"\n",
    "    i = 1\n",
    "    b = []\n",
    "    l = len(A)\n",
    "    try:\n",
    "        for _ in A:\n",
    "            __ = sum(A[:i])\n",
    "            b.append(__)\n",
    "            i += 1\n",
    "    except ValueError:\n",
    "        print(\"Дайте на вход верные типы данных!\")\n",
    "    except TypeError:\n",
    "        print(\"Дайте на вход верные типы данных!\")\n",
    "    try:\n",
    "        b.remove(erase)\n",
    "        return b\n",
    "    except ValueError:\n",
    "        return b\n",
    "\n",
    "\n",
    "A = [5, 1, 4, 5, 14]\n",
    "B = cumsum_and_erase(A, 29)\n",
    "print(B)"
   ]
  },
  {
   "cell_type": "markdown",
   "metadata": {
    "id": "xvOBFjavYAUD"
   },
   "source": [
    "### Обработка текста\n",
    "Дан список текстов, слова в которых разделены пробелами (можно считать, что знаков препинания нет). Часть слов является \"мусорными\": в них присутствуют цифры и спецсимволы. Отфильтруйте такие слова из каждого текста. Используйте функции ``str.split``, ``str.isalpha``, ``str.join``, а также [генератор filter](http://pythonicway.com/python-functinal-programming)."
   ]
  },
  {
   "cell_type": "code",
   "execution_count": 10,
   "metadata": {
    "ExecuteTime": {
     "end_time": "2022-10-09T15:46:59.950862Z",
     "start_time": "2022-10-09T15:46:59.927929Z"
    },
    "id": "GBzS-UHZYAUE"
   },
   "outputs": [
    {
     "data": {
      "text/plain": [
       "True"
      ]
     },
     "execution_count": 10,
     "metadata": {},
     "output_type": "execute_result"
    }
   ],
   "source": [
    "sentences = ['1 thousand devils', 'My name is 9Pasha', 'Room #125 costs $100']\n",
    "\n",
    "\n",
    "def process(sentences: list):\n",
    "    \"Фильтрует 'мусорные' слова\"\n",
    "    try:\n",
    "        result = []\n",
    "        for _ in sentences:\n",
    "            _ = _.split()\n",
    "            __ = []\n",
    "            for ___ in _:\n",
    "                if ___.isalpha():\n",
    "                    __.append(___)\n",
    "            _ = \" \".join(__)\n",
    "            result.append(_)\n",
    "    except ValueError:\n",
    "        print(\"Дайте на вход верные типы данных!\")\n",
    "    except TypeError:\n",
    "        print(\"Дайте на вход верные типы данных!\")  # YOUR CODE\n",
    "    return result\n",
    "\n",
    "\n",
    "process(sentences) == ['thousand devils', 'My name is', 'Room costs']"
   ]
  },
  {
   "cell_type": "markdown",
   "metadata": {
    "id": "lNCcTYSRow1j"
   },
   "source": [
    "# Расстояние Хэмминга"
   ]
  },
  {
   "cell_type": "markdown",
   "metadata": {
    "id": "8jfcOp6ckl30"
   },
   "source": [
    "Вам даны две строки, ``a`` и ``b`` одинаковой длины. Необходимо посчитать расстояние Хэмминга между ними, которое определяется как количество символов, которые не совпадают между двумя строками в одинаковой позиции.\n",
    "\n",
    "**Sample Input 1:**\n",
    "\n",
    "```\n",
    "a = 'AGCT'\n",
    "b = 'ACGT'\n",
    "hamming(a, b)\n",
    "```\n",
    "\n",
    "**Sample Output 1:**\n",
    "\n",
    "``2``"
   ]
  },
  {
   "cell_type": "code",
   "execution_count": 11,
   "metadata": {
    "ExecuteTime": {
     "end_time": "2022-10-09T15:47:01.921835Z",
     "start_time": "2022-10-09T15:47:01.913833Z"
    },
    "id": "d_IYhoPcg3Ru"
   },
   "outputs": [
    {
     "data": {
      "text/plain": [
       "True"
      ]
     },
     "execution_count": 11,
     "metadata": {},
     "output_type": "execute_result"
    }
   ],
   "source": [
    "def hamming(_: str, __: str):\n",
    "    \"Возвращает расстояние Хэмминга\"\n",
    "    try:\n",
    "        res = 0\n",
    "        for ___ in range(len(_)):\n",
    "            if _[___] != __[___]:\n",
    "                res += 1\n",
    "        return res\n",
    "    except ValueError:\n",
    "        print(\"Дайте на вход верные типы данных!\")\n",
    "    except TypeError:\n",
    "        print(\"Дайте на вход верные типы данных!\")\n",
    "\n",
    "\n",
    "hamming(\"AGCT\", \"ACGT\") == 2"
   ]
  },
  {
   "cell_type": "markdown",
   "metadata": {
    "id": "iA7EQgga9OB-"
   },
   "source": [
    "### Numpy"
   ]
  },
  {
   "cell_type": "code",
   "execution_count": 12,
   "metadata": {
    "ExecuteTime": {
     "end_time": "2022-10-09T15:47:03.876375Z",
     "start_time": "2022-10-09T15:47:03.638322Z"
    },
    "id": "HEFAaMjP9CRh"
   },
   "outputs": [],
   "source": [
    "import numpy as np\n",
    "import random\n",
    "import scipy.stats as sps"
   ]
  },
  {
   "cell_type": "markdown",
   "metadata": {
    "id": "6Bul4Uue9Ww9"
   },
   "source": [
    "### Задание 1\n",
    "В первой задаче вам предлагается перемножить две квадратные матрицы двумя способами -- без использования пакета ***numpy*** и с ним."
   ]
  },
  {
   "cell_type": "code",
   "execution_count": 14,
   "metadata": {
    "ExecuteTime": {
     "end_time": "2022-10-09T15:47:19.581455Z",
     "start_time": "2022-10-09T15:47:19.573446Z"
    },
    "id": "ClrydYj59XPc"
   },
   "outputs": [],
   "source": [
    "# Для генерации матриц используем фукнцию random -- она используется для генерации случайных объектов \n",
    "# функция sample создает случайную выборку. В качестве аргумента ей передается кортеж (i,j),  \n",
    "# здесь i -- число строк, j -- число столбцов.\n",
    "a = np.random.sample((100, 100))\n",
    "b = np.random.sample((100, 100))\n",
    "\n",
    "# Выведите размерность (ранг) каждой матрицы с помощью функции ndim.\n",
    "# Используйте функцию shape, что она вывела?\n",
    "\n",
    "# ========\n",
    "# Ваш код здесь\n",
    "# ========\n"
   ]
  },
  {
   "cell_type": "markdown",
   "metadata": {},
   "source": [
    "# Надо было писать без сторонних библиотек"
   ]
  },
  {
   "cell_type": "markdown",
   "metadata": {},
   "source": [
    "![SegmentLocal](laugh-laughing.gif \"segment\")"
   ]
  },
  {
   "cell_type": "code",
   "execution_count": 22,
   "metadata": {
    "ExecuteTime": {
     "end_time": "2022-10-09T15:48:59.000414Z",
     "start_time": "2022-10-09T15:48:58.993409Z"
    },
    "id": "yeejqk_z9aXD"
   },
   "outputs": [],
   "source": [
    "import torch\n",
    "\n",
    "\n",
    "\n",
    "def mult(t: tuple):\n",
    "    \"Перемножает матрицы без использования Numpy\"\n",
    "    try:\n",
    "        a = torch.rand(t[0], t[1])\n",
    "        b = torch.rand(t[0], t[1])\n",
    "        res = a.mm(b)\n",
    "        return 1\n",
    "    except ValueError:\n",
    "        print(\"Дайте на вход верные типы данных!\")\n",
    "    except TypeError:\n",
    "        print(\"Дайте на вход верные типы данных!\")\n",
    "\n",
    "\n",
    "a = 10000\n",
    "b = 10000\n",
    "t = (a, b)"
   ]
  },
  {
   "cell_type": "code",
   "execution_count": 23,
   "metadata": {
    "ExecuteTime": {
     "end_time": "2022-10-09T15:48:59.621069Z",
     "start_time": "2022-10-09T15:48:59.608067Z"
    },
    "id": "ul0QaXni9cAq"
   },
   "outputs": [],
   "source": [
    "import numpy\n",
    "\n",
    "\n",
    "\n",
    "def np_mult(t: tuple):\n",
    "    \"Перемножает матрицы с использованием Numpy\"\n",
    "    try:\n",
    "        a = numpy.random.sample((t[0], t[1]))\n",
    "        b = numpy.random.sample((t[0], t[1]))\n",
    "        res = a.dot(b)\n",
    "        return res\n",
    "    except ValueError:\n",
    "        print(\"Дайте на вход верные типы данных!\")\n",
    "    except TypeError:\n",
    "        print(\"Дайте на вход верные типы данных!\")\n",
    "    pass\n",
    "\n",
    "\n",
    "a = 10000\n",
    "b = 10000\n",
    "t = (a, b)"
   ]
  },
  {
   "cell_type": "code",
   "execution_count": 24,
   "metadata": {
    "ExecuteTime": {
     "end_time": "2022-10-09T15:49:08.343658Z",
     "start_time": "2022-10-09T15:49:00.439891Z"
    },
    "id": "gFdt-Kbe9gWi"
   },
   "outputs": [
    {
     "name": "stdout",
     "output_type": "stream",
     "text": [
      "CPU times: total: 1min 25s\n",
      "Wall time: 7.89 s\n"
     ]
    }
   ],
   "source": [
    "%%time\n",
    "# засечем время работы функции без NumPy\n",
    "M1 = mult(t)"
   ]
  },
  {
   "cell_type": "code",
   "execution_count": 25,
   "metadata": {
    "ExecuteTime": {
     "end_time": "2022-10-09T15:49:14.504347Z",
     "start_time": "2022-10-09T15:49:08.408672Z"
    },
    "id": "F5QOtMj19h4n"
   },
   "outputs": [
    {
     "name": "stdout",
     "output_type": "stream",
     "text": [
      "CPU times: total: 57.9 s\n",
      "Wall time: 6.08 s\n"
     ]
    }
   ],
   "source": [
    "%%time\n",
    "# засечем время работы функции с NumPy\n",
    "M2 = np_mult(t)"
   ]
  },
  {
   "cell_type": "markdown",
   "metadata": {},
   "source": [
    "![SegmentLocal](kartinki-prosti-menya-0039.jpg \"segment\")"
   ]
  },
  {
   "cell_type": "markdown",
   "metadata": {},
   "source": [
    "# Так матрицы задаются в разных функциях случайные, корректность чего тут проверяют? \n",
    "# Формулируйсте задания нормально, то у вас на вход подяётся кортеж с размерностью, то гововые матрицы."
   ]
  },
  {
   "cell_type": "code",
   "execution_count": 26,
   "metadata": {
    "ExecuteTime": {
     "end_time": "2022-10-09T15:50:15.833853Z",
     "start_time": "2022-10-09T15:50:14.722605Z"
    },
    "id": "BTDTjNjk9i3s"
   },
   "outputs": [
    {
     "data": {
      "text/plain": [
       "False"
      ]
     },
     "execution_count": 26,
     "metadata": {},
     "output_type": "execute_result"
    }
   ],
   "source": [
    "# проверим корректность\n",
    "np.allclose(np.array(M1), M2)"
   ]
  },
  {
   "cell_type": "markdown",
   "metadata": {},
   "source": [
    "# Спасибо за проверку !"
   ]
  }
 ],
 "metadata": {
  "colab": {
   "collapsed_sections": [],
   "provenance": []
  },
  "kernelspec": {
   "display_name": "Python 3 (ipykernel)",
   "language": "python",
   "name": "python3"
  },
  "language_info": {
   "codemirror_mode": {
    "name": "ipython",
    "version": 3
   },
   "file_extension": ".py",
   "mimetype": "text/x-python",
   "name": "python",
   "nbconvert_exporter": "python",
   "pygments_lexer": "ipython3",
   "version": "3.9.12"
  },
  "varInspector": {
   "cols": {
    "lenName": 16,
    "lenType": 16,
    "lenVar": 40
   },
   "kernels_config": {
    "python": {
     "delete_cmd_postfix": "",
     "delete_cmd_prefix": "del ",
     "library": "var_list.py",
     "varRefreshCmd": "print(var_dic_list())"
    },
    "r": {
     "delete_cmd_postfix": ") ",
     "delete_cmd_prefix": "rm(",
     "library": "var_list.r",
     "varRefreshCmd": "cat(var_dic_list()) "
    }
   },
   "types_to_exclude": [
    "module",
    "function",
    "builtin_function_or_method",
    "instance",
    "_Feature"
   ],
   "window_display": false
  }
 },
 "nbformat": 4,
 "nbformat_minor": 1
}
